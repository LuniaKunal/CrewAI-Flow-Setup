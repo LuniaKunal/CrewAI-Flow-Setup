{
  "nbformat": 4,
  "nbformat_minor": 0,
  "metadata": {
    "colab": {
      "provenance": [],
      "include_colab_link": true
    },
    "language_info": {
      "name": "python"
    },
    "kernelspec": {
      "name": "python3",
      "display_name": "Python 3"
    }
  },
  "cells": [
    {
      "cell_type": "markdown",
      "metadata": {
        "id": "view-in-github",
        "colab_type": "text"
      },
      "source": [
        "<a href=\"https://colab.research.google.com/github/LuniaKunal/CrewAI-Flow-Setup/blob/main/CrewAI_Flow_Setup.ipynb\" target=\"_parent\"><img src=\"https://colab.research.google.com/assets/colab-badge.svg\" alt=\"Open In Colab\"/></a>"
      ]
    },
    {
      "cell_type": "code",
      "source": [
        "!pip install crewai"
      ],
      "metadata": {
        "colab": {
          "base_uri": "https://localhost:8080/"
        },
        "id": "DuH5Ry-aFtJN",
        "outputId": "1e337395-9a07-4948-a6b5-8f08f4ad87f7"
      },
      "execution_count": 3,
      "outputs": [
        {
          "output_type": "stream",
          "name": "stdout",
          "text": [
            "Requirement already satisfied: crewai in /usr/local/lib/python3.11/dist-packages (0.119.0)\n",
            "Requirement already satisfied: appdirs>=1.4.4 in /usr/local/lib/python3.11/dist-packages (from crewai) (1.4.4)\n",
            "Requirement already satisfied: auth0-python>=4.7.1 in /usr/local/lib/python3.11/dist-packages (from crewai) (4.9.0)\n",
            "Requirement already satisfied: blinker>=1.9.0 in /usr/local/lib/python3.11/dist-packages (from crewai) (1.9.0)\n",
            "Requirement already satisfied: chromadb>=0.5.23 in /usr/local/lib/python3.11/dist-packages (from crewai) (0.5.23)\n",
            "Requirement already satisfied: click>=8.1.7 in /usr/local/lib/python3.11/dist-packages (from crewai) (8.1.8)\n",
            "Requirement already satisfied: instructor>=1.3.3 in /usr/local/lib/python3.11/dist-packages (from crewai) (1.8.1)\n",
            "Requirement already satisfied: json-repair>=0.25.2 in /usr/local/lib/python3.11/dist-packages (from crewai) (0.44.1)\n",
            "Requirement already satisfied: json5>=0.10.0 in /usr/local/lib/python3.11/dist-packages (from crewai) (0.12.0)\n",
            "Requirement already satisfied: jsonref>=1.1.0 in /usr/local/lib/python3.11/dist-packages (from crewai) (1.1.0)\n",
            "Requirement already satisfied: litellm==1.68.0 in /usr/local/lib/python3.11/dist-packages (from crewai) (1.68.0)\n",
            "Requirement already satisfied: openai>=1.13.3 in /usr/local/lib/python3.11/dist-packages (from crewai) (1.75.0)\n",
            "Requirement already satisfied: openpyxl>=3.1.5 in /usr/local/lib/python3.11/dist-packages (from crewai) (3.1.5)\n",
            "Requirement already satisfied: opentelemetry-api>=1.30.0 in /usr/local/lib/python3.11/dist-packages (from crewai) (1.33.0)\n",
            "Requirement already satisfied: opentelemetry-exporter-otlp-proto-http>=1.30.0 in /usr/local/lib/python3.11/dist-packages (from crewai) (1.33.0)\n",
            "Requirement already satisfied: opentelemetry-sdk>=1.30.0 in /usr/local/lib/python3.11/dist-packages (from crewai) (1.33.0)\n",
            "Requirement already satisfied: pdfplumber>=0.11.4 in /usr/local/lib/python3.11/dist-packages (from crewai) (0.11.6)\n",
            "Requirement already satisfied: pydantic>=2.4.2 in /usr/local/lib/python3.11/dist-packages (from crewai) (2.11.4)\n",
            "Requirement already satisfied: python-dotenv>=1.0.0 in /usr/local/lib/python3.11/dist-packages (from crewai) (1.1.0)\n",
            "Requirement already satisfied: pyvis>=0.3.2 in /usr/local/lib/python3.11/dist-packages (from crewai) (0.3.2)\n",
            "Requirement already satisfied: regex>=2024.9.11 in /usr/local/lib/python3.11/dist-packages (from crewai) (2024.11.6)\n",
            "Requirement already satisfied: tomli-w>=1.1.0 in /usr/local/lib/python3.11/dist-packages (from crewai) (1.2.0)\n",
            "Requirement already satisfied: tomli>=2.0.2 in /usr/local/lib/python3.11/dist-packages (from crewai) (2.2.1)\n",
            "Requirement already satisfied: uv>=0.4.25 in /usr/local/lib/python3.11/dist-packages (from crewai) (0.7.3)\n",
            "Requirement already satisfied: aiohttp in /usr/local/lib/python3.11/dist-packages (from litellm==1.68.0->crewai) (3.11.15)\n",
            "Requirement already satisfied: httpx>=0.23.0 in /usr/local/lib/python3.11/dist-packages (from litellm==1.68.0->crewai) (0.28.1)\n",
            "Requirement already satisfied: importlib-metadata>=6.8.0 in /usr/local/lib/python3.11/dist-packages (from litellm==1.68.0->crewai) (8.6.1)\n",
            "Requirement already satisfied: jinja2<4.0.0,>=3.1.2 in /usr/local/lib/python3.11/dist-packages (from litellm==1.68.0->crewai) (3.1.6)\n",
            "Requirement already satisfied: jsonschema<5.0.0,>=4.22.0 in /usr/local/lib/python3.11/dist-packages (from litellm==1.68.0->crewai) (4.23.0)\n",
            "Requirement already satisfied: tiktoken>=0.7.0 in /usr/local/lib/python3.11/dist-packages (from litellm==1.68.0->crewai) (0.9.0)\n",
            "Requirement already satisfied: tokenizers in /usr/local/lib/python3.11/dist-packages (from litellm==1.68.0->crewai) (0.20.3)\n",
            "Requirement already satisfied: cryptography>=43.0.1 in /usr/local/lib/python3.11/dist-packages (from auth0-python>=4.7.1->crewai) (43.0.3)\n",
            "Requirement already satisfied: pyjwt>=2.8.0 in /usr/local/lib/python3.11/dist-packages (from auth0-python>=4.7.1->crewai) (2.10.1)\n",
            "Requirement already satisfied: requests>=2.32.3 in /usr/local/lib/python3.11/dist-packages (from auth0-python>=4.7.1->crewai) (2.32.3)\n",
            "Requirement already satisfied: urllib3>=2.2.3 in /usr/local/lib/python3.11/dist-packages (from auth0-python>=4.7.1->crewai) (2.4.0)\n",
            "Requirement already satisfied: build>=1.0.3 in /usr/local/lib/python3.11/dist-packages (from chromadb>=0.5.23->crewai) (1.2.2.post1)\n",
            "Requirement already satisfied: chroma-hnswlib==0.7.6 in /usr/local/lib/python3.11/dist-packages (from chromadb>=0.5.23->crewai) (0.7.6)\n",
            "Requirement already satisfied: fastapi>=0.95.2 in /usr/local/lib/python3.11/dist-packages (from chromadb>=0.5.23->crewai) (0.115.9)\n",
            "Requirement already satisfied: uvicorn>=0.18.3 in /usr/local/lib/python3.11/dist-packages (from uvicorn[standard]>=0.18.3->chromadb>=0.5.23->crewai) (0.34.2)\n",
            "Requirement already satisfied: numpy>=1.22.5 in /usr/local/lib/python3.11/dist-packages (from chromadb>=0.5.23->crewai) (2.0.2)\n",
            "Requirement already satisfied: posthog>=2.4.0 in /usr/local/lib/python3.11/dist-packages (from chromadb>=0.5.23->crewai) (3.25.0)\n",
            "Requirement already satisfied: typing_extensions>=4.5.0 in /usr/local/lib/python3.11/dist-packages (from chromadb>=0.5.23->crewai) (4.13.2)\n",
            "Requirement already satisfied: onnxruntime>=1.14.1 in /usr/local/lib/python3.11/dist-packages (from chromadb>=0.5.23->crewai) (1.22.0)\n",
            "Requirement already satisfied: opentelemetry-exporter-otlp-proto-grpc>=1.2.0 in /usr/local/lib/python3.11/dist-packages (from chromadb>=0.5.23->crewai) (1.33.0)\n",
            "Requirement already satisfied: opentelemetry-instrumentation-fastapi>=0.41b0 in /usr/local/lib/python3.11/dist-packages (from chromadb>=0.5.23->crewai) (0.54b0)\n",
            "Requirement already satisfied: pypika>=0.48.9 in /usr/local/lib/python3.11/dist-packages (from chromadb>=0.5.23->crewai) (0.48.9)\n",
            "Requirement already satisfied: tqdm>=4.65.0 in /usr/local/lib/python3.11/dist-packages (from chromadb>=0.5.23->crewai) (4.67.1)\n",
            "Requirement already satisfied: overrides>=7.3.1 in /usr/local/lib/python3.11/dist-packages (from chromadb>=0.5.23->crewai) (7.7.0)\n",
            "Requirement already satisfied: importlib-resources in /usr/local/lib/python3.11/dist-packages (from chromadb>=0.5.23->crewai) (6.5.2)\n",
            "Requirement already satisfied: grpcio>=1.58.0 in /usr/local/lib/python3.11/dist-packages (from chromadb>=0.5.23->crewai) (1.71.0)\n",
            "Requirement already satisfied: bcrypt>=4.0.1 in /usr/local/lib/python3.11/dist-packages (from chromadb>=0.5.23->crewai) (4.3.0)\n",
            "Requirement already satisfied: typer>=0.9.0 in /usr/local/lib/python3.11/dist-packages (from chromadb>=0.5.23->crewai) (0.15.3)\n",
            "Requirement already satisfied: kubernetes>=28.1.0 in /usr/local/lib/python3.11/dist-packages (from chromadb>=0.5.23->crewai) (32.0.1)\n",
            "Requirement already satisfied: tenacity>=8.2.3 in /usr/local/lib/python3.11/dist-packages (from chromadb>=0.5.23->crewai) (9.1.2)\n",
            "Requirement already satisfied: PyYAML>=6.0.0 in /usr/local/lib/python3.11/dist-packages (from chromadb>=0.5.23->crewai) (6.0.2)\n",
            "Requirement already satisfied: mmh3>=4.0.1 in /usr/local/lib/python3.11/dist-packages (from chromadb>=0.5.23->crewai) (5.1.0)\n",
            "Requirement already satisfied: orjson>=3.9.12 in /usr/local/lib/python3.11/dist-packages (from chromadb>=0.5.23->crewai) (3.10.18)\n",
            "Requirement already satisfied: rich>=10.11.0 in /usr/local/lib/python3.11/dist-packages (from chromadb>=0.5.23->crewai) (13.9.4)\n",
            "Requirement already satisfied: docstring-parser<1.0,>=0.16 in /usr/local/lib/python3.11/dist-packages (from instructor>=1.3.3->crewai) (0.16)\n",
            "Requirement already satisfied: jiter<0.9,>=0.6.1 in /usr/local/lib/python3.11/dist-packages (from instructor>=1.3.3->crewai) (0.8.2)\n",
            "Requirement already satisfied: pydantic-core<3.0.0,>=2.18.0 in /usr/local/lib/python3.11/dist-packages (from instructor>=1.3.3->crewai) (2.33.2)\n",
            "Requirement already satisfied: anyio<5,>=3.5.0 in /usr/local/lib/python3.11/dist-packages (from openai>=1.13.3->crewai) (4.9.0)\n",
            "Requirement already satisfied: distro<2,>=1.7.0 in /usr/local/lib/python3.11/dist-packages (from openai>=1.13.3->crewai) (1.9.0)\n",
            "Requirement already satisfied: sniffio in /usr/local/lib/python3.11/dist-packages (from openai>=1.13.3->crewai) (1.3.1)\n",
            "Requirement already satisfied: et-xmlfile in /usr/local/lib/python3.11/dist-packages (from openpyxl>=3.1.5->crewai) (2.0.0)\n",
            "Requirement already satisfied: deprecated>=1.2.6 in /usr/local/lib/python3.11/dist-packages (from opentelemetry-api>=1.30.0->crewai) (1.2.18)\n",
            "Requirement already satisfied: googleapis-common-protos~=1.52 in /usr/local/lib/python3.11/dist-packages (from opentelemetry-exporter-otlp-proto-http>=1.30.0->crewai) (1.70.0)\n",
            "Requirement already satisfied: opentelemetry-exporter-otlp-proto-common==1.33.0 in /usr/local/lib/python3.11/dist-packages (from opentelemetry-exporter-otlp-proto-http>=1.30.0->crewai) (1.33.0)\n",
            "Requirement already satisfied: opentelemetry-proto==1.33.0 in /usr/local/lib/python3.11/dist-packages (from opentelemetry-exporter-otlp-proto-http>=1.30.0->crewai) (1.33.0)\n",
            "Requirement already satisfied: protobuf<6.0,>=5.0 in /usr/local/lib/python3.11/dist-packages (from opentelemetry-proto==1.33.0->opentelemetry-exporter-otlp-proto-http>=1.30.0->crewai) (5.29.4)\n",
            "Requirement already satisfied: opentelemetry-semantic-conventions==0.54b0 in /usr/local/lib/python3.11/dist-packages (from opentelemetry-sdk>=1.30.0->crewai) (0.54b0)\n",
            "Requirement already satisfied: pdfminer.six==20250327 in /usr/local/lib/python3.11/dist-packages (from pdfplumber>=0.11.4->crewai) (20250327)\n",
            "Requirement already satisfied: Pillow>=9.1 in /usr/local/lib/python3.11/dist-packages (from pdfplumber>=0.11.4->crewai) (11.2.1)\n",
            "Requirement already satisfied: pypdfium2>=4.18.0 in /usr/local/lib/python3.11/dist-packages (from pdfplumber>=0.11.4->crewai) (4.30.1)\n",
            "Requirement already satisfied: charset-normalizer>=2.0.0 in /usr/local/lib/python3.11/dist-packages (from pdfminer.six==20250327->pdfplumber>=0.11.4->crewai) (3.4.2)\n",
            "Requirement already satisfied: annotated-types>=0.6.0 in /usr/local/lib/python3.11/dist-packages (from pydantic>=2.4.2->crewai) (0.7.0)\n",
            "Requirement already satisfied: typing-inspection>=0.4.0 in /usr/local/lib/python3.11/dist-packages (from pydantic>=2.4.2->crewai) (0.4.0)\n",
            "Requirement already satisfied: ipython>=5.3.0 in /usr/local/lib/python3.11/dist-packages (from pyvis>=0.3.2->crewai) (7.34.0)\n",
            "Requirement already satisfied: jsonpickle>=1.4.1 in /usr/local/lib/python3.11/dist-packages (from pyvis>=0.3.2->crewai) (4.0.5)\n",
            "Requirement already satisfied: networkx>=1.11 in /usr/local/lib/python3.11/dist-packages (from pyvis>=0.3.2->crewai) (3.4.2)\n",
            "Requirement already satisfied: aiohappyeyeballs>=2.3.0 in /usr/local/lib/python3.11/dist-packages (from aiohttp->litellm==1.68.0->crewai) (2.6.1)\n",
            "Requirement already satisfied: aiosignal>=1.1.2 in /usr/local/lib/python3.11/dist-packages (from aiohttp->litellm==1.68.0->crewai) (1.3.2)\n",
            "Requirement already satisfied: attrs>=17.3.0 in /usr/local/lib/python3.11/dist-packages (from aiohttp->litellm==1.68.0->crewai) (25.3.0)\n",
            "Requirement already satisfied: frozenlist>=1.1.1 in /usr/local/lib/python3.11/dist-packages (from aiohttp->litellm==1.68.0->crewai) (1.6.0)\n",
            "Requirement already satisfied: multidict<7.0,>=4.5 in /usr/local/lib/python3.11/dist-packages (from aiohttp->litellm==1.68.0->crewai) (6.4.3)\n",
            "Requirement already satisfied: propcache>=0.2.0 in /usr/local/lib/python3.11/dist-packages (from aiohttp->litellm==1.68.0->crewai) (0.3.1)\n",
            "Requirement already satisfied: yarl<2.0,>=1.17.0 in /usr/local/lib/python3.11/dist-packages (from aiohttp->litellm==1.68.0->crewai) (1.20.0)\n",
            "Requirement already satisfied: idna>=2.8 in /usr/local/lib/python3.11/dist-packages (from anyio<5,>=3.5.0->openai>=1.13.3->crewai) (3.10)\n",
            "Requirement already satisfied: packaging>=19.1 in /usr/local/lib/python3.11/dist-packages (from build>=1.0.3->chromadb>=0.5.23->crewai) (24.2)\n",
            "Requirement already satisfied: pyproject_hooks in /usr/local/lib/python3.11/dist-packages (from build>=1.0.3->chromadb>=0.5.23->crewai) (1.2.0)\n",
            "Requirement already satisfied: cffi>=1.12 in /usr/local/lib/python3.11/dist-packages (from cryptography>=43.0.1->auth0-python>=4.7.1->crewai) (1.17.1)\n",
            "Requirement already satisfied: wrapt<2,>=1.10 in /usr/local/lib/python3.11/dist-packages (from deprecated>=1.2.6->opentelemetry-api>=1.30.0->crewai) (1.17.2)\n",
            "Requirement already satisfied: starlette<0.46.0,>=0.40.0 in /usr/local/lib/python3.11/dist-packages (from fastapi>=0.95.2->chromadb>=0.5.23->crewai) (0.45.3)\n",
            "Requirement already satisfied: certifi in /usr/local/lib/python3.11/dist-packages (from httpx>=0.23.0->litellm==1.68.0->crewai) (2025.4.26)\n",
            "Requirement already satisfied: httpcore==1.* in /usr/local/lib/python3.11/dist-packages (from httpx>=0.23.0->litellm==1.68.0->crewai) (1.0.9)\n",
            "Requirement already satisfied: h11>=0.16 in /usr/local/lib/python3.11/dist-packages (from httpcore==1.*->httpx>=0.23.0->litellm==1.68.0->crewai) (0.16.0)\n",
            "Requirement already satisfied: zipp>=3.20 in /usr/local/lib/python3.11/dist-packages (from importlib-metadata>=6.8.0->litellm==1.68.0->crewai) (3.21.0)\n",
            "Requirement already satisfied: setuptools>=18.5 in /usr/local/lib/python3.11/dist-packages (from ipython>=5.3.0->pyvis>=0.3.2->crewai) (75.2.0)\n",
            "Requirement already satisfied: jedi>=0.16 in /usr/local/lib/python3.11/dist-packages (from ipython>=5.3.0->pyvis>=0.3.2->crewai) (0.19.2)\n",
            "Requirement already satisfied: decorator in /usr/local/lib/python3.11/dist-packages (from ipython>=5.3.0->pyvis>=0.3.2->crewai) (4.4.2)\n",
            "Requirement already satisfied: pickleshare in /usr/local/lib/python3.11/dist-packages (from ipython>=5.3.0->pyvis>=0.3.2->crewai) (0.7.5)\n",
            "Requirement already satisfied: traitlets>=4.2 in /usr/local/lib/python3.11/dist-packages (from ipython>=5.3.0->pyvis>=0.3.2->crewai) (5.7.1)\n",
            "Requirement already satisfied: prompt-toolkit!=3.0.0,!=3.0.1,<3.1.0,>=2.0.0 in /usr/local/lib/python3.11/dist-packages (from ipython>=5.3.0->pyvis>=0.3.2->crewai) (3.0.51)\n",
            "Requirement already satisfied: pygments in /usr/local/lib/python3.11/dist-packages (from ipython>=5.3.0->pyvis>=0.3.2->crewai) (2.19.1)\n",
            "Requirement already satisfied: backcall in /usr/local/lib/python3.11/dist-packages (from ipython>=5.3.0->pyvis>=0.3.2->crewai) (0.2.0)\n",
            "Requirement already satisfied: matplotlib-inline in /usr/local/lib/python3.11/dist-packages (from ipython>=5.3.0->pyvis>=0.3.2->crewai) (0.1.7)\n",
            "Requirement already satisfied: pexpect>4.3 in /usr/local/lib/python3.11/dist-packages (from ipython>=5.3.0->pyvis>=0.3.2->crewai) (4.9.0)\n",
            "Requirement already satisfied: MarkupSafe>=2.0 in /usr/local/lib/python3.11/dist-packages (from jinja2<4.0.0,>=3.1.2->litellm==1.68.0->crewai) (3.0.2)\n",
            "Requirement already satisfied: jsonschema-specifications>=2023.03.6 in /usr/local/lib/python3.11/dist-packages (from jsonschema<5.0.0,>=4.22.0->litellm==1.68.0->crewai) (2025.4.1)\n",
            "Requirement already satisfied: referencing>=0.28.4 in /usr/local/lib/python3.11/dist-packages (from jsonschema<5.0.0,>=4.22.0->litellm==1.68.0->crewai) (0.36.2)\n",
            "Requirement already satisfied: rpds-py>=0.7.1 in /usr/local/lib/python3.11/dist-packages (from jsonschema<5.0.0,>=4.22.0->litellm==1.68.0->crewai) (0.24.0)\n",
            "Requirement already satisfied: six>=1.9.0 in /usr/local/lib/python3.11/dist-packages (from kubernetes>=28.1.0->chromadb>=0.5.23->crewai) (1.17.0)\n",
            "Requirement already satisfied: python-dateutil>=2.5.3 in /usr/local/lib/python3.11/dist-packages (from kubernetes>=28.1.0->chromadb>=0.5.23->crewai) (2.9.0.post0)\n",
            "Requirement already satisfied: google-auth>=1.0.1 in /usr/local/lib/python3.11/dist-packages (from kubernetes>=28.1.0->chromadb>=0.5.23->crewai) (2.38.0)\n",
            "Requirement already satisfied: websocket-client!=0.40.0,!=0.41.*,!=0.42.*,>=0.32.0 in /usr/local/lib/python3.11/dist-packages (from kubernetes>=28.1.0->chromadb>=0.5.23->crewai) (1.8.0)\n",
            "Requirement already satisfied: requests-oauthlib in /usr/local/lib/python3.11/dist-packages (from kubernetes>=28.1.0->chromadb>=0.5.23->crewai) (2.0.0)\n",
            "Requirement already satisfied: oauthlib>=3.2.2 in /usr/local/lib/python3.11/dist-packages (from kubernetes>=28.1.0->chromadb>=0.5.23->crewai) (3.2.2)\n",
            "Requirement already satisfied: durationpy>=0.7 in /usr/local/lib/python3.11/dist-packages (from kubernetes>=28.1.0->chromadb>=0.5.23->crewai) (0.9)\n",
            "Requirement already satisfied: coloredlogs in /usr/local/lib/python3.11/dist-packages (from onnxruntime>=1.14.1->chromadb>=0.5.23->crewai) (15.0.1)\n",
            "Requirement already satisfied: flatbuffers in /usr/local/lib/python3.11/dist-packages (from onnxruntime>=1.14.1->chromadb>=0.5.23->crewai) (25.2.10)\n",
            "Requirement already satisfied: sympy in /usr/local/lib/python3.11/dist-packages (from onnxruntime>=1.14.1->chromadb>=0.5.23->crewai) (1.13.1)\n",
            "Requirement already satisfied: opentelemetry-instrumentation-asgi==0.54b0 in /usr/local/lib/python3.11/dist-packages (from opentelemetry-instrumentation-fastapi>=0.41b0->chromadb>=0.5.23->crewai) (0.54b0)\n",
            "Requirement already satisfied: opentelemetry-instrumentation==0.54b0 in /usr/local/lib/python3.11/dist-packages (from opentelemetry-instrumentation-fastapi>=0.41b0->chromadb>=0.5.23->crewai) (0.54b0)\n",
            "Requirement already satisfied: opentelemetry-util-http==0.54b0 in /usr/local/lib/python3.11/dist-packages (from opentelemetry-instrumentation-fastapi>=0.41b0->chromadb>=0.5.23->crewai) (0.54b0)\n",
            "Requirement already satisfied: asgiref~=3.0 in /usr/local/lib/python3.11/dist-packages (from opentelemetry-instrumentation-asgi==0.54b0->opentelemetry-instrumentation-fastapi>=0.41b0->chromadb>=0.5.23->crewai) (3.8.1)\n",
            "Requirement already satisfied: monotonic>=1.5 in /usr/local/lib/python3.11/dist-packages (from posthog>=2.4.0->chromadb>=0.5.23->crewai) (1.6)\n",
            "Requirement already satisfied: backoff>=1.10.0 in /usr/local/lib/python3.11/dist-packages (from posthog>=2.4.0->chromadb>=0.5.23->crewai) (2.2.1)\n",
            "Requirement already satisfied: markdown-it-py>=2.2.0 in /usr/local/lib/python3.11/dist-packages (from rich>=10.11.0->chromadb>=0.5.23->crewai) (3.0.0)\n",
            "Requirement already satisfied: huggingface-hub<1.0,>=0.16.4 in /usr/local/lib/python3.11/dist-packages (from tokenizers->litellm==1.68.0->crewai) (0.31.1)\n",
            "Requirement already satisfied: shellingham>=1.3.0 in /usr/local/lib/python3.11/dist-packages (from typer>=0.9.0->chromadb>=0.5.23->crewai) (1.5.4)\n",
            "Requirement already satisfied: httptools>=0.6.3 in /usr/local/lib/python3.11/dist-packages (from uvicorn[standard]>=0.18.3->chromadb>=0.5.23->crewai) (0.6.4)\n",
            "Requirement already satisfied: uvloop!=0.15.0,!=0.15.1,>=0.14.0 in /usr/local/lib/python3.11/dist-packages (from uvicorn[standard]>=0.18.3->chromadb>=0.5.23->crewai) (0.21.0)\n",
            "Requirement already satisfied: watchfiles>=0.13 in /usr/local/lib/python3.11/dist-packages (from uvicorn[standard]>=0.18.3->chromadb>=0.5.23->crewai) (1.0.5)\n",
            "Requirement already satisfied: websockets>=10.4 in /usr/local/lib/python3.11/dist-packages (from uvicorn[standard]>=0.18.3->chromadb>=0.5.23->crewai) (15.0.1)\n",
            "Requirement already satisfied: pycparser in /usr/local/lib/python3.11/dist-packages (from cffi>=1.12->cryptography>=43.0.1->auth0-python>=4.7.1->crewai) (2.22)\n",
            "Requirement already satisfied: cachetools<6.0,>=2.0.0 in /usr/local/lib/python3.11/dist-packages (from google-auth>=1.0.1->kubernetes>=28.1.0->chromadb>=0.5.23->crewai) (5.5.2)\n",
            "Requirement already satisfied: pyasn1-modules>=0.2.1 in /usr/local/lib/python3.11/dist-packages (from google-auth>=1.0.1->kubernetes>=28.1.0->chromadb>=0.5.23->crewai) (0.4.2)\n",
            "Requirement already satisfied: rsa<5,>=3.1.4 in /usr/local/lib/python3.11/dist-packages (from google-auth>=1.0.1->kubernetes>=28.1.0->chromadb>=0.5.23->crewai) (4.9.1)\n",
            "Requirement already satisfied: filelock in /usr/local/lib/python3.11/dist-packages (from huggingface-hub<1.0,>=0.16.4->tokenizers->litellm==1.68.0->crewai) (3.18.0)\n",
            "Requirement already satisfied: fsspec>=2023.5.0 in /usr/local/lib/python3.11/dist-packages (from huggingface-hub<1.0,>=0.16.4->tokenizers->litellm==1.68.0->crewai) (2025.3.2)\n",
            "Requirement already satisfied: hf-xet<2.0.0,>=1.1.0 in /usr/local/lib/python3.11/dist-packages (from huggingface-hub<1.0,>=0.16.4->tokenizers->litellm==1.68.0->crewai) (1.1.0)\n",
            "Requirement already satisfied: parso<0.9.0,>=0.8.4 in /usr/local/lib/python3.11/dist-packages (from jedi>=0.16->ipython>=5.3.0->pyvis>=0.3.2->crewai) (0.8.4)\n",
            "Requirement already satisfied: mdurl~=0.1 in /usr/local/lib/python3.11/dist-packages (from markdown-it-py>=2.2.0->rich>=10.11.0->chromadb>=0.5.23->crewai) (0.1.2)\n",
            "Requirement already satisfied: ptyprocess>=0.5 in /usr/local/lib/python3.11/dist-packages (from pexpect>4.3->ipython>=5.3.0->pyvis>=0.3.2->crewai) (0.7.0)\n",
            "Requirement already satisfied: wcwidth in /usr/local/lib/python3.11/dist-packages (from prompt-toolkit!=3.0.0,!=3.0.1,<3.1.0,>=2.0.0->ipython>=5.3.0->pyvis>=0.3.2->crewai) (0.2.13)\n",
            "Requirement already satisfied: humanfriendly>=9.1 in /usr/local/lib/python3.11/dist-packages (from coloredlogs->onnxruntime>=1.14.1->chromadb>=0.5.23->crewai) (10.0)\n",
            "Requirement already satisfied: mpmath<1.4,>=1.1.0 in /usr/local/lib/python3.11/dist-packages (from sympy->onnxruntime>=1.14.1->chromadb>=0.5.23->crewai) (1.3.0)\n",
            "Requirement already satisfied: pyasn1<0.7.0,>=0.6.1 in /usr/local/lib/python3.11/dist-packages (from pyasn1-modules>=0.2.1->google-auth>=1.0.1->kubernetes>=28.1.0->chromadb>=0.5.23->crewai) (0.6.1)\n"
          ]
        }
      ]
    },
    {
      "cell_type": "code",
      "source": [
        "from google.colab import userdata\n"
      ],
      "metadata": {
        "id": "hCqzy3zUG4Nt"
      },
      "execution_count": 4,
      "outputs": []
    },
    {
      "cell_type": "code",
      "source": [
        "GROQ_API_KEY=userdata.get('GROQ_API_KEY')"
      ],
      "metadata": {
        "id": "8N7nZrz1Hc1l"
      },
      "execution_count": 5,
      "outputs": []
    },
    {
      "cell_type": "code",
      "source": [
        "from crewai.flow.flow import Flow, listen, start\n",
        "from dotenv import load_dotenv\n",
        "from litellm import completion\n",
        "import nest_asyncio # Import nest_asyncio\n",
        "\n",
        "nest_asyncio.apply() # Apply nest_asyncio patch\n",
        "\n",
        "class ExampleFlow(Flow):\n",
        "    model = \"groq/llama-3.3-70b-versatile\"\n",
        "\n",
        "    @start()\n",
        "    def generate_city(self):\n",
        "        print(\"Starting flow\")\n",
        "        # Each flow state automatically gets a unique ID\n",
        "        print(f\"Flow State ID: {self.state['id']}\")\n",
        "\n",
        "        response = completion(\n",
        "            model=self.model,\n",
        "            api_key=GROQ_API_KEY,\n",
        "            messages=[\n",
        "                {\n",
        "                    \"role\": \"user\",\n",
        "                    \"content\": \"Return the name of a random city in the world.\",\n",
        "                },\n",
        "            ],\n",
        "        )\n",
        "\n",
        "        random_city = response[\"choices\"][0][\"message\"][\"content\"]\n",
        "        # Store the city in our state\n",
        "        self.state[\"city\"] = random_city\n",
        "        print(f\"Random City: {random_city}\")\n",
        "\n",
        "        return random_city\n",
        "\n",
        "    @listen(generate_city)\n",
        "    def generate_fun_fact(self, random_city):\n",
        "        response = completion(\n",
        "            model=self.model,\n",
        "            api_key=GROQ_API_KEY,\n",
        "            messages=[\n",
        "                {\n",
        "                    \"role\": \"user\",\n",
        "                    \"content\": f\"Tell me a fun fact about {random_city}\",\n",
        "                },\n",
        "            ],\n",
        "        )\n",
        "\n",
        "        fun_fact = response[\"choices\"][0][\"message\"][\"content\"]\n",
        "        # Store the fun fact in our state\n",
        "        self.state[\"fun_fact\"] = fun_fact\n",
        "        return fun_fact\n",
        "\n",
        "\n",
        "\n",
        "flow = ExampleFlow()\n",
        "result = flow.kickoff()\n",
        "\n",
        "flow.plot(\"my_flow_plot\")\n",
        "\n",
        "print(f\"Generated fun fact: {result}\")"
      ],
      "metadata": {
        "colab": {
          "base_uri": "https://localhost:8080/",
          "height": 845
        },
        "id": "kLU1GBULGoUo",
        "outputId": "53d749ff-9de7-46d3-cd08-cea3d642b6db"
      },
      "execution_count": 6,
      "outputs": [
        {
          "output_type": "display_data",
          "data": {
            "text/plain": [
              "\u001b[34m╭─\u001b[0m\u001b[34m───────────────────────────────────────────────\u001b[0m\u001b[34m Flow Execution \u001b[0m\u001b[34m────────────────────────────────────────────────\u001b[0m\u001b[34m─╮\u001b[0m\n",
              "\u001b[34m│\u001b[0m                                                                                                                 \u001b[34m│\u001b[0m\n",
              "\u001b[34m│\u001b[0m  \u001b[1;34mStarting Flow Execution\u001b[0m                                                                                        \u001b[34m│\u001b[0m\n",
              "\u001b[34m│\u001b[0m  \u001b[37mName: \u001b[0m\u001b[34mExampleFlow\u001b[0m                                                                                              \u001b[34m│\u001b[0m\n",
              "\u001b[34m│\u001b[0m  \u001b[37mID: \u001b[0m\u001b[34ma33864e4-5f70-4c7e-97af-4950de3db073\u001b[0m                                                                       \u001b[34m│\u001b[0m\n",
              "\u001b[34m│\u001b[0m                                                                                                                 \u001b[34m│\u001b[0m\n",
              "\u001b[34m│\u001b[0m                                                                                                                 \u001b[34m│\u001b[0m\n",
              "\u001b[34m╰─────────────────────────────────────────────────────────────────────────────────────────────────────────────────╯\u001b[0m\n"
            ],
            "text/html": [
              "<pre style=\"white-space:pre;overflow-x:auto;line-height:normal;font-family:Menlo,'DejaVu Sans Mono',consolas,'Courier New',monospace\"><span style=\"color: #000080; text-decoration-color: #000080\">╭──────────────────────────────────────────────── Flow Execution ─────────────────────────────────────────────────╮</span>\n",
              "<span style=\"color: #000080; text-decoration-color: #000080\">│</span>                                                                                                                 <span style=\"color: #000080; text-decoration-color: #000080\">│</span>\n",
              "<span style=\"color: #000080; text-decoration-color: #000080\">│</span>  <span style=\"color: #000080; text-decoration-color: #000080; font-weight: bold\">Starting Flow Execution</span>                                                                                        <span style=\"color: #000080; text-decoration-color: #000080\">│</span>\n",
              "<span style=\"color: #000080; text-decoration-color: #000080\">│</span>  <span style=\"color: #c0c0c0; text-decoration-color: #c0c0c0\">Name: </span><span style=\"color: #000080; text-decoration-color: #000080\">ExampleFlow</span>                                                                                              <span style=\"color: #000080; text-decoration-color: #000080\">│</span>\n",
              "<span style=\"color: #000080; text-decoration-color: #000080\">│</span>  <span style=\"color: #c0c0c0; text-decoration-color: #c0c0c0\">ID: </span><span style=\"color: #000080; text-decoration-color: #000080\">a33864e4-5f70-4c7e-97af-4950de3db073</span>                                                                       <span style=\"color: #000080; text-decoration-color: #000080\">│</span>\n",
              "<span style=\"color: #000080; text-decoration-color: #000080\">│</span>                                                                                                                 <span style=\"color: #000080; text-decoration-color: #000080\">│</span>\n",
              "<span style=\"color: #000080; text-decoration-color: #000080\">│</span>                                                                                                                 <span style=\"color: #000080; text-decoration-color: #000080\">│</span>\n",
              "<span style=\"color: #000080; text-decoration-color: #000080\">╰─────────────────────────────────────────────────────────────────────────────────────────────────────────────────╯</span>\n",
              "</pre>\n"
            ]
          },
          "metadata": {}
        },
        {
          "output_type": "display_data",
          "data": {
            "text/plain": [
              "\n"
            ],
            "text/html": [
              "<pre style=\"white-space:pre;overflow-x:auto;line-height:normal;font-family:Menlo,'DejaVu Sans Mono',consolas,'Courier New',monospace\">\n",
              "</pre>\n"
            ]
          },
          "metadata": {}
        },
        {
          "output_type": "display_data",
          "data": {
            "text/plain": [
              "\u001b[1;34m🌊 Flow: \u001b[0m\u001b[34mExampleFlow\u001b[0m\n",
              "\u001b[37m    ID: \u001b[0m\u001b[34ma33864e4-5f70-4c7e-97af-4950de3db073\u001b[0m\n",
              "└── \u001b[33m🧠 Starting Flow...\u001b[0m\n"
            ],
            "text/html": [
              "<pre style=\"white-space:pre;overflow-x:auto;line-height:normal;font-family:Menlo,'DejaVu Sans Mono',consolas,'Courier New',monospace\"><span style=\"color: #000080; text-decoration-color: #000080; font-weight: bold\">🌊 Flow: </span><span style=\"color: #000080; text-decoration-color: #000080\">ExampleFlow</span>\n",
              "<span style=\"color: #c0c0c0; text-decoration-color: #c0c0c0\">    ID: </span><span style=\"color: #000080; text-decoration-color: #000080\">a33864e4-5f70-4c7e-97af-4950de3db073</span>\n",
              "└── <span style=\"color: #808000; text-decoration-color: #808000\">🧠 Starting Flow...</span>\n",
              "</pre>\n"
            ]
          },
          "metadata": {}
        },
        {
          "output_type": "display_data",
          "data": {
            "text/plain": [
              "\n"
            ],
            "text/html": [
              "<pre style=\"white-space:pre;overflow-x:auto;line-height:normal;font-family:Menlo,'DejaVu Sans Mono',consolas,'Courier New',monospace\">\n",
              "</pre>\n"
            ]
          },
          "metadata": {}
        },
        {
          "output_type": "stream",
          "name": "stdout",
          "text": [
            "\u001b[1m\u001b[35m Flow started with ID: a33864e4-5f70-4c7e-97af-4950de3db073\u001b[00m\n"
          ]
        },
        {
          "output_type": "display_data",
          "data": {
            "text/plain": [
              "\u001b[1;34m🌊 Flow: \u001b[0m\u001b[34mExampleFlow\u001b[0m\n",
              "\u001b[37m    ID: \u001b[0m\u001b[34ma33864e4-5f70-4c7e-97af-4950de3db073\u001b[0m\n",
              "├── \u001b[33m🧠 Starting Flow...\u001b[0m\n",
              "└── \u001b[1;33m🔄 Running:\u001b[0m\u001b[1;33m generate_city\u001b[0m\n"
            ],
            "text/html": [
              "<pre style=\"white-space:pre;overflow-x:auto;line-height:normal;font-family:Menlo,'DejaVu Sans Mono',consolas,'Courier New',monospace\"><span style=\"color: #000080; text-decoration-color: #000080; font-weight: bold\">🌊 Flow: </span><span style=\"color: #000080; text-decoration-color: #000080\">ExampleFlow</span>\n",
              "<span style=\"color: #c0c0c0; text-decoration-color: #c0c0c0\">    ID: </span><span style=\"color: #000080; text-decoration-color: #000080\">a33864e4-5f70-4c7e-97af-4950de3db073</span>\n",
              "├── <span style=\"color: #808000; text-decoration-color: #808000\">🧠 Starting Flow...</span>\n",
              "└── <span style=\"color: #808000; text-decoration-color: #808000; font-weight: bold\">🔄 Running: generate_city</span>\n",
              "</pre>\n"
            ]
          },
          "metadata": {}
        },
        {
          "output_type": "display_data",
          "data": {
            "text/plain": [
              "\n"
            ],
            "text/html": [
              "<pre style=\"white-space:pre;overflow-x:auto;line-height:normal;font-family:Menlo,'DejaVu Sans Mono',consolas,'Courier New',monospace\">\n",
              "</pre>\n"
            ]
          },
          "metadata": {}
        },
        {
          "output_type": "stream",
          "name": "stdout",
          "text": [
            "Starting flow\n",
            "Flow State ID: a33864e4-5f70-4c7e-97af-4950de3db073\n",
            "Random City: Skopje.\n"
          ]
        },
        {
          "output_type": "display_data",
          "data": {
            "text/plain": [
              "\u001b[1;34m🌊 Flow: \u001b[0m\u001b[34mExampleFlow\u001b[0m\n",
              "\u001b[37m    ID: \u001b[0m\u001b[34ma33864e4-5f70-4c7e-97af-4950de3db073\u001b[0m\n",
              "├── \u001b[37mFlow Method Step\u001b[0m\n",
              "└── \u001b[1;32m✅ Completed:\u001b[0m\u001b[1;32m generate_city\u001b[0m\n"
            ],
            "text/html": [
              "<pre style=\"white-space:pre;overflow-x:auto;line-height:normal;font-family:Menlo,'DejaVu Sans Mono',consolas,'Courier New',monospace\"><span style=\"color: #000080; text-decoration-color: #000080; font-weight: bold\">🌊 Flow: </span><span style=\"color: #000080; text-decoration-color: #000080\">ExampleFlow</span>\n",
              "<span style=\"color: #c0c0c0; text-decoration-color: #c0c0c0\">    ID: </span><span style=\"color: #000080; text-decoration-color: #000080\">a33864e4-5f70-4c7e-97af-4950de3db073</span>\n",
              "├── <span style=\"color: #c0c0c0; text-decoration-color: #c0c0c0\">Flow Method Step</span>\n",
              "└── <span style=\"color: #008000; text-decoration-color: #008000; font-weight: bold\">✅ Completed: generate_city</span>\n",
              "</pre>\n"
            ]
          },
          "metadata": {}
        },
        {
          "output_type": "display_data",
          "data": {
            "text/plain": [
              "\n"
            ],
            "text/html": [
              "<pre style=\"white-space:pre;overflow-x:auto;line-height:normal;font-family:Menlo,'DejaVu Sans Mono',consolas,'Courier New',monospace\">\n",
              "</pre>\n"
            ]
          },
          "metadata": {}
        },
        {
          "output_type": "display_data",
          "data": {
            "text/plain": [
              "\u001b[1;34m🌊 Flow: \u001b[0m\u001b[34mExampleFlow\u001b[0m\n",
              "\u001b[37m    ID: \u001b[0m\u001b[34ma33864e4-5f70-4c7e-97af-4950de3db073\u001b[0m\n",
              "├── \u001b[37mFlow Method Step\u001b[0m\n",
              "├── \u001b[1;32m✅ Completed:\u001b[0m\u001b[1;32m generate_city\u001b[0m\n",
              "└── \u001b[1;33m🔄 Running:\u001b[0m\u001b[1;33m generate_fun_fact\u001b[0m\n"
            ],
            "text/html": [
              "<pre style=\"white-space:pre;overflow-x:auto;line-height:normal;font-family:Menlo,'DejaVu Sans Mono',consolas,'Courier New',monospace\"><span style=\"color: #000080; text-decoration-color: #000080; font-weight: bold\">🌊 Flow: </span><span style=\"color: #000080; text-decoration-color: #000080\">ExampleFlow</span>\n",
              "<span style=\"color: #c0c0c0; text-decoration-color: #c0c0c0\">    ID: </span><span style=\"color: #000080; text-decoration-color: #000080\">a33864e4-5f70-4c7e-97af-4950de3db073</span>\n",
              "├── <span style=\"color: #c0c0c0; text-decoration-color: #c0c0c0\">Flow Method Step</span>\n",
              "├── <span style=\"color: #008000; text-decoration-color: #008000; font-weight: bold\">✅ Completed: generate_city</span>\n",
              "└── <span style=\"color: #808000; text-decoration-color: #808000; font-weight: bold\">🔄 Running: generate_fun_fact</span>\n",
              "</pre>\n"
            ]
          },
          "metadata": {}
        },
        {
          "output_type": "display_data",
          "data": {
            "text/plain": [
              "\n"
            ],
            "text/html": [
              "<pre style=\"white-space:pre;overflow-x:auto;line-height:normal;font-family:Menlo,'DejaVu Sans Mono',consolas,'Courier New',monospace\">\n",
              "</pre>\n"
            ]
          },
          "metadata": {}
        },
        {
          "output_type": "display_data",
          "data": {
            "text/plain": [
              "\u001b[1;34m🌊 Flow: \u001b[0m\u001b[34mExampleFlow\u001b[0m\n",
              "\u001b[37m    ID: \u001b[0m\u001b[34ma33864e4-5f70-4c7e-97af-4950de3db073\u001b[0m\n",
              "├── \u001b[37mFlow Method Step\u001b[0m\n",
              "├── \u001b[1;32m✅ Completed:\u001b[0m\u001b[1;32m generate_city\u001b[0m\n",
              "└── \u001b[1;32m✅ Completed:\u001b[0m\u001b[1;32m generate_fun_fact\u001b[0m\n"
            ],
            "text/html": [
              "<pre style=\"white-space:pre;overflow-x:auto;line-height:normal;font-family:Menlo,'DejaVu Sans Mono',consolas,'Courier New',monospace\"><span style=\"color: #000080; text-decoration-color: #000080; font-weight: bold\">🌊 Flow: </span><span style=\"color: #000080; text-decoration-color: #000080\">ExampleFlow</span>\n",
              "<span style=\"color: #c0c0c0; text-decoration-color: #c0c0c0\">    ID: </span><span style=\"color: #000080; text-decoration-color: #000080\">a33864e4-5f70-4c7e-97af-4950de3db073</span>\n",
              "├── <span style=\"color: #c0c0c0; text-decoration-color: #c0c0c0\">Flow Method Step</span>\n",
              "├── <span style=\"color: #008000; text-decoration-color: #008000; font-weight: bold\">✅ Completed: generate_city</span>\n",
              "└── <span style=\"color: #008000; text-decoration-color: #008000; font-weight: bold\">✅ Completed: generate_fun_fact</span>\n",
              "</pre>\n"
            ]
          },
          "metadata": {}
        },
        {
          "output_type": "display_data",
          "data": {
            "text/plain": [
              "\n"
            ],
            "text/html": [
              "<pre style=\"white-space:pre;overflow-x:auto;line-height:normal;font-family:Menlo,'DejaVu Sans Mono',consolas,'Courier New',monospace\">\n",
              "</pre>\n"
            ]
          },
          "metadata": {}
        },
        {
          "output_type": "display_data",
          "data": {
            "text/plain": [
              "\u001b[1;32m✅ Flow Finished: \u001b[0m\u001b[32mExampleFlow\u001b[0m\n",
              "├── \u001b[37mFlow Method Step\u001b[0m\n",
              "├── \u001b[1;32m✅ Completed:\u001b[0m\u001b[1;32m generate_city\u001b[0m\n",
              "└── \u001b[1;32m✅ Completed:\u001b[0m\u001b[1;32m generate_fun_fact\u001b[0m\n"
            ],
            "text/html": [
              "<pre style=\"white-space:pre;overflow-x:auto;line-height:normal;font-family:Menlo,'DejaVu Sans Mono',consolas,'Courier New',monospace\"><span style=\"color: #008000; text-decoration-color: #008000; font-weight: bold\">✅ Flow Finished: </span><span style=\"color: #008000; text-decoration-color: #008000\">ExampleFlow</span>\n",
              "├── <span style=\"color: #c0c0c0; text-decoration-color: #c0c0c0\">Flow Method Step</span>\n",
              "├── <span style=\"color: #008000; text-decoration-color: #008000; font-weight: bold\">✅ Completed: generate_city</span>\n",
              "└── <span style=\"color: #008000; text-decoration-color: #008000; font-weight: bold\">✅ Completed: generate_fun_fact</span>\n",
              "</pre>\n"
            ]
          },
          "metadata": {}
        },
        {
          "output_type": "display_data",
          "data": {
            "text/plain": [
              "\u001b[32m╭─\u001b[0m\u001b[32m───────────────────────────────────────────────\u001b[0m\u001b[32m Flow Completion \u001b[0m\u001b[32m───────────────────────────────────────────────\u001b[0m\u001b[32m─╮\u001b[0m\n",
              "\u001b[32m│\u001b[0m                                                                                                                 \u001b[32m│\u001b[0m\n",
              "\u001b[32m│\u001b[0m  \u001b[1;32mFlow Execution Completed\u001b[0m                                                                                       \u001b[32m│\u001b[0m\n",
              "\u001b[32m│\u001b[0m  \u001b[37mName: \u001b[0m\u001b[32mExampleFlow\u001b[0m                                                                                              \u001b[32m│\u001b[0m\n",
              "\u001b[32m│\u001b[0m  \u001b[37mID: \u001b[0m\u001b[32ma33864e4-5f70-4c7e-97af-4950de3db073\u001b[0m                                                                       \u001b[32m│\u001b[0m\n",
              "\u001b[32m│\u001b[0m                                                                                                                 \u001b[32m│\u001b[0m\n",
              "\u001b[32m│\u001b[0m                                                                                                                 \u001b[32m│\u001b[0m\n",
              "\u001b[32m╰─────────────────────────────────────────────────────────────────────────────────────────────────────────────────╯\u001b[0m\n"
            ],
            "text/html": [
              "<pre style=\"white-space:pre;overflow-x:auto;line-height:normal;font-family:Menlo,'DejaVu Sans Mono',consolas,'Courier New',monospace\"><span style=\"color: #008000; text-decoration-color: #008000\">╭──────────────────────────────────────────────── Flow Completion ────────────────────────────────────────────────╮</span>\n",
              "<span style=\"color: #008000; text-decoration-color: #008000\">│</span>                                                                                                                 <span style=\"color: #008000; text-decoration-color: #008000\">│</span>\n",
              "<span style=\"color: #008000; text-decoration-color: #008000\">│</span>  <span style=\"color: #008000; text-decoration-color: #008000; font-weight: bold\">Flow Execution Completed</span>                                                                                       <span style=\"color: #008000; text-decoration-color: #008000\">│</span>\n",
              "<span style=\"color: #008000; text-decoration-color: #008000\">│</span>  <span style=\"color: #c0c0c0; text-decoration-color: #c0c0c0\">Name: </span><span style=\"color: #008000; text-decoration-color: #008000\">ExampleFlow</span>                                                                                              <span style=\"color: #008000; text-decoration-color: #008000\">│</span>\n",
              "<span style=\"color: #008000; text-decoration-color: #008000\">│</span>  <span style=\"color: #c0c0c0; text-decoration-color: #c0c0c0\">ID: </span><span style=\"color: #008000; text-decoration-color: #008000\">a33864e4-5f70-4c7e-97af-4950de3db073</span>                                                                       <span style=\"color: #008000; text-decoration-color: #008000\">│</span>\n",
              "<span style=\"color: #008000; text-decoration-color: #008000\">│</span>                                                                                                                 <span style=\"color: #008000; text-decoration-color: #008000\">│</span>\n",
              "<span style=\"color: #008000; text-decoration-color: #008000\">│</span>                                                                                                                 <span style=\"color: #008000; text-decoration-color: #008000\">│</span>\n",
              "<span style=\"color: #008000; text-decoration-color: #008000\">╰─────────────────────────────────────────────────────────────────────────────────────────────────────────────────╯</span>\n",
              "</pre>\n"
            ]
          },
          "metadata": {}
        },
        {
          "output_type": "display_data",
          "data": {
            "text/plain": [
              "\n"
            ],
            "text/html": [
              "<pre style=\"white-space:pre;overflow-x:auto;line-height:normal;font-family:Menlo,'DejaVu Sans Mono',consolas,'Courier New',monospace\">\n",
              "</pre>\n"
            ]
          },
          "metadata": {}
        },
        {
          "output_type": "stream",
          "name": "stdout",
          "text": [
            "Plot saved as my_flow_plot.html\n",
            "Generated fun fact: A fun fact about Skopje, the capital of North Macedonia, is that it has a plethora of statues throughout the city. In fact, Skopje is often referred to as the \"City of Statues\" due to its numerous and sometimes quirky monuments. The city has over 150 statues, including those of famous historical figures, mythical creatures, and even a giant statue of Alexander the Great. This makes Skopje a unique and fascinating place to explore, with a blend of history, culture, and whimsy around every corner.\n"
          ]
        }
      ]
    },
    {
      "cell_type": "code",
      "source": [
        "# prompt: Show image of html file with path -> /content/my_flow_plot.html\n",
        "\n",
        "from IPython.display import HTML\n",
        "\n",
        "HTML(filename='/content/my_flow_plot.html')\n"
      ],
      "metadata": {
        "colab": {
          "base_uri": "https://localhost:8080/",
          "height": 1000
        },
        "collapsed": true,
        "id": "VwpL7qY8ID-V",
        "outputId": "5205a957-bd63-4976-ffbd-1f8fa4cd2432"
      },
      "execution_count": 7,
      "outputs": [
        {
          "output_type": "execute_result",
          "data": {
            "text/plain": [
              "<IPython.core.display.HTML object>"
            ],
            "text/html": [
              "<!DOCTYPE html>\n",
              "<html>\n",
              "  <head>\n",
              "    <meta charset=\"utf-8\" />\n",
              "    <title>Flow Plot</title>\n",
              "    <script\n",
              "      src=\"https://cdnjs.cloudflare.com/ajax/libs/vis-network/9.1.2/dist/vis-network.min.js\"\n",
              "      integrity=\"sha512-LnvoEWDFrqGHlHmDD2101OrLcbsfkrzoSpvtSQtxK3RMnRV0eOkhhBN2dXHKRrUU8p2DGRTk35n4O8nWSVe1mQ==\"\n",
              "      crossorigin=\"anonymous\"\n",
              "      referrerpolicy=\"no-referrer\"\n",
              "    ></script>\n",
              "    <link\n",
              "      rel=\"stylesheet\"\n",
              "      href=\"https://cdnjs.cloudflare.com/ajax/libs/vis-network/9.1.2/dist/dist/vis-network.min.css\"\n",
              "      integrity=\"sha512-WgxfT5LWjfszlPHXRmBWHkV2eceiWTOBvrKCNbdgDYTHrT2AeLCGbF4sZlZw3UMN3WtL0tGUoIAKsu8mllg/XA==\"\n",
              "      crossorigin=\"anonymous\"\n",
              "      referrerpolicy=\"no-referrer\"\n",
              "    />\n",
              "    <style type=\"text/css\">\n",
              "      body {\n",
              "        font-family: verdana;\n",
              "        margin: 0;\n",
              "        padding: 0;\n",
              "      }\n",
              "      .container {\n",
              "        display: flex;\n",
              "        flex-direction: column;\n",
              "        height: 100vh;\n",
              "      }\n",
              "      #mynetwork {\n",
              "        flex-grow: 1;\n",
              "        width: 100%;\n",
              "        height: 750px;\n",
              "        background-color: #ffffff;\n",
              "      }\n",
              "      .card {\n",
              "        border: none;\n",
              "      }\n",
              "      .legend-container {\n",
              "        display: flex;\n",
              "        align-items: center;\n",
              "        justify-content: center;\n",
              "        padding: 10px;\n",
              "        background-color: #f8f9fa;\n",
              "        position: fixed; /* Make the legend fixed */\n",
              "        bottom: 0; /* Position it at the bottom */\n",
              "        width: 100%; /* Make it span the full width */\n",
              "      }\n",
              "      .legend-item {\n",
              "        display: flex;\n",
              "        align-items: center;\n",
              "        margin-right: 20px;\n",
              "      }\n",
              "      .legend-color-box {\n",
              "        width: 20px;\n",
              "        height: 20px;\n",
              "        margin-right: 5px;\n",
              "      }\n",
              "      .logo {\n",
              "        height: 50px;\n",
              "        margin-right: 20px;\n",
              "      }\n",
              "      .legend-dashed {\n",
              "        border-bottom: 2px dashed #666666;\n",
              "        width: 20px;\n",
              "        height: 0;\n",
              "        margin-right: 5px;\n",
              "      }\n",
              "      .legend-solid {\n",
              "        border-bottom: 2px solid #666666;\n",
              "        width: 20px;\n",
              "        height: 0;\n",
              "        margin-right: 5px;\n",
              "      }\n",
              "    </style>\n",
              "  </head>\n",
              "  <body>\n",
              "    <div class=\"container\">\n",
              "      <div class=\"card\" style=\"width: 100%\">\n",
              "        <div id=\"mynetwork\" class=\"card-body\"></div>\n",
              "      </div>\n",
              "      <div class=\"legend-container\">\n",
              "        <img\n",
              "          src=\"data:image/svg+xml;base64,PHN2ZyB3aWR0aD0iMTU2IiBoZWlnaHQ9IjUyIiB2aWV3Qm94PSIwIDAgMTU2IDUyIiBmaWxsPSJub25lIiB4bWxucz0iaHR0cDovL3d3dy53My5vcmcvMjAwMC9zdmciPgo8bWFzayBpZD0icGF0aC0xLW91dHNpZGUtMV83XzIzNTkiIG1hc2tVbml0cz0idXNlclNwYWNlT25Vc2UiIHg9IjEiIHk9IjIiIHdpZHRoPSIxNTUiIGhlaWdodD0iNDkiIGZpbGw9ImJsYWNrIj4KPHJlY3QgZmlsbD0id2hpdGUiIHg9IjEiIHk9IjIiIHdpZHRoPSIxNTUiIGhlaWdodD0iNDkiLz4KPHBhdGggZD0iTTE1Mi45MzkgMTIuMDM3NlYxMi4wNDU1QzE1Mi4yMjcgMTQuOTA0OCAxNTAuMTc5IDE2Ljk3NjEgMTQ4LjcwNiAxOC4yODNMMTQ4LjY3IDE4LjMxNDZDMTQ4LjQ0MSAxOC41MTQxIDE0OC4yIDE4LjcwMDUgMTQ3Ljk1IDE4Ljg3M0MxNDguMDU4IDE5LjA5NTQgMTQ4LjE1IDE5LjMyNTcgMTQ4LjIyMyAxOS41NjIxTDE0OC4yMzUgMTkuNjA1N0MxNDguNTE2IDIwLjU0NzcgMTQ4LjU4NyAyMS41Mzk5IDE0OC40NDUgMjIuNTEyNkMxNDguMTc3IDI0LjEzODUgMTQ3LjczNyAyNS43MzE1IDE0Ny4xMzQgMjcuMjY0OUMxNDYuODY4IDI4LjAwOTQgMTQ2LjYxNSAyOC43MTQ0IDE0Ni40MjEgMjkuNDA3NEMxNDUuODg2IDMxLjI2MDggMTQ1LjI3NiAzMy40NTQ4IDE0NC43ODUgMzUuNjk2NEMxNDQuNDM2IDM3LjMzMTEgMTQ0LjMxMyAzOS4wMDYyIDE0NC40MjEgNDAuNjc0NEMxNDQuNDg1IDQxLjQxMTQgMTQ0LjM1MyA0Mi4xNTIzIDE0NC4wMzggNDIuODIxNUMxNDMuNzIzIDQzLjQ5MDggMTQzLjIzNiA0NC4wNjQ1IDE0Mi42MjcgNDQuNDg0MkMxNDEuNDQ0IDQ1LjM5NzEgMTQwLjExOCA0Ni4xMDc3IDEzOC43MDIgNDYuNTg3MkMxMzYuMzcgNDcuMjk2MSAxMzQuNzQyIDQ2LjY3ODIgMTMzLjc4OCA0Ni4wMzI3QzEzMy42MzEgNDUuOTI3MiAxMzMuNDgyIDQ1LjgxMjEgMTMzLjM0IDQ1LjY4ODJDMTMyLjE2MSA0Ni40MjYxIDEzMC44NDMgNDYuOTExNiAxMjkuNDY3IDQ3LjExMzlDMTI4LjkxNyA0Ny4xOTU4IDEyOC4zNjMgNDcuMjM4MSAxMjcuODA3IDQ3LjI0MDZDMTI2LjcyOCA0Ny4yNzEzIDEyNS42NTUgNDcuMDczNCAxMjQuNjU4IDQ2LjY1OTdDMTIzLjY2IDQ2LjI0NjEgMTIyLjc2MiA0NS42MjYyIDEyMi4wMjEgNDQuODQwN0MxMjEuODI2IDQ0LjYzNTcgMTIxLjY0MyA0NC40MjAyIDEyMS40NzEgNDQuMTk1MUMxMjAuOTU0IDQ0LjU2NzggMTIwLjQxIDQ0LjkwMTQgMTE5Ljg0MyA0NS4xOTMxQzExOC4yNDYgNDYuMDM5MiAxMTYuNDIxIDQ2LjM1NTQgMTE0LjYzMiA0Ni4wOTYxQzExMy4xMjEgNDUuOTI5NyAxMTEuNjkyIDQ1LjMyODUgMTEwLjUxNyA0NC4zNjU0QzEwOS4xNjggNDMuMTY5IDEwOC4yODUgNDEuNTM1MyAxMDguMDIyIDM5Ljc1MTdDMTA3LjkzOCAzOS4zMDggMTA3Ljg4MSAzOC44NTk3IDEwNy44NTIgMzguNDA5MkMxMDcuMDU2IDM5LjU0NTggMTA2LjE5NiA0MC42MTExIDEwNS4zNjggNDEuNjEzQzEwMy44MzMgNDMuNTU1NiAxMDEuODg1IDQ1LjEzMjggOTkuNjY1NiA0Ni4yMzA3Qzk3LjM2MTggNDcuMzU1NiA5NC43MjE0IDQ3LjU4MTYgOTIuMjU5OSA0Ni44NjQ0QzkwLjkwMjQgNDYuNTI5IDg5LjYwNyA0NS45Nzk2IDg4LjQyMjQgNDUuMjM2N0M4Ny43OTM0IDQ0LjgyNzUgODcuMjI2NiA0NC4zMyA4Ni43MzkyIDQzLjc1OTVDODYuMjU2MSA0NC4yNTg1IDg1Ljc3MjkgNDQuNzE3OSA4NS4zMDk2IDQ1LjE2MTVDODUuMDI4NCA0NS40MzA4IDg0Ljc0MzMgNDUuNzAwMSA4NC40NjYgNDUuOTczM0M4NC4wMzMyIDQ2LjQwMTMgODMuNTE4OSA0Ni43MzgxIDgyLjk1MzcgNDYuOTY0QzgyLjM4ODQgNDcuMTg5OCA4MS43ODM2IDQ3LjMgODEuMTc1IDQ3LjI4ODFDODAuODUxMyA0Ny4yODc3IDgwLjUyODIgNDcuMjYxMiA4MC4yMDg3IDQ3LjIwODlDNzguODAwNiA0Ny4wMDAzIDc3LjQyNjMgNDYuNjA2MSA3Ni4xMjE3IDQ2LjAzNjdMNzYuMDgyMSA0Ni4wMTY5Qzc0Ljc2MiA0NS40Mjk1IDczLjYzMzkgNDQuNDgyNiA3Mi44MjY3IDQzLjI4NDNDNzEuNjAzOCA0NC4yODM5IDcwLjI1NjcgNDUuMTIxMiA2OC44MTg5IDQ1Ljc3NTNDNjcuMzkwOCA0Ni40NjU4IDY1Ljg1NCA0Ni45MDQgNjQuMjc2NSA0Ny4wNzAzQzYyLjg4OTUgNDcuMjI1MiA2MS40OTMyIDQ3LjI3OTUgNjAuMDk4NCA0Ny4yMzI3QzU3Ljc2MTIgNDcuMTQ3MiA1NS40OTE5IDQ2LjQyNDEgNTMuNTM2MiA0NS4xNDE3QzUxLjQ5MTggNDMuNzQ5OSA1MC4wMzI0IDQxLjY1MzIgNDkuNDM3MyAzOS4yNTI3QzQ5LjQyNTQgMzkuMjAxMiA0OS40MDk1IDM5LjE0OTcgNDkuMzk3NiAzOS4wOTgzQzQ4LjcyNTMgMzkuNDEwMiA0OC4wMTggMzkuNjQwMiA0Ny4yOTA4IDM5Ljc4MzRDNDUuMzk3NCA0MC4yMDAyIDQzLjQyNCA0MC4wNjEzIDQxLjYwNzggMzkuMzgzNEM0MC42NTI4IDM5LjAyMTIgMzkuODA1NSAzOC40MjI0IDM5LjE0NTMgMzcuNjQzMUMzOC40ODUyIDM2Ljg2MzggMzguMDMzOCAzNS45Mjk2IDM3LjgzMzYgMzQuOTI4MUMzNi4zNTI4IDM3LjA0NSAzNS4wMDM3IDM5LjI1MTEgMzMuNzk0MSA0MS41MzM4QzMzLjY2NzQgNDEuNzY3NSAzMy41NDA2IDQyLjA1MjYgMzMuNDAyIDQyLjM0OTdDMzMuMTMwMyA0Mi45NzI3IDMyLjgxODEgNDMuNTc3MiAzMi40Njc0IDQ0LjE1OTVDMzEuODY5IDQ1LjE1NTMgMzEuMDE3OCA0NS45NzUgMzAuMDAwMiA0Ni41MzU2QzI4Ljk4MjcgNDcuMDk2MiAyNy44MzUgNDcuMzc3NyAyNi42NzM1IDQ3LjM1MTVIMjYuNjUzN0MyNS40MTcxIDQ3LjM4NzMgMjQuMTkwNiA0Ny4xMTk0IDIzLjA4MTUgNDYuNTcxM0MyMi45NTQ4IDQ2LjUwNCAyMi44MzIgNDYuNDMyNyAyMi43MTMyIDQ2LjM1NzVDMjIuNTQyOSA0Ni40NDQ2IDIyLjM3MjYgNDYuNTI3OCAyMi4xOTQ0IDQ2LjYxMDlDMjAuNjAyNyA0Ny40MTM0IDE4Ljg4MzMgNDcuOTMyIDE3LjExMzMgNDguMTQzNkwxNi44MjgyIDQ4LjE3NTJDMTYuMDk1NiA0OC4yNDY1IDE1LjI5MTYgNDguMzI1NyAxNC40NDQxIDQ4LjMyNTdDMTQuMjAyNSA0OC4zMjU3IDEzLjk1NyA0OC4zMTc4IDEzLjcxMTUgNDguMzA1OUMxMS4yNzMyIDQ4LjIwMjYgOC45MzE0NSA0Ny4zMjQ0IDcuMDI2NDkgNDUuNzk5MUM1LjEwMjE3IDQ0LjIyNDIgMy43ODU5OSA0Mi4wMjg3IDMuMzAzODEgMzkuNTg5M0MyLjk1OTcyIDM3Ljk0IDIuOTA3NDUgMzYuMjQzIDMuMTQ5MzYgMzQuNTc1NkMzLjUwNDU2IDMyLjE0NjUgNC4yOTE4OSAyOS44MDA2IDUuNDc0MDUgMjcuNjQ5QzYuMzc0MzQgMjUuOTI5NyA3LjQ0Nzg3IDI0LjMwNjggOC42Nzc5MyAyMi44MDU2QzEwLjAxODMgMjEuMTcyNCAxMS42MDU4IDE5Ljc1ODYgMTMuMzgyOCAxOC42MTU2QzE0LjgyMiAxNy42NzczIDE2LjQzMTEgMTcuMDMwMSAxOC4xMTkzIDE2LjcxMDdDMjAuNDIwMiAxNi4yODMgMjIuNjMgMTYuODMzNSAyNC44OTE0IDE4LjM5NzhDMjYuMDYyMiAxOS4xOTg5IDI3LjA2OSAyMC4yMTY1IDI3Ljg1NzYgMjEuMzk1N0MyOS40MDIxIDE5LjIzNzQgMzEuMzM0OCAxNy45ODk5IDMzLjYwNCAxNy42OTY4QzM0Ljc0OTUgMTcuNTA5OSAzNS45MjQ4IDE3LjY3NTIgMzYuOTc0MyAxOC4xNzA5QzM4LjAyMzggMTguNjY2NyAzOC44OTc5IDE5LjQ2OTUgMzkuNDgxMSAyMC40NzNDNDAuMTMzNCAyMC4wMjUxIDQwLjgyMjMgMTkuNjMzIDQxLjU0MDQgMTkuMzAwOEM0My4wNDgzIDE4LjU1NzIgNDQuNzE1MyAxOC4xOTQyIDQ2LjM5NTcgMTguMjQzNEM0OC45ODk3IDE4LjM1ODIgNTAuOTYyIDE5LjIxNzYgNTIuNDE5MyAyMC44NzNDNTIuOTk4OSAyMS41MzMzIDUzLjQzOTQgMjIuMzAzOCA1My43MTQ0IDIzLjEzODNDNTQuMjk3NCAyMi40MzE0IDU0LjkzNTcgMjEuNzcxOSA1NS42MjMyIDIxLjE2NjFDNTcuNDU0MiAxOS40Njg5IDU5LjczMjYgMTguMzMxMSA2Mi4xODk0IDE3Ljg4NjlDNjMuMDkwMyAxNy43NTc3IDY0LjAwMjggMTcuNzI4NSA2NC45MTAxIDE3Ljc5OThDNjUuMTAwMiAxNy44MDc3IDY1LjI5NDMgMTcuODE1NiA2NS40ODQ0IDE3LjgxOTZDNjYuODU3NyAxNy44NzIxIDY4LjIwNjcgMTguMTk3OSA2OS40NTI2IDE4Ljc3OEM3MS4wMzQyIDE5LjQ1NzggNzIuMzc4MiAyMC41OTIyIDczLjMxMzkgMjIuMDM3M0M3My41MTE5IDIxLjcwODYgNzMuNzI1NyAyMS4zODM5IDczLjk1MTUgMjEuMDcxQzc1LjI5OCAxOS4yMDU3IDc2Ljk4NSAxOC4xMDQ3IDc4Ljk2NTIgMTcuNzk1OEM3OS44NDI2IDE3LjYzMDUgODAuNzQ0OCAxNy42NDgyIDgxLjYxNSAxNy44NDc5QzgyLjQ4NTMgMTguMDQ3NSA4My4zMDQ5IDE4LjQyNDkgODQuMDIyNSAxOC45NTYyQzg0Ljg2OTUgMTkuNjEyOSA4NS41MDc4IDIwLjUwMTIgODUuODU5OSAyMS41MTM1Qzg2LjIxMjEgMjIuNTI1NyA4Ni4yNjMxIDIzLjYxODQgODYuMDA2NiAyNC42NTlDODUuOTMxMyAyNS4wMTU1IDg1Ljg1MjEgMjUuMzc1OCA4NS43NzI5IDI1LjczMjNDODYuMDkzNyAyNS4wNDcxIDg2LjQyMjQgMjQuMzU0MSA4Ni43NjcgMjMuNjY5Qzg3LjgwNDYgMjEuNTc3OSA4OS4xNzQ4IDIwLjE0ODMgOTAuOTUzIDE5LjMwNDdDOTIuMDM4NyAxOC43NjM5IDkzLjI1MTMgMTguNTI5IDk0LjQ2MDQgMTguNjI1MkM5NS42Njk2IDE4LjcyMTUgOTYuODI5NyAxOS4xNDU0IDk3LjgxNjIgMTkuODUxMkM5OC43MTEyIDIwLjQ2MTEgOTkuODA4MiAyMS42NTMyIDk5Ljk1ODcgMjMuODcwOUMxMDAuMDA4IDI1LjIwOTYgOTkuODAyMyAyNi41NDU1IDk5LjM1MjggMjcuODA3NUM5OS4yNjU2IDI4LjA5MjYgOTkuMTc4NSAyOC4zODE3IDk5LjA4NzQgMjguNjcwOEw5OS4yNTM4IDI4LjI5MDZDOTkuNTkwNCAyNy41MjIzIDk5LjkzMSAyNi43NTQgMTAwLjI3NiAyNS45OTM2QzEwMS4zMjkgMjMuNjU3MSAxMDIuNDEgMjEuMjY5IDEwNS4yOTcgMTkuNDgyOUMxMDUuOTM2IDE5LjA2OTggMTA2LjYxOCAxOC43Mjk3IDEwNy4zMzMgMTguNDY5MUMxMDkuNTcgMTcuNzA4NyAxMTQuMTg4IDE3Ljg5NDkgMTE1LjgyIDIwLjg1NzFDMTE2LjY4OSAyMC4wNjI5IDExNy42NzEgMTkuNDAyMyAxMTguNzM0IDE4Ljg5NjhDMTIwLjE4MyAxOC4xNzgyIDEyMS43NzkgMTcuODA1NCAxMjMuMzk2IDE3LjgwNzdMMTIzLjU0NiAxNy44MTE3QzEyNC43ODEgMTcuNzc3NyAxMjYuMDE0IDE3LjkzMzkgMTI3LjIwMiAxOC4yNzVDMTI3Ljk2NSAxOC41MDk2IDEyOC42NzggMTguODg0MyAxMjkuMzA0IDE5LjM4QzEzMS4wNzkgMTguNzUwMyAxMzMuMzQgMTguNzg5OSAxMzUuMDA3IDIwLjEwMDdDMTM1LjMzNiAyMC4zNjM4IDEzNS42MjkgMjAuNjY4NyAxMzUuODc5IDIxLjAwNzZDMTM2LjM4NSAyMC4yMTAyIDEzNi45NiAxOS40NTg4IDEzNy41OTcgMTguNzYyMkMxMzguMzEyIDE3Ljk2NzQgMTM5LjE3NCAxNy4zMTkxIDE0MC4xMzYgMTYuODUzM0MxMzkuNzc3IDE1Ljk5OTUgMTM5LjUxIDE1LjExMDEgMTM5LjM0IDE0LjE5OTlDMTM5LjE1NiAxMy4zMzE5IDEzOS4wNSAxMi40NDkyIDEzOS4wMjMgMTEuNTYyM1YxMS40OTExQzEzOC45NzkgOS44MjY3IDEzOS40NzUgOC4xOTI4NSAxNDAuNDM3IDYuODMzNzVDMTQxLjAzIDUuOTg0ODEgMTQxLjgxNCA1LjI4NzAyIDE0Mi43MjYgNC43OTY1N0MxNDMuNjM4IDQuMzA2MTIgMTQ0LjY1MyA0LjAzNjcyIDE0NS42ODggNC4wMTAwN0MxNDcuMTU2IDMuOTM3NzQgMTQ4LjYxNyA0LjI1NjE1IDE0OS45MjIgNC45MzI4MkMxNTEuMTUgNS42MDUxMyAxNTIuMTE3IDYuNjcyMDUgMTUyLjY2NCA3Ljk2MTIxQzE1My4yMTIgOS4yNTAzOCAxNTMuMzA5IDEwLjY4NjUgMTUyLjkzOSAxMi4wMzc2WiIvPgo8L21hc2s+CjxwYXRoIGQ9Ik0xNTIuOTM5IDEyLjAzNzZWMTIuMDQ1NUMxNTIuMjI3IDE0LjkwNDggMTUwLjE3OSAxNi45NzYxIDE0OC43MDYgMTguMjgzTDE0OC42NyAxOC4zMTQ2QzE0OC40NDEgMTguNTE0MSAxNDguMiAxOC43MDA1IDE0Ny45NSAxOC44NzNDMTQ4LjA1OCAxOS4wOTU0IDE0OC4xNSAxOS4zMjU3IDE0OC4yMjMgMTkuNTYyMUwxNDguMjM1IDE5LjYwNTdDMTQ4LjUxNiAyMC41NDc3IDE0OC41ODcgMjEuNTM5OSAxNDguNDQ1IDIyLjUxMjZDMTQ4LjE3NyAyNC4xMzg1IDE0Ny43MzcgMjUuNzMxNSAxNDcuMTM0IDI3LjI2NDlDMTQ2Ljg2OCAyOC4wMDk0IDE0Ni42MTUgMjguNzE0NCAxNDYuNDIxIDI5LjQwNzRDMTQ1Ljg4NiAzMS4yNjA4IDE0NS4yNzYgMzMuNDU0OCAxNDQuNzg1IDM1LjY5NjRDMTQ0LjQzNiAzNy4zMzExIDE0NC4zMTMgMzkuMDA2MiAxNDQuNDIxIDQwLjY3NDRDMTQ0LjQ4NSA0MS40MTE0IDE0NC4zNTMgNDIuMTUyMyAxNDQuMDM4IDQyLjgyMTVDMTQzLjcyMyA0My40OTA4IDE0My4yMzYgNDQuMDY0NSAxNDIuNjI3IDQ0LjQ4NDJDMTQxLjQ0NCA0NS4zOTcxIDE0MC4xMTggNDYuMTA3NyAxMzguNzAyIDQ2LjU4NzJDMTM2LjM3IDQ3LjI5NjEgMTM0Ljc0MiA0Ni42NzgyIDEzMy43ODggNDYuMDMyN0MxMzMuNjMxIDQ1LjkyNzIgMTMzLjQ4MiA0NS44MTIxIDEzMy4zNCA0NS42ODgyQzEzMi4xNjEgNDYuNDI2MSAxMzAuODQzIDQ2LjkxMTYgMTI5LjQ2NyA0Ny4xMTM5QzEyOC45MTcgNDcuMTk1OCAxMjguMzYzIDQ3LjIzODEgMTI3LjgwNyA0Ny4yNDA2QzEyNi43MjggNDcuMjcxMyAxMjUuNjU1IDQ3LjA3MzQgMTI0LjY1OCA0Ni42NTk3QzEyMy42NiA0Ni4yNDYxIDEyMi43NjIgNDUuNjI2MiAxMjIuMDIxIDQ0Ljg0MDdDMTIxLjgyNiA0NC42MzU3IDEyMS42NDMgNDQuNDIwMiAxMjEuNDcxIDQ0LjE5NTFDMTIwLjk1NCA0NC41Njc4IDEyMC40MSA0NC45MDE0IDExOS44NDMgNDUuMTkzMUMxMTguMjQ2IDQ2LjAzOTIgMTE2LjQyMSA0Ni4zNTU0IDExNC42MzIgNDYuMDk2MUMxMTMuMTIxIDQ1LjkyOTcgMTExLjY5MiA0NS4zMjg1IDExMC41MTcgNDQuMzY1NEMxMDkuMTY4IDQzLjE2OSAxMDguMjg1IDQxLjUzNTMgMTA4LjAyMiAzOS43NTE3QzEwNy45MzggMzkuMzA4IDEwNy44ODEgMzguODU5NyAxMDcuODUyIDM4LjQwOTJDMTA3LjA1NiAzOS41NDU4IDEwNi4xOTYgNDAuNjExMSAxMDUuMzY4IDQxLjYxM0MxMDMuODMzIDQzLjU1NTYgMTAxLjg4NSA0NS4xMzI4IDk5LjY2NTYgNDYuMjMwN0M5Ny4zNjE4IDQ3LjM1NTYgOTQuNzIxNCA0Ny41ODE2IDkyLjI1OTkgNDYuODY0NEM5MC45MDI0IDQ2LjUyOSA4OS42MDcgNDUuOTc5NiA4OC40MjI0IDQ1LjIzNjdDODcuNzkzNCA0NC44Mjc1IDg3LjIyNjYgNDQuMzMgODYuNzM5MiA0My43NTk1Qzg2LjI1NjEgNDQuMjU4NSA4NS43NzI5IDQ0LjcxNzkgODUuMzA5NiA0NS4xNjE1Qzg1LjAyODQgNDUuNDMwOCA4NC43NDMzIDQ1LjcwMDEgODQuNDY2IDQ1Ljk3MzNDODQuMDMzMiA0Ni40MDEzIDgzLjUxODkgNDYuNzM4MSA4Mi45NTM3IDQ2Ljk2NEM4Mi4zODg0IDQ3LjE4OTggODEuNzgzNiA0Ny4zIDgxLjE3NSA0Ny4yODgxQzgwLjg1MTMgNDcuMjg3NyA4MC41MjgyIDQ3LjI2MTIgODAuMjA4NyA0Ny4yMDg5Qzc4LjgwMDYgNDcuMDAwMyA3Ny40MjYzIDQ2LjYwNjEgNzYuMTIxNyA0Ni4wMzY3TDc2LjA4MjEgNDYuMDE2OUM3NC43NjIgNDUuNDI5NSA3My42MzM5IDQ0LjQ4MjYgNzIuODI2NyA0My4yODQzQzcxLjYwMzggNDQuMjgzOSA3MC4yNTY3IDQ1LjEyMTIgNjguODE4OSA0NS43NzUzQzY3LjM5MDggNDYuNDY1OCA2NS44NTQgNDYuOTA0IDY0LjI3NjUgNDcuMDcwM0M2Mi44ODk1IDQ3LjIyNTIgNjEuNDkzMiA0Ny4yNzk1IDYwLjA5ODQgNDcuMjMyN0M1Ny43NjEyIDQ3LjE0NzIgNTUuNDkxOSA0Ni40MjQxIDUzLjUzNjIgNDUuMTQxN0M1MS40OTE4IDQzLjc0OTkgNTAuMDMyNCA0MS42NTMyIDQ5LjQzNzMgMzkuMjUyN0M0OS40MjU0IDM5LjIwMTIgNDkuNDA5NSAzOS4xNDk3IDQ5LjM5NzYgMzkuMDk4M0M0OC43MjUzIDM5LjQxMDIgNDguMDE4IDM5LjY0MDIgNDcuMjkwOCAzOS43ODM0QzQ1LjM5NzQgNDAuMjAwMiA0My40MjQgNDAuMDYxMyA0MS42MDc4IDM5LjM4MzRDNDAuNjUyOCAzOS4wMjEyIDM5LjgwNTUgMzguNDIyNCAzOS4xNDUzIDM3LjY0MzFDMzguNDg1MiAzNi44NjM4IDM4LjAzMzggMzUuOTI5NiAzNy44MzM2IDM0LjkyODFDMzYuMzUyOCAzNy4wNDUgMzUuMDAzNyAzOS4yNTExIDMzLjc5NDEgNDEuNTMzOEMzMy42Njc0IDQxLjc2NzUgMzMuNTQwNiA0Mi4wNTI2IDMzLjQwMiA0Mi4zNDk3QzMzLjEzMDMgNDIuOTcyNyAzMi44MTgxIDQzLjU3NzIgMzIuNDY3NCA0NC4xNTk1QzMxLjg2OSA0NS4xNTUzIDMxLjAxNzggNDUuOTc1IDMwLjAwMDIgNDYuNTM1NkMyOC45ODI3IDQ3LjA5NjIgMjcuODM1IDQ3LjM3NzcgMjYuNjczNSA0Ny4zNTE1SDI2LjY1MzdDMjUuNDE3MSA0Ny4zODczIDI0LjE5MDYgNDcuMTE5NCAyMy4wODE1IDQ2LjU3MTNDMjIuOTU0OCA0Ni41MDQgMjIuODMyIDQ2LjQzMjcgMjIuNzEzMiA0Ni4zNTc1QzIyLjU0MjkgNDYuNDQ0NiAyMi4zNzI2IDQ2LjUyNzggMjIuMTk0NCA0Ni42MTA5QzIwLjYwMjcgNDcuNDEzNCAxOC44ODMzIDQ3LjkzMiAxNy4xMTMzIDQ4LjE0MzZMMTYuODI4MiA0OC4xNzUyQzE2LjA5NTYgNDguMjQ2NSAxNS4yOTE2IDQ4LjMyNTcgMTQuNDQ0MSA0OC4zMjU3QzE0LjIwMjUgNDguMzI1NyAxMy45NTcgNDguMzE3OCAxMy43MTE1IDQ4LjMwNTlDMTEuMjczMiA0OC4yMDI2IDguOTMxNDUgNDcuMzI0NCA3LjAyNjQ5IDQ1Ljc5OTFDNS4xMDIxNyA0NC4yMjQyIDMuNzg1OTkgNDIuMDI4NyAzLjMwMzgxIDM5LjU4OTNDMi45NTk3MiAzNy45NCAyLjkwNzQ1IDM2LjI0MyAzLjE0OTM2IDM0LjU3NTZDMy41MDQ1NiAzMi4xNDY1IDQuMjkxODkgMjkuODAwNiA1LjQ3NDA1IDI3LjY0OUM2LjM3NDM0IDI1LjkyOTcgNy40NDc4NyAyNC4zMDY4IDguNjc3OTMgMjIuODA1NkMxMC4wMTgzIDIxLjE3MjQgMTEuNjA1OCAxOS43NTg2IDEzLjM4MjggMTguNjE1NkMxNC44MjIgMTcuNjc3MyAxNi40MzExIDE3LjAzMDEgMTguMTE5MyAxNi43MTA3QzIwLjQyMDIgMTYuMjgzIDIyLjYzIDE2LjgzMzUgMjQuODkxNCAxOC4zOTc4QzI2LjA2MjIgMTkuMTk4OSAyNy4wNjkgMjAuMjE2NSAyNy44NTc2IDIxLjM5NTdDMjkuNDAyMSAxOS4yMzc0IDMxLjMzNDggMTcuOTg5OSAzMy42MDQgMTcuNjk2OEMzNC43NDk1IDE3LjUwOTkgMzUuOTI0OCAxNy42NzUyIDM2Ljk3NDMgMTguMTcwOUMzOC4wMjM4IDE4LjY2NjcgMzguODk3OSAxOS40Njk1IDM5LjQ4MTEgMjAuNDczQzQwLjEzMzQgMjAuMDI1MSA0MC44MjIzIDE5LjYzMyA0MS41NDA0IDE5LjMwMDhDNDMuMDQ4MyAxOC41NTcyIDQ0LjcxNTMgMTguMTk0MiA0Ni4zOTU3IDE4LjI0MzRDNDguOTg5NyAxOC4zNTgyIDUwLjk2MiAxOS4yMTc2IDUyLjQxOTMgMjAuODczQzUyLjk5ODkgMjEuNTMzMyA1My40Mzk0IDIyLjMwMzggNTMuNzE0NCAyMy4xMzgzQzU0LjI5NzQgMjIuNDMxNCA1NC45MzU3IDIxLjc3MTkgNTUuNjIzMiAyMS4xNjYxQzU3LjQ1NDIgMTkuNDY4OSA1OS43MzI2IDE4LjMzMTEgNjIuMTg5NCAxNy44ODY5QzYzLjA5MDMgMTcuNzU3NyA2NC4wMDI4IDE3LjcyODUgNjQuOTEwMSAxNy43OTk4QzY1LjEwMDIgMTcuODA3NyA2NS4yOTQzIDE3LjgxNTYgNjUuNDg0NCAxNy44MTk2QzY2Ljg1NzcgMTcuODcyMSA2OC4yMDY3IDE4LjE5NzkgNjkuNDUyNiAxOC43NzhDNzEuMDM0MiAxOS40NTc4IDcyLjM3ODIgMjAuNTkyMiA3My4zMTM5IDIyLjAzNzNDNzMuNTExOSAyMS43MDg2IDczLjcyNTcgMjEuMzgzOSA3My45NTE1IDIxLjA3MUM3NS4yOTggMTkuMjA1NyA3Ni45ODUgMTguMTA0NyA3OC45NjUyIDE3Ljc5NThDNzkuODQyNiAxNy42MzA1IDgwLjc0NDggMTcuNjQ4MiA4MS42MTUgMTcuODQ3OUM4Mi40ODUzIDE4LjA0NzUgODMuMzA0OSAxOC40MjQ5IDg0LjAyMjUgMTguOTU2MkM4NC44Njk1IDE5LjYxMjkgODUuNTA3OCAyMC41MDEyIDg1Ljg1OTkgMjEuNTEzNUM4Ni4yMTIxIDIyLjUyNTcgODYuMjYzMSAyMy42MTg0IDg2LjAwNjYgMjQuNjU5Qzg1LjkzMTMgMjUuMDE1NSA4NS44NTIxIDI1LjM3NTggODUuNzcyOSAyNS43MzIzQzg2LjA5MzcgMjUuMDQ3MSA4Ni40MjI0IDI0LjM1NDEgODYuNzY3IDIzLjY2OUM4Ny44MDQ2IDIxLjU3NzkgODkuMTc0OCAyMC4xNDgzIDkwLjk1MyAxOS4zMDQ3QzkyLjAzODcgMTguNzYzOSA5My4yNTEzIDE4LjUyOSA5NC40NjA0IDE4LjYyNTJDOTUuNjY5NiAxOC43MjE1IDk2LjgyOTcgMTkuMTQ1NCA5Ny44MTYyIDE5Ljg1MTJDOTguNzExMiAyMC40NjExIDk5LjgwODIgMjEuNjUzMiA5OS45NTg3IDIzLjg3MDlDMTAwLjAwOCAyNS4yMDk2IDk5LjgwMjMgMjYuNTQ1NSA5OS4zNTI4IDI3LjgwNzVDOTkuMjY1NiAyOC4wOTI2IDk5LjE3ODUgMjguMzgxNyA5OS4wODc0IDI4LjY3MDhMOTkuMjUzOCAyOC4yOTA2Qzk5LjU5MDQgMjcuNTIyMyA5OS45MzEgMjYuNzU0IDEwMC4yNzYgMjUuOTkzNkMxMDEuMzI5IDIzLjY1NzEgMTAyLjQxIDIxLjI2OSAxMDUuMjk3IDE5LjQ4MjlDMTA1LjkzNiAxOS4wNjk4IDEwNi42MTggMTguNzI5NyAxMDcuMzMzIDE4LjQ2OTFDMTA5LjU3IDE3LjcwODcgMTE0LjE4OCAxNy44OTQ5IDExNS44MiAyMC44NTcxQzExNi42ODkgMjAuMDYyOSAxMTcuNjcxIDE5LjQwMjMgMTE4LjczNCAxOC44OTY4QzEyMC4xODMgMTguMTc4MiAxMjEuNzc5IDE3LjgwNTQgMTIzLjM5NiAxNy44MDc3TDEyMy41NDYgMTcuODExN0MxMjQuNzgxIDE3Ljc3NzcgMTI2LjAxNCAxNy45MzM5IDEyNy4yMDIgMTguMjc1QzEyNy45NjUgMTguNTA5NiAxMjguNjc4IDE4Ljg4NDMgMTI5LjMwNCAxOS4zOEMxMzEuMDc5IDE4Ljc1MDMgMTMzLjM0IDE4Ljc4OTkgMTM1LjAwNyAyMC4xMDA3QzEzNS4zMzYgMjAuMzYzOCAxMzUuNjI5IDIwLjY2ODcgMTM1Ljg3OSAyMS4wMDc2QzEzNi4zODUgMjAuMjEwMiAxMzYuOTYgMTkuNDU4OCAxMzcuNTk3IDE4Ljc2MjJDMTM4LjMxMiAxNy45Njc0IDEzOS4xNzQgMTcuMzE5MSAxNDAuMTM2IDE2Ljg1MzNDMTM5Ljc3NyAxNS45OTk1IDEzOS41MSAxNS4xMTAxIDEzOS4zNCAxNC4xOTk5QzEzOS4xNTYgMTMuMzMxOSAxMzkuMDUgMTIuNDQ5MiAxMzkuMDIzIDExLjU2MjNWMTEuNDkxMUMxMzguOTc5IDkuODI2NyAxMzkuNDc1IDguMTkyODUgMTQwLjQzNyA2LjgzMzc1QzE0MS4wMyA1Ljk4NDgxIDE0MS44MTQgNS4yODcwMiAxNDIuNzI2IDQuNzk2NTdDMTQzLjYzOCA0LjMwNjEyIDE0NC42NTMgNC4wMzY3MiAxNDUuNjg4IDQuMDEwMDdDMTQ3LjE1NiAzLjkzNzc0IDE0OC42MTcgNC4yNTYxNSAxNDkuOTIyIDQuOTMyODJDMTUxLjE1IDUuNjA1MTMgMTUyLjExNyA2LjY3MjA1IDE1Mi42NjQgNy45NjEyMUMxNTMuMjEyIDkuMjUwMzggMTUzLjMwOSAxMC42ODY1IDE1Mi45MzkgMTIuMDM3NloiIGZpbGw9IiMyNjI2MjYiLz4KPHBhdGggZD0iTTE1Mi45MzkgMTIuMDM3NlYxMi4wNDU1QzE1Mi4yMjcgMTQuOTA0OCAxNTAuMTc5IDE2Ljk3NjEgMTQ4LjcwNiAxOC4yODNMMTQ4LjY3IDE4LjMxNDZDMTQ4LjQ0MSAxOC41MTQxIDE0OC4yIDE4LjcwMDUgMTQ3Ljk1IDE4Ljg3M0MxNDguMDU4IDE5LjA5NTQgMTQ4LjE1IDE5LjMyNTcgMTQ4LjIyMyAxOS41NjIxTDE0OC4yMzUgMTkuNjA1N0MxNDguNTE2IDIwLjU0NzcgMTQ4LjU4NyAyMS41Mzk5IDE0OC40NDUgMjIuNTEyNkMxNDguMTc3IDI0LjEzODUgMTQ3LjczNyAyNS43MzE1IDE0Ny4xMzQgMjcuMjY0OUMxNDYuODY4IDI4LjAwOTQgMTQ2LjYxNSAyOC43MTQ0IDE0Ni40MjEgMjkuNDA3NEMxNDUuODg2IDMxLjI2MDggMTQ1LjI3NiAzMy40NTQ4IDE0NC43ODUgMzUuNjk2NEMxNDQuNDM2IDM3LjMzMTEgMTQ0LjMxMyAzOS4wMDYyIDE0NC40MjEgNDAuNjc0NEMxNDQuNDg1IDQxLjQxMTQgMTQ0LjM1MyA0Mi4xNTIzIDE0NC4wMzggNDIuODIxNUMxNDMuNzIzIDQzLjQ5MDggMTQzLjIzNiA0NC4wNjQ1IDE0Mi42MjcgNDQuNDg0MkMxNDEuNDQ0IDQ1LjM5NzEgMTQwLjExOCA0Ni4xMDc3IDEzOC43MDIgNDYuNTg3MkMxMzYuMzcgNDcuMjk2MSAxMzQuNzQyIDQ2LjY3ODIgMTMzLjc4OCA0Ni4wMzI3QzEzMy42MzEgNDUuOTI3MiAxMzMuNDgyIDQ1LjgxMjEgMTMzLjM0IDQ1LjY4ODJDMTMyLjE2MSA0Ni40MjYxIDEzMC44NDMgNDYuOTExNiAxMjkuNDY3IDQ3LjExMzlDMTI4LjkxNyA0Ny4xOTU4IDEyOC4zNjMgNDcuMjM4MSAxMjcuODA3IDQ3LjI0MDZDMTI2LjcyOCA0Ny4yNzEzIDEyNS42NTUgNDcuMDczNCAxMjQuNjU4IDQ2LjY1OTdDMTIzLjY2IDQ2LjI0NjEgMTIyLjc2MiA0NS42MjYyIDEyMi4wMjEgNDQuODQwN0MxMjEuODI2IDQ0LjYzNTcgMTIxLjY0MyA0NC40MjAyIDEyMS40NzEgNDQuMTk1MUMxMjAuOTU0IDQ0LjU2NzggMTIwLjQxIDQ0LjkwMTQgMTE5Ljg0MyA0NS4xOTMxQzExOC4yNDYgNDYuMDM5MiAxMTYuNDIxIDQ2LjM1NTQgMTE0LjYzMiA0Ni4wOTYxQzExMy4xMjEgNDUuOTI5NyAxMTEuNjkyIDQ1LjMyODUgMTEwLjUxNyA0NC4zNjU0QzEwOS4xNjggNDMuMTY5IDEwOC4yODUgNDEuNTM1MyAxMDguMDIyIDM5Ljc1MTdDMTA3LjkzOCAzOS4zMDggMTA3Ljg4MSAzOC44NTk3IDEwNy44NTIgMzguNDA5MkMxMDcuMDU2IDM5LjU0NTggMTA2LjE5NiA0MC42MTExIDEwNS4zNjggNDEuNjEzQzEwMy44MzMgNDMuNTU1NiAxMDEuODg1IDQ1LjEzMjggOTkuNjY1NiA0Ni4yMzA3Qzk3LjM2MTggNDcuMzU1NiA5NC43MjE0IDQ3LjU4MTYgOTIuMjU5OSA0Ni44NjQ0QzkwLjkwMjQgNDYuNTI5IDg5LjYwNyA0NS45Nzk2IDg4LjQyMjQgNDUuMjM2N0M4Ny43OTM0IDQ0LjgyNzUgODcuMjI2NiA0NC4zMyA4Ni43MzkyIDQzLjc1OTVDODYuMjU2MSA0NC4yNTg1IDg1Ljc3MjkgNDQuNzE3OSA4NS4zMDk2IDQ1LjE2MTVDODUuMDI4NCA0NS40MzA4IDg0Ljc0MzMgNDUuNzAwMSA4NC40NjYgNDUuOTczM0M4NC4wMzMyIDQ2LjQwMTMgODMuNTE4OSA0Ni43MzgxIDgyLjk1MzcgNDYuOTY0QzgyLjM4ODQgNDcuMTg5OCA4MS43ODM2IDQ3LjMgODEuMTc1IDQ3LjI4ODFDODAuODUxMyA0Ny4yODc3IDgwLjUyODIgNDcuMjYxMiA4MC4yMDg3IDQ3LjIwODlDNzguODAwNiA0Ny4wMDAzIDc3LjQyNjMgNDYuNjA2MSA3Ni4xMjE3IDQ2LjAzNjdMNzYuMDgyMSA0Ni4wMTY5Qzc0Ljc2MiA0NS40Mjk1IDczLjYzMzkgNDQuNDgyNiA3Mi44MjY3IDQzLjI4NDNDNzEuNjAzOCA0NC4yODM5IDcwLjI1NjcgNDUuMTIxMiA2OC44MTg5IDQ1Ljc3NTNDNjcuMzkwOCA0Ni40NjU4IDY1Ljg1NCA0Ni45MDQgNjQuMjc2NSA0Ny4wNzAzQzYyLjg4OTUgNDcuMjI1MiA2MS40OTMyIDQ3LjI3OTUgNjAuMDk4NCA0Ny4yMzI3QzU3Ljc2MTIgNDcuMTQ3MiA1NS40OTE5IDQ2LjQyNDEgNTMuNTM2MiA0NS4xNDE3QzUxLjQ5MTggNDMuNzQ5OSA1MC4wMzI0IDQxLjY1MzIgNDkuNDM3MyAzOS4yNTI3QzQ5LjQyNTQgMzkuMjAxMiA0OS40MDk1IDM5LjE0OTcgNDkuMzk3NiAzOS4wOTgzQzQ4LjcyNTMgMzkuNDEwMiA0OC4wMTggMzkuNjQwMiA0Ny4yOTA4IDM5Ljc4MzRDNDUuMzk3NCA0MC4yMDAyIDQzLjQyNCA0MC4wNjEzIDQxLjYwNzggMzkuMzgzNEM0MC42NTI4IDM5LjAyMTIgMzkuODA1NSAzOC40MjI0IDM5LjE0NTMgMzcuNjQzMUMzOC40ODUyIDM2Ljg2MzggMzguMDMzOCAzNS45Mjk2IDM3LjgzMzYgMzQuOTI4MUMzNi4zNTI4IDM3LjA0NSAzNS4wMDM3IDM5LjI1MTEgMzMuNzk0MSA0MS41MzM4QzMzLjY2NzQgNDEuNzY3NSAzMy41NDA2IDQyLjA1MjYgMzMuNDAyIDQyLjM0OTdDMzMuMTMwMyA0Mi45NzI3IDMyLjgxODEgNDMuNTc3MiAzMi40Njc0IDQ0LjE1OTVDMzEuODY5IDQ1LjE1NTMgMzEuMDE3OCA0NS45NzUgMzAuMDAwMiA0Ni41MzU2QzI4Ljk4MjcgNDcuMDk2MiAyNy44MzUgNDcuMzc3NyAyNi42NzM1IDQ3LjM1MTVIMjYuNjUzN0MyNS40MTcxIDQ3LjM4NzMgMjQuMTkwNiA0Ny4xMTk0IDIzLjA4MTUgNDYuNTcxM0MyMi45NTQ4IDQ2LjUwNCAyMi44MzIgNDYuNDMyNyAyMi43MTMyIDQ2LjM1NzVDMjIuNTQyOSA0Ni40NDQ2IDIyLjM3MjYgNDYuNTI3OCAyMi4xOTQ0IDQ2LjYxMDlDMjAuNjAyNyA0Ny40MTM0IDE4Ljg4MzMgNDcuOTMyIDE3LjExMzMgNDguMTQzNkwxNi44MjgyIDQ4LjE3NTJDMTYuMDk1NiA0OC4yNDY1IDE1LjI5MTYgNDguMzI1NyAxNC40NDQxIDQ4LjMyNTdDMTQuMjAyNSA0OC4zMjU3IDEzLjk1NyA0OC4zMTc4IDEzLjcxMTUgNDguMzA1OUMxMS4yNzMyIDQ4LjIwMjYgOC45MzE0NSA0Ny4zMjQ0IDcuMDI2NDkgNDUuNzk5MUM1LjEwMjE3IDQ0LjIyNDIgMy43ODU5OSA0Mi4wMjg3IDMuMzAzODEgMzkuNTg5M0MyLjk1OTcyIDM3Ljk0IDIuOTA3NDUgMzYuMjQzIDMuMTQ5MzYgMzQuNTc1NkMzLjUwNDU2IDMyLjE0NjUgNC4yOTE4OSAyOS44MDA2IDUuNDc0MDUgMjcuNjQ5QzYuMzc0MzQgMjUuOTI5NyA3LjQ0Nzg3IDI0LjMwNjggOC42Nzc5MyAyMi44MDU2QzEwLjAxODMgMjEuMTcyNCAxMS42MDU4IDE5Ljc1ODYgMTMuMzgyOCAxOC42MTU2QzE0LjgyMiAxNy42NzczIDE2LjQzMTEgMTcuMDMwMSAxOC4xMTkzIDE2LjcxMDdDMjAuNDIwMiAxNi4yODMgMjIuNjMgMTYuODMzNSAyNC44OTE0IDE4LjM5NzhDMjYuMDYyMiAxOS4xOTg5IDI3LjA2OSAyMC4yMTY1IDI3Ljg1NzYgMjEuMzk1N0MyOS40MDIxIDE5LjIzNzQgMzEuMzM0OCAxNy45ODk5IDMzLjYwNCAxNy42OTY4QzM0Ljc0OTUgMTcuNTA5OSAzNS45MjQ4IDE3LjY3NTIgMzYuOTc0MyAxOC4xNzA5QzM4LjAyMzggMTguNjY2NyAzOC44OTc5IDE5LjQ2OTUgMzkuNDgxMSAyMC40NzNDNDAuMTMzNCAyMC4wMjUxIDQwLjgyMjMgMTkuNjMzIDQxLjU0MDQgMTkuMzAwOEM0My4wNDgzIDE4LjU1NzIgNDQuNzE1MyAxOC4xOTQyIDQ2LjM5NTcgMTguMjQzNEM0OC45ODk3IDE4LjM1ODIgNTAuOTYyIDE5LjIxNzYgNTIuNDE5MyAyMC44NzNDNTIuOTk4OSAyMS41MzMzIDUzLjQzOTQgMjIuMzAzOCA1My43MTQ0IDIzLjEzODNDNTQuMjk3NCAyMi40MzE0IDU0LjkzNTcgMjEuNzcxOSA1NS42MjMyIDIxLjE2NjFDNTcuNDU0MiAxOS40Njg5IDU5LjczMjYgMTguMzMxMSA2Mi4xODk0IDE3Ljg4NjlDNjMuMDkwMyAxNy43NTc3IDY0LjAwMjggMTcuNzI4NSA2NC45MTAxIDE3Ljc5OThDNjUuMTAwMiAxNy44MDc3IDY1LjI5NDMgMTcuODE1NiA2NS40ODQ0IDE3LjgxOTZDNjYuODU3NyAxNy44NzIxIDY4LjIwNjcgMTguMTk3OSA2OS40NTI2IDE4Ljc3OEM3MS4wMzQyIDE5LjQ1NzggNzIuMzc4MiAyMC41OTIyIDczLjMxMzkgMjIuMDM3M0M3My41MTE5IDIxLjcwODYgNzMuNzI1NyAyMS4zODM5IDczLjk1MTUgMjEuMDcxQzc1LjI5OCAxOS4yMDU3IDc2Ljk4NSAxOC4xMDQ3IDc4Ljk2NTIgMTcuNzk1OEM3OS44NDI2IDE3LjYzMDUgODAuNzQ0OCAxNy42NDgyIDgxLjYxNSAxNy44NDc5QzgyLjQ4NTMgMTguMDQ3NSA4My4zMDQ5IDE4LjQyNDkgODQuMDIyNSAxOC45NTYyQzg0Ljg2OTUgMTkuNjEyOSA4NS41MDc4IDIwLjUwMTIgODUuODU5OSAyMS41MTM1Qzg2LjIxMjEgMjIuNTI1NyA4Ni4yNjMxIDIzLjYxODQgODYuMDA2NiAyNC42NTlDODUuOTMxMyAyNS4wMTU1IDg1Ljg1MjEgMjUuMzc1OCA4NS43NzI5IDI1LjczMjNDODYuMDkzNyAyNS4wNDcxIDg2LjQyMjQgMjQuMzU0MSA4Ni43NjcgMjMuNjY5Qzg3LjgwNDYgMjEuNTc3OSA4OS4xNzQ4IDIwLjE0ODMgOTAuOTUzIDE5LjMwNDdDOTIuMDM4NyAxOC43NjM5IDkzLjI1MTMgMTguNTI5IDk0LjQ2MDQgMTguNjI1MkM5NS42Njk2IDE4LjcyMTUgOTYuODI5NyAxOS4xNDU0IDk3LjgxNjIgMTkuODUxMkM5OC43MTEyIDIwLjQ2MTEgOTkuODA4MiAyMS42NTMyIDk5Ljk1ODcgMjMuODcwOUMxMDAuMDA4IDI1LjIwOTYgOTkuODAyMyAyNi41NDU1IDk5LjM1MjggMjcuODA3NUM5OS4yNjU2IDI4LjA5MjYgOTkuMTc4NSAyOC4zODE3IDk5LjA4NzQgMjguNjcwOEw5OS4yNTM4IDI4LjI5MDZDOTkuNTkwNCAyNy41MjIzIDk5LjkzMSAyNi43NTQgMTAwLjI3NiAyNS45OTM2QzEwMS4zMjkgMjMuNjU3MSAxMDIuNDEgMjEuMjY5IDEwNS4yOTcgMTkuNDgyOUMxMDUuOTM2IDE5LjA2OTggMTA2LjYxOCAxOC43Mjk3IDEwNy4zMzMgMTguNDY5MUMxMDkuNTcgMTcuNzA4NyAxMTQuMTg4IDE3Ljg5NDkgMTE1LjgyIDIwLjg1NzFDMTE2LjY4OSAyMC4wNjI5IDExNy42NzEgMTkuNDAyMyAxMTguNzM0IDE4Ljg5NjhDMTIwLjE4MyAxOC4xNzgyIDEyMS43NzkgMTcuODA1NCAxMjMuMzk2IDE3LjgwNzdMMTIzLjU0NiAxNy44MTE3QzEyNC43ODEgMTcuNzc3NyAxMjYuMDE0IDE3LjkzMzkgMTI3LjIwMiAxOC4yNzVDMTI3Ljk2NSAxOC41MDk2IDEyOC42NzggMTguODg0MyAxMjkuMzA0IDE5LjM4QzEzMS4wNzkgMTguNzUwMyAxMzMuMzQgMTguNzg5OSAxMzUuMDA3IDIwLjEwMDdDMTM1LjMzNiAyMC4zNjM4IDEzNS42MjkgMjAuNjY4NyAxMzUuODc5IDIxLjAwNzZDMTM2LjM4NSAyMC4yMTAyIDEzNi45NiAxOS40NTg4IDEzNy41OTcgMTguNzYyMkMxMzguMzEyIDE3Ljk2NzQgMTM5LjE3NCAxNy4zMTkxIDE0MC4xMzYgMTYuODUzM0MxMzkuNzc3IDE1Ljk5OTUgMTM5LjUxIDE1LjExMDEgMTM5LjM0IDE0LjE5OTlDMTM5LjE1NiAxMy4zMzE5IDEzOS4wNSAxMi40NDkyIDEzOS4wMjMgMTEuNTYyM1YxMS40OTExQzEzOC45NzkgOS44MjY3IDEzOS40NzUgOC4xOTI4NSAxNDAuNDM3IDYuODMzNzVDMTQxLjAzIDUuOTg0ODEgMTQxLjgxNCA1LjI4NzAyIDE0Mi43MjYgNC43OTY1N0MxNDMuNjM4IDQuMzA2MTIgMTQ0LjY1MyA0LjAzNjcyIDE0NS42ODggNC4wMTAwN0MxNDcuMTU2IDMuOTM3NzQgMTQ4LjYxNyA0LjI1NjE1IDE0OS45MjIgNC45MzI4MkMxNTEuMTUgNS42MDUxMyAxNTIuMTE3IDYuNjcyMDUgMTUyLjY2NCA3Ljk2MTIxQzE1My4yMTIgOS4yNTAzOCAxNTMuMzA5IDEwLjY4NjUgMTUyLjkzOSAxMi4wMzc2WiIgc3Ryb2tlPSJ3aGl0ZSIgc3Ryb2tlLXdpZHRoPSI0IiBtYXNrPSJ1cmwoI3BhdGgtMS1vdXRzaWRlLTFfN18yMzU5KSIvPgo8cGF0aCBkPSJNMTUwLjA1MSAxMS4zMjU1QzE0OS41NzYgMTMuMjMwNCAxNDguMTU4IDE0Ljc5NDcgMTQ2LjcyOCAxNi4wNjJDMTQ2LjIyIDE2LjQ5ODYgMTQ1LjY0OSAxNi44NTUyIDE0NS4wMzMgMTcuMTE5NEMxNDQuMjg5IDE3LjQ0ODEgMTQzLjc5IDE3LjIzODIgMTQzLjM0MiAxNi41Njg5QzE0Mi43ODggMTUuNjYyIDE0Mi40MTUgMTQuNjU1OSAxNDIuMjQ1IDEzLjYwNjZDMTQyLjA5NSAxMi45MDcxIDE0Mi4wMDggMTIuMTk1MiAxNDEuOTg4IDExLjQ4QzE0MS45NDggMTAuNDQ0MiAxNDIuMjQ3IDkuNDIzNjEgMTQyLjgzOSA4LjU3MzFDMTQzLjE2OSA4LjA5MDk5IDE0My42MDkgNy42OTQ4NSAxNDQuMTIzIDcuNDE3ODZDMTQ0LjYzNyA3LjE0MDg2IDE0NS4yMSA2Ljk5MTA4IDE0NS43OTQgNi45ODEwNkMxNDYuNzQzIDYuOTI3NzUgMTQ3LjY4OSA3LjEyODcyIDE0OC41MzQgNy41NjMyM0MxNDkuODkzIDguMjY4NTUgMTUwLjQwOCA5Ljg4NzkyIDE1MC4wNTEgMTEuMzI1NVoiIGZpbGw9IiNGRjVBNTAiLz4KPHBhdGggZD0iTTE0NS4zODcgMjAuNDU0MkMxNDUuMDc0IDE5LjQ2MDIgMTQ0LjE1OSAxOS4yODE5IDE0My4yNzYgMTkuMTk4OEMxNDEuODI3IDE5LjA2ODEgMTQwLjY5IDE5Ljc5NjggMTM5Ljc3NSAyMC43ODI5QzEzOS4wMjIgMjEuNjI2MSAxMzguMzY0IDIyLjU1MDYgMTM3LjgxNSAyMy41MzkzQzEzNi42NjYgMjUuNTI1MyAxMzUuOTY4IDI3LjcxODYgMTM1LjI5OSAyOS44OTYzQzEzNC44NjQgMzEuMzEyNSAxMzQuNDgyIDMyLjU1ODQgMTMzLjk0IDM0LjM5NkMxMzMuNjE5IDM1LjQ4MzEgMTMzLjI1NyAzNy4xNTk5IDEzMi4yNSAzOC4wMDY2QzEzMS45OTkgMzguMjM4NyAxMzEuNjcgMzguMzY5OSAxMzEuMzI4IDM4LjM3NDlDMTMwLjkwOCAzOC4zMTU1IDEzMC43NTcgMzcuODcxOSAxMzAuNzM4IDM3LjQ2MDFDMTMwLjcxNCAzNy4wMDQ2IDEzMC43MTQgMzYuNTQ5MiAxMzAuNzM0IDM2LjA5MzhDMTMwLjg0OSAzNC42OTc4IDEzMS4xNDEgMzMuMzIxOSAxMzEuNjAxIDMxLjk5ODhDMTMyLjI3NCAyOS44MjA3IDEzMi45OTkgMjcuNjU4NCAxMzMuNjUyIDI1LjQ3MjNDMTMzLjkzMSAyNC43MTc3IDEzMy45NDQgMjMuODkwNCAxMzMuNjg4IDIzLjEyNzhDMTMzLjU3NyAyMi44NTg2IDEzMy40IDIyLjYyMTYgMTMzLjE3MyAyMi40Mzg3QzEzMi4yNjYgMjEuNzI1OCAxMzAuNjIzIDIxLjg0NDYgMTI5LjYyOSAyMi41MDZDMTI5LjMgMjIuNzMxOCAxMjguOTc1IDIyLjk2NTQgMTI4LjYzMSAyMy4yMDNDMTI4LjU1NSAyMy4wODAzIDEyOC40OTYgMjIuOTkzMSAxMjguNDQxIDIyLjg5ODFDMTI4LjIyIDIyLjQ3MTkgMTI3LjkxNyAyMi4wOTM3IDEyNy41NSAyMS43ODU3QzEyNy4xODIgMjEuNDc3NyAxMjYuNzU2IDIxLjI0NiAxMjYuMjk4IDIxLjEwNDFDMTI1LjMzOSAyMC44NTAxIDEyNC4zNDcgMjAuNzQwNyAxMjMuMzU2IDIwLjc3OTNDMTIyLjE5IDIwLjc4NTUgMTIxLjA0MiAyMS4wNjA2IDEyMC4wMDEgMjEuNTgzM0MxMTguMzY1IDIyLjQxMTMgMTE2Ljk3MSAyMy42NTA1IDExNS45NTggMjUuMTc5MkMxMTQuODM1IDI2LjcxMTUgMTEzLjgzNiAyOC4zMzExIDExMi45NzIgMzAuMDIyNkMxMTIuMDczIDMxLjcyNDIgMTExLjQxOCAzMy41NDQxIDExMS4wMjcgMzUuNDI4NEMxMTAuODk1IDM2LjExODQgMTEwLjgxNSAzNi44MTc0IDExMC43OSAzNy41MTk1QzExMC43ODMgMzguMDg4MyAxMTAuODM1IDM4LjY1NjIgMTEwLjk0NCAzOS4yMTQ1QzExMS4wODYgNDAuMzI0NyAxMTEuNjE2IDQxLjM0ODggMTEyLjQ0MSA0Mi4xMDU1QzExMy4xOTMgNDIuNzAyNyAxMTQuMTAzIDQzLjA2ODcgMTE1LjA1OSA0My4xNTg5QzExNi4yMjggNDMuMzMwMyAxMTcuNDIyIDQzLjEyMjEgMTE4LjQ2NSA0Mi41NjQ5QzExOS41OTYgNDEuOTY5OCAxMjAuNjEzIDQxLjE4MDIgMTIxLjQ3IDQwLjIzMjNDMTIxLjgzMSAzOS44NDQyIDEyMi4yMTEgMzkuNDcxOSAxMjIuNjIzIDM5LjA0NDJDMTIyLjY3IDM5LjI5MzcgMTIyLjcwNiAzOS40NTIxIDEyMi43MyAzOS42MTA1QzEyMi44NzggNDAuNzk1IDEyMy4zODIgNDEuOTA2NyAxMjQuMTc1IDQyLjc5ODVDMTI1LjUxNCA0NC4yMDg0IDEyNy4yMjkgNDQuNDQyMSAxMjkuMDM1IDQ0LjE3NjdDMTMwLjAyOCA0NC4wMjkxIDEzMC45NzkgNDMuNjcyOSAxMzEuODI1IDQzLjEzMTZDMTMyLjI2NyA0Mi44NTA0IDEzMy41NjMgNDEuMzMwOSAxMzQuMDY5IDQxLjcyNTNDMTM0LjY5IDQyLjIwOTMgMTM0Ljc1MyA0My4xMDM5IDEzNS40NDggNDMuNTcyQzEzNS44MDggNDMuNzc3IDEzNi4yMSA0My44OTkyIDEzNi42MjMgNDMuOTI5N0MxMzcuMDM3IDQzLjk2MDMgMTM3LjQ1MiA0My44OTg0IDEzNy44MzkgNDMuNzQ4NkMxMzguOTQ0IDQzLjM1NDkgMTM5Ljk3OSA0Mi43ODY3IDE0MC45MDQgNDIuMDY1NUMxNDEuMTA1IDQxLjkzMzcgMTQxLjI2NCA0MS43NDY3IDE0MS4zNjIgNDEuNTI2OEMxNDEuNDYgNDEuMzA3IDE0MS40OTIgNDEuMDYzNiAxNDEuNDU0IDQwLjgyNTlDMTQxLjMzNyAzOC44OTM0IDE0MS40OCAzNi45NTM3IDE0MS44ODIgMzUuMDU5N0MxNDIuMzYxIDMyLjg4NTUgMTQyLjk0OCAzMC43MzUxIDE0My41NjEgMjguNTk2NUMxNDQuMTc5IDI2LjQxODQgMTQ1LjE5NyAyNC4zNTUxIDE0NS41MDYgMjIuMDg1OEMxNDUuNTg1IDIxLjUzOTggMTQ1LjU0NSAyMC45ODI5IDE0NS4zODcgMjAuNDU0MlpNMTI1LjQwNyAyNy4yOThDMTI0Ljc3OCAyOS45NTI2IDEyMy41NDkgMzIuNDI3NyAxMjEuODE1IDM0LjUzMzRDMTIxLjIxMiAzNS4zMzU3IDEyMC40ODUgMzYuMDM2MyAxMTkuNjYxIDM2LjYwODZDMTE5LjE3MyAzNi45MzM0IDExOC42OTggMzcuMDUyMiAxMTguNDI5IDM2LjQ1MDJDMTE4LjM1NSAzNi4yODQ0IDExOC4zMDggMzYuMTA4IDExOC4yOSAzNS45Mjc0QzExOC4xODMgMzQuODkzOCAxMTguNjk0IDMzLjgxNjYgMTE5LjA0NyAzMi44NzQxQzExOS40MzUgMzEuODEyNyAxMTkuODY5IDMwLjc3MzggMTIwLjM1IDI5Ljc1NzNDMTIxLjA0MyAyOC4yODggMTIxLjg1NSAyNi44NzgyIDEyMy4xMjIgMjUuODIwOEMxMjMuNTM2IDI1LjUwOCAxMjMuOTk4IDI1LjI2MjIgMTI0LjQ4OCAyNS4wOTIxQzEyNC44MjUgMjQuOTU3NCAxMjUuMjIxIDI1LjI1ODQgMTI1LjM3NSAyNS42MzA3QzEyNS41NiAyNi4xNjk1IDEyNS41NzEgMjYuNzUyNSAxMjUuNDA3IDI3LjI5OFoiIGZpbGw9IiNGRjVBNTAiLz4KPHBhdGggZD0iTTUxLjExNzcgMzIuNzk5NUM1MC40MTI3IDM0Ljk4OTUgNDkuMDA2OCAzNi40MTEzIDQ2LjcwMTkgMzYuODc0NkM0NS4zNjExIDM3LjE3OTcgNDMuOTYwNiAzNy4wODg5IDQyLjY3MDQgMzYuNjEzMkM0Mi4wOTI5IDM2LjM5MjQgNDEuNTk0MSAzNi4wMDUgNDEuMjM3MyAzNS41MDAxQzQwLjg4MDUgMzQuOTk1MiA0MC42ODE4IDM0LjM5NTcgNDAuNjY2NSAzMy43Nzc3QzQwLjU3MTQgMzIuMTI2MiA0MS4yMzI4IDMwLjcwMDUgNDIuMDAxMSAyOS4zMDY1QzQyLjMyMTkgMjguNzI4MyA0Mi42NTQ1IDI4LjE1NDEgNDIuOTE5OSAyNy41NDgxQzQzLjAzMzkgMjcuMjQ1MSA0My4wNzczIDI2LjkyIDQzLjA0NjYgMjYuNTk3N0M0My4wMzA4IDI2LjQ5MDQgNDIuOTkwNyAyNi4zODgyIDQyLjkyOTQgMjYuMjk4N0M0Mi44NjgxIDI2LjIwOTMgNDIuNzg3MiAyNi4xMzUgNDIuNjkyOSAyNi4wODE2QzQyLjU5ODYgMjYuMDI4MSA0Mi40OTMzIDI1Ljk5NjkgNDIuMzg1MSAyNS45OTAyQzQyLjI3NjkgMjUuOTgzNiA0Mi4xNjg2IDI2LjAwMTcgNDIuMDY4NCAyNi4wNDMyQzQxLjQ5NzIgMjYuMzA4NSA0MC45NjQ0IDI2LjY0OTUgNDAuNDg0MyAyNy4wNTcxQzM4LjU1NTYgMjguODI3MyAzNy4wMDcyIDMwLjkxODMgMzUuNTE0MSAzMy4wNjA5QzMzLjkxNzYgMzUuMzI3NyAzMi40NjUzIDM3LjY5MjcgMzEuMTY1NyA0MC4xNDE5QzMwLjc0MiA0MC45NDk4IDMwLjQyNTEgNDEuODIxIDI5Ljk0NiA0Mi41ODkzQzI5LjYxMjIgNDMuMTU4MyAyOS4xMyA0My42MjU4IDI4LjU1MSA0My45NDE4QzI3Ljk3MiA0NC4yNTc4IDI3LjMxOCA0NC40MTA0IDI2LjY1ODkgNDQuMzgzM0MyNS44OTk4IDQ0LjQxNyAyNS4xNDM5IDQ0LjI2NDcgMjQuNDU3IDQzLjkzOThDMjMuOTI2MyA0My42NTMyIDIzLjUyMDEgNDMuMTgwOCAyMy4zMTY0IDQyLjYxMzFDMjIuNTI4MyA0My4wNTI3IDIxLjc0ODEgNDMuNTM5OCAyMC45MjQ0IDQzLjkyNzlDMTkuNjM5NiA0NC41ODE3IDE4LjI1MTYgNDUuMDA5MSAxNi44MjE1IDQ1LjE5MTJDMTUuODQ4OCA0NS4zMTgzIDE0Ljg2NzYgNDUuMzY4NyAxMy44ODcgNDUuMzQxN0MxMi4wNjkxIDQ1LjI3NjEgMTAuMzIwMSA0NC42MjkzIDguODk3IDQzLjQ5NjJDNy40OTYxNSA0Mi4zNDY2IDYuNTQzMTIgNDAuNzQxOSA2LjIwNCAzOC45NjE3QzUuOTMzNDcgMzcuNjQ2NSA1Ljg5NTkzIDM2LjI5NCA2LjA5MzEyIDM0Ljk2NThDNi40MDA5MyAzMi44ODU2IDcuMDc5NjcgMzAuODc3NiA4LjA5NzAyIDI5LjAzNzJDOC45MDQ5OCAyNy40OTQ5IDkuODY4MzcgMjYuMDM5MiAxMC45NzIyIDI0LjY5MjhDMTIuMTE3IDIzLjI5ODMgMTMuNDcxOCAyMi4wOTA1IDE0Ljk4NzkgMjEuMTEyN0MxNi4xMDc4IDIwLjM4NDUgMTcuMzU4OCAxOS44ODE0IDE4LjY3MSAxOS42MzE1QzIwLjM3IDE5LjMxNDcgMjEuODM1MyAxOS45MDA4IDIzLjE5NzYgMjAuODQzNEMyNC4xNDU2IDIxLjQ4NjEgMjQuOTQ2MSAyMi4zMjMxIDI1LjU0NjEgMjMuMjk4N0MyNi4wOTYyIDI0LjI5MzcgMjYuMjQyMyAyNS40NjIzIDI1Ljk1NCAyNi41NjJDMjUuNjU5OCAyNy43NjI4IDI1LjIyNzkgMjguOTI1NiAyNC42NjY5IDMwLjAyNzNDMjQuMTUyIDMxLjE2NzggMjMuNjQxMiAzMi4zMDg0IDIzLjExNDQgMzMuNDQ1QzIzLjAyNzQgMzMuNjkyMSAyMi44NDYgMzMuODk0NSAyMi42MDk5IDM0LjAwODFDMjIuMzczOSAzNC4xMjE3IDIyLjEwMjQgMzQuMTM3MSAyMS44NTUxIDM0LjA1MDlDMjEuMTIwOSAzMy44MTg1IDIwLjQ2MDUgMzMuMzk3OCAxOS45Mzk0IDMyLjgzMDlDMTkuNDE4MyAzMi4yNjM5IDE5LjA1NDcgMzEuNTcwNCAxOC44ODQ5IDMwLjgxOTNDMTguNzYxNCAyOS43NDMyIDE4LjkzNjggMjguNjUzOSAxOS4zOTE4IDI3LjY3MDlDMTkuODYzIDI2LjQ1NTEgMjAuNDA1NiAyNS4yNjcgMjAuOTI4NCAyNC4wNzVDMjAuOTc2NyAyMy45OTUgMjEuMDA4MiAyMy45MDYgMjEuMDIxIDIzLjgxMzVDMjEuMDMzNyAyMy43MjA5IDIxLjAyNzUgMjMuNjI2OCAyMS4wMDI3IDIzLjUzNjdDMjAuOTc3OSAyMy40NDY3IDIwLjkzNDkgMjMuMzYyNiAyMC44NzY1IDIzLjI4OTdDMjAuODE4MSAyMy4yMTY4IDIwLjc0NTUgMjMuMTU2NSAyMC42NjMgMjMuMTEyNkMyMC4wNjMgMjMuMjUyMSAxOS41MTkyIDIzLjU2OTYgMTkuMTAyNyAyNC4wMjM1QzE4LjM2NjEgMjQuNzUyMiAxNy42NjkgMjUuNTIwNSAxNy4wMDM3IDI2LjMxNjVDMTUuNjY0MSAyNy45ODk5IDE0LjUyMTQgMjkuODExNyAxMy41OTc5IDMxLjc0NkMxMy4wMTk3IDMyLjg1ODMgMTIuNjU5NCAzNC4wNzA3IDEyLjUzNjUgMzUuMzE4MkMxMi40MTQxIDM2LjI3NjcgMTIuNDQ0OSAzNy4yNDg1IDEyLjYyNzYgMzguMTk3NEMxMi43Mjc5IDM4LjgwMDUgMTMuMDMyNiAzOS4zNTA4IDEzLjQ5MDQgMzkuNzU2QzEzLjk0ODMgNDAuMTYxMiAxNC41MzE1IDQwLjM5NjcgMTUuMTQyNCA0MC40MjNDMTcuNDg1MiA0MC41NTM3IDE5LjgxMDYgMzkuOTUxNiAyMS43OTU3IDM4LjcwMDNDMjIuNTUyNiAzOC4xODE4IDIzLjI3OTcgMzcuNjIxMiAyMy45NzM4IDM3LjAyMTJDMjQuMTAwOSAzNi45MDEyIDI0LjE5NjIgMzYuNzUxNSAyNC4yNTExIDM2LjU4NTVDMjQuOTUyIDM0LjcxMjMgMjUuNjA5NCAzMi44MjMyIDI2LjM1NCAzMC45Njk4QzI2LjkwMDUgMjkuNTk1NiAyNy41NSAyOC4yNjEgMjguMTU5OSAyNi45MTQ1QzI4LjczNCAyNS41OTE5IDI5LjQzNyAyNC4zMjkgMzAuMjU4OCAyMy4xNDQzQzMxLjE4NTUgMjEuODQxNCAzMi4zNTM4IDIwLjg1NTIgMzMuOTgxNSAyMC42NDUzQzM1LjI5MjMgMjAuNDc1MSAzNi41MDAyIDIwLjkxNDYgMzcuMTI2IDIyLjM5NThDMzcuNjc2NCAyMy42OTg3IDM3LjM1OTYgMjQuOTUwMiAzNi45MzU5IDI2LjIwMTZDMzYuODI1IDI2LjUyMjQgMzYuNzE4MSAyNi44NDMyIDM2LjU3OTQgMjcuMjU1MUMzNy4zNDM4IDI2LjQyMzQgMzcuOTkzMyAyNS42MzE0IDM4LjcyNTkgMjQuOTM0M0MzOS45MDU2IDIzLjczOCA0MS4yNzYxIDIyLjc0NjMgNDIuNzgxMyAyMS45OTk4QzQzLjg1OTUgMjEuNDU5NiA0NS4wNTI3IDIxLjE4OTIgNDYuMjU4NCAyMS4yMTE3QzQ3Ljc1MTQgMjEuMjc5IDQ5LjE0NTQgMjEuNjU1MiA1MC4xOTEgMjIuODM5M0M1MC42NDYgMjMuMzc0MiA1MC45NDYgMjQuMDIzNCA1MS4wNTgzIDI0LjcxNjVDNTEuMzAzOCAyNi4wMDM2IDUwLjg3NjEgMjcuMTYgNTAuNDAwOSAyOC4zMTY0QzUwLjA0ODQgMjkuMTcxOSA0OS42ODggMzAuMDI3MyA0OS40MjI3IDMwLjkxMDRDNDkuMjA4OCAzMS42MjcyIDQ5LjU4OSAzMi4xMzQyIDUwLjM0OTQgMzIuMzI4MkM1MC41MTggMzIuMzcxOSA1MC42OTA0IDMyLjM5OTggNTAuODY0MiAzMi40MTE0QzUxLjE0NTQgMzIuNDIzMyA1MS4xODUgMzIuNTgxNyA1MS4xMTc3IDMyLjc5OTVaIiBmaWxsPSJ3aGl0ZSIvPgo8cGF0aCBkPSJNMTEzLjI3MSAyMi4zOTU2QzExMi42NDcgMjAuOTk2NCAxMDkuNTY1IDIwLjg0ODMgMTA4LjI5MyAyMS4yODE5QzEwNy43OSAyMS40NzAyIDEwNy4zMSAyMS43MTQ4IDEwNi44NjIgMjIuMDExQzEwNC43MzUgMjMuMzI2NiAxMDMuOTc5IDI1LjAxNjEgMTAyLjk4MSAyNy4yMjI4QzEwMS45OTEgMjkuNDAwOSAxMDEuMDggMzEuNjE4NyAxMDAuMDE5IDMzLjc2MTJDOTkuMzEzOSAzNS4xMzkyIDk4LjUxMTkgMzYuNDY1MyA5Ny42MTg4IDM3LjcyOTRDOTcuMTExMiAzOC41NTE3IDk2LjI5NzggMzkuMTM4NiA5NS4zNTc1IDM5LjM2MTFDOTQuNzk5MSAzOS40NzIgOTQuNTY5NCAzOS4yMjI1IDk0LjM3MTQgMzguNzM1M0M5NC4xODkxIDM4LjI4ODEgOTQuMDc4MiAzNy44MTUgOTQuMDQyNyAzNy4zMzM0QzkzLjk2MzIgMzUuOTUwMiA5NC4xNDE4IDM0LjU2NDIgOTQuNTY5NCAzMy4yNDY0Qzk1LjE5OTEgMzEuMTM1NSA5NS44NzYzIDI5LjA0MDUgOTYuNTEzOSAyNi45MzM3Qzk2Ljg1MDEgMjYuMDE4NiA5Ny4wMTM5IDI1LjA0OTEgOTYuOTk3MSAyNC4wNzQzQzk3LjAwMTMgMjMuNzM0MiA5Ni45MjY2IDIzLjM5NzYgOTYuNzc4OCAyMy4wOTEyQzk2LjYzMTEgMjIuNzg0NyA5Ni40MTQzIDIyLjUxNjcgOTYuMTQ1NiAyMi4zMDgxQzk1LjU4NTcgMjEuODk4OCA5NC45MjM2IDIxLjY1MjIgOTQuMjMyNCAyMS41OTU2QzkzLjU0MTMgMjEuNTM5IDkyLjg0NzkgMjEuNjc0NiA5Mi4yMjg5IDIxLjk4NzNDOTAuOTE0MSAyMi42MTMgOTAuMDU0NyAyMy43Mjk4IDg5LjQyNSAyNC45OTcxQzg4LjUzMzkgMjYuNzc5MiA4Ny43MyAyOC42MDQ5IDg2Ljg1ODcgMzAuMzk1Qzg2LjI2MDcgMzEuNjM0NSA4NS42MTUyIDMyLjg1NDMgODQuOTg5NSAzNC4wNzhDODQuMTk2NiAzNS43NjA3IDgzLjI0MyAzNy4zNjI4IDgyLjE0MiAzOC44NjIxQzgxLjk2NzggMzkuMDgzOSA4MS42NTg4IDM5LjM5MjggODEuNDYwOCAzOS4zNTcxQzgxLjIyMzIgMzkuMzIxNSA4MS4wMzMxIDM4Ljk2MTEgODAuODMxMSAzOC43MzUzQzgwLjc5NjYgMzguNjk0IDgwLjc3MjIgMzguNjQ1MiA4MC43NTk5IDM4LjU5MjhDODAuNDU3NyAzNy41MDE3IDgwLjQwNDkgMzYuMzU2NiA4MC42MDU0IDM1LjI0MjRDODAuODA3NCAzMy45ODMgODEuMDYwOCAzMi43Mjc2IDgxLjM0OTkgMzEuNDg0MUM4MS45MjAyIDI5LjAwMDkgODIuNTY5NyAyNi41MzM3IDgzLjEwNDQgMjQuMDM4N0M4My4yNDI4IDIzLjU0ODMgODMuMjMyMyAyMy4wMjc5IDgzLjA3NDQgMjIuNTQzNUM4Mi45MTY0IDIyLjA1OTEgODIuNjE4MSAyMS42MzI1IDgyLjIxNzIgMjEuMzE4QzgxLjgxNzggMjEuMDMyNCA4MS4zNjMzIDIwLjgzMjggODAuODgyOCAyMC43MzE5QzgwLjQwMjIgMjAuNjMxIDc5LjkwNTggMjAuNjMxIDc5LjQyNTIgMjAuNzMxOUM3OC4xMDY1IDIwLjkzNzggNzcuMTM2MiAyMS43Mzc4IDc2LjM2MzkgMjIuODA3MUM3NS40MTgyIDI0LjEyMjIgNzQuNzQ3NCAyNS42MTQ2IDc0LjM5MTcgMjcuMTk1MUM3NC4wODY4IDI4LjUwMiA3My44ODQ4IDI5LjgzMjYgNzMuNjY3IDMxLjE2MzNDNzMuNTY4IDMxLjc3NzEgNzMuNTY0IDMyLjQwMjggNzMuNDg4OCAzMy4wMjQ2QzczLjQ2NzMgMzMuMTk2NyA3My4zOTQxIDMzLjM1ODMgNzMuMjc4OSAzMy40ODhDNzIuNzUyMiAzNC4wMzg0IDcyLjIxNzUgMzQuNTc3IDcxLjY2NyAzNS4xMDM4QzcwLjYyNDYgMzYuMTA4OCA2OS40MyAzNi45NDI4IDY4LjEyNzMgMzcuNTc1QzY3LjI3ODcgMzguMDI5NiA2Ni4zNDIxIDM4LjI5NiA2NS4zODEyIDM4LjM1NjFDNjQuNDIwNCAzOC40MTYzIDYzLjQ1NzkgMzguMjY4NyA2Mi41NTkyIDM3LjkyMzVDNjEuOTc3OCAzNy43MDQgNjEuNDYxNCAzNy4zNDA5IDYxLjA1ODQgMzYuODY3OUM2MC42NTUzIDM2LjM5NDkgNjAuMzc4NyAzNS44Mjc1IDYwLjI1NDMgMzUuMjE4NkM2MS4wMjY1IDM1LjIxODYgNjEuNzcxMSAzNS4yMjY1IDYyLjUxNTYgMzUuMjE4NkM2NC4yNzc2IDM1LjE5OTIgNjYuMDA3NiAzNC43NDYzIDY3LjU1MzEgMzMuODk5OEM2OS4wMDk1IDMzLjE1ODIgNzAuMTkzNSAzMS45NzQyIDcwLjkzNTIgMzAuNTE3N0M3MS43NzQyIDI4Ljg5MjYgNzEuOTc2MiAyNy4wMTI4IDcxLjUwMTUgMjUuMjQ2NkM3MS4yOSAyNC40MTEgNzAuODg1NyAyMy42MzY2IDcwLjMyMTEgMjIuOTg1M0M2OS43NTY1IDIyLjMzNDEgNjkuMDQ3MiAyMS44MjQxIDY4LjI1MDEgMjEuNDk2MkM2Ny4zNTg2IDIxLjA3NDMgNjYuMzkxOSAyMC44MzQ2IDY1LjQwNjYgMjAuNzkxM0M2NC40OTk2IDIwLjcxMzMgNjMuNTg3MiAyMC43MjI1IDYyLjY4MTkgMjAuODE5QzYwLjc3NTUgMjEuMTczNyA1OS4wMSAyMi4wNjU0IDU3LjU5MyAyMy4zODkyQzU2LjA4NyAyNC43NDQ1IDU0Ljg0MjcgMjYuMzY0NyA1My45MjE4IDI4LjE2OTNDNTIuODU5NiAzMC4xNzE3IDUyLjIwMjggMzIuMzY0IDUxLjk4OTEgMzQuNjIwNkM1MS44NjI4IDM1LjkxMDggNTEuOTY4OCAzNy4yMTMyIDUyLjMwMiAzOC40NjZDNTIuNzEyMSA0MC4xODA1IDUzLjc0MzcgNDEuNjgyIDU1LjE5NyA0Mi42Nzk4QzU2LjcwNzcgNDMuNjYwNyA1OC40NTc5IDQ0LjIwOTggNjAuMjU4MiA0NC4yNjc5QzYxLjUxMzEgNDQuMzA1NCA2Mi43NjkgNDQuMjUzOCA2NC4wMTY1IDQ0LjExMzRDNjUuMjYwOCA0My45NzE2IDY2LjQ3MTYgNDMuNjE4IDY3LjU5NjYgNDMuMDY3OUM2OS40NDk5IDQyLjIyMDcgNzEuMTIwNSA0MS4wMjA4IDcyLjUxNTMgMzkuNTM1M0M3Mi45NTEgMzkuMDc5OSA3My4zNjY4IDM4LjYwMDcgNzMuNzM5MSAzOC4xODQ5Qzc0LjA5NTUgMzkuMDUyMiA3NC40MTYzIDM5Ljk1MTIgNzQuODI0MiA0MC44MDY2Qzc1LjMxNjQgNDEuOTE4NCA3Ni4yMDAyIDQyLjgxMDYgNzcuMzA3MyA0My4zMTM0Qzc4LjM3OTMgNDMuNzgxMSA3OS41MDg2IDQ0LjEwNDcgODAuNjY1NiA0NC4yNzU4QzgwLjk2NDIgNDQuMzUzNSA4MS4yNzczIDQ0LjM1NjIgODEuNTc3MiA0NC4yODM3QzgxLjg3NzEgNDQuMjExMSA4Mi4xNTQzIDQ0LjA2NTYgODIuMzg0NCA0My44NkM4My4xNDg3IDQzLjEwNzUgODMuOTQ0NyA0Mi4zODI4IDg0LjY4OTMgNDEuNjEwNUM4NS4xMDYgNDEuMTQ5MyA4NS40OTg2IDQwLjY2NjggODUuODY1NSA0MC4xNjVDODYuNDA4IDM5LjQ3MiA4Ni45NDI3IDM4Ljc2NyA4Ny41MDkgMzguMDMwNEM4Ny41NzI0IDM4LjM5MDggODcuNjE1OSAzOC42OTU3IDg3LjY4MzIgMzguOTk2N0M4OC4wMzU3IDQwLjUyOTQgODguNjg5MiA0MS44NiA5MC4wNTU1IDQyLjc1OUM5MC45ODMxIDQzLjMyODggOTEuOTk0OCA0My43NDg1IDkzLjA1MzQgNDQuMDAyNUM5NC44MjM3IDQ0LjUyNTUgOTYuNzI1NyA0NC4zNjU5IDk4LjM4NCA0My41NTVDMTAwLjIxMiA0Mi42NDA0IDEwMS44MTQgNDEuMzMyNiAxMDMuMDc3IDM5LjcyNTRDMTA0LjA5IDM4LjUzMiAxMDUuMDM1IDM3LjI4MjUgMTA1LjkwOSAzNS45ODI5QzEwNy4yMzUgMzMuOTQ3NCAxMDguNDg3IDMxLjg1MjQgMTA5LjY5OSAyOS43NDE1QzExMC4zMTUgMjguNjY3NSAxMTAuOTE1IDI3LjU4NCAxMTEuNTEgMjYuNDk4NEMxMTEuOTk3IDI1LjYxMjEgMTEzLjI5OSAyNC4wNDk0IDExMy4zNzggMjMuMDUzQzExMy4zOTkgMjIuODI4NCAxMTMuMzYyIDIyLjYwMjEgMTEzLjI3MSAyMi4zOTU2Wk02MC43ODQ5IDMwLjE1MzRDNjEuMTkzIDI5LjAzODEgNjEuODA4NCAyOC4wMTAyIDYyLjU5ODggMjcuMTIzOEM2My4wNzQ1IDI2LjUyODIgNjMuNzMyNiAyNi4xMDUyIDY0LjQ3MiAyNS45MTk4QzY0LjcxNzMgMjUuODc5NiA2NC45Njg4IDI1LjkwMiA2NS4yMDMxIDI1Ljk4NTFDNjUuNDM3MyAyNi4wNjgxIDY1LjY0NjggMjYuMjA5MSA2NS44MTIgMjYuMzk0OEM2NS45NzcyIDI2LjU4MDYgNjYuMDkyOCAyNi44MDUxIDY2LjE0NzkgMjcuMDQ3NUM2Ni4yMDMgMjcuMjg5OSA2Ni4xOTYgMjcuNTQyMyA2Ni4xMjc0IDI3Ljc4MTJDNjUuNTYxMSAzMC4xODkgNjMuOTY1MSAzMS41NTE0IDYxLjY0NDMgMzIuMTQ1NEM2MS4xMzc2IDMyLjIzMDYgNjAuNjI1NCAzMi4yNzk1IDYwLjExMTcgMzIuMjkyQzYwLjM1NzIgMzEuNDk5OSA2MC41NDczIDMwLjgxODcgNjAuNzg0OSAzMC4xNTM0WiIgZmlsbD0id2hpdGUiLz4KPC9zdmc+Cg==\"\n",
              "          alt=\"CrewAI logo\"\n",
              "          class=\"logo\"\n",
              "        />\n",
              "        \n",
              "            <div class=\"legend-item\">\n",
              "            <div class=\"legend-color-box\" style=\"background-color: #FF5A50; border-radius: 5px;\"></div>\n",
              "            <div>Start Method</div>\n",
              "            </div>\n",
              "            \n",
              "            <div class=\"legend-item\">\n",
              "            <div class=\"legend-color-box\" style=\"background-color: #333333; border-radius: 5px;\"></div>\n",
              "            <div>Method</div>\n",
              "            </div>\n",
              "            \n",
              "            <div class=\"legend-item\">\n",
              "            <div class=\"legend-color-box\" style=\"background-color: #FFFFFF; border: 2px solid #FF5A50; border-radius: 5px;\"></div>\n",
              "            <div>Crew Method</div>\n",
              "            </div>\n",
              "            \n",
              "            <div class=\"legend-item\">\n",
              "            <div class=\"legend-color-box\" style=\"background-color: #333333; border: 2px dashed #FF5A50; border-radius: 5px;\"></div>\n",
              "            <div>Router</div>\n",
              "            </div>\n",
              "            \n",
              "            <div class=\"legend-item\">\n",
              "            <div class=\"legend-solid\" style=\"border-bottom: 2px solid #666666; border-radius: 5px;\"></div>\n",
              "            <div>Trigger</div>\n",
              "            </div>\n",
              "            \n",
              "            <div class=\"legend-item\">\n",
              "            <div class=\"legend-dashed\" style=\"border-bottom: 2px dashed #666666; border-radius: 5px;\"></div>\n",
              "            <div>AND Trigger</div>\n",
              "            </div>\n",
              "            \n",
              "            <div class=\"legend-item\">\n",
              "            <div class=\"legend-dashed\" style=\"border-bottom: 2px dashed #FF5A50; border-radius: 5px;\"></div>\n",
              "            <div>Router Trigger</div>\n",
              "            </div>\n",
              "            \n",
              "      </div>\n",
              "    </div>\n",
              "    \n",
              "        <div class=\"card\" style=\"width: 100%\">\n",
              "            \n",
              "            \n",
              "            <div id=\"mynetwork\" class=\"card-body\"></div>\n",
              "        </div>\n",
              "\n",
              "        \n",
              "        \n",
              "\n",
              "        <script type=\"text/javascript\">\n",
              "\n",
              "              // initialize global variables.\n",
              "              var edges;\n",
              "              var nodes;\n",
              "              var allNodes;\n",
              "              var allEdges;\n",
              "              var nodeColors;\n",
              "              var originalNodes;\n",
              "              var network;\n",
              "              var container;\n",
              "              var options, data;\n",
              "              var filter = {\n",
              "                  item : '',\n",
              "                  property : '',\n",
              "                  value : []\n",
              "              };\n",
              "\n",
              "              \n",
              "\n",
              "              \n",
              "\n",
              "              // This method is responsible for drawing the graph, returns the drawn network\n",
              "              function drawGraph() {\n",
              "                  var container = document.getElementById('mynetwork');\n",
              "\n",
              "                  \n",
              "\n",
              "                  // parsing and collecting nodes and edges from the python\n",
              "                  nodes = new vis.DataSet([{\"color\": \"#FF5A50\", \"fixed\": true, \"font\": {\"color\": \"#FFFFFF\", \"multi\": \"html\"}, \"id\": \"generate_city\", \"label\": \"Generate City\", \"margin\": {\"bottom\": 8, \"left\": 10, \"right\": 10, \"top\": 10}, \"physics\": false, \"shape\": \"box\", \"x\": 0.0, \"y\": 0}, {\"color\": \"#333333\", \"fixed\": true, \"font\": {\"color\": \"#FFFFFF\", \"multi\": \"html\"}, \"id\": \"generate_fun_fact\", \"label\": \"Generate Fun Fact\", \"margin\": {\"bottom\": 8, \"left\": 10, \"right\": 10, \"top\": 10}, \"physics\": false, \"shape\": \"box\", \"x\": 0.0, \"y\": 150}]);\n",
              "                  edges = new vis.DataSet([{\"arrows\": \"to\", \"color\": \"#666666\", \"dashes\": false, \"from\": \"generate_city\", \"smooth\": {\"type\": \"continuous\"}, \"to\": \"generate_fun_fact\", \"width\": 2}]);\n",
              "\n",
              "                  nodeColors = {};\n",
              "                  allNodes = nodes.get({ returnType: \"Object\" });\n",
              "                  for (nodeId in allNodes) {\n",
              "                    nodeColors[nodeId] = allNodes[nodeId].color;\n",
              "                  }\n",
              "                  allEdges = edges.get({ returnType: \"Object\" });\n",
              "                  // adding nodes and edges to the graph\n",
              "                  data = {nodes: nodes, edges: edges};\n",
              "\n",
              "                  var options = {\"nodes\": {\"font\": {\"multi\": \"html\"}}, \"physics\": {\"enabled\": false}};\n",
              "\n",
              "                  \n",
              "\n",
              "\n",
              "                  \n",
              "\n",
              "                  network = new vis.Network(container, data, options);\n",
              "\n",
              "                  \n",
              "\n",
              "                  \n",
              "\n",
              "                  \n",
              "\n",
              "\n",
              "                  \n",
              "\n",
              "                  return network;\n",
              "\n",
              "              }\n",
              "              drawGraph();\n",
              "        </script>\n",
              "    \n",
              "  </body>\n",
              "</html>\n"
            ]
          },
          "metadata": {},
          "execution_count": 7
        }
      ]
    },
    {
      "cell_type": "code",
      "source": [
        "from crewai.flow.flow import Flow, listen, start\n",
        "\n",
        "class OutputExampleFlow(Flow):\n",
        "    @start()\n",
        "    def first_method(self):\n",
        "        return \"Output from first_method\"\n",
        "\n",
        "    @listen(first_method)\n",
        "    def second_method(self, first_output):\n",
        "        return f\"Second method received: {first_output}\"\n",
        "\n",
        "\n",
        "flow = OutputExampleFlow()\n",
        "final_output = flow.kickoff()\n",
        "\n",
        "flow.plot()\n",
        "\n",
        "print(\"---- Final Output ----\")\n",
        "print(final_output)"
      ],
      "metadata": {
        "colab": {
          "base_uri": "https://localhost:8080/",
          "height": 789
        },
        "id": "q1HYMj_xLeFt",
        "outputId": "0aaf087a-6622-4276-d304-7f923c0be76f"
      },
      "execution_count": 8,
      "outputs": [
        {
          "output_type": "display_data",
          "data": {
            "text/plain": [
              "\u001b[34m╭─\u001b[0m\u001b[34m───────────────────────────────────────────────\u001b[0m\u001b[34m Flow Execution \u001b[0m\u001b[34m────────────────────────────────────────────────\u001b[0m\u001b[34m─╮\u001b[0m\n",
              "\u001b[34m│\u001b[0m                                                                                                                 \u001b[34m│\u001b[0m\n",
              "\u001b[34m│\u001b[0m  \u001b[1;34mStarting Flow Execution\u001b[0m                                                                                        \u001b[34m│\u001b[0m\n",
              "\u001b[34m│\u001b[0m  \u001b[37mName: \u001b[0m\u001b[34mOutputExampleFlow\u001b[0m                                                                                        \u001b[34m│\u001b[0m\n",
              "\u001b[34m│\u001b[0m  \u001b[37mID: \u001b[0m\u001b[34m9a6d06ad-b9cd-4f92-ab12-f3cbbde6f7d9\u001b[0m                                                                       \u001b[34m│\u001b[0m\n",
              "\u001b[34m│\u001b[0m                                                                                                                 \u001b[34m│\u001b[0m\n",
              "\u001b[34m│\u001b[0m                                                                                                                 \u001b[34m│\u001b[0m\n",
              "\u001b[34m╰─────────────────────────────────────────────────────────────────────────────────────────────────────────────────╯\u001b[0m\n"
            ],
            "text/html": [
              "<pre style=\"white-space:pre;overflow-x:auto;line-height:normal;font-family:Menlo,'DejaVu Sans Mono',consolas,'Courier New',monospace\"><span style=\"color: #000080; text-decoration-color: #000080\">╭──────────────────────────────────────────────── Flow Execution ─────────────────────────────────────────────────╮</span>\n",
              "<span style=\"color: #000080; text-decoration-color: #000080\">│</span>                                                                                                                 <span style=\"color: #000080; text-decoration-color: #000080\">│</span>\n",
              "<span style=\"color: #000080; text-decoration-color: #000080\">│</span>  <span style=\"color: #000080; text-decoration-color: #000080; font-weight: bold\">Starting Flow Execution</span>                                                                                        <span style=\"color: #000080; text-decoration-color: #000080\">│</span>\n",
              "<span style=\"color: #000080; text-decoration-color: #000080\">│</span>  <span style=\"color: #c0c0c0; text-decoration-color: #c0c0c0\">Name: </span><span style=\"color: #000080; text-decoration-color: #000080\">OutputExampleFlow</span>                                                                                        <span style=\"color: #000080; text-decoration-color: #000080\">│</span>\n",
              "<span style=\"color: #000080; text-decoration-color: #000080\">│</span>  <span style=\"color: #c0c0c0; text-decoration-color: #c0c0c0\">ID: </span><span style=\"color: #000080; text-decoration-color: #000080\">9a6d06ad-b9cd-4f92-ab12-f3cbbde6f7d9</span>                                                                       <span style=\"color: #000080; text-decoration-color: #000080\">│</span>\n",
              "<span style=\"color: #000080; text-decoration-color: #000080\">│</span>                                                                                                                 <span style=\"color: #000080; text-decoration-color: #000080\">│</span>\n",
              "<span style=\"color: #000080; text-decoration-color: #000080\">│</span>                                                                                                                 <span style=\"color: #000080; text-decoration-color: #000080\">│</span>\n",
              "<span style=\"color: #000080; text-decoration-color: #000080\">╰─────────────────────────────────────────────────────────────────────────────────────────────────────────────────╯</span>\n",
              "</pre>\n"
            ]
          },
          "metadata": {}
        },
        {
          "output_type": "display_data",
          "data": {
            "text/plain": [
              "\n"
            ],
            "text/html": [
              "<pre style=\"white-space:pre;overflow-x:auto;line-height:normal;font-family:Menlo,'DejaVu Sans Mono',consolas,'Courier New',monospace\">\n",
              "</pre>\n"
            ]
          },
          "metadata": {}
        },
        {
          "output_type": "display_data",
          "data": {
            "text/plain": [
              "\u001b[1;34m🌊 Flow: \u001b[0m\u001b[34mOutputExampleFlow\u001b[0m\n",
              "\u001b[37m    ID: \u001b[0m\u001b[34m9a6d06ad-b9cd-4f92-ab12-f3cbbde6f7d9\u001b[0m\n",
              "└── \u001b[33m🧠 Starting Flow...\u001b[0m\n"
            ],
            "text/html": [
              "<pre style=\"white-space:pre;overflow-x:auto;line-height:normal;font-family:Menlo,'DejaVu Sans Mono',consolas,'Courier New',monospace\"><span style=\"color: #000080; text-decoration-color: #000080; font-weight: bold\">🌊 Flow: </span><span style=\"color: #000080; text-decoration-color: #000080\">OutputExampleFlow</span>\n",
              "<span style=\"color: #c0c0c0; text-decoration-color: #c0c0c0\">    ID: </span><span style=\"color: #000080; text-decoration-color: #000080\">9a6d06ad-b9cd-4f92-ab12-f3cbbde6f7d9</span>\n",
              "└── <span style=\"color: #808000; text-decoration-color: #808000\">🧠 Starting Flow...</span>\n",
              "</pre>\n"
            ]
          },
          "metadata": {}
        },
        {
          "output_type": "display_data",
          "data": {
            "text/plain": [
              "\n"
            ],
            "text/html": [
              "<pre style=\"white-space:pre;overflow-x:auto;line-height:normal;font-family:Menlo,'DejaVu Sans Mono',consolas,'Courier New',monospace\">\n",
              "</pre>\n"
            ]
          },
          "metadata": {}
        },
        {
          "output_type": "stream",
          "name": "stdout",
          "text": [
            "\u001b[1m\u001b[35m Flow started with ID: 9a6d06ad-b9cd-4f92-ab12-f3cbbde6f7d9\u001b[00m\n"
          ]
        },
        {
          "output_type": "display_data",
          "data": {
            "text/plain": [
              "\u001b[1;34m🌊 Flow: \u001b[0m\u001b[34mOutputExampleFlow\u001b[0m\n",
              "\u001b[37m    ID: \u001b[0m\u001b[34m9a6d06ad-b9cd-4f92-ab12-f3cbbde6f7d9\u001b[0m\n",
              "├── \u001b[33m🧠 Starting Flow...\u001b[0m\n",
              "└── \u001b[1;33m🔄 Running:\u001b[0m\u001b[1;33m first_method\u001b[0m\n"
            ],
            "text/html": [
              "<pre style=\"white-space:pre;overflow-x:auto;line-height:normal;font-family:Menlo,'DejaVu Sans Mono',consolas,'Courier New',monospace\"><span style=\"color: #000080; text-decoration-color: #000080; font-weight: bold\">🌊 Flow: </span><span style=\"color: #000080; text-decoration-color: #000080\">OutputExampleFlow</span>\n",
              "<span style=\"color: #c0c0c0; text-decoration-color: #c0c0c0\">    ID: </span><span style=\"color: #000080; text-decoration-color: #000080\">9a6d06ad-b9cd-4f92-ab12-f3cbbde6f7d9</span>\n",
              "├── <span style=\"color: #808000; text-decoration-color: #808000\">🧠 Starting Flow...</span>\n",
              "└── <span style=\"color: #808000; text-decoration-color: #808000; font-weight: bold\">🔄 Running: first_method</span>\n",
              "</pre>\n"
            ]
          },
          "metadata": {}
        },
        {
          "output_type": "display_data",
          "data": {
            "text/plain": [
              "\n"
            ],
            "text/html": [
              "<pre style=\"white-space:pre;overflow-x:auto;line-height:normal;font-family:Menlo,'DejaVu Sans Mono',consolas,'Courier New',monospace\">\n",
              "</pre>\n"
            ]
          },
          "metadata": {}
        },
        {
          "output_type": "display_data",
          "data": {
            "text/plain": [
              "\u001b[1;34m🌊 Flow: \u001b[0m\u001b[34mOutputExampleFlow\u001b[0m\n",
              "\u001b[37m    ID: \u001b[0m\u001b[34m9a6d06ad-b9cd-4f92-ab12-f3cbbde6f7d9\u001b[0m\n",
              "├── \u001b[37mFlow Method Step\u001b[0m\n",
              "└── \u001b[1;32m✅ Completed:\u001b[0m\u001b[1;32m first_method\u001b[0m\n"
            ],
            "text/html": [
              "<pre style=\"white-space:pre;overflow-x:auto;line-height:normal;font-family:Menlo,'DejaVu Sans Mono',consolas,'Courier New',monospace\"><span style=\"color: #000080; text-decoration-color: #000080; font-weight: bold\">🌊 Flow: </span><span style=\"color: #000080; text-decoration-color: #000080\">OutputExampleFlow</span>\n",
              "<span style=\"color: #c0c0c0; text-decoration-color: #c0c0c0\">    ID: </span><span style=\"color: #000080; text-decoration-color: #000080\">9a6d06ad-b9cd-4f92-ab12-f3cbbde6f7d9</span>\n",
              "├── <span style=\"color: #c0c0c0; text-decoration-color: #c0c0c0\">Flow Method Step</span>\n",
              "└── <span style=\"color: #008000; text-decoration-color: #008000; font-weight: bold\">✅ Completed: first_method</span>\n",
              "</pre>\n"
            ]
          },
          "metadata": {}
        },
        {
          "output_type": "display_data",
          "data": {
            "text/plain": [
              "\n"
            ],
            "text/html": [
              "<pre style=\"white-space:pre;overflow-x:auto;line-height:normal;font-family:Menlo,'DejaVu Sans Mono',consolas,'Courier New',monospace\">\n",
              "</pre>\n"
            ]
          },
          "metadata": {}
        },
        {
          "output_type": "display_data",
          "data": {
            "text/plain": [
              "\u001b[1;34m🌊 Flow: \u001b[0m\u001b[34mOutputExampleFlow\u001b[0m\n",
              "\u001b[37m    ID: \u001b[0m\u001b[34m9a6d06ad-b9cd-4f92-ab12-f3cbbde6f7d9\u001b[0m\n",
              "├── \u001b[37mFlow Method Step\u001b[0m\n",
              "├── \u001b[1;32m✅ Completed:\u001b[0m\u001b[1;32m first_method\u001b[0m\n",
              "└── \u001b[1;33m🔄 Running:\u001b[0m\u001b[1;33m second_method\u001b[0m\n"
            ],
            "text/html": [
              "<pre style=\"white-space:pre;overflow-x:auto;line-height:normal;font-family:Menlo,'DejaVu Sans Mono',consolas,'Courier New',monospace\"><span style=\"color: #000080; text-decoration-color: #000080; font-weight: bold\">🌊 Flow: </span><span style=\"color: #000080; text-decoration-color: #000080\">OutputExampleFlow</span>\n",
              "<span style=\"color: #c0c0c0; text-decoration-color: #c0c0c0\">    ID: </span><span style=\"color: #000080; text-decoration-color: #000080\">9a6d06ad-b9cd-4f92-ab12-f3cbbde6f7d9</span>\n",
              "├── <span style=\"color: #c0c0c0; text-decoration-color: #c0c0c0\">Flow Method Step</span>\n",
              "├── <span style=\"color: #008000; text-decoration-color: #008000; font-weight: bold\">✅ Completed: first_method</span>\n",
              "└── <span style=\"color: #808000; text-decoration-color: #808000; font-weight: bold\">🔄 Running: second_method</span>\n",
              "</pre>\n"
            ]
          },
          "metadata": {}
        },
        {
          "output_type": "display_data",
          "data": {
            "text/plain": [
              "\n"
            ],
            "text/html": [
              "<pre style=\"white-space:pre;overflow-x:auto;line-height:normal;font-family:Menlo,'DejaVu Sans Mono',consolas,'Courier New',monospace\">\n",
              "</pre>\n"
            ]
          },
          "metadata": {}
        },
        {
          "output_type": "display_data",
          "data": {
            "text/plain": [
              "\u001b[1;34m🌊 Flow: \u001b[0m\u001b[34mOutputExampleFlow\u001b[0m\n",
              "\u001b[37m    ID: \u001b[0m\u001b[34m9a6d06ad-b9cd-4f92-ab12-f3cbbde6f7d9\u001b[0m\n",
              "├── \u001b[37mFlow Method Step\u001b[0m\n",
              "├── \u001b[1;32m✅ Completed:\u001b[0m\u001b[1;32m first_method\u001b[0m\n",
              "└── \u001b[1;32m✅ Completed:\u001b[0m\u001b[1;32m second_method\u001b[0m\n"
            ],
            "text/html": [
              "<pre style=\"white-space:pre;overflow-x:auto;line-height:normal;font-family:Menlo,'DejaVu Sans Mono',consolas,'Courier New',monospace\"><span style=\"color: #000080; text-decoration-color: #000080; font-weight: bold\">🌊 Flow: </span><span style=\"color: #000080; text-decoration-color: #000080\">OutputExampleFlow</span>\n",
              "<span style=\"color: #c0c0c0; text-decoration-color: #c0c0c0\">    ID: </span><span style=\"color: #000080; text-decoration-color: #000080\">9a6d06ad-b9cd-4f92-ab12-f3cbbde6f7d9</span>\n",
              "├── <span style=\"color: #c0c0c0; text-decoration-color: #c0c0c0\">Flow Method Step</span>\n",
              "├── <span style=\"color: #008000; text-decoration-color: #008000; font-weight: bold\">✅ Completed: first_method</span>\n",
              "└── <span style=\"color: #008000; text-decoration-color: #008000; font-weight: bold\">✅ Completed: second_method</span>\n",
              "</pre>\n"
            ]
          },
          "metadata": {}
        },
        {
          "output_type": "display_data",
          "data": {
            "text/plain": [
              "\n"
            ],
            "text/html": [
              "<pre style=\"white-space:pre;overflow-x:auto;line-height:normal;font-family:Menlo,'DejaVu Sans Mono',consolas,'Courier New',monospace\">\n",
              "</pre>\n"
            ]
          },
          "metadata": {}
        },
        {
          "output_type": "display_data",
          "data": {
            "text/plain": [
              "\u001b[1;32m✅ Flow Finished: \u001b[0m\u001b[32mOutputExampleFlow\u001b[0m\n",
              "├── \u001b[37mFlow Method Step\u001b[0m\n",
              "├── \u001b[1;32m✅ Completed:\u001b[0m\u001b[1;32m first_method\u001b[0m\n",
              "└── \u001b[1;32m✅ Completed:\u001b[0m\u001b[1;32m second_method\u001b[0m\n"
            ],
            "text/html": [
              "<pre style=\"white-space:pre;overflow-x:auto;line-height:normal;font-family:Menlo,'DejaVu Sans Mono',consolas,'Courier New',monospace\"><span style=\"color: #008000; text-decoration-color: #008000; font-weight: bold\">✅ Flow Finished: </span><span style=\"color: #008000; text-decoration-color: #008000\">OutputExampleFlow</span>\n",
              "├── <span style=\"color: #c0c0c0; text-decoration-color: #c0c0c0\">Flow Method Step</span>\n",
              "├── <span style=\"color: #008000; text-decoration-color: #008000; font-weight: bold\">✅ Completed: first_method</span>\n",
              "└── <span style=\"color: #008000; text-decoration-color: #008000; font-weight: bold\">✅ Completed: second_method</span>\n",
              "</pre>\n"
            ]
          },
          "metadata": {}
        },
        {
          "output_type": "display_data",
          "data": {
            "text/plain": [
              "\u001b[32m╭─\u001b[0m\u001b[32m───────────────────────────────────────────────\u001b[0m\u001b[32m Flow Completion \u001b[0m\u001b[32m───────────────────────────────────────────────\u001b[0m\u001b[32m─╮\u001b[0m\n",
              "\u001b[32m│\u001b[0m                                                                                                                 \u001b[32m│\u001b[0m\n",
              "\u001b[32m│\u001b[0m  \u001b[1;32mFlow Execution Completed\u001b[0m                                                                                       \u001b[32m│\u001b[0m\n",
              "\u001b[32m│\u001b[0m  \u001b[37mName: \u001b[0m\u001b[32mOutputExampleFlow\u001b[0m                                                                                        \u001b[32m│\u001b[0m\n",
              "\u001b[32m│\u001b[0m  \u001b[37mID: \u001b[0m\u001b[32m9a6d06ad-b9cd-4f92-ab12-f3cbbde6f7d9\u001b[0m                                                                       \u001b[32m│\u001b[0m\n",
              "\u001b[32m│\u001b[0m                                                                                                                 \u001b[32m│\u001b[0m\n",
              "\u001b[32m│\u001b[0m                                                                                                                 \u001b[32m│\u001b[0m\n",
              "\u001b[32m╰─────────────────────────────────────────────────────────────────────────────────────────────────────────────────╯\u001b[0m\n"
            ],
            "text/html": [
              "<pre style=\"white-space:pre;overflow-x:auto;line-height:normal;font-family:Menlo,'DejaVu Sans Mono',consolas,'Courier New',monospace\"><span style=\"color: #008000; text-decoration-color: #008000\">╭──────────────────────────────────────────────── Flow Completion ────────────────────────────────────────────────╮</span>\n",
              "<span style=\"color: #008000; text-decoration-color: #008000\">│</span>                                                                                                                 <span style=\"color: #008000; text-decoration-color: #008000\">│</span>\n",
              "<span style=\"color: #008000; text-decoration-color: #008000\">│</span>  <span style=\"color: #008000; text-decoration-color: #008000; font-weight: bold\">Flow Execution Completed</span>                                                                                       <span style=\"color: #008000; text-decoration-color: #008000\">│</span>\n",
              "<span style=\"color: #008000; text-decoration-color: #008000\">│</span>  <span style=\"color: #c0c0c0; text-decoration-color: #c0c0c0\">Name: </span><span style=\"color: #008000; text-decoration-color: #008000\">OutputExampleFlow</span>                                                                                        <span style=\"color: #008000; text-decoration-color: #008000\">│</span>\n",
              "<span style=\"color: #008000; text-decoration-color: #008000\">│</span>  <span style=\"color: #c0c0c0; text-decoration-color: #c0c0c0\">ID: </span><span style=\"color: #008000; text-decoration-color: #008000\">9a6d06ad-b9cd-4f92-ab12-f3cbbde6f7d9</span>                                                                       <span style=\"color: #008000; text-decoration-color: #008000\">│</span>\n",
              "<span style=\"color: #008000; text-decoration-color: #008000\">│</span>                                                                                                                 <span style=\"color: #008000; text-decoration-color: #008000\">│</span>\n",
              "<span style=\"color: #008000; text-decoration-color: #008000\">│</span>                                                                                                                 <span style=\"color: #008000; text-decoration-color: #008000\">│</span>\n",
              "<span style=\"color: #008000; text-decoration-color: #008000\">╰─────────────────────────────────────────────────────────────────────────────────────────────────────────────────╯</span>\n",
              "</pre>\n"
            ]
          },
          "metadata": {}
        },
        {
          "output_type": "display_data",
          "data": {
            "text/plain": [
              "\n"
            ],
            "text/html": [
              "<pre style=\"white-space:pre;overflow-x:auto;line-height:normal;font-family:Menlo,'DejaVu Sans Mono',consolas,'Courier New',monospace\">\n",
              "</pre>\n"
            ]
          },
          "metadata": {}
        },
        {
          "output_type": "stream",
          "name": "stdout",
          "text": [
            "Plot saved as crewai_flow.html\n",
            "---- Final Output ----\n",
            "Second method received: Output from first_method\n"
          ]
        }
      ]
    },
    {
      "cell_type": "code",
      "source": [
        "# prompt: Show image of html file with path -> /content/my_flow_plot.html\n",
        "\n",
        "from IPython.display import HTML\n",
        "\n",
        "HTML(filename='/content/crewai_flow.html')\n"
      ],
      "metadata": {
        "colab": {
          "base_uri": "https://localhost:8080/",
          "height": 1000
        },
        "collapsed": true,
        "id": "U5jTbjf6LqPn",
        "outputId": "56776efb-e59d-42d9-fc74-0158003c02f3"
      },
      "execution_count": 9,
      "outputs": [
        {
          "output_type": "execute_result",
          "data": {
            "text/plain": [
              "<IPython.core.display.HTML object>"
            ],
            "text/html": [
              "<!DOCTYPE html>\n",
              "<html>\n",
              "  <head>\n",
              "    <meta charset=\"utf-8\" />\n",
              "    <title>Flow Plot</title>\n",
              "    <script\n",
              "      src=\"https://cdnjs.cloudflare.com/ajax/libs/vis-network/9.1.2/dist/vis-network.min.js\"\n",
              "      integrity=\"sha512-LnvoEWDFrqGHlHmDD2101OrLcbsfkrzoSpvtSQtxK3RMnRV0eOkhhBN2dXHKRrUU8p2DGRTk35n4O8nWSVe1mQ==\"\n",
              "      crossorigin=\"anonymous\"\n",
              "      referrerpolicy=\"no-referrer\"\n",
              "    ></script>\n",
              "    <link\n",
              "      rel=\"stylesheet\"\n",
              "      href=\"https://cdnjs.cloudflare.com/ajax/libs/vis-network/9.1.2/dist/dist/vis-network.min.css\"\n",
              "      integrity=\"sha512-WgxfT5LWjfszlPHXRmBWHkV2eceiWTOBvrKCNbdgDYTHrT2AeLCGbF4sZlZw3UMN3WtL0tGUoIAKsu8mllg/XA==\"\n",
              "      crossorigin=\"anonymous\"\n",
              "      referrerpolicy=\"no-referrer\"\n",
              "    />\n",
              "    <style type=\"text/css\">\n",
              "      body {\n",
              "        font-family: verdana;\n",
              "        margin: 0;\n",
              "        padding: 0;\n",
              "      }\n",
              "      .container {\n",
              "        display: flex;\n",
              "        flex-direction: column;\n",
              "        height: 100vh;\n",
              "      }\n",
              "      #mynetwork {\n",
              "        flex-grow: 1;\n",
              "        width: 100%;\n",
              "        height: 750px;\n",
              "        background-color: #ffffff;\n",
              "      }\n",
              "      .card {\n",
              "        border: none;\n",
              "      }\n",
              "      .legend-container {\n",
              "        display: flex;\n",
              "        align-items: center;\n",
              "        justify-content: center;\n",
              "        padding: 10px;\n",
              "        background-color: #f8f9fa;\n",
              "        position: fixed; /* Make the legend fixed */\n",
              "        bottom: 0; /* Position it at the bottom */\n",
              "        width: 100%; /* Make it span the full width */\n",
              "      }\n",
              "      .legend-item {\n",
              "        display: flex;\n",
              "        align-items: center;\n",
              "        margin-right: 20px;\n",
              "      }\n",
              "      .legend-color-box {\n",
              "        width: 20px;\n",
              "        height: 20px;\n",
              "        margin-right: 5px;\n",
              "      }\n",
              "      .logo {\n",
              "        height: 50px;\n",
              "        margin-right: 20px;\n",
              "      }\n",
              "      .legend-dashed {\n",
              "        border-bottom: 2px dashed #666666;\n",
              "        width: 20px;\n",
              "        height: 0;\n",
              "        margin-right: 5px;\n",
              "      }\n",
              "      .legend-solid {\n",
              "        border-bottom: 2px solid #666666;\n",
              "        width: 20px;\n",
              "        height: 0;\n",
              "        margin-right: 5px;\n",
              "      }\n",
              "    </style>\n",
              "  </head>\n",
              "  <body>\n",
              "    <div class=\"container\">\n",
              "      <div class=\"card\" style=\"width: 100%\">\n",
              "        <div id=\"mynetwork\" class=\"card-body\"></div>\n",
              "      </div>\n",
              "      <div class=\"legend-container\">\n",
              "        <img\n",
              "          src=\"data:image/svg+xml;base64,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\"\n",
              "          alt=\"CrewAI logo\"\n",
              "          class=\"logo\"\n",
              "        />\n",
              "        \n",
              "            <div class=\"legend-item\">\n",
              "            <div class=\"legend-color-box\" style=\"background-color: #FF5A50; border-radius: 5px;\"></div>\n",
              "            <div>Start Method</div>\n",
              "            </div>\n",
              "            \n",
              "            <div class=\"legend-item\">\n",
              "            <div class=\"legend-color-box\" style=\"background-color: #333333; border-radius: 5px;\"></div>\n",
              "            <div>Method</div>\n",
              "            </div>\n",
              "            \n",
              "            <div class=\"legend-item\">\n",
              "            <div class=\"legend-color-box\" style=\"background-color: #FFFFFF; border: 2px solid #FF5A50; border-radius: 5px;\"></div>\n",
              "            <div>Crew Method</div>\n",
              "            </div>\n",
              "            \n",
              "            <div class=\"legend-item\">\n",
              "            <div class=\"legend-color-box\" style=\"background-color: #333333; border: 2px dashed #FF5A50; border-radius: 5px;\"></div>\n",
              "            <div>Router</div>\n",
              "            </div>\n",
              "            \n",
              "            <div class=\"legend-item\">\n",
              "            <div class=\"legend-solid\" style=\"border-bottom: 2px solid #666666; border-radius: 5px;\"></div>\n",
              "            <div>Trigger</div>\n",
              "            </div>\n",
              "            \n",
              "            <div class=\"legend-item\">\n",
              "            <div class=\"legend-dashed\" style=\"border-bottom: 2px dashed #666666; border-radius: 5px;\"></div>\n",
              "            <div>AND Trigger</div>\n",
              "            </div>\n",
              "            \n",
              "            <div class=\"legend-item\">\n",
              "            <div class=\"legend-dashed\" style=\"border-bottom: 2px dashed #FF5A50; border-radius: 5px;\"></div>\n",
              "            <div>Router Trigger</div>\n",
              "            </div>\n",
              "            \n",
              "      </div>\n",
              "    </div>\n",
              "    \n",
              "        <div class=\"card\" style=\"width: 100%\">\n",
              "            \n",
              "            \n",
              "            <div id=\"mynetwork\" class=\"card-body\"></div>\n",
              "        </div>\n",
              "\n",
              "        \n",
              "        \n",
              "\n",
              "        <script type=\"text/javascript\">\n",
              "\n",
              "              // initialize global variables.\n",
              "              var edges;\n",
              "              var nodes;\n",
              "              var allNodes;\n",
              "              var allEdges;\n",
              "              var nodeColors;\n",
              "              var originalNodes;\n",
              "              var network;\n",
              "              var container;\n",
              "              var options, data;\n",
              "              var filter = {\n",
              "                  item : '',\n",
              "                  property : '',\n",
              "                  value : []\n",
              "              };\n",
              "\n",
              "              \n",
              "\n",
              "              \n",
              "\n",
              "              // This method is responsible for drawing the graph, returns the drawn network\n",
              "              function drawGraph() {\n",
              "                  var container = document.getElementById('mynetwork');\n",
              "\n",
              "                  \n",
              "\n",
              "                  // parsing and collecting nodes and edges from the python\n",
              "                  nodes = new vis.DataSet([{\"color\": \"#FF5A50\", \"fixed\": true, \"font\": {\"color\": \"#FFFFFF\", \"multi\": \"html\"}, \"id\": \"first_method\", \"label\": \"First Method\", \"margin\": {\"bottom\": 8, \"left\": 10, \"right\": 10, \"top\": 10}, \"physics\": false, \"shape\": \"box\", \"x\": 0.0, \"y\": 0}, {\"color\": \"#333333\", \"fixed\": true, \"font\": {\"color\": \"#FFFFFF\", \"multi\": \"html\"}, \"id\": \"second_method\", \"label\": \"Second Method\", \"margin\": {\"bottom\": 8, \"left\": 10, \"right\": 10, \"top\": 10}, \"physics\": false, \"shape\": \"box\", \"x\": 0.0, \"y\": 150}]);\n",
              "                  edges = new vis.DataSet([{\"arrows\": \"to\", \"color\": \"#666666\", \"dashes\": false, \"from\": \"first_method\", \"smooth\": {\"type\": \"continuous\"}, \"to\": \"second_method\", \"width\": 2}]);\n",
              "\n",
              "                  nodeColors = {};\n",
              "                  allNodes = nodes.get({ returnType: \"Object\" });\n",
              "                  for (nodeId in allNodes) {\n",
              "                    nodeColors[nodeId] = allNodes[nodeId].color;\n",
              "                  }\n",
              "                  allEdges = edges.get({ returnType: \"Object\" });\n",
              "                  // adding nodes and edges to the graph\n",
              "                  data = {nodes: nodes, edges: edges};\n",
              "\n",
              "                  var options = {\"nodes\": {\"font\": {\"multi\": \"html\"}}, \"physics\": {\"enabled\": false}};\n",
              "\n",
              "                  \n",
              "\n",
              "\n",
              "                  \n",
              "\n",
              "                  network = new vis.Network(container, data, options);\n",
              "\n",
              "                  \n",
              "\n",
              "                  \n",
              "\n",
              "                  \n",
              "\n",
              "\n",
              "                  \n",
              "\n",
              "                  return network;\n",
              "\n",
              "              }\n",
              "              drawGraph();\n",
              "        </script>\n",
              "    \n",
              "  </body>\n",
              "</html>\n"
            ]
          },
          "metadata": {},
          "execution_count": 9
        }
      ]
    },
    {
      "cell_type": "code",
      "source": [
        "from crewai.flow.flow import Flow, listen, start\n",
        "from pydantic import BaseModel\n",
        "\n",
        "class ExampleState(BaseModel):\n",
        "    counter: int = 0\n",
        "    message: str = \"\"\n",
        "\n",
        "class StateExampleFlow(Flow[ExampleState]):\n",
        "\n",
        "    @start()\n",
        "    def first_method(self):\n",
        "        self.state.message = \"Hello from first_method\"\n",
        "        self.state.counter += 1\n",
        "\n",
        "    @listen(first_method)\n",
        "    def second_method(self):\n",
        "        self.state.message += \" - updated by second_method\"\n",
        "        self.state.counter += 1\n",
        "        return self.state.message\n",
        "\n",
        "flow = StateExampleFlow()\n",
        "final_output = flow.kickoff()\n",
        "\n",
        "flow.plot()\n",
        "\n",
        "print(f\"Final Output: {final_output}\")\n",
        "print(\"Final State:\")\n",
        "print(flow.state)"
      ],
      "metadata": {
        "colab": {
          "base_uri": "https://localhost:8080/",
          "height": 807
        },
        "id": "lXbAWZkqLzO9",
        "outputId": "3890a0f7-f8a6-4097-bbd9-a9a45f860c3d"
      },
      "execution_count": 10,
      "outputs": [
        {
          "output_type": "display_data",
          "data": {
            "text/plain": [
              "\u001b[34m╭─\u001b[0m\u001b[34m───────────────────────────────────────────────\u001b[0m\u001b[34m Flow Execution \u001b[0m\u001b[34m────────────────────────────────────────────────\u001b[0m\u001b[34m─╮\u001b[0m\n",
              "\u001b[34m│\u001b[0m                                                                                                                 \u001b[34m│\u001b[0m\n",
              "\u001b[34m│\u001b[0m  \u001b[1;34mStarting Flow Execution\u001b[0m                                                                                        \u001b[34m│\u001b[0m\n",
              "\u001b[34m│\u001b[0m  \u001b[37mName: \u001b[0m\u001b[34mStateExampleFlow\u001b[0m                                                                                         \u001b[34m│\u001b[0m\n",
              "\u001b[34m│\u001b[0m  \u001b[37mID: \u001b[0m\u001b[34md720f541-fb92-43c6-a505-b13c66bdcc64\u001b[0m                                                                       \u001b[34m│\u001b[0m\n",
              "\u001b[34m│\u001b[0m                                                                                                                 \u001b[34m│\u001b[0m\n",
              "\u001b[34m│\u001b[0m                                                                                                                 \u001b[34m│\u001b[0m\n",
              "\u001b[34m╰─────────────────────────────────────────────────────────────────────────────────────────────────────────────────╯\u001b[0m\n"
            ],
            "text/html": [
              "<pre style=\"white-space:pre;overflow-x:auto;line-height:normal;font-family:Menlo,'DejaVu Sans Mono',consolas,'Courier New',monospace\"><span style=\"color: #000080; text-decoration-color: #000080\">╭──────────────────────────────────────────────── Flow Execution ─────────────────────────────────────────────────╮</span>\n",
              "<span style=\"color: #000080; text-decoration-color: #000080\">│</span>                                                                                                                 <span style=\"color: #000080; text-decoration-color: #000080\">│</span>\n",
              "<span style=\"color: #000080; text-decoration-color: #000080\">│</span>  <span style=\"color: #000080; text-decoration-color: #000080; font-weight: bold\">Starting Flow Execution</span>                                                                                        <span style=\"color: #000080; text-decoration-color: #000080\">│</span>\n",
              "<span style=\"color: #000080; text-decoration-color: #000080\">│</span>  <span style=\"color: #c0c0c0; text-decoration-color: #c0c0c0\">Name: </span><span style=\"color: #000080; text-decoration-color: #000080\">StateExampleFlow</span>                                                                                         <span style=\"color: #000080; text-decoration-color: #000080\">│</span>\n",
              "<span style=\"color: #000080; text-decoration-color: #000080\">│</span>  <span style=\"color: #c0c0c0; text-decoration-color: #c0c0c0\">ID: </span><span style=\"color: #000080; text-decoration-color: #000080\">d720f541-fb92-43c6-a505-b13c66bdcc64</span>                                                                       <span style=\"color: #000080; text-decoration-color: #000080\">│</span>\n",
              "<span style=\"color: #000080; text-decoration-color: #000080\">│</span>                                                                                                                 <span style=\"color: #000080; text-decoration-color: #000080\">│</span>\n",
              "<span style=\"color: #000080; text-decoration-color: #000080\">│</span>                                                                                                                 <span style=\"color: #000080; text-decoration-color: #000080\">│</span>\n",
              "<span style=\"color: #000080; text-decoration-color: #000080\">╰─────────────────────────────────────────────────────────────────────────────────────────────────────────────────╯</span>\n",
              "</pre>\n"
            ]
          },
          "metadata": {}
        },
        {
          "output_type": "display_data",
          "data": {
            "text/plain": [
              "\n"
            ],
            "text/html": [
              "<pre style=\"white-space:pre;overflow-x:auto;line-height:normal;font-family:Menlo,'DejaVu Sans Mono',consolas,'Courier New',monospace\">\n",
              "</pre>\n"
            ]
          },
          "metadata": {}
        },
        {
          "output_type": "display_data",
          "data": {
            "text/plain": [
              "\u001b[1;34m🌊 Flow: \u001b[0m\u001b[34mStateExampleFlow\u001b[0m\n",
              "\u001b[37m    ID: \u001b[0m\u001b[34md720f541-fb92-43c6-a505-b13c66bdcc64\u001b[0m\n",
              "└── \u001b[33m🧠 Starting Flow...\u001b[0m\n"
            ],
            "text/html": [
              "<pre style=\"white-space:pre;overflow-x:auto;line-height:normal;font-family:Menlo,'DejaVu Sans Mono',consolas,'Courier New',monospace\"><span style=\"color: #000080; text-decoration-color: #000080; font-weight: bold\">🌊 Flow: </span><span style=\"color: #000080; text-decoration-color: #000080\">StateExampleFlow</span>\n",
              "<span style=\"color: #c0c0c0; text-decoration-color: #c0c0c0\">    ID: </span><span style=\"color: #000080; text-decoration-color: #000080\">d720f541-fb92-43c6-a505-b13c66bdcc64</span>\n",
              "└── <span style=\"color: #808000; text-decoration-color: #808000\">🧠 Starting Flow...</span>\n",
              "</pre>\n"
            ]
          },
          "metadata": {}
        },
        {
          "output_type": "display_data",
          "data": {
            "text/plain": [
              "\n"
            ],
            "text/html": [
              "<pre style=\"white-space:pre;overflow-x:auto;line-height:normal;font-family:Menlo,'DejaVu Sans Mono',consolas,'Courier New',monospace\">\n",
              "</pre>\n"
            ]
          },
          "metadata": {}
        },
        {
          "output_type": "stream",
          "name": "stdout",
          "text": [
            "\u001b[1m\u001b[35m Flow started with ID: d720f541-fb92-43c6-a505-b13c66bdcc64\u001b[00m\n"
          ]
        },
        {
          "output_type": "display_data",
          "data": {
            "text/plain": [
              "\u001b[1;34m🌊 Flow: \u001b[0m\u001b[34mStateExampleFlow\u001b[0m\n",
              "\u001b[37m    ID: \u001b[0m\u001b[34md720f541-fb92-43c6-a505-b13c66bdcc64\u001b[0m\n",
              "├── \u001b[33m🧠 Starting Flow...\u001b[0m\n",
              "└── \u001b[1;33m🔄 Running:\u001b[0m\u001b[1;33m first_method\u001b[0m\n"
            ],
            "text/html": [
              "<pre style=\"white-space:pre;overflow-x:auto;line-height:normal;font-family:Menlo,'DejaVu Sans Mono',consolas,'Courier New',monospace\"><span style=\"color: #000080; text-decoration-color: #000080; font-weight: bold\">🌊 Flow: </span><span style=\"color: #000080; text-decoration-color: #000080\">StateExampleFlow</span>\n",
              "<span style=\"color: #c0c0c0; text-decoration-color: #c0c0c0\">    ID: </span><span style=\"color: #000080; text-decoration-color: #000080\">d720f541-fb92-43c6-a505-b13c66bdcc64</span>\n",
              "├── <span style=\"color: #808000; text-decoration-color: #808000\">🧠 Starting Flow...</span>\n",
              "└── <span style=\"color: #808000; text-decoration-color: #808000; font-weight: bold\">🔄 Running: first_method</span>\n",
              "</pre>\n"
            ]
          },
          "metadata": {}
        },
        {
          "output_type": "display_data",
          "data": {
            "text/plain": [
              "\n"
            ],
            "text/html": [
              "<pre style=\"white-space:pre;overflow-x:auto;line-height:normal;font-family:Menlo,'DejaVu Sans Mono',consolas,'Courier New',monospace\">\n",
              "</pre>\n"
            ]
          },
          "metadata": {}
        },
        {
          "output_type": "display_data",
          "data": {
            "text/plain": [
              "\u001b[1;34m🌊 Flow: \u001b[0m\u001b[34mStateExampleFlow\u001b[0m\n",
              "\u001b[37m    ID: \u001b[0m\u001b[34md720f541-fb92-43c6-a505-b13c66bdcc64\u001b[0m\n",
              "├── \u001b[37mFlow Method Step\u001b[0m\n",
              "└── \u001b[1;32m✅ Completed:\u001b[0m\u001b[1;32m first_method\u001b[0m\n"
            ],
            "text/html": [
              "<pre style=\"white-space:pre;overflow-x:auto;line-height:normal;font-family:Menlo,'DejaVu Sans Mono',consolas,'Courier New',monospace\"><span style=\"color: #000080; text-decoration-color: #000080; font-weight: bold\">🌊 Flow: </span><span style=\"color: #000080; text-decoration-color: #000080\">StateExampleFlow</span>\n",
              "<span style=\"color: #c0c0c0; text-decoration-color: #c0c0c0\">    ID: </span><span style=\"color: #000080; text-decoration-color: #000080\">d720f541-fb92-43c6-a505-b13c66bdcc64</span>\n",
              "├── <span style=\"color: #c0c0c0; text-decoration-color: #c0c0c0\">Flow Method Step</span>\n",
              "└── <span style=\"color: #008000; text-decoration-color: #008000; font-weight: bold\">✅ Completed: first_method</span>\n",
              "</pre>\n"
            ]
          },
          "metadata": {}
        },
        {
          "output_type": "display_data",
          "data": {
            "text/plain": [
              "\n"
            ],
            "text/html": [
              "<pre style=\"white-space:pre;overflow-x:auto;line-height:normal;font-family:Menlo,'DejaVu Sans Mono',consolas,'Courier New',monospace\">\n",
              "</pre>\n"
            ]
          },
          "metadata": {}
        },
        {
          "output_type": "display_data",
          "data": {
            "text/plain": [
              "\u001b[1;34m🌊 Flow: \u001b[0m\u001b[34mStateExampleFlow\u001b[0m\n",
              "\u001b[37m    ID: \u001b[0m\u001b[34md720f541-fb92-43c6-a505-b13c66bdcc64\u001b[0m\n",
              "├── \u001b[37mFlow Method Step\u001b[0m\n",
              "├── \u001b[1;32m✅ Completed:\u001b[0m\u001b[1;32m first_method\u001b[0m\n",
              "└── \u001b[1;33m🔄 Running:\u001b[0m\u001b[1;33m second_method\u001b[0m\n"
            ],
            "text/html": [
              "<pre style=\"white-space:pre;overflow-x:auto;line-height:normal;font-family:Menlo,'DejaVu Sans Mono',consolas,'Courier New',monospace\"><span style=\"color: #000080; text-decoration-color: #000080; font-weight: bold\">🌊 Flow: </span><span style=\"color: #000080; text-decoration-color: #000080\">StateExampleFlow</span>\n",
              "<span style=\"color: #c0c0c0; text-decoration-color: #c0c0c0\">    ID: </span><span style=\"color: #000080; text-decoration-color: #000080\">d720f541-fb92-43c6-a505-b13c66bdcc64</span>\n",
              "├── <span style=\"color: #c0c0c0; text-decoration-color: #c0c0c0\">Flow Method Step</span>\n",
              "├── <span style=\"color: #008000; text-decoration-color: #008000; font-weight: bold\">✅ Completed: first_method</span>\n",
              "└── <span style=\"color: #808000; text-decoration-color: #808000; font-weight: bold\">🔄 Running: second_method</span>\n",
              "</pre>\n"
            ]
          },
          "metadata": {}
        },
        {
          "output_type": "display_data",
          "data": {
            "text/plain": [
              "\n"
            ],
            "text/html": [
              "<pre style=\"white-space:pre;overflow-x:auto;line-height:normal;font-family:Menlo,'DejaVu Sans Mono',consolas,'Courier New',monospace\">\n",
              "</pre>\n"
            ]
          },
          "metadata": {}
        },
        {
          "output_type": "display_data",
          "data": {
            "text/plain": [
              "\u001b[1;34m🌊 Flow: \u001b[0m\u001b[34mStateExampleFlow\u001b[0m\n",
              "\u001b[37m    ID: \u001b[0m\u001b[34md720f541-fb92-43c6-a505-b13c66bdcc64\u001b[0m\n",
              "├── \u001b[37mFlow Method Step\u001b[0m\n",
              "├── \u001b[1;32m✅ Completed:\u001b[0m\u001b[1;32m first_method\u001b[0m\n",
              "└── \u001b[1;32m✅ Completed:\u001b[0m\u001b[1;32m second_method\u001b[0m\n"
            ],
            "text/html": [
              "<pre style=\"white-space:pre;overflow-x:auto;line-height:normal;font-family:Menlo,'DejaVu Sans Mono',consolas,'Courier New',monospace\"><span style=\"color: #000080; text-decoration-color: #000080; font-weight: bold\">🌊 Flow: </span><span style=\"color: #000080; text-decoration-color: #000080\">StateExampleFlow</span>\n",
              "<span style=\"color: #c0c0c0; text-decoration-color: #c0c0c0\">    ID: </span><span style=\"color: #000080; text-decoration-color: #000080\">d720f541-fb92-43c6-a505-b13c66bdcc64</span>\n",
              "├── <span style=\"color: #c0c0c0; text-decoration-color: #c0c0c0\">Flow Method Step</span>\n",
              "├── <span style=\"color: #008000; text-decoration-color: #008000; font-weight: bold\">✅ Completed: first_method</span>\n",
              "└── <span style=\"color: #008000; text-decoration-color: #008000; font-weight: bold\">✅ Completed: second_method</span>\n",
              "</pre>\n"
            ]
          },
          "metadata": {}
        },
        {
          "output_type": "display_data",
          "data": {
            "text/plain": [
              "\n"
            ],
            "text/html": [
              "<pre style=\"white-space:pre;overflow-x:auto;line-height:normal;font-family:Menlo,'DejaVu Sans Mono',consolas,'Courier New',monospace\">\n",
              "</pre>\n"
            ]
          },
          "metadata": {}
        },
        {
          "output_type": "display_data",
          "data": {
            "text/plain": [
              "\u001b[1;32m✅ Flow Finished: \u001b[0m\u001b[32mStateExampleFlow\u001b[0m\n",
              "├── \u001b[37mFlow Method Step\u001b[0m\n",
              "├── \u001b[1;32m✅ Completed:\u001b[0m\u001b[1;32m first_method\u001b[0m\n",
              "└── \u001b[1;32m✅ Completed:\u001b[0m\u001b[1;32m second_method\u001b[0m\n"
            ],
            "text/html": [
              "<pre style=\"white-space:pre;overflow-x:auto;line-height:normal;font-family:Menlo,'DejaVu Sans Mono',consolas,'Courier New',monospace\"><span style=\"color: #008000; text-decoration-color: #008000; font-weight: bold\">✅ Flow Finished: </span><span style=\"color: #008000; text-decoration-color: #008000\">StateExampleFlow</span>\n",
              "├── <span style=\"color: #c0c0c0; text-decoration-color: #c0c0c0\">Flow Method Step</span>\n",
              "├── <span style=\"color: #008000; text-decoration-color: #008000; font-weight: bold\">✅ Completed: first_method</span>\n",
              "└── <span style=\"color: #008000; text-decoration-color: #008000; font-weight: bold\">✅ Completed: second_method</span>\n",
              "</pre>\n"
            ]
          },
          "metadata": {}
        },
        {
          "output_type": "display_data",
          "data": {
            "text/plain": [
              "\u001b[32m╭─\u001b[0m\u001b[32m───────────────────────────────────────────────\u001b[0m\u001b[32m Flow Completion \u001b[0m\u001b[32m───────────────────────────────────────────────\u001b[0m\u001b[32m─╮\u001b[0m\n",
              "\u001b[32m│\u001b[0m                                                                                                                 \u001b[32m│\u001b[0m\n",
              "\u001b[32m│\u001b[0m  \u001b[1;32mFlow Execution Completed\u001b[0m                                                                                       \u001b[32m│\u001b[0m\n",
              "\u001b[32m│\u001b[0m  \u001b[37mName: \u001b[0m\u001b[32mStateExampleFlow\u001b[0m                                                                                         \u001b[32m│\u001b[0m\n",
              "\u001b[32m│\u001b[0m  \u001b[37mID: \u001b[0m\u001b[32md720f541-fb92-43c6-a505-b13c66bdcc64\u001b[0m                                                                       \u001b[32m│\u001b[0m\n",
              "\u001b[32m│\u001b[0m                                                                                                                 \u001b[32m│\u001b[0m\n",
              "\u001b[32m│\u001b[0m                                                                                                                 \u001b[32m│\u001b[0m\n",
              "\u001b[32m╰─────────────────────────────────────────────────────────────────────────────────────────────────────────────────╯\u001b[0m\n"
            ],
            "text/html": [
              "<pre style=\"white-space:pre;overflow-x:auto;line-height:normal;font-family:Menlo,'DejaVu Sans Mono',consolas,'Courier New',monospace\"><span style=\"color: #008000; text-decoration-color: #008000\">╭──────────────────────────────────────────────── Flow Completion ────────────────────────────────────────────────╮</span>\n",
              "<span style=\"color: #008000; text-decoration-color: #008000\">│</span>                                                                                                                 <span style=\"color: #008000; text-decoration-color: #008000\">│</span>\n",
              "<span style=\"color: #008000; text-decoration-color: #008000\">│</span>  <span style=\"color: #008000; text-decoration-color: #008000; font-weight: bold\">Flow Execution Completed</span>                                                                                       <span style=\"color: #008000; text-decoration-color: #008000\">│</span>\n",
              "<span style=\"color: #008000; text-decoration-color: #008000\">│</span>  <span style=\"color: #c0c0c0; text-decoration-color: #c0c0c0\">Name: </span><span style=\"color: #008000; text-decoration-color: #008000\">StateExampleFlow</span>                                                                                         <span style=\"color: #008000; text-decoration-color: #008000\">│</span>\n",
              "<span style=\"color: #008000; text-decoration-color: #008000\">│</span>  <span style=\"color: #c0c0c0; text-decoration-color: #c0c0c0\">ID: </span><span style=\"color: #008000; text-decoration-color: #008000\">d720f541-fb92-43c6-a505-b13c66bdcc64</span>                                                                       <span style=\"color: #008000; text-decoration-color: #008000\">│</span>\n",
              "<span style=\"color: #008000; text-decoration-color: #008000\">│</span>                                                                                                                 <span style=\"color: #008000; text-decoration-color: #008000\">│</span>\n",
              "<span style=\"color: #008000; text-decoration-color: #008000\">│</span>                                                                                                                 <span style=\"color: #008000; text-decoration-color: #008000\">│</span>\n",
              "<span style=\"color: #008000; text-decoration-color: #008000\">╰─────────────────────────────────────────────────────────────────────────────────────────────────────────────────╯</span>\n",
              "</pre>\n"
            ]
          },
          "metadata": {}
        },
        {
          "output_type": "display_data",
          "data": {
            "text/plain": [
              "\n"
            ],
            "text/html": [
              "<pre style=\"white-space:pre;overflow-x:auto;line-height:normal;font-family:Menlo,'DejaVu Sans Mono',consolas,'Courier New',monospace\">\n",
              "</pre>\n"
            ]
          },
          "metadata": {}
        },
        {
          "output_type": "stream",
          "name": "stdout",
          "text": [
            "Plot saved as crewai_flow.html\n",
            "Final Output: Hello from first_method - updated by second_method\n",
            "Final State:\n",
            "id='d720f541-fb92-43c6-a505-b13c66bdcc64' counter=2 message='Hello from first_method - updated by second_method'\n"
          ]
        }
      ]
    },
    {
      "cell_type": "code",
      "source": [
        "# prompt: Show image of html file with path -> /content/my_flow_plot.html\n",
        "\n",
        "from IPython.display import HTML\n",
        "\n",
        "HTML(filename='/content/crewai_flow.html')\n"
      ],
      "metadata": {
        "colab": {
          "base_uri": "https://localhost:8080/",
          "height": 1000
        },
        "collapsed": true,
        "id": "2C71TgscL7zb",
        "outputId": "dff15f7c-38b9-4061-bf1b-e6e96c7dabf0"
      },
      "execution_count": 11,
      "outputs": [
        {
          "output_type": "execute_result",
          "data": {
            "text/plain": [
              "<IPython.core.display.HTML object>"
            ],
            "text/html": [
              "<!DOCTYPE html>\n",
              "<html>\n",
              "  <head>\n",
              "    <meta charset=\"utf-8\" />\n",
              "    <title>Flow Plot</title>\n",
              "    <script\n",
              "      src=\"https://cdnjs.cloudflare.com/ajax/libs/vis-network/9.1.2/dist/vis-network.min.js\"\n",
              "      integrity=\"sha512-LnvoEWDFrqGHlHmDD2101OrLcbsfkrzoSpvtSQtxK3RMnRV0eOkhhBN2dXHKRrUU8p2DGRTk35n4O8nWSVe1mQ==\"\n",
              "      crossorigin=\"anonymous\"\n",
              "      referrerpolicy=\"no-referrer\"\n",
              "    ></script>\n",
              "    <link\n",
              "      rel=\"stylesheet\"\n",
              "      href=\"https://cdnjs.cloudflare.com/ajax/libs/vis-network/9.1.2/dist/dist/vis-network.min.css\"\n",
              "      integrity=\"sha512-WgxfT5LWjfszlPHXRmBWHkV2eceiWTOBvrKCNbdgDYTHrT2AeLCGbF4sZlZw3UMN3WtL0tGUoIAKsu8mllg/XA==\"\n",
              "      crossorigin=\"anonymous\"\n",
              "      referrerpolicy=\"no-referrer\"\n",
              "    />\n",
              "    <style type=\"text/css\">\n",
              "      body {\n",
              "        font-family: verdana;\n",
              "        margin: 0;\n",
              "        padding: 0;\n",
              "      }\n",
              "      .container {\n",
              "        display: flex;\n",
              "        flex-direction: column;\n",
              "        height: 100vh;\n",
              "      }\n",
              "      #mynetwork {\n",
              "        flex-grow: 1;\n",
              "        width: 100%;\n",
              "        height: 750px;\n",
              "        background-color: #ffffff;\n",
              "      }\n",
              "      .card {\n",
              "        border: none;\n",
              "      }\n",
              "      .legend-container {\n",
              "        display: flex;\n",
              "        align-items: center;\n",
              "        justify-content: center;\n",
              "        padding: 10px;\n",
              "        background-color: #f8f9fa;\n",
              "        position: fixed; /* Make the legend fixed */\n",
              "        bottom: 0; /* Position it at the bottom */\n",
              "        width: 100%; /* Make it span the full width */\n",
              "      }\n",
              "      .legend-item {\n",
              "        display: flex;\n",
              "        align-items: center;\n",
              "        margin-right: 20px;\n",
              "      }\n",
              "      .legend-color-box {\n",
              "        width: 20px;\n",
              "        height: 20px;\n",
              "        margin-right: 5px;\n",
              "      }\n",
              "      .logo {\n",
              "        height: 50px;\n",
              "        margin-right: 20px;\n",
              "      }\n",
              "      .legend-dashed {\n",
              "        border-bottom: 2px dashed #666666;\n",
              "        width: 20px;\n",
              "        height: 0;\n",
              "        margin-right: 5px;\n",
              "      }\n",
              "      .legend-solid {\n",
              "        border-bottom: 2px solid #666666;\n",
              "        width: 20px;\n",
              "        height: 0;\n",
              "        margin-right: 5px;\n",
              "      }\n",
              "    </style>\n",
              "  </head>\n",
              "  <body>\n",
              "    <div class=\"container\">\n",
              "      <div class=\"card\" style=\"width: 100%\">\n",
              "        <div id=\"mynetwork\" class=\"card-body\"></div>\n",
              "      </div>\n",
              "      <div class=\"legend-container\">\n",
              "        <img\n",
              "          src=\"data:image/svg+xml;base64,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\"\n",
              "          alt=\"CrewAI logo\"\n",
              "          class=\"logo\"\n",
              "        />\n",
              "        \n",
              "            <div class=\"legend-item\">\n",
              "            <div class=\"legend-color-box\" style=\"background-color: #FF5A50; border-radius: 5px;\"></div>\n",
              "            <div>Start Method</div>\n",
              "            </div>\n",
              "            \n",
              "            <div class=\"legend-item\">\n",
              "            <div class=\"legend-color-box\" style=\"background-color: #333333; border-radius: 5px;\"></div>\n",
              "            <div>Method</div>\n",
              "            </div>\n",
              "            \n",
              "            <div class=\"legend-item\">\n",
              "            <div class=\"legend-color-box\" style=\"background-color: #FFFFFF; border: 2px solid #FF5A50; border-radius: 5px;\"></div>\n",
              "            <div>Crew Method</div>\n",
              "            </div>\n",
              "            \n",
              "            <div class=\"legend-item\">\n",
              "            <div class=\"legend-color-box\" style=\"background-color: #333333; border: 2px dashed #FF5A50; border-radius: 5px;\"></div>\n",
              "            <div>Router</div>\n",
              "            </div>\n",
              "            \n",
              "            <div class=\"legend-item\">\n",
              "            <div class=\"legend-solid\" style=\"border-bottom: 2px solid #666666; border-radius: 5px;\"></div>\n",
              "            <div>Trigger</div>\n",
              "            </div>\n",
              "            \n",
              "            <div class=\"legend-item\">\n",
              "            <div class=\"legend-dashed\" style=\"border-bottom: 2px dashed #666666; border-radius: 5px;\"></div>\n",
              "            <div>AND Trigger</div>\n",
              "            </div>\n",
              "            \n",
              "            <div class=\"legend-item\">\n",
              "            <div class=\"legend-dashed\" style=\"border-bottom: 2px dashed #FF5A50; border-radius: 5px;\"></div>\n",
              "            <div>Router Trigger</div>\n",
              "            </div>\n",
              "            \n",
              "      </div>\n",
              "    </div>\n",
              "    \n",
              "        <div class=\"card\" style=\"width: 100%\">\n",
              "            \n",
              "            \n",
              "            <div id=\"mynetwork\" class=\"card-body\"></div>\n",
              "        </div>\n",
              "\n",
              "        \n",
              "        \n",
              "\n",
              "        <script type=\"text/javascript\">\n",
              "\n",
              "              // initialize global variables.\n",
              "              var edges;\n",
              "              var nodes;\n",
              "              var allNodes;\n",
              "              var allEdges;\n",
              "              var nodeColors;\n",
              "              var originalNodes;\n",
              "              var network;\n",
              "              var container;\n",
              "              var options, data;\n",
              "              var filter = {\n",
              "                  item : '',\n",
              "                  property : '',\n",
              "                  value : []\n",
              "              };\n",
              "\n",
              "              \n",
              "\n",
              "              \n",
              "\n",
              "              // This method is responsible for drawing the graph, returns the drawn network\n",
              "              function drawGraph() {\n",
              "                  var container = document.getElementById('mynetwork');\n",
              "\n",
              "                  \n",
              "\n",
              "                  // parsing and collecting nodes and edges from the python\n",
              "                  nodes = new vis.DataSet([{\"color\": \"#FF5A50\", \"fixed\": true, \"font\": {\"color\": \"#FFFFFF\", \"multi\": \"html\"}, \"id\": \"first_method\", \"label\": \"First Method\", \"margin\": {\"bottom\": 8, \"left\": 10, \"right\": 10, \"top\": 10}, \"physics\": false, \"shape\": \"box\", \"x\": 0.0, \"y\": 0}, {\"color\": \"#333333\", \"fixed\": true, \"font\": {\"color\": \"#FFFFFF\", \"multi\": \"html\"}, \"id\": \"second_method\", \"label\": \"Second Method\", \"margin\": {\"bottom\": 8, \"left\": 10, \"right\": 10, \"top\": 10}, \"physics\": false, \"shape\": \"box\", \"x\": 0.0, \"y\": 150}]);\n",
              "                  edges = new vis.DataSet([{\"arrows\": \"to\", \"color\": \"#666666\", \"dashes\": false, \"from\": \"first_method\", \"smooth\": {\"type\": \"continuous\"}, \"to\": \"second_method\", \"width\": 2}]);\n",
              "\n",
              "                  nodeColors = {};\n",
              "                  allNodes = nodes.get({ returnType: \"Object\" });\n",
              "                  for (nodeId in allNodes) {\n",
              "                    nodeColors[nodeId] = allNodes[nodeId].color;\n",
              "                  }\n",
              "                  allEdges = edges.get({ returnType: \"Object\" });\n",
              "                  // adding nodes and edges to the graph\n",
              "                  data = {nodes: nodes, edges: edges};\n",
              "\n",
              "                  var options = {\"nodes\": {\"font\": {\"multi\": \"html\"}}, \"physics\": {\"enabled\": false}};\n",
              "\n",
              "                  \n",
              "\n",
              "\n",
              "                  \n",
              "\n",
              "                  network = new vis.Network(container, data, options);\n",
              "\n",
              "                  \n",
              "\n",
              "                  \n",
              "\n",
              "                  \n",
              "\n",
              "\n",
              "                  \n",
              "\n",
              "                  return network;\n",
              "\n",
              "              }\n",
              "              drawGraph();\n",
              "        </script>\n",
              "    \n",
              "  </body>\n",
              "</html>\n"
            ]
          },
          "metadata": {},
          "execution_count": 11
        }
      ]
    },
    {
      "cell_type": "code",
      "source": [
        "from crewai.flow.flow import Flow, listen, start\n",
        "\n",
        "class UnstructuredExampleFlow(Flow):\n",
        "\n",
        "    @start()\n",
        "    def first_method(self):\n",
        "        # The state automatically includes an 'id' field\n",
        "        print(f\"State ID: {self.state['id']}\")\n",
        "        self.state['counter'] = 0\n",
        "        self.state['message'] = \"Hello from structured flow\"\n",
        "\n",
        "    @listen(first_method)\n",
        "    def second_method(self):\n",
        "        self.state['counter'] += 1\n",
        "        self.state['message'] += \" - updated\"\n",
        "\n",
        "    @listen(second_method)\n",
        "    def third_method(self):\n",
        "        self.state['counter'] += 1\n",
        "        self.state['message'] += \" - updated again\"\n",
        "\n",
        "        print(f\"State after third_method: {self.state}\")\n",
        "\n",
        "\n",
        "flow = UnstructuredExampleFlow()\n",
        "flow.kickoff()\n",
        "flow.plot(\"Three_methods\")"
      ],
      "metadata": {
        "colab": {
          "base_uri": "https://localhost:8080/",
          "height": 1000
        },
        "id": "La1jzMlzMC0k",
        "outputId": "f51dc63c-65f4-49d0-f851-bc0607c56238"
      },
      "execution_count": 12,
      "outputs": [
        {
          "output_type": "display_data",
          "data": {
            "text/plain": [
              "\u001b[34m╭─\u001b[0m\u001b[34m───────────────────────────────────────────────\u001b[0m\u001b[34m Flow Execution \u001b[0m\u001b[34m────────────────────────────────────────────────\u001b[0m\u001b[34m─╮\u001b[0m\n",
              "\u001b[34m│\u001b[0m                                                                                                                 \u001b[34m│\u001b[0m\n",
              "\u001b[34m│\u001b[0m  \u001b[1;34mStarting Flow Execution\u001b[0m                                                                                        \u001b[34m│\u001b[0m\n",
              "\u001b[34m│\u001b[0m  \u001b[37mName: \u001b[0m\u001b[34mUnstructuredExampleFlow\u001b[0m                                                                                  \u001b[34m│\u001b[0m\n",
              "\u001b[34m│\u001b[0m  \u001b[37mID: \u001b[0m\u001b[34mfe8cb324-d4a0-4f02-8551-a4161d09e95e\u001b[0m                                                                       \u001b[34m│\u001b[0m\n",
              "\u001b[34m│\u001b[0m                                                                                                                 \u001b[34m│\u001b[0m\n",
              "\u001b[34m│\u001b[0m                                                                                                                 \u001b[34m│\u001b[0m\n",
              "\u001b[34m╰─────────────────────────────────────────────────────────────────────────────────────────────────────────────────╯\u001b[0m\n"
            ],
            "text/html": [
              "<pre style=\"white-space:pre;overflow-x:auto;line-height:normal;font-family:Menlo,'DejaVu Sans Mono',consolas,'Courier New',monospace\"><span style=\"color: #000080; text-decoration-color: #000080\">╭──────────────────────────────────────────────── Flow Execution ─────────────────────────────────────────────────╮</span>\n",
              "<span style=\"color: #000080; text-decoration-color: #000080\">│</span>                                                                                                                 <span style=\"color: #000080; text-decoration-color: #000080\">│</span>\n",
              "<span style=\"color: #000080; text-decoration-color: #000080\">│</span>  <span style=\"color: #000080; text-decoration-color: #000080; font-weight: bold\">Starting Flow Execution</span>                                                                                        <span style=\"color: #000080; text-decoration-color: #000080\">│</span>\n",
              "<span style=\"color: #000080; text-decoration-color: #000080\">│</span>  <span style=\"color: #c0c0c0; text-decoration-color: #c0c0c0\">Name: </span><span style=\"color: #000080; text-decoration-color: #000080\">UnstructuredExampleFlow</span>                                                                                  <span style=\"color: #000080; text-decoration-color: #000080\">│</span>\n",
              "<span style=\"color: #000080; text-decoration-color: #000080\">│</span>  <span style=\"color: #c0c0c0; text-decoration-color: #c0c0c0\">ID: </span><span style=\"color: #000080; text-decoration-color: #000080\">fe8cb324-d4a0-4f02-8551-a4161d09e95e</span>                                                                       <span style=\"color: #000080; text-decoration-color: #000080\">│</span>\n",
              "<span style=\"color: #000080; text-decoration-color: #000080\">│</span>                                                                                                                 <span style=\"color: #000080; text-decoration-color: #000080\">│</span>\n",
              "<span style=\"color: #000080; text-decoration-color: #000080\">│</span>                                                                                                                 <span style=\"color: #000080; text-decoration-color: #000080\">│</span>\n",
              "<span style=\"color: #000080; text-decoration-color: #000080\">╰─────────────────────────────────────────────────────────────────────────────────────────────────────────────────╯</span>\n",
              "</pre>\n"
            ]
          },
          "metadata": {}
        },
        {
          "output_type": "display_data",
          "data": {
            "text/plain": [
              "\n"
            ],
            "text/html": [
              "<pre style=\"white-space:pre;overflow-x:auto;line-height:normal;font-family:Menlo,'DejaVu Sans Mono',consolas,'Courier New',monospace\">\n",
              "</pre>\n"
            ]
          },
          "metadata": {}
        },
        {
          "output_type": "display_data",
          "data": {
            "text/plain": [
              "\u001b[1;34m🌊 Flow: \u001b[0m\u001b[34mUnstructuredExampleFlow\u001b[0m\n",
              "\u001b[37m    ID: \u001b[0m\u001b[34mfe8cb324-d4a0-4f02-8551-a4161d09e95e\u001b[0m\n",
              "└── \u001b[33m🧠 Starting Flow...\u001b[0m\n"
            ],
            "text/html": [
              "<pre style=\"white-space:pre;overflow-x:auto;line-height:normal;font-family:Menlo,'DejaVu Sans Mono',consolas,'Courier New',monospace\"><span style=\"color: #000080; text-decoration-color: #000080; font-weight: bold\">🌊 Flow: </span><span style=\"color: #000080; text-decoration-color: #000080\">UnstructuredExampleFlow</span>\n",
              "<span style=\"color: #c0c0c0; text-decoration-color: #c0c0c0\">    ID: </span><span style=\"color: #000080; text-decoration-color: #000080\">fe8cb324-d4a0-4f02-8551-a4161d09e95e</span>\n",
              "└── <span style=\"color: #808000; text-decoration-color: #808000\">🧠 Starting Flow...</span>\n",
              "</pre>\n"
            ]
          },
          "metadata": {}
        },
        {
          "output_type": "display_data",
          "data": {
            "text/plain": [
              "\n"
            ],
            "text/html": [
              "<pre style=\"white-space:pre;overflow-x:auto;line-height:normal;font-family:Menlo,'DejaVu Sans Mono',consolas,'Courier New',monospace\">\n",
              "</pre>\n"
            ]
          },
          "metadata": {}
        },
        {
          "output_type": "stream",
          "name": "stdout",
          "text": [
            "\u001b[1m\u001b[35m Flow started with ID: fe8cb324-d4a0-4f02-8551-a4161d09e95e\u001b[00m\n"
          ]
        },
        {
          "output_type": "display_data",
          "data": {
            "text/plain": [
              "\u001b[1;34m🌊 Flow: \u001b[0m\u001b[34mUnstructuredExampleFlow\u001b[0m\n",
              "\u001b[37m    ID: \u001b[0m\u001b[34mfe8cb324-d4a0-4f02-8551-a4161d09e95e\u001b[0m\n",
              "├── \u001b[33m🧠 Starting Flow...\u001b[0m\n",
              "└── \u001b[1;33m🔄 Running:\u001b[0m\u001b[1;33m first_method\u001b[0m\n"
            ],
            "text/html": [
              "<pre style=\"white-space:pre;overflow-x:auto;line-height:normal;font-family:Menlo,'DejaVu Sans Mono',consolas,'Courier New',monospace\"><span style=\"color: #000080; text-decoration-color: #000080; font-weight: bold\">🌊 Flow: </span><span style=\"color: #000080; text-decoration-color: #000080\">UnstructuredExampleFlow</span>\n",
              "<span style=\"color: #c0c0c0; text-decoration-color: #c0c0c0\">    ID: </span><span style=\"color: #000080; text-decoration-color: #000080\">fe8cb324-d4a0-4f02-8551-a4161d09e95e</span>\n",
              "├── <span style=\"color: #808000; text-decoration-color: #808000\">🧠 Starting Flow...</span>\n",
              "└── <span style=\"color: #808000; text-decoration-color: #808000; font-weight: bold\">🔄 Running: first_method</span>\n",
              "</pre>\n"
            ]
          },
          "metadata": {}
        },
        {
          "output_type": "display_data",
          "data": {
            "text/plain": [
              "\n"
            ],
            "text/html": [
              "<pre style=\"white-space:pre;overflow-x:auto;line-height:normal;font-family:Menlo,'DejaVu Sans Mono',consolas,'Courier New',monospace\">\n",
              "</pre>\n"
            ]
          },
          "metadata": {}
        },
        {
          "output_type": "stream",
          "name": "stdout",
          "text": [
            "State ID: fe8cb324-d4a0-4f02-8551-a4161d09e95e\n"
          ]
        },
        {
          "output_type": "display_data",
          "data": {
            "text/plain": [
              "\u001b[1;34m🌊 Flow: \u001b[0m\u001b[34mUnstructuredExampleFlow\u001b[0m\n",
              "\u001b[37m    ID: \u001b[0m\u001b[34mfe8cb324-d4a0-4f02-8551-a4161d09e95e\u001b[0m\n",
              "├── \u001b[37mFlow Method Step\u001b[0m\n",
              "└── \u001b[1;32m✅ Completed:\u001b[0m\u001b[1;32m first_method\u001b[0m\n"
            ],
            "text/html": [
              "<pre style=\"white-space:pre;overflow-x:auto;line-height:normal;font-family:Menlo,'DejaVu Sans Mono',consolas,'Courier New',monospace\"><span style=\"color: #000080; text-decoration-color: #000080; font-weight: bold\">🌊 Flow: </span><span style=\"color: #000080; text-decoration-color: #000080\">UnstructuredExampleFlow</span>\n",
              "<span style=\"color: #c0c0c0; text-decoration-color: #c0c0c0\">    ID: </span><span style=\"color: #000080; text-decoration-color: #000080\">fe8cb324-d4a0-4f02-8551-a4161d09e95e</span>\n",
              "├── <span style=\"color: #c0c0c0; text-decoration-color: #c0c0c0\">Flow Method Step</span>\n",
              "└── <span style=\"color: #008000; text-decoration-color: #008000; font-weight: bold\">✅ Completed: first_method</span>\n",
              "</pre>\n"
            ]
          },
          "metadata": {}
        },
        {
          "output_type": "display_data",
          "data": {
            "text/plain": [
              "\n"
            ],
            "text/html": [
              "<pre style=\"white-space:pre;overflow-x:auto;line-height:normal;font-family:Menlo,'DejaVu Sans Mono',consolas,'Courier New',monospace\">\n",
              "</pre>\n"
            ]
          },
          "metadata": {}
        },
        {
          "output_type": "display_data",
          "data": {
            "text/plain": [
              "\u001b[1;34m🌊 Flow: \u001b[0m\u001b[34mUnstructuredExampleFlow\u001b[0m\n",
              "\u001b[37m    ID: \u001b[0m\u001b[34mfe8cb324-d4a0-4f02-8551-a4161d09e95e\u001b[0m\n",
              "├── \u001b[37mFlow Method Step\u001b[0m\n",
              "├── \u001b[1;32m✅ Completed:\u001b[0m\u001b[1;32m first_method\u001b[0m\n",
              "└── \u001b[1;33m🔄 Running:\u001b[0m\u001b[1;33m second_method\u001b[0m\n"
            ],
            "text/html": [
              "<pre style=\"white-space:pre;overflow-x:auto;line-height:normal;font-family:Menlo,'DejaVu Sans Mono',consolas,'Courier New',monospace\"><span style=\"color: #000080; text-decoration-color: #000080; font-weight: bold\">🌊 Flow: </span><span style=\"color: #000080; text-decoration-color: #000080\">UnstructuredExampleFlow</span>\n",
              "<span style=\"color: #c0c0c0; text-decoration-color: #c0c0c0\">    ID: </span><span style=\"color: #000080; text-decoration-color: #000080\">fe8cb324-d4a0-4f02-8551-a4161d09e95e</span>\n",
              "├── <span style=\"color: #c0c0c0; text-decoration-color: #c0c0c0\">Flow Method Step</span>\n",
              "├── <span style=\"color: #008000; text-decoration-color: #008000; font-weight: bold\">✅ Completed: first_method</span>\n",
              "└── <span style=\"color: #808000; text-decoration-color: #808000; font-weight: bold\">🔄 Running: second_method</span>\n",
              "</pre>\n"
            ]
          },
          "metadata": {}
        },
        {
          "output_type": "display_data",
          "data": {
            "text/plain": [
              "\n"
            ],
            "text/html": [
              "<pre style=\"white-space:pre;overflow-x:auto;line-height:normal;font-family:Menlo,'DejaVu Sans Mono',consolas,'Courier New',monospace\">\n",
              "</pre>\n"
            ]
          },
          "metadata": {}
        },
        {
          "output_type": "display_data",
          "data": {
            "text/plain": [
              "\u001b[1;34m🌊 Flow: \u001b[0m\u001b[34mUnstructuredExampleFlow\u001b[0m\n",
              "\u001b[37m    ID: \u001b[0m\u001b[34mfe8cb324-d4a0-4f02-8551-a4161d09e95e\u001b[0m\n",
              "├── \u001b[37mFlow Method Step\u001b[0m\n",
              "├── \u001b[1;32m✅ Completed:\u001b[0m\u001b[1;32m first_method\u001b[0m\n",
              "└── \u001b[1;32m✅ Completed:\u001b[0m\u001b[1;32m second_method\u001b[0m\n"
            ],
            "text/html": [
              "<pre style=\"white-space:pre;overflow-x:auto;line-height:normal;font-family:Menlo,'DejaVu Sans Mono',consolas,'Courier New',monospace\"><span style=\"color: #000080; text-decoration-color: #000080; font-weight: bold\">🌊 Flow: </span><span style=\"color: #000080; text-decoration-color: #000080\">UnstructuredExampleFlow</span>\n",
              "<span style=\"color: #c0c0c0; text-decoration-color: #c0c0c0\">    ID: </span><span style=\"color: #000080; text-decoration-color: #000080\">fe8cb324-d4a0-4f02-8551-a4161d09e95e</span>\n",
              "├── <span style=\"color: #c0c0c0; text-decoration-color: #c0c0c0\">Flow Method Step</span>\n",
              "├── <span style=\"color: #008000; text-decoration-color: #008000; font-weight: bold\">✅ Completed: first_method</span>\n",
              "└── <span style=\"color: #008000; text-decoration-color: #008000; font-weight: bold\">✅ Completed: second_method</span>\n",
              "</pre>\n"
            ]
          },
          "metadata": {}
        },
        {
          "output_type": "display_data",
          "data": {
            "text/plain": [
              "\n"
            ],
            "text/html": [
              "<pre style=\"white-space:pre;overflow-x:auto;line-height:normal;font-family:Menlo,'DejaVu Sans Mono',consolas,'Courier New',monospace\">\n",
              "</pre>\n"
            ]
          },
          "metadata": {}
        },
        {
          "output_type": "display_data",
          "data": {
            "text/plain": [
              "\u001b[1;34m🌊 Flow: \u001b[0m\u001b[34mUnstructuredExampleFlow\u001b[0m\n",
              "\u001b[37m    ID: \u001b[0m\u001b[34mfe8cb324-d4a0-4f02-8551-a4161d09e95e\u001b[0m\n",
              "├── \u001b[37mFlow Method Step\u001b[0m\n",
              "├── \u001b[1;32m✅ Completed:\u001b[0m\u001b[1;32m first_method\u001b[0m\n",
              "├── \u001b[1;32m✅ Completed:\u001b[0m\u001b[1;32m second_method\u001b[0m\n",
              "└── \u001b[1;33m🔄 Running:\u001b[0m\u001b[1;33m third_method\u001b[0m\n"
            ],
            "text/html": [
              "<pre style=\"white-space:pre;overflow-x:auto;line-height:normal;font-family:Menlo,'DejaVu Sans Mono',consolas,'Courier New',monospace\"><span style=\"color: #000080; text-decoration-color: #000080; font-weight: bold\">🌊 Flow: </span><span style=\"color: #000080; text-decoration-color: #000080\">UnstructuredExampleFlow</span>\n",
              "<span style=\"color: #c0c0c0; text-decoration-color: #c0c0c0\">    ID: </span><span style=\"color: #000080; text-decoration-color: #000080\">fe8cb324-d4a0-4f02-8551-a4161d09e95e</span>\n",
              "├── <span style=\"color: #c0c0c0; text-decoration-color: #c0c0c0\">Flow Method Step</span>\n",
              "├── <span style=\"color: #008000; text-decoration-color: #008000; font-weight: bold\">✅ Completed: first_method</span>\n",
              "├── <span style=\"color: #008000; text-decoration-color: #008000; font-weight: bold\">✅ Completed: second_method</span>\n",
              "└── <span style=\"color: #808000; text-decoration-color: #808000; font-weight: bold\">🔄 Running: third_method</span>\n",
              "</pre>\n"
            ]
          },
          "metadata": {}
        },
        {
          "output_type": "display_data",
          "data": {
            "text/plain": [
              "\n"
            ],
            "text/html": [
              "<pre style=\"white-space:pre;overflow-x:auto;line-height:normal;font-family:Menlo,'DejaVu Sans Mono',consolas,'Courier New',monospace\">\n",
              "</pre>\n"
            ]
          },
          "metadata": {}
        },
        {
          "output_type": "stream",
          "name": "stdout",
          "text": [
            "State after third_method: {'id': 'fe8cb324-d4a0-4f02-8551-a4161d09e95e', 'counter': 2, 'message': 'Hello from structured flow - updated - updated again'}\n"
          ]
        },
        {
          "output_type": "display_data",
          "data": {
            "text/plain": [
              "\u001b[1;34m🌊 Flow: \u001b[0m\u001b[34mUnstructuredExampleFlow\u001b[0m\n",
              "\u001b[37m    ID: \u001b[0m\u001b[34mfe8cb324-d4a0-4f02-8551-a4161d09e95e\u001b[0m\n",
              "├── \u001b[37mFlow Method Step\u001b[0m\n",
              "├── \u001b[1;32m✅ Completed:\u001b[0m\u001b[1;32m first_method\u001b[0m\n",
              "├── \u001b[1;32m✅ Completed:\u001b[0m\u001b[1;32m second_method\u001b[0m\n",
              "└── \u001b[1;32m✅ Completed:\u001b[0m\u001b[1;32m third_method\u001b[0m\n"
            ],
            "text/html": [
              "<pre style=\"white-space:pre;overflow-x:auto;line-height:normal;font-family:Menlo,'DejaVu Sans Mono',consolas,'Courier New',monospace\"><span style=\"color: #000080; text-decoration-color: #000080; font-weight: bold\">🌊 Flow: </span><span style=\"color: #000080; text-decoration-color: #000080\">UnstructuredExampleFlow</span>\n",
              "<span style=\"color: #c0c0c0; text-decoration-color: #c0c0c0\">    ID: </span><span style=\"color: #000080; text-decoration-color: #000080\">fe8cb324-d4a0-4f02-8551-a4161d09e95e</span>\n",
              "├── <span style=\"color: #c0c0c0; text-decoration-color: #c0c0c0\">Flow Method Step</span>\n",
              "├── <span style=\"color: #008000; text-decoration-color: #008000; font-weight: bold\">✅ Completed: first_method</span>\n",
              "├── <span style=\"color: #008000; text-decoration-color: #008000; font-weight: bold\">✅ Completed: second_method</span>\n",
              "└── <span style=\"color: #008000; text-decoration-color: #008000; font-weight: bold\">✅ Completed: third_method</span>\n",
              "</pre>\n"
            ]
          },
          "metadata": {}
        },
        {
          "output_type": "display_data",
          "data": {
            "text/plain": [
              "\n"
            ],
            "text/html": [
              "<pre style=\"white-space:pre;overflow-x:auto;line-height:normal;font-family:Menlo,'DejaVu Sans Mono',consolas,'Courier New',monospace\">\n",
              "</pre>\n"
            ]
          },
          "metadata": {}
        },
        {
          "output_type": "display_data",
          "data": {
            "text/plain": [
              "\u001b[1;32m✅ Flow Finished: \u001b[0m\u001b[32mUnstructuredExampleFlow\u001b[0m\n",
              "├── \u001b[37mFlow Method Step\u001b[0m\n",
              "├── \u001b[1;32m✅ Completed:\u001b[0m\u001b[1;32m first_method\u001b[0m\n",
              "├── \u001b[1;32m✅ Completed:\u001b[0m\u001b[1;32m second_method\u001b[0m\n",
              "└── \u001b[1;32m✅ Completed:\u001b[0m\u001b[1;32m third_method\u001b[0m\n"
            ],
            "text/html": [
              "<pre style=\"white-space:pre;overflow-x:auto;line-height:normal;font-family:Menlo,'DejaVu Sans Mono',consolas,'Courier New',monospace\"><span style=\"color: #008000; text-decoration-color: #008000; font-weight: bold\">✅ Flow Finished: </span><span style=\"color: #008000; text-decoration-color: #008000\">UnstructuredExampleFlow</span>\n",
              "├── <span style=\"color: #c0c0c0; text-decoration-color: #c0c0c0\">Flow Method Step</span>\n",
              "├── <span style=\"color: #008000; text-decoration-color: #008000; font-weight: bold\">✅ Completed: first_method</span>\n",
              "├── <span style=\"color: #008000; text-decoration-color: #008000; font-weight: bold\">✅ Completed: second_method</span>\n",
              "└── <span style=\"color: #008000; text-decoration-color: #008000; font-weight: bold\">✅ Completed: third_method</span>\n",
              "</pre>\n"
            ]
          },
          "metadata": {}
        },
        {
          "output_type": "display_data",
          "data": {
            "text/plain": [
              "\u001b[32m╭─\u001b[0m\u001b[32m───────────────────────────────────────────────\u001b[0m\u001b[32m Flow Completion \u001b[0m\u001b[32m───────────────────────────────────────────────\u001b[0m\u001b[32m─╮\u001b[0m\n",
              "\u001b[32m│\u001b[0m                                                                                                                 \u001b[32m│\u001b[0m\n",
              "\u001b[32m│\u001b[0m  \u001b[1;32mFlow Execution Completed\u001b[0m                                                                                       \u001b[32m│\u001b[0m\n",
              "\u001b[32m│\u001b[0m  \u001b[37mName: \u001b[0m\u001b[32mUnstructuredExampleFlow\u001b[0m                                                                                  \u001b[32m│\u001b[0m\n",
              "\u001b[32m│\u001b[0m  \u001b[37mID: \u001b[0m\u001b[32mfe8cb324-d4a0-4f02-8551-a4161d09e95e\u001b[0m                                                                       \u001b[32m│\u001b[0m\n",
              "\u001b[32m│\u001b[0m                                                                                                                 \u001b[32m│\u001b[0m\n",
              "\u001b[32m│\u001b[0m                                                                                                                 \u001b[32m│\u001b[0m\n",
              "\u001b[32m╰─────────────────────────────────────────────────────────────────────────────────────────────────────────────────╯\u001b[0m\n"
            ],
            "text/html": [
              "<pre style=\"white-space:pre;overflow-x:auto;line-height:normal;font-family:Menlo,'DejaVu Sans Mono',consolas,'Courier New',monospace\"><span style=\"color: #008000; text-decoration-color: #008000\">╭──────────────────────────────────────────────── Flow Completion ────────────────────────────────────────────────╮</span>\n",
              "<span style=\"color: #008000; text-decoration-color: #008000\">│</span>                                                                                                                 <span style=\"color: #008000; text-decoration-color: #008000\">│</span>\n",
              "<span style=\"color: #008000; text-decoration-color: #008000\">│</span>  <span style=\"color: #008000; text-decoration-color: #008000; font-weight: bold\">Flow Execution Completed</span>                                                                                       <span style=\"color: #008000; text-decoration-color: #008000\">│</span>\n",
              "<span style=\"color: #008000; text-decoration-color: #008000\">│</span>  <span style=\"color: #c0c0c0; text-decoration-color: #c0c0c0\">Name: </span><span style=\"color: #008000; text-decoration-color: #008000\">UnstructuredExampleFlow</span>                                                                                  <span style=\"color: #008000; text-decoration-color: #008000\">│</span>\n",
              "<span style=\"color: #008000; text-decoration-color: #008000\">│</span>  <span style=\"color: #c0c0c0; text-decoration-color: #c0c0c0\">ID: </span><span style=\"color: #008000; text-decoration-color: #008000\">fe8cb324-d4a0-4f02-8551-a4161d09e95e</span>                                                                       <span style=\"color: #008000; text-decoration-color: #008000\">│</span>\n",
              "<span style=\"color: #008000; text-decoration-color: #008000\">│</span>                                                                                                                 <span style=\"color: #008000; text-decoration-color: #008000\">│</span>\n",
              "<span style=\"color: #008000; text-decoration-color: #008000\">│</span>                                                                                                                 <span style=\"color: #008000; text-decoration-color: #008000\">│</span>\n",
              "<span style=\"color: #008000; text-decoration-color: #008000\">╰─────────────────────────────────────────────────────────────────────────────────────────────────────────────────╯</span>\n",
              "</pre>\n"
            ]
          },
          "metadata": {}
        },
        {
          "output_type": "display_data",
          "data": {
            "text/plain": [
              "\n"
            ],
            "text/html": [
              "<pre style=\"white-space:pre;overflow-x:auto;line-height:normal;font-family:Menlo,'DejaVu Sans Mono',consolas,'Courier New',monospace\">\n",
              "</pre>\n"
            ]
          },
          "metadata": {}
        },
        {
          "output_type": "stream",
          "name": "stdout",
          "text": [
            "Plot saved as Three_methods.html\n"
          ]
        }
      ]
    },
    {
      "cell_type": "code",
      "source": [
        "# prompt: Show image of html file with path -> /content/my_flow_plot.html\n",
        "\n",
        "from IPython.display import HTML\n",
        "\n",
        "HTML(filename='/content/Three_methods.html')\n"
      ],
      "metadata": {
        "colab": {
          "base_uri": "https://localhost:8080/",
          "height": 1000
        },
        "collapsed": true,
        "id": "C0O9l6iEMLKq",
        "outputId": "0d8d3d3b-a9fa-4efb-8388-2dbffd05f64c"
      },
      "execution_count": 13,
      "outputs": [
        {
          "output_type": "execute_result",
          "data": {
            "text/plain": [
              "<IPython.core.display.HTML object>"
            ],
            "text/html": [
              "<!DOCTYPE html>\n",
              "<html>\n",
              "  <head>\n",
              "    <meta charset=\"utf-8\" />\n",
              "    <title>Flow Plot</title>\n",
              "    <script\n",
              "      src=\"https://cdnjs.cloudflare.com/ajax/libs/vis-network/9.1.2/dist/vis-network.min.js\"\n",
              "      integrity=\"sha512-LnvoEWDFrqGHlHmDD2101OrLcbsfkrzoSpvtSQtxK3RMnRV0eOkhhBN2dXHKRrUU8p2DGRTk35n4O8nWSVe1mQ==\"\n",
              "      crossorigin=\"anonymous\"\n",
              "      referrerpolicy=\"no-referrer\"\n",
              "    ></script>\n",
              "    <link\n",
              "      rel=\"stylesheet\"\n",
              "      href=\"https://cdnjs.cloudflare.com/ajax/libs/vis-network/9.1.2/dist/dist/vis-network.min.css\"\n",
              "      integrity=\"sha512-WgxfT5LWjfszlPHXRmBWHkV2eceiWTOBvrKCNbdgDYTHrT2AeLCGbF4sZlZw3UMN3WtL0tGUoIAKsu8mllg/XA==\"\n",
              "      crossorigin=\"anonymous\"\n",
              "      referrerpolicy=\"no-referrer\"\n",
              "    />\n",
              "    <style type=\"text/css\">\n",
              "      body {\n",
              "        font-family: verdana;\n",
              "        margin: 0;\n",
              "        padding: 0;\n",
              "      }\n",
              "      .container {\n",
              "        display: flex;\n",
              "        flex-direction: column;\n",
              "        height: 100vh;\n",
              "      }\n",
              "      #mynetwork {\n",
              "        flex-grow: 1;\n",
              "        width: 100%;\n",
              "        height: 750px;\n",
              "        background-color: #ffffff;\n",
              "      }\n",
              "      .card {\n",
              "        border: none;\n",
              "      }\n",
              "      .legend-container {\n",
              "        display: flex;\n",
              "        align-items: center;\n",
              "        justify-content: center;\n",
              "        padding: 10px;\n",
              "        background-color: #f8f9fa;\n",
              "        position: fixed; /* Make the legend fixed */\n",
              "        bottom: 0; /* Position it at the bottom */\n",
              "        width: 100%; /* Make it span the full width */\n",
              "      }\n",
              "      .legend-item {\n",
              "        display: flex;\n",
              "        align-items: center;\n",
              "        margin-right: 20px;\n",
              "      }\n",
              "      .legend-color-box {\n",
              "        width: 20px;\n",
              "        height: 20px;\n",
              "        margin-right: 5px;\n",
              "      }\n",
              "      .logo {\n",
              "        height: 50px;\n",
              "        margin-right: 20px;\n",
              "      }\n",
              "      .legend-dashed {\n",
              "        border-bottom: 2px dashed #666666;\n",
              "        width: 20px;\n",
              "        height: 0;\n",
              "        margin-right: 5px;\n",
              "      }\n",
              "      .legend-solid {\n",
              "        border-bottom: 2px solid #666666;\n",
              "        width: 20px;\n",
              "        height: 0;\n",
              "        margin-right: 5px;\n",
              "      }\n",
              "    </style>\n",
              "  </head>\n",
              "  <body>\n",
              "    <div class=\"container\">\n",
              "      <div class=\"card\" style=\"width: 100%\">\n",
              "        <div id=\"mynetwork\" class=\"card-body\"></div>\n",
              "      </div>\n",
              "      <div class=\"legend-container\">\n",
              "        <img\n",
              "          src=\"data:image/svg+xml;base64,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\"\n",
              "          alt=\"CrewAI logo\"\n",
              "          class=\"logo\"\n",
              "        />\n",
              "        \n",
              "            <div class=\"legend-item\">\n",
              "            <div class=\"legend-color-box\" style=\"background-color: #FF5A50; border-radius: 5px;\"></div>\n",
              "            <div>Start Method</div>\n",
              "            </div>\n",
              "            \n",
              "            <div class=\"legend-item\">\n",
              "            <div class=\"legend-color-box\" style=\"background-color: #333333; border-radius: 5px;\"></div>\n",
              "            <div>Method</div>\n",
              "            </div>\n",
              "            \n",
              "            <div class=\"legend-item\">\n",
              "            <div class=\"legend-color-box\" style=\"background-color: #FFFFFF; border: 2px solid #FF5A50; border-radius: 5px;\"></div>\n",
              "            <div>Crew Method</div>\n",
              "            </div>\n",
              "            \n",
              "            <div class=\"legend-item\">\n",
              "            <div class=\"legend-color-box\" style=\"background-color: #333333; border: 2px dashed #FF5A50; border-radius: 5px;\"></div>\n",
              "            <div>Router</div>\n",
              "            </div>\n",
              "            \n",
              "            <div class=\"legend-item\">\n",
              "            <div class=\"legend-solid\" style=\"border-bottom: 2px solid #666666; border-radius: 5px;\"></div>\n",
              "            <div>Trigger</div>\n",
              "            </div>\n",
              "            \n",
              "            <div class=\"legend-item\">\n",
              "            <div class=\"legend-dashed\" style=\"border-bottom: 2px dashed #666666; border-radius: 5px;\"></div>\n",
              "            <div>AND Trigger</div>\n",
              "            </div>\n",
              "            \n",
              "            <div class=\"legend-item\">\n",
              "            <div class=\"legend-dashed\" style=\"border-bottom: 2px dashed #FF5A50; border-radius: 5px;\"></div>\n",
              "            <div>Router Trigger</div>\n",
              "            </div>\n",
              "            \n",
              "      </div>\n",
              "    </div>\n",
              "    \n",
              "        <div class=\"card\" style=\"width: 100%\">\n",
              "            \n",
              "            \n",
              "            <div id=\"mynetwork\" class=\"card-body\"></div>\n",
              "        </div>\n",
              "\n",
              "        \n",
              "        \n",
              "\n",
              "        <script type=\"text/javascript\">\n",
              "\n",
              "              // initialize global variables.\n",
              "              var edges;\n",
              "              var nodes;\n",
              "              var allNodes;\n",
              "              var allEdges;\n",
              "              var nodeColors;\n",
              "              var originalNodes;\n",
              "              var network;\n",
              "              var container;\n",
              "              var options, data;\n",
              "              var filter = {\n",
              "                  item : '',\n",
              "                  property : '',\n",
              "                  value : []\n",
              "              };\n",
              "\n",
              "              \n",
              "\n",
              "              \n",
              "\n",
              "              // This method is responsible for drawing the graph, returns the drawn network\n",
              "              function drawGraph() {\n",
              "                  var container = document.getElementById('mynetwork');\n",
              "\n",
              "                  \n",
              "\n",
              "                  // parsing and collecting nodes and edges from the python\n",
              "                  nodes = new vis.DataSet([{\"color\": \"#FF5A50\", \"fixed\": true, \"font\": {\"color\": \"#FFFFFF\", \"multi\": \"html\"}, \"id\": \"first_method\", \"label\": \"First Method\", \"margin\": {\"bottom\": 8, \"left\": 10, \"right\": 10, \"top\": 10}, \"physics\": false, \"shape\": \"box\", \"x\": 0.0, \"y\": 0}, {\"color\": \"#333333\", \"fixed\": true, \"font\": {\"color\": \"#FFFFFF\", \"multi\": \"html\"}, \"id\": \"second_method\", \"label\": \"Second Method\", \"margin\": {\"bottom\": 8, \"left\": 10, \"right\": 10, \"top\": 10}, \"physics\": false, \"shape\": \"box\", \"x\": 0.0, \"y\": 150}, {\"color\": \"#333333\", \"fixed\": true, \"font\": {\"color\": \"#FFFFFF\", \"multi\": \"html\"}, \"id\": \"third_method\", \"label\": \"Third Method\", \"margin\": {\"bottom\": 8, \"left\": 10, \"right\": 10, \"top\": 10}, \"physics\": false, \"shape\": \"box\", \"x\": 0.0, \"y\": 300}]);\n",
              "                  edges = new vis.DataSet([{\"arrows\": \"to\", \"color\": \"#666666\", \"dashes\": false, \"from\": \"first_method\", \"smooth\": {\"type\": \"continuous\"}, \"to\": \"second_method\", \"width\": 2}, {\"arrows\": \"to\", \"color\": \"#666666\", \"dashes\": false, \"from\": \"second_method\", \"smooth\": {\"type\": \"continuous\"}, \"to\": \"third_method\", \"width\": 2}]);\n",
              "\n",
              "                  nodeColors = {};\n",
              "                  allNodes = nodes.get({ returnType: \"Object\" });\n",
              "                  for (nodeId in allNodes) {\n",
              "                    nodeColors[nodeId] = allNodes[nodeId].color;\n",
              "                  }\n",
              "                  allEdges = edges.get({ returnType: \"Object\" });\n",
              "                  // adding nodes and edges to the graph\n",
              "                  data = {nodes: nodes, edges: edges};\n",
              "\n",
              "                  var options = {\"nodes\": {\"font\": {\"multi\": \"html\"}}, \"physics\": {\"enabled\": false}};\n",
              "\n",
              "                  \n",
              "\n",
              "\n",
              "                  \n",
              "\n",
              "                  network = new vis.Network(container, data, options);\n",
              "\n",
              "                  \n",
              "\n",
              "                  \n",
              "\n",
              "                  \n",
              "\n",
              "\n",
              "                  \n",
              "\n",
              "                  return network;\n",
              "\n",
              "              }\n",
              "              drawGraph();\n",
              "        </script>\n",
              "    \n",
              "  </body>\n",
              "</html>\n"
            ]
          },
          "metadata": {},
          "execution_count": 13
        }
      ]
    },
    {
      "cell_type": "code",
      "source": [
        "from crewai.flow.flow import Flow, listen, start\n",
        "from pydantic import BaseModel\n",
        "\n",
        "\n",
        "class ExampleState(BaseModel):\n",
        "    # Note: 'id' field is automatically added to all states\n",
        "    counter: int = 0\n",
        "    message: str = \"\"\n",
        "\n",
        "\n",
        "class StructuredExampleFlow(Flow[ExampleState]):\n",
        "\n",
        "    @start()\n",
        "    def first_method(self):\n",
        "        # Access the auto-generated ID if needed\n",
        "        print(f\"State ID: {self.state.id}\")\n",
        "        self.state.message = \"Hello from structured flow\"\n",
        "\n",
        "    @listen(first_method)\n",
        "    def second_method(self):\n",
        "        self.state.counter += 1\n",
        "        self.state.message += \" - updated\"\n",
        "\n",
        "    @listen(second_method)\n",
        "    def third_method(self):\n",
        "        self.state.counter += 1\n",
        "        self.state.message += \" - updated again\"\n",
        "\n",
        "        print(f\"State after third_method: {self.state}\")\n",
        "\n",
        "\n",
        "flow = StructuredExampleFlow()\n",
        "flow.kickoff()\n",
        "flow.plot(\"Next_Three_methods\")"
      ],
      "metadata": {
        "colab": {
          "base_uri": "https://localhost:8080/",
          "height": 1000
        },
        "id": "1V2t6GqsMR2M",
        "outputId": "bfc1e358-8658-4488-9876-984ea44c5928"
      },
      "execution_count": 14,
      "outputs": [
        {
          "output_type": "display_data",
          "data": {
            "text/plain": [
              "\u001b[34m╭─\u001b[0m\u001b[34m───────────────────────────────────────────────\u001b[0m\u001b[34m Flow Execution \u001b[0m\u001b[34m────────────────────────────────────────────────\u001b[0m\u001b[34m─╮\u001b[0m\n",
              "\u001b[34m│\u001b[0m                                                                                                                 \u001b[34m│\u001b[0m\n",
              "\u001b[34m│\u001b[0m  \u001b[1;34mStarting Flow Execution\u001b[0m                                                                                        \u001b[34m│\u001b[0m\n",
              "\u001b[34m│\u001b[0m  \u001b[37mName: \u001b[0m\u001b[34mStructuredExampleFlow\u001b[0m                                                                                    \u001b[34m│\u001b[0m\n",
              "\u001b[34m│\u001b[0m  \u001b[37mID: \u001b[0m\u001b[34m06457e44-8cf8-441e-bf4f-14393764486f\u001b[0m                                                                       \u001b[34m│\u001b[0m\n",
              "\u001b[34m│\u001b[0m                                                                                                                 \u001b[34m│\u001b[0m\n",
              "\u001b[34m│\u001b[0m                                                                                                                 \u001b[34m│\u001b[0m\n",
              "\u001b[34m╰─────────────────────────────────────────────────────────────────────────────────────────────────────────────────╯\u001b[0m\n"
            ],
            "text/html": [
              "<pre style=\"white-space:pre;overflow-x:auto;line-height:normal;font-family:Menlo,'DejaVu Sans Mono',consolas,'Courier New',monospace\"><span style=\"color: #000080; text-decoration-color: #000080\">╭──────────────────────────────────────────────── Flow Execution ─────────────────────────────────────────────────╮</span>\n",
              "<span style=\"color: #000080; text-decoration-color: #000080\">│</span>                                                                                                                 <span style=\"color: #000080; text-decoration-color: #000080\">│</span>\n",
              "<span style=\"color: #000080; text-decoration-color: #000080\">│</span>  <span style=\"color: #000080; text-decoration-color: #000080; font-weight: bold\">Starting Flow Execution</span>                                                                                        <span style=\"color: #000080; text-decoration-color: #000080\">│</span>\n",
              "<span style=\"color: #000080; text-decoration-color: #000080\">│</span>  <span style=\"color: #c0c0c0; text-decoration-color: #c0c0c0\">Name: </span><span style=\"color: #000080; text-decoration-color: #000080\">StructuredExampleFlow</span>                                                                                    <span style=\"color: #000080; text-decoration-color: #000080\">│</span>\n",
              "<span style=\"color: #000080; text-decoration-color: #000080\">│</span>  <span style=\"color: #c0c0c0; text-decoration-color: #c0c0c0\">ID: </span><span style=\"color: #000080; text-decoration-color: #000080\">06457e44-8cf8-441e-bf4f-14393764486f</span>                                                                       <span style=\"color: #000080; text-decoration-color: #000080\">│</span>\n",
              "<span style=\"color: #000080; text-decoration-color: #000080\">│</span>                                                                                                                 <span style=\"color: #000080; text-decoration-color: #000080\">│</span>\n",
              "<span style=\"color: #000080; text-decoration-color: #000080\">│</span>                                                                                                                 <span style=\"color: #000080; text-decoration-color: #000080\">│</span>\n",
              "<span style=\"color: #000080; text-decoration-color: #000080\">╰─────────────────────────────────────────────────────────────────────────────────────────────────────────────────╯</span>\n",
              "</pre>\n"
            ]
          },
          "metadata": {}
        },
        {
          "output_type": "display_data",
          "data": {
            "text/plain": [
              "\n"
            ],
            "text/html": [
              "<pre style=\"white-space:pre;overflow-x:auto;line-height:normal;font-family:Menlo,'DejaVu Sans Mono',consolas,'Courier New',monospace\">\n",
              "</pre>\n"
            ]
          },
          "metadata": {}
        },
        {
          "output_type": "display_data",
          "data": {
            "text/plain": [
              "\u001b[1;34m🌊 Flow: \u001b[0m\u001b[34mStructuredExampleFlow\u001b[0m\n",
              "\u001b[37m    ID: \u001b[0m\u001b[34m06457e44-8cf8-441e-bf4f-14393764486f\u001b[0m\n",
              "└── \u001b[33m🧠 Starting Flow...\u001b[0m\n"
            ],
            "text/html": [
              "<pre style=\"white-space:pre;overflow-x:auto;line-height:normal;font-family:Menlo,'DejaVu Sans Mono',consolas,'Courier New',monospace\"><span style=\"color: #000080; text-decoration-color: #000080; font-weight: bold\">🌊 Flow: </span><span style=\"color: #000080; text-decoration-color: #000080\">StructuredExampleFlow</span>\n",
              "<span style=\"color: #c0c0c0; text-decoration-color: #c0c0c0\">    ID: </span><span style=\"color: #000080; text-decoration-color: #000080\">06457e44-8cf8-441e-bf4f-14393764486f</span>\n",
              "└── <span style=\"color: #808000; text-decoration-color: #808000\">🧠 Starting Flow...</span>\n",
              "</pre>\n"
            ]
          },
          "metadata": {}
        },
        {
          "output_type": "display_data",
          "data": {
            "text/plain": [
              "\n"
            ],
            "text/html": [
              "<pre style=\"white-space:pre;overflow-x:auto;line-height:normal;font-family:Menlo,'DejaVu Sans Mono',consolas,'Courier New',monospace\">\n",
              "</pre>\n"
            ]
          },
          "metadata": {}
        },
        {
          "output_type": "stream",
          "name": "stdout",
          "text": [
            "\u001b[1m\u001b[35m Flow started with ID: 06457e44-8cf8-441e-bf4f-14393764486f\u001b[00m\n"
          ]
        },
        {
          "output_type": "display_data",
          "data": {
            "text/plain": [
              "\u001b[1;34m🌊 Flow: \u001b[0m\u001b[34mStructuredExampleFlow\u001b[0m\n",
              "\u001b[37m    ID: \u001b[0m\u001b[34m06457e44-8cf8-441e-bf4f-14393764486f\u001b[0m\n",
              "├── \u001b[33m🧠 Starting Flow...\u001b[0m\n",
              "└── \u001b[1;33m🔄 Running:\u001b[0m\u001b[1;33m first_method\u001b[0m\n"
            ],
            "text/html": [
              "<pre style=\"white-space:pre;overflow-x:auto;line-height:normal;font-family:Menlo,'DejaVu Sans Mono',consolas,'Courier New',monospace\"><span style=\"color: #000080; text-decoration-color: #000080; font-weight: bold\">🌊 Flow: </span><span style=\"color: #000080; text-decoration-color: #000080\">StructuredExampleFlow</span>\n",
              "<span style=\"color: #c0c0c0; text-decoration-color: #c0c0c0\">    ID: </span><span style=\"color: #000080; text-decoration-color: #000080\">06457e44-8cf8-441e-bf4f-14393764486f</span>\n",
              "├── <span style=\"color: #808000; text-decoration-color: #808000\">🧠 Starting Flow...</span>\n",
              "└── <span style=\"color: #808000; text-decoration-color: #808000; font-weight: bold\">🔄 Running: first_method</span>\n",
              "</pre>\n"
            ]
          },
          "metadata": {}
        },
        {
          "output_type": "display_data",
          "data": {
            "text/plain": [
              "\n"
            ],
            "text/html": [
              "<pre style=\"white-space:pre;overflow-x:auto;line-height:normal;font-family:Menlo,'DejaVu Sans Mono',consolas,'Courier New',monospace\">\n",
              "</pre>\n"
            ]
          },
          "metadata": {}
        },
        {
          "output_type": "stream",
          "name": "stdout",
          "text": [
            "State ID: 06457e44-8cf8-441e-bf4f-14393764486f\n"
          ]
        },
        {
          "output_type": "display_data",
          "data": {
            "text/plain": [
              "\u001b[1;34m🌊 Flow: \u001b[0m\u001b[34mStructuredExampleFlow\u001b[0m\n",
              "\u001b[37m    ID: \u001b[0m\u001b[34m06457e44-8cf8-441e-bf4f-14393764486f\u001b[0m\n",
              "├── \u001b[37mFlow Method Step\u001b[0m\n",
              "└── \u001b[1;32m✅ Completed:\u001b[0m\u001b[1;32m first_method\u001b[0m\n"
            ],
            "text/html": [
              "<pre style=\"white-space:pre;overflow-x:auto;line-height:normal;font-family:Menlo,'DejaVu Sans Mono',consolas,'Courier New',monospace\"><span style=\"color: #000080; text-decoration-color: #000080; font-weight: bold\">🌊 Flow: </span><span style=\"color: #000080; text-decoration-color: #000080\">StructuredExampleFlow</span>\n",
              "<span style=\"color: #c0c0c0; text-decoration-color: #c0c0c0\">    ID: </span><span style=\"color: #000080; text-decoration-color: #000080\">06457e44-8cf8-441e-bf4f-14393764486f</span>\n",
              "├── <span style=\"color: #c0c0c0; text-decoration-color: #c0c0c0\">Flow Method Step</span>\n",
              "└── <span style=\"color: #008000; text-decoration-color: #008000; font-weight: bold\">✅ Completed: first_method</span>\n",
              "</pre>\n"
            ]
          },
          "metadata": {}
        },
        {
          "output_type": "display_data",
          "data": {
            "text/plain": [
              "\n"
            ],
            "text/html": [
              "<pre style=\"white-space:pre;overflow-x:auto;line-height:normal;font-family:Menlo,'DejaVu Sans Mono',consolas,'Courier New',monospace\">\n",
              "</pre>\n"
            ]
          },
          "metadata": {}
        },
        {
          "output_type": "display_data",
          "data": {
            "text/plain": [
              "\u001b[1;34m🌊 Flow: \u001b[0m\u001b[34mStructuredExampleFlow\u001b[0m\n",
              "\u001b[37m    ID: \u001b[0m\u001b[34m06457e44-8cf8-441e-bf4f-14393764486f\u001b[0m\n",
              "├── \u001b[37mFlow Method Step\u001b[0m\n",
              "├── \u001b[1;32m✅ Completed:\u001b[0m\u001b[1;32m first_method\u001b[0m\n",
              "└── \u001b[1;33m🔄 Running:\u001b[0m\u001b[1;33m second_method\u001b[0m\n"
            ],
            "text/html": [
              "<pre style=\"white-space:pre;overflow-x:auto;line-height:normal;font-family:Menlo,'DejaVu Sans Mono',consolas,'Courier New',monospace\"><span style=\"color: #000080; text-decoration-color: #000080; font-weight: bold\">🌊 Flow: </span><span style=\"color: #000080; text-decoration-color: #000080\">StructuredExampleFlow</span>\n",
              "<span style=\"color: #c0c0c0; text-decoration-color: #c0c0c0\">    ID: </span><span style=\"color: #000080; text-decoration-color: #000080\">06457e44-8cf8-441e-bf4f-14393764486f</span>\n",
              "├── <span style=\"color: #c0c0c0; text-decoration-color: #c0c0c0\">Flow Method Step</span>\n",
              "├── <span style=\"color: #008000; text-decoration-color: #008000; font-weight: bold\">✅ Completed: first_method</span>\n",
              "└── <span style=\"color: #808000; text-decoration-color: #808000; font-weight: bold\">🔄 Running: second_method</span>\n",
              "</pre>\n"
            ]
          },
          "metadata": {}
        },
        {
          "output_type": "display_data",
          "data": {
            "text/plain": [
              "\n"
            ],
            "text/html": [
              "<pre style=\"white-space:pre;overflow-x:auto;line-height:normal;font-family:Menlo,'DejaVu Sans Mono',consolas,'Courier New',monospace\">\n",
              "</pre>\n"
            ]
          },
          "metadata": {}
        },
        {
          "output_type": "display_data",
          "data": {
            "text/plain": [
              "\u001b[1;34m🌊 Flow: \u001b[0m\u001b[34mStructuredExampleFlow\u001b[0m\n",
              "\u001b[37m    ID: \u001b[0m\u001b[34m06457e44-8cf8-441e-bf4f-14393764486f\u001b[0m\n",
              "├── \u001b[37mFlow Method Step\u001b[0m\n",
              "├── \u001b[1;32m✅ Completed:\u001b[0m\u001b[1;32m first_method\u001b[0m\n",
              "└── \u001b[1;32m✅ Completed:\u001b[0m\u001b[1;32m second_method\u001b[0m\n"
            ],
            "text/html": [
              "<pre style=\"white-space:pre;overflow-x:auto;line-height:normal;font-family:Menlo,'DejaVu Sans Mono',consolas,'Courier New',monospace\"><span style=\"color: #000080; text-decoration-color: #000080; font-weight: bold\">🌊 Flow: </span><span style=\"color: #000080; text-decoration-color: #000080\">StructuredExampleFlow</span>\n",
              "<span style=\"color: #c0c0c0; text-decoration-color: #c0c0c0\">    ID: </span><span style=\"color: #000080; text-decoration-color: #000080\">06457e44-8cf8-441e-bf4f-14393764486f</span>\n",
              "├── <span style=\"color: #c0c0c0; text-decoration-color: #c0c0c0\">Flow Method Step</span>\n",
              "├── <span style=\"color: #008000; text-decoration-color: #008000; font-weight: bold\">✅ Completed: first_method</span>\n",
              "└── <span style=\"color: #008000; text-decoration-color: #008000; font-weight: bold\">✅ Completed: second_method</span>\n",
              "</pre>\n"
            ]
          },
          "metadata": {}
        },
        {
          "output_type": "display_data",
          "data": {
            "text/plain": [
              "\n"
            ],
            "text/html": [
              "<pre style=\"white-space:pre;overflow-x:auto;line-height:normal;font-family:Menlo,'DejaVu Sans Mono',consolas,'Courier New',monospace\">\n",
              "</pre>\n"
            ]
          },
          "metadata": {}
        },
        {
          "output_type": "display_data",
          "data": {
            "text/plain": [
              "\u001b[1;34m🌊 Flow: \u001b[0m\u001b[34mStructuredExampleFlow\u001b[0m\n",
              "\u001b[37m    ID: \u001b[0m\u001b[34m06457e44-8cf8-441e-bf4f-14393764486f\u001b[0m\n",
              "├── \u001b[37mFlow Method Step\u001b[0m\n",
              "├── \u001b[1;32m✅ Completed:\u001b[0m\u001b[1;32m first_method\u001b[0m\n",
              "├── \u001b[1;32m✅ Completed:\u001b[0m\u001b[1;32m second_method\u001b[0m\n",
              "└── \u001b[1;33m🔄 Running:\u001b[0m\u001b[1;33m third_method\u001b[0m\n"
            ],
            "text/html": [
              "<pre style=\"white-space:pre;overflow-x:auto;line-height:normal;font-family:Menlo,'DejaVu Sans Mono',consolas,'Courier New',monospace\"><span style=\"color: #000080; text-decoration-color: #000080; font-weight: bold\">🌊 Flow: </span><span style=\"color: #000080; text-decoration-color: #000080\">StructuredExampleFlow</span>\n",
              "<span style=\"color: #c0c0c0; text-decoration-color: #c0c0c0\">    ID: </span><span style=\"color: #000080; text-decoration-color: #000080\">06457e44-8cf8-441e-bf4f-14393764486f</span>\n",
              "├── <span style=\"color: #c0c0c0; text-decoration-color: #c0c0c0\">Flow Method Step</span>\n",
              "├── <span style=\"color: #008000; text-decoration-color: #008000; font-weight: bold\">✅ Completed: first_method</span>\n",
              "├── <span style=\"color: #008000; text-decoration-color: #008000; font-weight: bold\">✅ Completed: second_method</span>\n",
              "└── <span style=\"color: #808000; text-decoration-color: #808000; font-weight: bold\">🔄 Running: third_method</span>\n",
              "</pre>\n"
            ]
          },
          "metadata": {}
        },
        {
          "output_type": "display_data",
          "data": {
            "text/plain": [
              "\n"
            ],
            "text/html": [
              "<pre style=\"white-space:pre;overflow-x:auto;line-height:normal;font-family:Menlo,'DejaVu Sans Mono',consolas,'Courier New',monospace\">\n",
              "</pre>\n"
            ]
          },
          "metadata": {}
        },
        {
          "output_type": "stream",
          "name": "stdout",
          "text": [
            "State after third_method: id='06457e44-8cf8-441e-bf4f-14393764486f' counter=2 message='Hello from structured flow - updated - updated again'\n"
          ]
        },
        {
          "output_type": "display_data",
          "data": {
            "text/plain": [
              "\u001b[1;34m🌊 Flow: \u001b[0m\u001b[34mStructuredExampleFlow\u001b[0m\n",
              "\u001b[37m    ID: \u001b[0m\u001b[34m06457e44-8cf8-441e-bf4f-14393764486f\u001b[0m\n",
              "├── \u001b[37mFlow Method Step\u001b[0m\n",
              "├── \u001b[1;32m✅ Completed:\u001b[0m\u001b[1;32m first_method\u001b[0m\n",
              "├── \u001b[1;32m✅ Completed:\u001b[0m\u001b[1;32m second_method\u001b[0m\n",
              "└── \u001b[1;32m✅ Completed:\u001b[0m\u001b[1;32m third_method\u001b[0m\n"
            ],
            "text/html": [
              "<pre style=\"white-space:pre;overflow-x:auto;line-height:normal;font-family:Menlo,'DejaVu Sans Mono',consolas,'Courier New',monospace\"><span style=\"color: #000080; text-decoration-color: #000080; font-weight: bold\">🌊 Flow: </span><span style=\"color: #000080; text-decoration-color: #000080\">StructuredExampleFlow</span>\n",
              "<span style=\"color: #c0c0c0; text-decoration-color: #c0c0c0\">    ID: </span><span style=\"color: #000080; text-decoration-color: #000080\">06457e44-8cf8-441e-bf4f-14393764486f</span>\n",
              "├── <span style=\"color: #c0c0c0; text-decoration-color: #c0c0c0\">Flow Method Step</span>\n",
              "├── <span style=\"color: #008000; text-decoration-color: #008000; font-weight: bold\">✅ Completed: first_method</span>\n",
              "├── <span style=\"color: #008000; text-decoration-color: #008000; font-weight: bold\">✅ Completed: second_method</span>\n",
              "└── <span style=\"color: #008000; text-decoration-color: #008000; font-weight: bold\">✅ Completed: third_method</span>\n",
              "</pre>\n"
            ]
          },
          "metadata": {}
        },
        {
          "output_type": "display_data",
          "data": {
            "text/plain": [
              "\n"
            ],
            "text/html": [
              "<pre style=\"white-space:pre;overflow-x:auto;line-height:normal;font-family:Menlo,'DejaVu Sans Mono',consolas,'Courier New',monospace\">\n",
              "</pre>\n"
            ]
          },
          "metadata": {}
        },
        {
          "output_type": "display_data",
          "data": {
            "text/plain": [
              "\u001b[1;32m✅ Flow Finished: \u001b[0m\u001b[32mStructuredExampleFlow\u001b[0m\n",
              "├── \u001b[37mFlow Method Step\u001b[0m\n",
              "├── \u001b[1;32m✅ Completed:\u001b[0m\u001b[1;32m first_method\u001b[0m\n",
              "├── \u001b[1;32m✅ Completed:\u001b[0m\u001b[1;32m second_method\u001b[0m\n",
              "└── \u001b[1;32m✅ Completed:\u001b[0m\u001b[1;32m third_method\u001b[0m\n"
            ],
            "text/html": [
              "<pre style=\"white-space:pre;overflow-x:auto;line-height:normal;font-family:Menlo,'DejaVu Sans Mono',consolas,'Courier New',monospace\"><span style=\"color: #008000; text-decoration-color: #008000; font-weight: bold\">✅ Flow Finished: </span><span style=\"color: #008000; text-decoration-color: #008000\">StructuredExampleFlow</span>\n",
              "├── <span style=\"color: #c0c0c0; text-decoration-color: #c0c0c0\">Flow Method Step</span>\n",
              "├── <span style=\"color: #008000; text-decoration-color: #008000; font-weight: bold\">✅ Completed: first_method</span>\n",
              "├── <span style=\"color: #008000; text-decoration-color: #008000; font-weight: bold\">✅ Completed: second_method</span>\n",
              "└── <span style=\"color: #008000; text-decoration-color: #008000; font-weight: bold\">✅ Completed: third_method</span>\n",
              "</pre>\n"
            ]
          },
          "metadata": {}
        },
        {
          "output_type": "display_data",
          "data": {
            "text/plain": [
              "\u001b[32m╭─\u001b[0m\u001b[32m───────────────────────────────────────────────\u001b[0m\u001b[32m Flow Completion \u001b[0m\u001b[32m───────────────────────────────────────────────\u001b[0m\u001b[32m─╮\u001b[0m\n",
              "\u001b[32m│\u001b[0m                                                                                                                 \u001b[32m│\u001b[0m\n",
              "\u001b[32m│\u001b[0m  \u001b[1;32mFlow Execution Completed\u001b[0m                                                                                       \u001b[32m│\u001b[0m\n",
              "\u001b[32m│\u001b[0m  \u001b[37mName: \u001b[0m\u001b[32mStructuredExampleFlow\u001b[0m                                                                                    \u001b[32m│\u001b[0m\n",
              "\u001b[32m│\u001b[0m  \u001b[37mID: \u001b[0m\u001b[32m06457e44-8cf8-441e-bf4f-14393764486f\u001b[0m                                                                       \u001b[32m│\u001b[0m\n",
              "\u001b[32m│\u001b[0m                                                                                                                 \u001b[32m│\u001b[0m\n",
              "\u001b[32m│\u001b[0m                                                                                                                 \u001b[32m│\u001b[0m\n",
              "\u001b[32m╰─────────────────────────────────────────────────────────────────────────────────────────────────────────────────╯\u001b[0m\n"
            ],
            "text/html": [
              "<pre style=\"white-space:pre;overflow-x:auto;line-height:normal;font-family:Menlo,'DejaVu Sans Mono',consolas,'Courier New',monospace\"><span style=\"color: #008000; text-decoration-color: #008000\">╭──────────────────────────────────────────────── Flow Completion ────────────────────────────────────────────────╮</span>\n",
              "<span style=\"color: #008000; text-decoration-color: #008000\">│</span>                                                                                                                 <span style=\"color: #008000; text-decoration-color: #008000\">│</span>\n",
              "<span style=\"color: #008000; text-decoration-color: #008000\">│</span>  <span style=\"color: #008000; text-decoration-color: #008000; font-weight: bold\">Flow Execution Completed</span>                                                                                       <span style=\"color: #008000; text-decoration-color: #008000\">│</span>\n",
              "<span style=\"color: #008000; text-decoration-color: #008000\">│</span>  <span style=\"color: #c0c0c0; text-decoration-color: #c0c0c0\">Name: </span><span style=\"color: #008000; text-decoration-color: #008000\">StructuredExampleFlow</span>                                                                                    <span style=\"color: #008000; text-decoration-color: #008000\">│</span>\n",
              "<span style=\"color: #008000; text-decoration-color: #008000\">│</span>  <span style=\"color: #c0c0c0; text-decoration-color: #c0c0c0\">ID: </span><span style=\"color: #008000; text-decoration-color: #008000\">06457e44-8cf8-441e-bf4f-14393764486f</span>                                                                       <span style=\"color: #008000; text-decoration-color: #008000\">│</span>\n",
              "<span style=\"color: #008000; text-decoration-color: #008000\">│</span>                                                                                                                 <span style=\"color: #008000; text-decoration-color: #008000\">│</span>\n",
              "<span style=\"color: #008000; text-decoration-color: #008000\">│</span>                                                                                                                 <span style=\"color: #008000; text-decoration-color: #008000\">│</span>\n",
              "<span style=\"color: #008000; text-decoration-color: #008000\">╰─────────────────────────────────────────────────────────────────────────────────────────────────────────────────╯</span>\n",
              "</pre>\n"
            ]
          },
          "metadata": {}
        },
        {
          "output_type": "display_data",
          "data": {
            "text/plain": [
              "\n"
            ],
            "text/html": [
              "<pre style=\"white-space:pre;overflow-x:auto;line-height:normal;font-family:Menlo,'DejaVu Sans Mono',consolas,'Courier New',monospace\">\n",
              "</pre>\n"
            ]
          },
          "metadata": {}
        },
        {
          "output_type": "stream",
          "name": "stdout",
          "text": [
            "Plot saved as Next_Three_methods.html\n"
          ]
        }
      ]
    },
    {
      "cell_type": "code",
      "source": [
        "# prompt: Show image of html file with path -> /content/my_flow_plot.html\n",
        "\n",
        "from IPython.display import HTML\n",
        "\n",
        "HTML(filename='/content/Next_Three_methods.html')\n"
      ],
      "metadata": {
        "colab": {
          "base_uri": "https://localhost:8080/",
          "height": 1000
        },
        "id": "VeGEqhX7MYY6",
        "outputId": "5419ae57-4eb7-4396-8363-808a252cfe91"
      },
      "execution_count": 15,
      "outputs": [
        {
          "output_type": "execute_result",
          "data": {
            "text/plain": [
              "<IPython.core.display.HTML object>"
            ],
            "text/html": [
              "<!DOCTYPE html>\n",
              "<html>\n",
              "  <head>\n",
              "    <meta charset=\"utf-8\" />\n",
              "    <title>Flow Plot</title>\n",
              "    <script\n",
              "      src=\"https://cdnjs.cloudflare.com/ajax/libs/vis-network/9.1.2/dist/vis-network.min.js\"\n",
              "      integrity=\"sha512-LnvoEWDFrqGHlHmDD2101OrLcbsfkrzoSpvtSQtxK3RMnRV0eOkhhBN2dXHKRrUU8p2DGRTk35n4O8nWSVe1mQ==\"\n",
              "      crossorigin=\"anonymous\"\n",
              "      referrerpolicy=\"no-referrer\"\n",
              "    ></script>\n",
              "    <link\n",
              "      rel=\"stylesheet\"\n",
              "      href=\"https://cdnjs.cloudflare.com/ajax/libs/vis-network/9.1.2/dist/dist/vis-network.min.css\"\n",
              "      integrity=\"sha512-WgxfT5LWjfszlPHXRmBWHkV2eceiWTOBvrKCNbdgDYTHrT2AeLCGbF4sZlZw3UMN3WtL0tGUoIAKsu8mllg/XA==\"\n",
              "      crossorigin=\"anonymous\"\n",
              "      referrerpolicy=\"no-referrer\"\n",
              "    />\n",
              "    <style type=\"text/css\">\n",
              "      body {\n",
              "        font-family: verdana;\n",
              "        margin: 0;\n",
              "        padding: 0;\n",
              "      }\n",
              "      .container {\n",
              "        display: flex;\n",
              "        flex-direction: column;\n",
              "        height: 100vh;\n",
              "      }\n",
              "      #mynetwork {\n",
              "        flex-grow: 1;\n",
              "        width: 100%;\n",
              "        height: 750px;\n",
              "        background-color: #ffffff;\n",
              "      }\n",
              "      .card {\n",
              "        border: none;\n",
              "      }\n",
              "      .legend-container {\n",
              "        display: flex;\n",
              "        align-items: center;\n",
              "        justify-content: center;\n",
              "        padding: 10px;\n",
              "        background-color: #f8f9fa;\n",
              "        position: fixed; /* Make the legend fixed */\n",
              "        bottom: 0; /* Position it at the bottom */\n",
              "        width: 100%; /* Make it span the full width */\n",
              "      }\n",
              "      .legend-item {\n",
              "        display: flex;\n",
              "        align-items: center;\n",
              "        margin-right: 20px;\n",
              "      }\n",
              "      .legend-color-box {\n",
              "        width: 20px;\n",
              "        height: 20px;\n",
              "        margin-right: 5px;\n",
              "      }\n",
              "      .logo {\n",
              "        height: 50px;\n",
              "        margin-right: 20px;\n",
              "      }\n",
              "      .legend-dashed {\n",
              "        border-bottom: 2px dashed #666666;\n",
              "        width: 20px;\n",
              "        height: 0;\n",
              "        margin-right: 5px;\n",
              "      }\n",
              "      .legend-solid {\n",
              "        border-bottom: 2px solid #666666;\n",
              "        width: 20px;\n",
              "        height: 0;\n",
              "        margin-right: 5px;\n",
              "      }\n",
              "    </style>\n",
              "  </head>\n",
              "  <body>\n",
              "    <div class=\"container\">\n",
              "      <div class=\"card\" style=\"width: 100%\">\n",
              "        <div id=\"mynetwork\" class=\"card-body\"></div>\n",
              "      </div>\n",
              "      <div class=\"legend-container\">\n",
              "        <img\n",
              "          src=\"data:image/svg+xml;base64,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\"\n",
              "          alt=\"CrewAI logo\"\n",
              "          class=\"logo\"\n",
              "        />\n",
              "        \n",
              "            <div class=\"legend-item\">\n",
              "            <div class=\"legend-color-box\" style=\"background-color: #FF5A50; border-radius: 5px;\"></div>\n",
              "            <div>Start Method</div>\n",
              "            </div>\n",
              "            \n",
              "            <div class=\"legend-item\">\n",
              "            <div class=\"legend-color-box\" style=\"background-color: #333333; border-radius: 5px;\"></div>\n",
              "            <div>Method</div>\n",
              "            </div>\n",
              "            \n",
              "            <div class=\"legend-item\">\n",
              "            <div class=\"legend-color-box\" style=\"background-color: #FFFFFF; border: 2px solid #FF5A50; border-radius: 5px;\"></div>\n",
              "            <div>Crew Method</div>\n",
              "            </div>\n",
              "            \n",
              "            <div class=\"legend-item\">\n",
              "            <div class=\"legend-color-box\" style=\"background-color: #333333; border: 2px dashed #FF5A50; border-radius: 5px;\"></div>\n",
              "            <div>Router</div>\n",
              "            </div>\n",
              "            \n",
              "            <div class=\"legend-item\">\n",
              "            <div class=\"legend-solid\" style=\"border-bottom: 2px solid #666666; border-radius: 5px;\"></div>\n",
              "            <div>Trigger</div>\n",
              "            </div>\n",
              "            \n",
              "            <div class=\"legend-item\">\n",
              "            <div class=\"legend-dashed\" style=\"border-bottom: 2px dashed #666666; border-radius: 5px;\"></div>\n",
              "            <div>AND Trigger</div>\n",
              "            </div>\n",
              "            \n",
              "            <div class=\"legend-item\">\n",
              "            <div class=\"legend-dashed\" style=\"border-bottom: 2px dashed #FF5A50; border-radius: 5px;\"></div>\n",
              "            <div>Router Trigger</div>\n",
              "            </div>\n",
              "            \n",
              "      </div>\n",
              "    </div>\n",
              "    \n",
              "        <div class=\"card\" style=\"width: 100%\">\n",
              "            \n",
              "            \n",
              "            <div id=\"mynetwork\" class=\"card-body\"></div>\n",
              "        </div>\n",
              "\n",
              "        \n",
              "        \n",
              "\n",
              "        <script type=\"text/javascript\">\n",
              "\n",
              "              // initialize global variables.\n",
              "              var edges;\n",
              "              var nodes;\n",
              "              var allNodes;\n",
              "              var allEdges;\n",
              "              var nodeColors;\n",
              "              var originalNodes;\n",
              "              var network;\n",
              "              var container;\n",
              "              var options, data;\n",
              "              var filter = {\n",
              "                  item : '',\n",
              "                  property : '',\n",
              "                  value : []\n",
              "              };\n",
              "\n",
              "              \n",
              "\n",
              "              \n",
              "\n",
              "              // This method is responsible for drawing the graph, returns the drawn network\n",
              "              function drawGraph() {\n",
              "                  var container = document.getElementById('mynetwork');\n",
              "\n",
              "                  \n",
              "\n",
              "                  // parsing and collecting nodes and edges from the python\n",
              "                  nodes = new vis.DataSet([{\"color\": \"#FF5A50\", \"fixed\": true, \"font\": {\"color\": \"#FFFFFF\", \"multi\": \"html\"}, \"id\": \"first_method\", \"label\": \"First Method\", \"margin\": {\"bottom\": 8, \"left\": 10, \"right\": 10, \"top\": 10}, \"physics\": false, \"shape\": \"box\", \"x\": 0.0, \"y\": 0}, {\"color\": \"#333333\", \"fixed\": true, \"font\": {\"color\": \"#FFFFFF\", \"multi\": \"html\"}, \"id\": \"second_method\", \"label\": \"Second Method\", \"margin\": {\"bottom\": 8, \"left\": 10, \"right\": 10, \"top\": 10}, \"physics\": false, \"shape\": \"box\", \"x\": 0.0, \"y\": 150}, {\"color\": \"#333333\", \"fixed\": true, \"font\": {\"color\": \"#FFFFFF\", \"multi\": \"html\"}, \"id\": \"third_method\", \"label\": \"Third Method\", \"margin\": {\"bottom\": 8, \"left\": 10, \"right\": 10, \"top\": 10}, \"physics\": false, \"shape\": \"box\", \"x\": 0.0, \"y\": 300}]);\n",
              "                  edges = new vis.DataSet([{\"arrows\": \"to\", \"color\": \"#666666\", \"dashes\": false, \"from\": \"first_method\", \"smooth\": {\"type\": \"continuous\"}, \"to\": \"second_method\", \"width\": 2}, {\"arrows\": \"to\", \"color\": \"#666666\", \"dashes\": false, \"from\": \"second_method\", \"smooth\": {\"type\": \"continuous\"}, \"to\": \"third_method\", \"width\": 2}]);\n",
              "\n",
              "                  nodeColors = {};\n",
              "                  allNodes = nodes.get({ returnType: \"Object\" });\n",
              "                  for (nodeId in allNodes) {\n",
              "                    nodeColors[nodeId] = allNodes[nodeId].color;\n",
              "                  }\n",
              "                  allEdges = edges.get({ returnType: \"Object\" });\n",
              "                  // adding nodes and edges to the graph\n",
              "                  data = {nodes: nodes, edges: edges};\n",
              "\n",
              "                  var options = {\"nodes\": {\"font\": {\"multi\": \"html\"}}, \"physics\": {\"enabled\": false}};\n",
              "\n",
              "                  \n",
              "\n",
              "\n",
              "                  \n",
              "\n",
              "                  network = new vis.Network(container, data, options);\n",
              "\n",
              "                  \n",
              "\n",
              "                  \n",
              "\n",
              "                  \n",
              "\n",
              "\n",
              "                  \n",
              "\n",
              "                  return network;\n",
              "\n",
              "              }\n",
              "              drawGraph();\n",
              "        </script>\n",
              "    \n",
              "  </body>\n",
              "</html>\n"
            ]
          },
          "metadata": {},
          "execution_count": 15
        }
      ]
    },
    {
      "cell_type": "code",
      "source": [
        "from crewai.flow.flow import Flow, listen, or_, start\n",
        "\n",
        "class OrExampleFlow(Flow):\n",
        "\n",
        "    @start()\n",
        "    def start_method(self):\n",
        "        return \"Hello from the start method\"\n",
        "\n",
        "    @listen(start_method)\n",
        "    def second_method(self):\n",
        "        return \"Hello from the second method\"\n",
        "\n",
        "    @listen(or_(start_method, second_method))\n",
        "    def logger(self, result):\n",
        "        print(f\"Logger: {result}\")\n",
        "\n",
        "\n",
        "\n",
        "flow = OrExampleFlow()\n",
        "flow.kickoff()\n",
        "flow.plot(\"or_condition\")"
      ],
      "metadata": {
        "colab": {
          "base_uri": "https://localhost:8080/",
          "height": 1000
        },
        "id": "9pIqw17AcuXe",
        "outputId": "e7d5841b-16c7-49ae-d622-e43a089b47c3"
      },
      "execution_count": 16,
      "outputs": [
        {
          "output_type": "display_data",
          "data": {
            "text/plain": [
              "\u001b[34m╭─\u001b[0m\u001b[34m───────────────────────────────────────────────\u001b[0m\u001b[34m Flow Execution \u001b[0m\u001b[34m────────────────────────────────────────────────\u001b[0m\u001b[34m─╮\u001b[0m\n",
              "\u001b[34m│\u001b[0m                                                                                                                 \u001b[34m│\u001b[0m\n",
              "\u001b[34m│\u001b[0m  \u001b[1;34mStarting Flow Execution\u001b[0m                                                                                        \u001b[34m│\u001b[0m\n",
              "\u001b[34m│\u001b[0m  \u001b[37mName: \u001b[0m\u001b[34mOrExampleFlow\u001b[0m                                                                                            \u001b[34m│\u001b[0m\n",
              "\u001b[34m│\u001b[0m  \u001b[37mID: \u001b[0m\u001b[34m302a80dd-c039-432a-a7c4-c5c62eae1d68\u001b[0m                                                                       \u001b[34m│\u001b[0m\n",
              "\u001b[34m│\u001b[0m                                                                                                                 \u001b[34m│\u001b[0m\n",
              "\u001b[34m│\u001b[0m                                                                                                                 \u001b[34m│\u001b[0m\n",
              "\u001b[34m╰─────────────────────────────────────────────────────────────────────────────────────────────────────────────────╯\u001b[0m\n"
            ],
            "text/html": [
              "<pre style=\"white-space:pre;overflow-x:auto;line-height:normal;font-family:Menlo,'DejaVu Sans Mono',consolas,'Courier New',monospace\"><span style=\"color: #000080; text-decoration-color: #000080\">╭──────────────────────────────────────────────── Flow Execution ─────────────────────────────────────────────────╮</span>\n",
              "<span style=\"color: #000080; text-decoration-color: #000080\">│</span>                                                                                                                 <span style=\"color: #000080; text-decoration-color: #000080\">│</span>\n",
              "<span style=\"color: #000080; text-decoration-color: #000080\">│</span>  <span style=\"color: #000080; text-decoration-color: #000080; font-weight: bold\">Starting Flow Execution</span>                                                                                        <span style=\"color: #000080; text-decoration-color: #000080\">│</span>\n",
              "<span style=\"color: #000080; text-decoration-color: #000080\">│</span>  <span style=\"color: #c0c0c0; text-decoration-color: #c0c0c0\">Name: </span><span style=\"color: #000080; text-decoration-color: #000080\">OrExampleFlow</span>                                                                                            <span style=\"color: #000080; text-decoration-color: #000080\">│</span>\n",
              "<span style=\"color: #000080; text-decoration-color: #000080\">│</span>  <span style=\"color: #c0c0c0; text-decoration-color: #c0c0c0\">ID: </span><span style=\"color: #000080; text-decoration-color: #000080\">302a80dd-c039-432a-a7c4-c5c62eae1d68</span>                                                                       <span style=\"color: #000080; text-decoration-color: #000080\">│</span>\n",
              "<span style=\"color: #000080; text-decoration-color: #000080\">│</span>                                                                                                                 <span style=\"color: #000080; text-decoration-color: #000080\">│</span>\n",
              "<span style=\"color: #000080; text-decoration-color: #000080\">│</span>                                                                                                                 <span style=\"color: #000080; text-decoration-color: #000080\">│</span>\n",
              "<span style=\"color: #000080; text-decoration-color: #000080\">╰─────────────────────────────────────────────────────────────────────────────────────────────────────────────────╯</span>\n",
              "</pre>\n"
            ]
          },
          "metadata": {}
        },
        {
          "output_type": "display_data",
          "data": {
            "text/plain": [
              "\n"
            ],
            "text/html": [
              "<pre style=\"white-space:pre;overflow-x:auto;line-height:normal;font-family:Menlo,'DejaVu Sans Mono',consolas,'Courier New',monospace\">\n",
              "</pre>\n"
            ]
          },
          "metadata": {}
        },
        {
          "output_type": "display_data",
          "data": {
            "text/plain": [
              "\u001b[1;34m🌊 Flow: \u001b[0m\u001b[34mOrExampleFlow\u001b[0m\n",
              "\u001b[37m    ID: \u001b[0m\u001b[34m302a80dd-c039-432a-a7c4-c5c62eae1d68\u001b[0m\n",
              "└── \u001b[33m🧠 Starting Flow...\u001b[0m\n"
            ],
            "text/html": [
              "<pre style=\"white-space:pre;overflow-x:auto;line-height:normal;font-family:Menlo,'DejaVu Sans Mono',consolas,'Courier New',monospace\"><span style=\"color: #000080; text-decoration-color: #000080; font-weight: bold\">🌊 Flow: </span><span style=\"color: #000080; text-decoration-color: #000080\">OrExampleFlow</span>\n",
              "<span style=\"color: #c0c0c0; text-decoration-color: #c0c0c0\">    ID: </span><span style=\"color: #000080; text-decoration-color: #000080\">302a80dd-c039-432a-a7c4-c5c62eae1d68</span>\n",
              "└── <span style=\"color: #808000; text-decoration-color: #808000\">🧠 Starting Flow...</span>\n",
              "</pre>\n"
            ]
          },
          "metadata": {}
        },
        {
          "output_type": "display_data",
          "data": {
            "text/plain": [
              "\n"
            ],
            "text/html": [
              "<pre style=\"white-space:pre;overflow-x:auto;line-height:normal;font-family:Menlo,'DejaVu Sans Mono',consolas,'Courier New',monospace\">\n",
              "</pre>\n"
            ]
          },
          "metadata": {}
        },
        {
          "output_type": "stream",
          "name": "stdout",
          "text": [
            "\u001b[1m\u001b[35m Flow started with ID: 302a80dd-c039-432a-a7c4-c5c62eae1d68\u001b[00m\n"
          ]
        },
        {
          "output_type": "display_data",
          "data": {
            "text/plain": [
              "\u001b[1;34m🌊 Flow: \u001b[0m\u001b[34mOrExampleFlow\u001b[0m\n",
              "\u001b[37m    ID: \u001b[0m\u001b[34m302a80dd-c039-432a-a7c4-c5c62eae1d68\u001b[0m\n",
              "├── \u001b[33m🧠 Starting Flow...\u001b[0m\n",
              "└── \u001b[1;33m🔄 Running:\u001b[0m\u001b[1;33m start_method\u001b[0m\n"
            ],
            "text/html": [
              "<pre style=\"white-space:pre;overflow-x:auto;line-height:normal;font-family:Menlo,'DejaVu Sans Mono',consolas,'Courier New',monospace\"><span style=\"color: #000080; text-decoration-color: #000080; font-weight: bold\">🌊 Flow: </span><span style=\"color: #000080; text-decoration-color: #000080\">OrExampleFlow</span>\n",
              "<span style=\"color: #c0c0c0; text-decoration-color: #c0c0c0\">    ID: </span><span style=\"color: #000080; text-decoration-color: #000080\">302a80dd-c039-432a-a7c4-c5c62eae1d68</span>\n",
              "├── <span style=\"color: #808000; text-decoration-color: #808000\">🧠 Starting Flow...</span>\n",
              "└── <span style=\"color: #808000; text-decoration-color: #808000; font-weight: bold\">🔄 Running: start_method</span>\n",
              "</pre>\n"
            ]
          },
          "metadata": {}
        },
        {
          "output_type": "display_data",
          "data": {
            "text/plain": [
              "\n"
            ],
            "text/html": [
              "<pre style=\"white-space:pre;overflow-x:auto;line-height:normal;font-family:Menlo,'DejaVu Sans Mono',consolas,'Courier New',monospace\">\n",
              "</pre>\n"
            ]
          },
          "metadata": {}
        },
        {
          "output_type": "display_data",
          "data": {
            "text/plain": [
              "\u001b[1;34m🌊 Flow: \u001b[0m\u001b[34mOrExampleFlow\u001b[0m\n",
              "\u001b[37m    ID: \u001b[0m\u001b[34m302a80dd-c039-432a-a7c4-c5c62eae1d68\u001b[0m\n",
              "├── \u001b[37mFlow Method Step\u001b[0m\n",
              "└── \u001b[1;32m✅ Completed:\u001b[0m\u001b[1;32m start_method\u001b[0m\n"
            ],
            "text/html": [
              "<pre style=\"white-space:pre;overflow-x:auto;line-height:normal;font-family:Menlo,'DejaVu Sans Mono',consolas,'Courier New',monospace\"><span style=\"color: #000080; text-decoration-color: #000080; font-weight: bold\">🌊 Flow: </span><span style=\"color: #000080; text-decoration-color: #000080\">OrExampleFlow</span>\n",
              "<span style=\"color: #c0c0c0; text-decoration-color: #c0c0c0\">    ID: </span><span style=\"color: #000080; text-decoration-color: #000080\">302a80dd-c039-432a-a7c4-c5c62eae1d68</span>\n",
              "├── <span style=\"color: #c0c0c0; text-decoration-color: #c0c0c0\">Flow Method Step</span>\n",
              "└── <span style=\"color: #008000; text-decoration-color: #008000; font-weight: bold\">✅ Completed: start_method</span>\n",
              "</pre>\n"
            ]
          },
          "metadata": {}
        },
        {
          "output_type": "display_data",
          "data": {
            "text/plain": [
              "\n"
            ],
            "text/html": [
              "<pre style=\"white-space:pre;overflow-x:auto;line-height:normal;font-family:Menlo,'DejaVu Sans Mono',consolas,'Courier New',monospace\">\n",
              "</pre>\n"
            ]
          },
          "metadata": {}
        },
        {
          "output_type": "display_data",
          "data": {
            "text/plain": [
              "\u001b[1;34m🌊 Flow: \u001b[0m\u001b[34mOrExampleFlow\u001b[0m\n",
              "\u001b[37m    ID: \u001b[0m\u001b[34m302a80dd-c039-432a-a7c4-c5c62eae1d68\u001b[0m\n",
              "├── \u001b[37mFlow Method Step\u001b[0m\n",
              "├── \u001b[1;32m✅ Completed:\u001b[0m\u001b[1;32m start_method\u001b[0m\n",
              "└── \u001b[1;33m🔄 Running:\u001b[0m\u001b[1;33m second_method\u001b[0m\n"
            ],
            "text/html": [
              "<pre style=\"white-space:pre;overflow-x:auto;line-height:normal;font-family:Menlo,'DejaVu Sans Mono',consolas,'Courier New',monospace\"><span style=\"color: #000080; text-decoration-color: #000080; font-weight: bold\">🌊 Flow: </span><span style=\"color: #000080; text-decoration-color: #000080\">OrExampleFlow</span>\n",
              "<span style=\"color: #c0c0c0; text-decoration-color: #c0c0c0\">    ID: </span><span style=\"color: #000080; text-decoration-color: #000080\">302a80dd-c039-432a-a7c4-c5c62eae1d68</span>\n",
              "├── <span style=\"color: #c0c0c0; text-decoration-color: #c0c0c0\">Flow Method Step</span>\n",
              "├── <span style=\"color: #008000; text-decoration-color: #008000; font-weight: bold\">✅ Completed: start_method</span>\n",
              "└── <span style=\"color: #808000; text-decoration-color: #808000; font-weight: bold\">🔄 Running: second_method</span>\n",
              "</pre>\n"
            ]
          },
          "metadata": {}
        },
        {
          "output_type": "display_data",
          "data": {
            "text/plain": [
              "\n"
            ],
            "text/html": [
              "<pre style=\"white-space:pre;overflow-x:auto;line-height:normal;font-family:Menlo,'DejaVu Sans Mono',consolas,'Courier New',monospace\">\n",
              "</pre>\n"
            ]
          },
          "metadata": {}
        },
        {
          "output_type": "display_data",
          "data": {
            "text/plain": [
              "\u001b[1;34m🌊 Flow: \u001b[0m\u001b[34mOrExampleFlow\u001b[0m\n",
              "\u001b[37m    ID: \u001b[0m\u001b[34m302a80dd-c039-432a-a7c4-c5c62eae1d68\u001b[0m\n",
              "├── \u001b[37mFlow Method Step\u001b[0m\n",
              "├── \u001b[1;32m✅ Completed:\u001b[0m\u001b[1;32m start_method\u001b[0m\n",
              "└── \u001b[1;32m✅ Completed:\u001b[0m\u001b[1;32m second_method\u001b[0m\n"
            ],
            "text/html": [
              "<pre style=\"white-space:pre;overflow-x:auto;line-height:normal;font-family:Menlo,'DejaVu Sans Mono',consolas,'Courier New',monospace\"><span style=\"color: #000080; text-decoration-color: #000080; font-weight: bold\">🌊 Flow: </span><span style=\"color: #000080; text-decoration-color: #000080\">OrExampleFlow</span>\n",
              "<span style=\"color: #c0c0c0; text-decoration-color: #c0c0c0\">    ID: </span><span style=\"color: #000080; text-decoration-color: #000080\">302a80dd-c039-432a-a7c4-c5c62eae1d68</span>\n",
              "├── <span style=\"color: #c0c0c0; text-decoration-color: #c0c0c0\">Flow Method Step</span>\n",
              "├── <span style=\"color: #008000; text-decoration-color: #008000; font-weight: bold\">✅ Completed: start_method</span>\n",
              "└── <span style=\"color: #008000; text-decoration-color: #008000; font-weight: bold\">✅ Completed: second_method</span>\n",
              "</pre>\n"
            ]
          },
          "metadata": {}
        },
        {
          "output_type": "display_data",
          "data": {
            "text/plain": [
              "\n"
            ],
            "text/html": [
              "<pre style=\"white-space:pre;overflow-x:auto;line-height:normal;font-family:Menlo,'DejaVu Sans Mono',consolas,'Courier New',monospace\">\n",
              "</pre>\n"
            ]
          },
          "metadata": {}
        },
        {
          "output_type": "display_data",
          "data": {
            "text/plain": [
              "\u001b[1;34m🌊 Flow: \u001b[0m\u001b[34mOrExampleFlow\u001b[0m\n",
              "\u001b[37m    ID: \u001b[0m\u001b[34m302a80dd-c039-432a-a7c4-c5c62eae1d68\u001b[0m\n",
              "├── \u001b[37mFlow Method Step\u001b[0m\n",
              "├── \u001b[1;32m✅ Completed:\u001b[0m\u001b[1;32m start_method\u001b[0m\n",
              "├── \u001b[1;32m✅ Completed:\u001b[0m\u001b[1;32m second_method\u001b[0m\n",
              "└── \u001b[1;33m🔄 Running:\u001b[0m\u001b[1;33m logger\u001b[0m\n"
            ],
            "text/html": [
              "<pre style=\"white-space:pre;overflow-x:auto;line-height:normal;font-family:Menlo,'DejaVu Sans Mono',consolas,'Courier New',monospace\"><span style=\"color: #000080; text-decoration-color: #000080; font-weight: bold\">🌊 Flow: </span><span style=\"color: #000080; text-decoration-color: #000080\">OrExampleFlow</span>\n",
              "<span style=\"color: #c0c0c0; text-decoration-color: #c0c0c0\">    ID: </span><span style=\"color: #000080; text-decoration-color: #000080\">302a80dd-c039-432a-a7c4-c5c62eae1d68</span>\n",
              "├── <span style=\"color: #c0c0c0; text-decoration-color: #c0c0c0\">Flow Method Step</span>\n",
              "├── <span style=\"color: #008000; text-decoration-color: #008000; font-weight: bold\">✅ Completed: start_method</span>\n",
              "├── <span style=\"color: #008000; text-decoration-color: #008000; font-weight: bold\">✅ Completed: second_method</span>\n",
              "└── <span style=\"color: #808000; text-decoration-color: #808000; font-weight: bold\">🔄 Running: logger</span>\n",
              "</pre>\n"
            ]
          },
          "metadata": {}
        },
        {
          "output_type": "display_data",
          "data": {
            "text/plain": [
              "\n"
            ],
            "text/html": [
              "<pre style=\"white-space:pre;overflow-x:auto;line-height:normal;font-family:Menlo,'DejaVu Sans Mono',consolas,'Courier New',monospace\">\n",
              "</pre>\n"
            ]
          },
          "metadata": {}
        },
        {
          "output_type": "stream",
          "name": "stdout",
          "text": [
            "Logger: Hello from the start method\n"
          ]
        },
        {
          "output_type": "display_data",
          "data": {
            "text/plain": [
              "\u001b[1;34m🌊 Flow: \u001b[0m\u001b[34mOrExampleFlow\u001b[0m\n",
              "\u001b[37m    ID: \u001b[0m\u001b[34m302a80dd-c039-432a-a7c4-c5c62eae1d68\u001b[0m\n",
              "├── \u001b[37mFlow Method Step\u001b[0m\n",
              "├── \u001b[1;32m✅ Completed:\u001b[0m\u001b[1;32m start_method\u001b[0m\n",
              "├── \u001b[1;32m✅ Completed:\u001b[0m\u001b[1;32m second_method\u001b[0m\n",
              "└── \u001b[1;32m✅ Completed:\u001b[0m\u001b[1;32m logger\u001b[0m\n"
            ],
            "text/html": [
              "<pre style=\"white-space:pre;overflow-x:auto;line-height:normal;font-family:Menlo,'DejaVu Sans Mono',consolas,'Courier New',monospace\"><span style=\"color: #000080; text-decoration-color: #000080; font-weight: bold\">🌊 Flow: </span><span style=\"color: #000080; text-decoration-color: #000080\">OrExampleFlow</span>\n",
              "<span style=\"color: #c0c0c0; text-decoration-color: #c0c0c0\">    ID: </span><span style=\"color: #000080; text-decoration-color: #000080\">302a80dd-c039-432a-a7c4-c5c62eae1d68</span>\n",
              "├── <span style=\"color: #c0c0c0; text-decoration-color: #c0c0c0\">Flow Method Step</span>\n",
              "├── <span style=\"color: #008000; text-decoration-color: #008000; font-weight: bold\">✅ Completed: start_method</span>\n",
              "├── <span style=\"color: #008000; text-decoration-color: #008000; font-weight: bold\">✅ Completed: second_method</span>\n",
              "└── <span style=\"color: #008000; text-decoration-color: #008000; font-weight: bold\">✅ Completed: logger</span>\n",
              "</pre>\n"
            ]
          },
          "metadata": {}
        },
        {
          "output_type": "display_data",
          "data": {
            "text/plain": [
              "\n"
            ],
            "text/html": [
              "<pre style=\"white-space:pre;overflow-x:auto;line-height:normal;font-family:Menlo,'DejaVu Sans Mono',consolas,'Courier New',monospace\">\n",
              "</pre>\n"
            ]
          },
          "metadata": {}
        },
        {
          "output_type": "display_data",
          "data": {
            "text/plain": [
              "\u001b[1;34m🌊 Flow: \u001b[0m\u001b[34mOrExampleFlow\u001b[0m\n",
              "\u001b[37m    ID: \u001b[0m\u001b[34m302a80dd-c039-432a-a7c4-c5c62eae1d68\u001b[0m\n",
              "├── \u001b[37mFlow Method Step\u001b[0m\n",
              "├── \u001b[1;32m✅ Completed:\u001b[0m\u001b[1;32m start_method\u001b[0m\n",
              "├── \u001b[1;32m✅ Completed:\u001b[0m\u001b[1;32m second_method\u001b[0m\n",
              "└── \u001b[1;33m🔄 Running:\u001b[0m\u001b[1;33m logger\u001b[0m\n"
            ],
            "text/html": [
              "<pre style=\"white-space:pre;overflow-x:auto;line-height:normal;font-family:Menlo,'DejaVu Sans Mono',consolas,'Courier New',monospace\"><span style=\"color: #000080; text-decoration-color: #000080; font-weight: bold\">🌊 Flow: </span><span style=\"color: #000080; text-decoration-color: #000080\">OrExampleFlow</span>\n",
              "<span style=\"color: #c0c0c0; text-decoration-color: #c0c0c0\">    ID: </span><span style=\"color: #000080; text-decoration-color: #000080\">302a80dd-c039-432a-a7c4-c5c62eae1d68</span>\n",
              "├── <span style=\"color: #c0c0c0; text-decoration-color: #c0c0c0\">Flow Method Step</span>\n",
              "├── <span style=\"color: #008000; text-decoration-color: #008000; font-weight: bold\">✅ Completed: start_method</span>\n",
              "├── <span style=\"color: #008000; text-decoration-color: #008000; font-weight: bold\">✅ Completed: second_method</span>\n",
              "└── <span style=\"color: #808000; text-decoration-color: #808000; font-weight: bold\">🔄 Running: logger</span>\n",
              "</pre>\n"
            ]
          },
          "metadata": {}
        },
        {
          "output_type": "display_data",
          "data": {
            "text/plain": [
              "\n"
            ],
            "text/html": [
              "<pre style=\"white-space:pre;overflow-x:auto;line-height:normal;font-family:Menlo,'DejaVu Sans Mono',consolas,'Courier New',monospace\">\n",
              "</pre>\n"
            ]
          },
          "metadata": {}
        },
        {
          "output_type": "stream",
          "name": "stdout",
          "text": [
            "Logger: Hello from the second method\n"
          ]
        },
        {
          "output_type": "display_data",
          "data": {
            "text/plain": [
              "\u001b[1;34m🌊 Flow: \u001b[0m\u001b[34mOrExampleFlow\u001b[0m\n",
              "\u001b[37m    ID: \u001b[0m\u001b[34m302a80dd-c039-432a-a7c4-c5c62eae1d68\u001b[0m\n",
              "├── \u001b[37mFlow Method Step\u001b[0m\n",
              "├── \u001b[1;32m✅ Completed:\u001b[0m\u001b[1;32m start_method\u001b[0m\n",
              "├── \u001b[1;32m✅ Completed:\u001b[0m\u001b[1;32m second_method\u001b[0m\n",
              "└── \u001b[1;32m✅ Completed:\u001b[0m\u001b[1;32m logger\u001b[0m\n"
            ],
            "text/html": [
              "<pre style=\"white-space:pre;overflow-x:auto;line-height:normal;font-family:Menlo,'DejaVu Sans Mono',consolas,'Courier New',monospace\"><span style=\"color: #000080; text-decoration-color: #000080; font-weight: bold\">🌊 Flow: </span><span style=\"color: #000080; text-decoration-color: #000080\">OrExampleFlow</span>\n",
              "<span style=\"color: #c0c0c0; text-decoration-color: #c0c0c0\">    ID: </span><span style=\"color: #000080; text-decoration-color: #000080\">302a80dd-c039-432a-a7c4-c5c62eae1d68</span>\n",
              "├── <span style=\"color: #c0c0c0; text-decoration-color: #c0c0c0\">Flow Method Step</span>\n",
              "├── <span style=\"color: #008000; text-decoration-color: #008000; font-weight: bold\">✅ Completed: start_method</span>\n",
              "├── <span style=\"color: #008000; text-decoration-color: #008000; font-weight: bold\">✅ Completed: second_method</span>\n",
              "└── <span style=\"color: #008000; text-decoration-color: #008000; font-weight: bold\">✅ Completed: logger</span>\n",
              "</pre>\n"
            ]
          },
          "metadata": {}
        },
        {
          "output_type": "display_data",
          "data": {
            "text/plain": [
              "\n"
            ],
            "text/html": [
              "<pre style=\"white-space:pre;overflow-x:auto;line-height:normal;font-family:Menlo,'DejaVu Sans Mono',consolas,'Courier New',monospace\">\n",
              "</pre>\n"
            ]
          },
          "metadata": {}
        },
        {
          "output_type": "display_data",
          "data": {
            "text/plain": [
              "\u001b[1;32m✅ Flow Finished: \u001b[0m\u001b[32mOrExampleFlow\u001b[0m\n",
              "├── \u001b[37mFlow Method Step\u001b[0m\n",
              "├── \u001b[1;32m✅ Completed:\u001b[0m\u001b[1;32m start_method\u001b[0m\n",
              "├── \u001b[1;32m✅ Completed:\u001b[0m\u001b[1;32m second_method\u001b[0m\n",
              "└── \u001b[1;32m✅ Completed:\u001b[0m\u001b[1;32m logger\u001b[0m\n"
            ],
            "text/html": [
              "<pre style=\"white-space:pre;overflow-x:auto;line-height:normal;font-family:Menlo,'DejaVu Sans Mono',consolas,'Courier New',monospace\"><span style=\"color: #008000; text-decoration-color: #008000; font-weight: bold\">✅ Flow Finished: </span><span style=\"color: #008000; text-decoration-color: #008000\">OrExampleFlow</span>\n",
              "├── <span style=\"color: #c0c0c0; text-decoration-color: #c0c0c0\">Flow Method Step</span>\n",
              "├── <span style=\"color: #008000; text-decoration-color: #008000; font-weight: bold\">✅ Completed: start_method</span>\n",
              "├── <span style=\"color: #008000; text-decoration-color: #008000; font-weight: bold\">✅ Completed: second_method</span>\n",
              "└── <span style=\"color: #008000; text-decoration-color: #008000; font-weight: bold\">✅ Completed: logger</span>\n",
              "</pre>\n"
            ]
          },
          "metadata": {}
        },
        {
          "output_type": "display_data",
          "data": {
            "text/plain": [
              "\u001b[32m╭─\u001b[0m\u001b[32m───────────────────────────────────────────────\u001b[0m\u001b[32m Flow Completion \u001b[0m\u001b[32m───────────────────────────────────────────────\u001b[0m\u001b[32m─╮\u001b[0m\n",
              "\u001b[32m│\u001b[0m                                                                                                                 \u001b[32m│\u001b[0m\n",
              "\u001b[32m│\u001b[0m  \u001b[1;32mFlow Execution Completed\u001b[0m                                                                                       \u001b[32m│\u001b[0m\n",
              "\u001b[32m│\u001b[0m  \u001b[37mName: \u001b[0m\u001b[32mOrExampleFlow\u001b[0m                                                                                            \u001b[32m│\u001b[0m\n",
              "\u001b[32m│\u001b[0m  \u001b[37mID: \u001b[0m\u001b[32m302a80dd-c039-432a-a7c4-c5c62eae1d68\u001b[0m                                                                       \u001b[32m│\u001b[0m\n",
              "\u001b[32m│\u001b[0m                                                                                                                 \u001b[32m│\u001b[0m\n",
              "\u001b[32m│\u001b[0m                                                                                                                 \u001b[32m│\u001b[0m\n",
              "\u001b[32m╰─────────────────────────────────────────────────────────────────────────────────────────────────────────────────╯\u001b[0m\n"
            ],
            "text/html": [
              "<pre style=\"white-space:pre;overflow-x:auto;line-height:normal;font-family:Menlo,'DejaVu Sans Mono',consolas,'Courier New',monospace\"><span style=\"color: #008000; text-decoration-color: #008000\">╭──────────────────────────────────────────────── Flow Completion ────────────────────────────────────────────────╮</span>\n",
              "<span style=\"color: #008000; text-decoration-color: #008000\">│</span>                                                                                                                 <span style=\"color: #008000; text-decoration-color: #008000\">│</span>\n",
              "<span style=\"color: #008000; text-decoration-color: #008000\">│</span>  <span style=\"color: #008000; text-decoration-color: #008000; font-weight: bold\">Flow Execution Completed</span>                                                                                       <span style=\"color: #008000; text-decoration-color: #008000\">│</span>\n",
              "<span style=\"color: #008000; text-decoration-color: #008000\">│</span>  <span style=\"color: #c0c0c0; text-decoration-color: #c0c0c0\">Name: </span><span style=\"color: #008000; text-decoration-color: #008000\">OrExampleFlow</span>                                                                                            <span style=\"color: #008000; text-decoration-color: #008000\">│</span>\n",
              "<span style=\"color: #008000; text-decoration-color: #008000\">│</span>  <span style=\"color: #c0c0c0; text-decoration-color: #c0c0c0\">ID: </span><span style=\"color: #008000; text-decoration-color: #008000\">302a80dd-c039-432a-a7c4-c5c62eae1d68</span>                                                                       <span style=\"color: #008000; text-decoration-color: #008000\">│</span>\n",
              "<span style=\"color: #008000; text-decoration-color: #008000\">│</span>                                                                                                                 <span style=\"color: #008000; text-decoration-color: #008000\">│</span>\n",
              "<span style=\"color: #008000; text-decoration-color: #008000\">│</span>                                                                                                                 <span style=\"color: #008000; text-decoration-color: #008000\">│</span>\n",
              "<span style=\"color: #008000; text-decoration-color: #008000\">╰─────────────────────────────────────────────────────────────────────────────────────────────────────────────────╯</span>\n",
              "</pre>\n"
            ]
          },
          "metadata": {}
        },
        {
          "output_type": "display_data",
          "data": {
            "text/plain": [
              "\n"
            ],
            "text/html": [
              "<pre style=\"white-space:pre;overflow-x:auto;line-height:normal;font-family:Menlo,'DejaVu Sans Mono',consolas,'Courier New',monospace\">\n",
              "</pre>\n"
            ]
          },
          "metadata": {}
        },
        {
          "output_type": "stream",
          "name": "stdout",
          "text": [
            "Plot saved as or_condition.html\n"
          ]
        }
      ]
    },
    {
      "cell_type": "code",
      "source": [
        "# prompt: Show image of html file with path -> /content/my_flow_plot.html\n",
        "\n",
        "from IPython.display import HTML\n",
        "\n",
        "HTML(filename='/content/or_condition.html')\n"
      ],
      "metadata": {
        "colab": {
          "base_uri": "https://localhost:8080/",
          "height": 1000
        },
        "collapsed": true,
        "id": "BJq94S8Kc8YR",
        "outputId": "b5aa2bd5-9838-4616-dc69-e7179d491aa5"
      },
      "execution_count": 17,
      "outputs": [
        {
          "output_type": "execute_result",
          "data": {
            "text/plain": [
              "<IPython.core.display.HTML object>"
            ],
            "text/html": [
              "<!DOCTYPE html>\n",
              "<html>\n",
              "  <head>\n",
              "    <meta charset=\"utf-8\" />\n",
              "    <title>Flow Plot</title>\n",
              "    <script\n",
              "      src=\"https://cdnjs.cloudflare.com/ajax/libs/vis-network/9.1.2/dist/vis-network.min.js\"\n",
              "      integrity=\"sha512-LnvoEWDFrqGHlHmDD2101OrLcbsfkrzoSpvtSQtxK3RMnRV0eOkhhBN2dXHKRrUU8p2DGRTk35n4O8nWSVe1mQ==\"\n",
              "      crossorigin=\"anonymous\"\n",
              "      referrerpolicy=\"no-referrer\"\n",
              "    ></script>\n",
              "    <link\n",
              "      rel=\"stylesheet\"\n",
              "      href=\"https://cdnjs.cloudflare.com/ajax/libs/vis-network/9.1.2/dist/dist/vis-network.min.css\"\n",
              "      integrity=\"sha512-WgxfT5LWjfszlPHXRmBWHkV2eceiWTOBvrKCNbdgDYTHrT2AeLCGbF4sZlZw3UMN3WtL0tGUoIAKsu8mllg/XA==\"\n",
              "      crossorigin=\"anonymous\"\n",
              "      referrerpolicy=\"no-referrer\"\n",
              "    />\n",
              "    <style type=\"text/css\">\n",
              "      body {\n",
              "        font-family: verdana;\n",
              "        margin: 0;\n",
              "        padding: 0;\n",
              "      }\n",
              "      .container {\n",
              "        display: flex;\n",
              "        flex-direction: column;\n",
              "        height: 100vh;\n",
              "      }\n",
              "      #mynetwork {\n",
              "        flex-grow: 1;\n",
              "        width: 100%;\n",
              "        height: 750px;\n",
              "        background-color: #ffffff;\n",
              "      }\n",
              "      .card {\n",
              "        border: none;\n",
              "      }\n",
              "      .legend-container {\n",
              "        display: flex;\n",
              "        align-items: center;\n",
              "        justify-content: center;\n",
              "        padding: 10px;\n",
              "        background-color: #f8f9fa;\n",
              "        position: fixed; /* Make the legend fixed */\n",
              "        bottom: 0; /* Position it at the bottom */\n",
              "        width: 100%; /* Make it span the full width */\n",
              "      }\n",
              "      .legend-item {\n",
              "        display: flex;\n",
              "        align-items: center;\n",
              "        margin-right: 20px;\n",
              "      }\n",
              "      .legend-color-box {\n",
              "        width: 20px;\n",
              "        height: 20px;\n",
              "        margin-right: 5px;\n",
              "      }\n",
              "      .logo {\n",
              "        height: 50px;\n",
              "        margin-right: 20px;\n",
              "      }\n",
              "      .legend-dashed {\n",
              "        border-bottom: 2px dashed #666666;\n",
              "        width: 20px;\n",
              "        height: 0;\n",
              "        margin-right: 5px;\n",
              "      }\n",
              "      .legend-solid {\n",
              "        border-bottom: 2px solid #666666;\n",
              "        width: 20px;\n",
              "        height: 0;\n",
              "        margin-right: 5px;\n",
              "      }\n",
              "    </style>\n",
              "  </head>\n",
              "  <body>\n",
              "    <div class=\"container\">\n",
              "      <div class=\"card\" style=\"width: 100%\">\n",
              "        <div id=\"mynetwork\" class=\"card-body\"></div>\n",
              "      </div>\n",
              "      <div class=\"legend-container\">\n",
              "        <img\n",
              "          src=\"data:image/svg+xml;base64,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\"\n",
              "          alt=\"CrewAI logo\"\n",
              "          class=\"logo\"\n",
              "        />\n",
              "        \n",
              "            <div class=\"legend-item\">\n",
              "            <div class=\"legend-color-box\" style=\"background-color: #FF5A50; border-radius: 5px;\"></div>\n",
              "            <div>Start Method</div>\n",
              "            </div>\n",
              "            \n",
              "            <div class=\"legend-item\">\n",
              "            <div class=\"legend-color-box\" style=\"background-color: #333333; border-radius: 5px;\"></div>\n",
              "            <div>Method</div>\n",
              "            </div>\n",
              "            \n",
              "            <div class=\"legend-item\">\n",
              "            <div class=\"legend-color-box\" style=\"background-color: #FFFFFF; border: 2px solid #FF5A50; border-radius: 5px;\"></div>\n",
              "            <div>Crew Method</div>\n",
              "            </div>\n",
              "            \n",
              "            <div class=\"legend-item\">\n",
              "            <div class=\"legend-color-box\" style=\"background-color: #333333; border: 2px dashed #FF5A50; border-radius: 5px;\"></div>\n",
              "            <div>Router</div>\n",
              "            </div>\n",
              "            \n",
              "            <div class=\"legend-item\">\n",
              "            <div class=\"legend-solid\" style=\"border-bottom: 2px solid #666666; border-radius: 5px;\"></div>\n",
              "            <div>Trigger</div>\n",
              "            </div>\n",
              "            \n",
              "            <div class=\"legend-item\">\n",
              "            <div class=\"legend-dashed\" style=\"border-bottom: 2px dashed #666666; border-radius: 5px;\"></div>\n",
              "            <div>AND Trigger</div>\n",
              "            </div>\n",
              "            \n",
              "            <div class=\"legend-item\">\n",
              "            <div class=\"legend-dashed\" style=\"border-bottom: 2px dashed #FF5A50; border-radius: 5px;\"></div>\n",
              "            <div>Router Trigger</div>\n",
              "            </div>\n",
              "            \n",
              "      </div>\n",
              "    </div>\n",
              "    \n",
              "        <div class=\"card\" style=\"width: 100%\">\n",
              "            \n",
              "            \n",
              "            <div id=\"mynetwork\" class=\"card-body\"></div>\n",
              "        </div>\n",
              "\n",
              "        \n",
              "        \n",
              "\n",
              "        <script type=\"text/javascript\">\n",
              "\n",
              "              // initialize global variables.\n",
              "              var edges;\n",
              "              var nodes;\n",
              "              var allNodes;\n",
              "              var allEdges;\n",
              "              var nodeColors;\n",
              "              var originalNodes;\n",
              "              var network;\n",
              "              var container;\n",
              "              var options, data;\n",
              "              var filter = {\n",
              "                  item : '',\n",
              "                  property : '',\n",
              "                  value : []\n",
              "              };\n",
              "\n",
              "              \n",
              "\n",
              "              \n",
              "\n",
              "              // This method is responsible for drawing the graph, returns the drawn network\n",
              "              function drawGraph() {\n",
              "                  var container = document.getElementById('mynetwork');\n",
              "\n",
              "                  \n",
              "\n",
              "                  // parsing and collecting nodes and edges from the python\n",
              "                  nodes = new vis.DataSet([{\"color\": \"#FF5A50\", \"fixed\": true, \"font\": {\"color\": \"#FFFFFF\", \"multi\": \"html\"}, \"id\": \"start_method\", \"label\": \"Start Method\", \"margin\": {\"bottom\": 8, \"left\": 10, \"right\": 10, \"top\": 10}, \"physics\": false, \"shape\": \"box\", \"x\": 0.0, \"y\": 0}, {\"color\": \"#333333\", \"fixed\": true, \"font\": {\"color\": \"#FFFFFF\", \"multi\": \"html\"}, \"id\": \"second_method\", \"label\": \"Second Method\", \"margin\": {\"bottom\": 8, \"left\": 10, \"right\": 10, \"top\": 10}, \"physics\": false, \"shape\": \"box\", \"x\": -75.0, \"y\": 150}, {\"color\": \"#333333\", \"fixed\": true, \"font\": {\"color\": \"#FFFFFF\", \"multi\": \"html\"}, \"id\": \"logger\", \"label\": \"Logger\", \"margin\": {\"bottom\": 8, \"left\": 10, \"right\": 10, \"top\": 10}, \"physics\": false, \"shape\": \"box\", \"x\": 75.0, \"y\": 150}]);\n",
              "                  edges = new vis.DataSet([{\"arrows\": \"to\", \"color\": \"#666666\", \"dashes\": false, \"from\": \"start_method\", \"smooth\": {\"roundness\": 0.30000000000000004, \"type\": \"curvedCCW\"}, \"to\": \"second_method\", \"width\": 2}, {\"arrows\": \"to\", \"color\": \"#666666\", \"dashes\": false, \"from\": \"start_method\", \"smooth\": {\"roundness\": 0.2, \"type\": \"continuous\"}, \"to\": \"logger\", \"width\": 2}, {\"arrows\": \"to\", \"color\": \"#666666\", \"dashes\": false, \"from\": \"second_method\", \"smooth\": {\"roundness\": 0.2, \"type\": \"continuous\"}, \"to\": \"logger\", \"width\": 2}]);\n",
              "\n",
              "                  nodeColors = {};\n",
              "                  allNodes = nodes.get({ returnType: \"Object\" });\n",
              "                  for (nodeId in allNodes) {\n",
              "                    nodeColors[nodeId] = allNodes[nodeId].color;\n",
              "                  }\n",
              "                  allEdges = edges.get({ returnType: \"Object\" });\n",
              "                  // adding nodes and edges to the graph\n",
              "                  data = {nodes: nodes, edges: edges};\n",
              "\n",
              "                  var options = {\"nodes\": {\"font\": {\"multi\": \"html\"}}, \"physics\": {\"enabled\": false}};\n",
              "\n",
              "                  \n",
              "\n",
              "\n",
              "                  \n",
              "\n",
              "                  network = new vis.Network(container, data, options);\n",
              "\n",
              "                  \n",
              "\n",
              "                  \n",
              "\n",
              "                  \n",
              "\n",
              "\n",
              "                  \n",
              "\n",
              "                  return network;\n",
              "\n",
              "              }\n",
              "              drawGraph();\n",
              "        </script>\n",
              "    \n",
              "  </body>\n",
              "</html>\n"
            ]
          },
          "metadata": {},
          "execution_count": 17
        }
      ]
    },
    {
      "cell_type": "code",
      "source": [
        "from crewai.flow.flow import Flow, and_, listen, start\n",
        "\n",
        "class AndExampleFlow(Flow):\n",
        "\n",
        "    @start()\n",
        "    def start_method(self):\n",
        "        self.state[\"greeting\"] = \"Hello from the start method\"\n",
        "\n",
        "    @listen(start_method)\n",
        "    def second_method(self):\n",
        "        self.state[\"joke\"] = \"What do computers eat? Microchips.\"\n",
        "\n",
        "    @listen(and_(start_method, second_method))\n",
        "    def logger(self):\n",
        "        print(\"---- Logger ----\")\n",
        "        print(self.state)\n",
        "\n",
        "flow = AndExampleFlow()\n",
        "flow.kickoff()\n",
        "flow.plot(\"and_condition\")"
      ],
      "metadata": {
        "colab": {
          "base_uri": "https://localhost:8080/",
          "height": 1000
        },
        "id": "xMQQOTGadBse",
        "outputId": "79d06946-d172-4586-edb6-93f1c055892e"
      },
      "execution_count": 18,
      "outputs": [
        {
          "output_type": "display_data",
          "data": {
            "text/plain": [
              "\u001b[34m╭─\u001b[0m\u001b[34m───────────────────────────────────────────────\u001b[0m\u001b[34m Flow Execution \u001b[0m\u001b[34m────────────────────────────────────────────────\u001b[0m\u001b[34m─╮\u001b[0m\n",
              "\u001b[34m│\u001b[0m                                                                                                                 \u001b[34m│\u001b[0m\n",
              "\u001b[34m│\u001b[0m  \u001b[1;34mStarting Flow Execution\u001b[0m                                                                                        \u001b[34m│\u001b[0m\n",
              "\u001b[34m│\u001b[0m  \u001b[37mName: \u001b[0m\u001b[34mAndExampleFlow\u001b[0m                                                                                           \u001b[34m│\u001b[0m\n",
              "\u001b[34m│\u001b[0m  \u001b[37mID: \u001b[0m\u001b[34m830e50a5-d630-41f5-8e9b-f391e16270d9\u001b[0m                                                                       \u001b[34m│\u001b[0m\n",
              "\u001b[34m│\u001b[0m                                                                                                                 \u001b[34m│\u001b[0m\n",
              "\u001b[34m│\u001b[0m                                                                                                                 \u001b[34m│\u001b[0m\n",
              "\u001b[34m╰─────────────────────────────────────────────────────────────────────────────────────────────────────────────────╯\u001b[0m\n"
            ],
            "text/html": [
              "<pre style=\"white-space:pre;overflow-x:auto;line-height:normal;font-family:Menlo,'DejaVu Sans Mono',consolas,'Courier New',monospace\"><span style=\"color: #000080; text-decoration-color: #000080\">╭──────────────────────────────────────────────── Flow Execution ─────────────────────────────────────────────────╮</span>\n",
              "<span style=\"color: #000080; text-decoration-color: #000080\">│</span>                                                                                                                 <span style=\"color: #000080; text-decoration-color: #000080\">│</span>\n",
              "<span style=\"color: #000080; text-decoration-color: #000080\">│</span>  <span style=\"color: #000080; text-decoration-color: #000080; font-weight: bold\">Starting Flow Execution</span>                                                                                        <span style=\"color: #000080; text-decoration-color: #000080\">│</span>\n",
              "<span style=\"color: #000080; text-decoration-color: #000080\">│</span>  <span style=\"color: #c0c0c0; text-decoration-color: #c0c0c0\">Name: </span><span style=\"color: #000080; text-decoration-color: #000080\">AndExampleFlow</span>                                                                                           <span style=\"color: #000080; text-decoration-color: #000080\">│</span>\n",
              "<span style=\"color: #000080; text-decoration-color: #000080\">│</span>  <span style=\"color: #c0c0c0; text-decoration-color: #c0c0c0\">ID: </span><span style=\"color: #000080; text-decoration-color: #000080\">830e50a5-d630-41f5-8e9b-f391e16270d9</span>                                                                       <span style=\"color: #000080; text-decoration-color: #000080\">│</span>\n",
              "<span style=\"color: #000080; text-decoration-color: #000080\">│</span>                                                                                                                 <span style=\"color: #000080; text-decoration-color: #000080\">│</span>\n",
              "<span style=\"color: #000080; text-decoration-color: #000080\">│</span>                                                                                                                 <span style=\"color: #000080; text-decoration-color: #000080\">│</span>\n",
              "<span style=\"color: #000080; text-decoration-color: #000080\">╰─────────────────────────────────────────────────────────────────────────────────────────────────────────────────╯</span>\n",
              "</pre>\n"
            ]
          },
          "metadata": {}
        },
        {
          "output_type": "display_data",
          "data": {
            "text/plain": [
              "\n"
            ],
            "text/html": [
              "<pre style=\"white-space:pre;overflow-x:auto;line-height:normal;font-family:Menlo,'DejaVu Sans Mono',consolas,'Courier New',monospace\">\n",
              "</pre>\n"
            ]
          },
          "metadata": {}
        },
        {
          "output_type": "display_data",
          "data": {
            "text/plain": [
              "\u001b[1;34m🌊 Flow: \u001b[0m\u001b[34mAndExampleFlow\u001b[0m\n",
              "\u001b[37m    ID: \u001b[0m\u001b[34m830e50a5-d630-41f5-8e9b-f391e16270d9\u001b[0m\n",
              "└── \u001b[33m🧠 Starting Flow...\u001b[0m\n"
            ],
            "text/html": [
              "<pre style=\"white-space:pre;overflow-x:auto;line-height:normal;font-family:Menlo,'DejaVu Sans Mono',consolas,'Courier New',monospace\"><span style=\"color: #000080; text-decoration-color: #000080; font-weight: bold\">🌊 Flow: </span><span style=\"color: #000080; text-decoration-color: #000080\">AndExampleFlow</span>\n",
              "<span style=\"color: #c0c0c0; text-decoration-color: #c0c0c0\">    ID: </span><span style=\"color: #000080; text-decoration-color: #000080\">830e50a5-d630-41f5-8e9b-f391e16270d9</span>\n",
              "└── <span style=\"color: #808000; text-decoration-color: #808000\">🧠 Starting Flow...</span>\n",
              "</pre>\n"
            ]
          },
          "metadata": {}
        },
        {
          "output_type": "display_data",
          "data": {
            "text/plain": [
              "\n"
            ],
            "text/html": [
              "<pre style=\"white-space:pre;overflow-x:auto;line-height:normal;font-family:Menlo,'DejaVu Sans Mono',consolas,'Courier New',monospace\">\n",
              "</pre>\n"
            ]
          },
          "metadata": {}
        },
        {
          "output_type": "stream",
          "name": "stdout",
          "text": [
            "\u001b[1m\u001b[35m Flow started with ID: 830e50a5-d630-41f5-8e9b-f391e16270d9\u001b[00m\n"
          ]
        },
        {
          "output_type": "display_data",
          "data": {
            "text/plain": [
              "\u001b[1;34m🌊 Flow: \u001b[0m\u001b[34mAndExampleFlow\u001b[0m\n",
              "\u001b[37m    ID: \u001b[0m\u001b[34m830e50a5-d630-41f5-8e9b-f391e16270d9\u001b[0m\n",
              "├── \u001b[33m🧠 Starting Flow...\u001b[0m\n",
              "└── \u001b[1;33m🔄 Running:\u001b[0m\u001b[1;33m start_method\u001b[0m\n"
            ],
            "text/html": [
              "<pre style=\"white-space:pre;overflow-x:auto;line-height:normal;font-family:Menlo,'DejaVu Sans Mono',consolas,'Courier New',monospace\"><span style=\"color: #000080; text-decoration-color: #000080; font-weight: bold\">🌊 Flow: </span><span style=\"color: #000080; text-decoration-color: #000080\">AndExampleFlow</span>\n",
              "<span style=\"color: #c0c0c0; text-decoration-color: #c0c0c0\">    ID: </span><span style=\"color: #000080; text-decoration-color: #000080\">830e50a5-d630-41f5-8e9b-f391e16270d9</span>\n",
              "├── <span style=\"color: #808000; text-decoration-color: #808000\">🧠 Starting Flow...</span>\n",
              "└── <span style=\"color: #808000; text-decoration-color: #808000; font-weight: bold\">🔄 Running: start_method</span>\n",
              "</pre>\n"
            ]
          },
          "metadata": {}
        },
        {
          "output_type": "display_data",
          "data": {
            "text/plain": [
              "\n"
            ],
            "text/html": [
              "<pre style=\"white-space:pre;overflow-x:auto;line-height:normal;font-family:Menlo,'DejaVu Sans Mono',consolas,'Courier New',monospace\">\n",
              "</pre>\n"
            ]
          },
          "metadata": {}
        },
        {
          "output_type": "display_data",
          "data": {
            "text/plain": [
              "\u001b[1;34m🌊 Flow: \u001b[0m\u001b[34mAndExampleFlow\u001b[0m\n",
              "\u001b[37m    ID: \u001b[0m\u001b[34m830e50a5-d630-41f5-8e9b-f391e16270d9\u001b[0m\n",
              "├── \u001b[37mFlow Method Step\u001b[0m\n",
              "└── \u001b[1;32m✅ Completed:\u001b[0m\u001b[1;32m start_method\u001b[0m\n"
            ],
            "text/html": [
              "<pre style=\"white-space:pre;overflow-x:auto;line-height:normal;font-family:Menlo,'DejaVu Sans Mono',consolas,'Courier New',monospace\"><span style=\"color: #000080; text-decoration-color: #000080; font-weight: bold\">🌊 Flow: </span><span style=\"color: #000080; text-decoration-color: #000080\">AndExampleFlow</span>\n",
              "<span style=\"color: #c0c0c0; text-decoration-color: #c0c0c0\">    ID: </span><span style=\"color: #000080; text-decoration-color: #000080\">830e50a5-d630-41f5-8e9b-f391e16270d9</span>\n",
              "├── <span style=\"color: #c0c0c0; text-decoration-color: #c0c0c0\">Flow Method Step</span>\n",
              "└── <span style=\"color: #008000; text-decoration-color: #008000; font-weight: bold\">✅ Completed: start_method</span>\n",
              "</pre>\n"
            ]
          },
          "metadata": {}
        },
        {
          "output_type": "display_data",
          "data": {
            "text/plain": [
              "\n"
            ],
            "text/html": [
              "<pre style=\"white-space:pre;overflow-x:auto;line-height:normal;font-family:Menlo,'DejaVu Sans Mono',consolas,'Courier New',monospace\">\n",
              "</pre>\n"
            ]
          },
          "metadata": {}
        },
        {
          "output_type": "display_data",
          "data": {
            "text/plain": [
              "\u001b[1;34m🌊 Flow: \u001b[0m\u001b[34mAndExampleFlow\u001b[0m\n",
              "\u001b[37m    ID: \u001b[0m\u001b[34m830e50a5-d630-41f5-8e9b-f391e16270d9\u001b[0m\n",
              "├── \u001b[37mFlow Method Step\u001b[0m\n",
              "├── \u001b[1;32m✅ Completed:\u001b[0m\u001b[1;32m start_method\u001b[0m\n",
              "└── \u001b[1;33m🔄 Running:\u001b[0m\u001b[1;33m second_method\u001b[0m\n"
            ],
            "text/html": [
              "<pre style=\"white-space:pre;overflow-x:auto;line-height:normal;font-family:Menlo,'DejaVu Sans Mono',consolas,'Courier New',monospace\"><span style=\"color: #000080; text-decoration-color: #000080; font-weight: bold\">🌊 Flow: </span><span style=\"color: #000080; text-decoration-color: #000080\">AndExampleFlow</span>\n",
              "<span style=\"color: #c0c0c0; text-decoration-color: #c0c0c0\">    ID: </span><span style=\"color: #000080; text-decoration-color: #000080\">830e50a5-d630-41f5-8e9b-f391e16270d9</span>\n",
              "├── <span style=\"color: #c0c0c0; text-decoration-color: #c0c0c0\">Flow Method Step</span>\n",
              "├── <span style=\"color: #008000; text-decoration-color: #008000; font-weight: bold\">✅ Completed: start_method</span>\n",
              "└── <span style=\"color: #808000; text-decoration-color: #808000; font-weight: bold\">🔄 Running: second_method</span>\n",
              "</pre>\n"
            ]
          },
          "metadata": {}
        },
        {
          "output_type": "display_data",
          "data": {
            "text/plain": [
              "\n"
            ],
            "text/html": [
              "<pre style=\"white-space:pre;overflow-x:auto;line-height:normal;font-family:Menlo,'DejaVu Sans Mono',consolas,'Courier New',monospace\">\n",
              "</pre>\n"
            ]
          },
          "metadata": {}
        },
        {
          "output_type": "display_data",
          "data": {
            "text/plain": [
              "\u001b[1;34m🌊 Flow: \u001b[0m\u001b[34mAndExampleFlow\u001b[0m\n",
              "\u001b[37m    ID: \u001b[0m\u001b[34m830e50a5-d630-41f5-8e9b-f391e16270d9\u001b[0m\n",
              "├── \u001b[37mFlow Method Step\u001b[0m\n",
              "├── \u001b[1;32m✅ Completed:\u001b[0m\u001b[1;32m start_method\u001b[0m\n",
              "└── \u001b[1;32m✅ Completed:\u001b[0m\u001b[1;32m second_method\u001b[0m\n"
            ],
            "text/html": [
              "<pre style=\"white-space:pre;overflow-x:auto;line-height:normal;font-family:Menlo,'DejaVu Sans Mono',consolas,'Courier New',monospace\"><span style=\"color: #000080; text-decoration-color: #000080; font-weight: bold\">🌊 Flow: </span><span style=\"color: #000080; text-decoration-color: #000080\">AndExampleFlow</span>\n",
              "<span style=\"color: #c0c0c0; text-decoration-color: #c0c0c0\">    ID: </span><span style=\"color: #000080; text-decoration-color: #000080\">830e50a5-d630-41f5-8e9b-f391e16270d9</span>\n",
              "├── <span style=\"color: #c0c0c0; text-decoration-color: #c0c0c0\">Flow Method Step</span>\n",
              "├── <span style=\"color: #008000; text-decoration-color: #008000; font-weight: bold\">✅ Completed: start_method</span>\n",
              "└── <span style=\"color: #008000; text-decoration-color: #008000; font-weight: bold\">✅ Completed: second_method</span>\n",
              "</pre>\n"
            ]
          },
          "metadata": {}
        },
        {
          "output_type": "display_data",
          "data": {
            "text/plain": [
              "\n"
            ],
            "text/html": [
              "<pre style=\"white-space:pre;overflow-x:auto;line-height:normal;font-family:Menlo,'DejaVu Sans Mono',consolas,'Courier New',monospace\">\n",
              "</pre>\n"
            ]
          },
          "metadata": {}
        },
        {
          "output_type": "display_data",
          "data": {
            "text/plain": [
              "\u001b[1;34m🌊 Flow: \u001b[0m\u001b[34mAndExampleFlow\u001b[0m\n",
              "\u001b[37m    ID: \u001b[0m\u001b[34m830e50a5-d630-41f5-8e9b-f391e16270d9\u001b[0m\n",
              "├── \u001b[37mFlow Method Step\u001b[0m\n",
              "├── \u001b[1;32m✅ Completed:\u001b[0m\u001b[1;32m start_method\u001b[0m\n",
              "├── \u001b[1;32m✅ Completed:\u001b[0m\u001b[1;32m second_method\u001b[0m\n",
              "└── \u001b[1;33m🔄 Running:\u001b[0m\u001b[1;33m logger\u001b[0m\n"
            ],
            "text/html": [
              "<pre style=\"white-space:pre;overflow-x:auto;line-height:normal;font-family:Menlo,'DejaVu Sans Mono',consolas,'Courier New',monospace\"><span style=\"color: #000080; text-decoration-color: #000080; font-weight: bold\">🌊 Flow: </span><span style=\"color: #000080; text-decoration-color: #000080\">AndExampleFlow</span>\n",
              "<span style=\"color: #c0c0c0; text-decoration-color: #c0c0c0\">    ID: </span><span style=\"color: #000080; text-decoration-color: #000080\">830e50a5-d630-41f5-8e9b-f391e16270d9</span>\n",
              "├── <span style=\"color: #c0c0c0; text-decoration-color: #c0c0c0\">Flow Method Step</span>\n",
              "├── <span style=\"color: #008000; text-decoration-color: #008000; font-weight: bold\">✅ Completed: start_method</span>\n",
              "├── <span style=\"color: #008000; text-decoration-color: #008000; font-weight: bold\">✅ Completed: second_method</span>\n",
              "└── <span style=\"color: #808000; text-decoration-color: #808000; font-weight: bold\">🔄 Running: logger</span>\n",
              "</pre>\n"
            ]
          },
          "metadata": {}
        },
        {
          "output_type": "display_data",
          "data": {
            "text/plain": [
              "\n"
            ],
            "text/html": [
              "<pre style=\"white-space:pre;overflow-x:auto;line-height:normal;font-family:Menlo,'DejaVu Sans Mono',consolas,'Courier New',monospace\">\n",
              "</pre>\n"
            ]
          },
          "metadata": {}
        },
        {
          "output_type": "stream",
          "name": "stdout",
          "text": [
            "---- Logger ----\n",
            "{'id': '830e50a5-d630-41f5-8e9b-f391e16270d9', 'greeting': 'Hello from the start method', 'joke': 'What do computers eat? Microchips.'}\n"
          ]
        },
        {
          "output_type": "display_data",
          "data": {
            "text/plain": [
              "\u001b[1;34m🌊 Flow: \u001b[0m\u001b[34mAndExampleFlow\u001b[0m\n",
              "\u001b[37m    ID: \u001b[0m\u001b[34m830e50a5-d630-41f5-8e9b-f391e16270d9\u001b[0m\n",
              "├── \u001b[37mFlow Method Step\u001b[0m\n",
              "├── \u001b[1;32m✅ Completed:\u001b[0m\u001b[1;32m start_method\u001b[0m\n",
              "├── \u001b[1;32m✅ Completed:\u001b[0m\u001b[1;32m second_method\u001b[0m\n",
              "└── \u001b[1;32m✅ Completed:\u001b[0m\u001b[1;32m logger\u001b[0m\n"
            ],
            "text/html": [
              "<pre style=\"white-space:pre;overflow-x:auto;line-height:normal;font-family:Menlo,'DejaVu Sans Mono',consolas,'Courier New',monospace\"><span style=\"color: #000080; text-decoration-color: #000080; font-weight: bold\">🌊 Flow: </span><span style=\"color: #000080; text-decoration-color: #000080\">AndExampleFlow</span>\n",
              "<span style=\"color: #c0c0c0; text-decoration-color: #c0c0c0\">    ID: </span><span style=\"color: #000080; text-decoration-color: #000080\">830e50a5-d630-41f5-8e9b-f391e16270d9</span>\n",
              "├── <span style=\"color: #c0c0c0; text-decoration-color: #c0c0c0\">Flow Method Step</span>\n",
              "├── <span style=\"color: #008000; text-decoration-color: #008000; font-weight: bold\">✅ Completed: start_method</span>\n",
              "├── <span style=\"color: #008000; text-decoration-color: #008000; font-weight: bold\">✅ Completed: second_method</span>\n",
              "└── <span style=\"color: #008000; text-decoration-color: #008000; font-weight: bold\">✅ Completed: logger</span>\n",
              "</pre>\n"
            ]
          },
          "metadata": {}
        },
        {
          "output_type": "display_data",
          "data": {
            "text/plain": [
              "\n"
            ],
            "text/html": [
              "<pre style=\"white-space:pre;overflow-x:auto;line-height:normal;font-family:Menlo,'DejaVu Sans Mono',consolas,'Courier New',monospace\">\n",
              "</pre>\n"
            ]
          },
          "metadata": {}
        },
        {
          "output_type": "display_data",
          "data": {
            "text/plain": [
              "\u001b[1;32m✅ Flow Finished: \u001b[0m\u001b[32mAndExampleFlow\u001b[0m\n",
              "├── \u001b[37mFlow Method Step\u001b[0m\n",
              "├── \u001b[1;32m✅ Completed:\u001b[0m\u001b[1;32m start_method\u001b[0m\n",
              "├── \u001b[1;32m✅ Completed:\u001b[0m\u001b[1;32m second_method\u001b[0m\n",
              "└── \u001b[1;32m✅ Completed:\u001b[0m\u001b[1;32m logger\u001b[0m\n"
            ],
            "text/html": [
              "<pre style=\"white-space:pre;overflow-x:auto;line-height:normal;font-family:Menlo,'DejaVu Sans Mono',consolas,'Courier New',monospace\"><span style=\"color: #008000; text-decoration-color: #008000; font-weight: bold\">✅ Flow Finished: </span><span style=\"color: #008000; text-decoration-color: #008000\">AndExampleFlow</span>\n",
              "├── <span style=\"color: #c0c0c0; text-decoration-color: #c0c0c0\">Flow Method Step</span>\n",
              "├── <span style=\"color: #008000; text-decoration-color: #008000; font-weight: bold\">✅ Completed: start_method</span>\n",
              "├── <span style=\"color: #008000; text-decoration-color: #008000; font-weight: bold\">✅ Completed: second_method</span>\n",
              "└── <span style=\"color: #008000; text-decoration-color: #008000; font-weight: bold\">✅ Completed: logger</span>\n",
              "</pre>\n"
            ]
          },
          "metadata": {}
        },
        {
          "output_type": "display_data",
          "data": {
            "text/plain": [
              "\u001b[32m╭─\u001b[0m\u001b[32m───────────────────────────────────────────────\u001b[0m\u001b[32m Flow Completion \u001b[0m\u001b[32m───────────────────────────────────────────────\u001b[0m\u001b[32m─╮\u001b[0m\n",
              "\u001b[32m│\u001b[0m                                                                                                                 \u001b[32m│\u001b[0m\n",
              "\u001b[32m│\u001b[0m  \u001b[1;32mFlow Execution Completed\u001b[0m                                                                                       \u001b[32m│\u001b[0m\n",
              "\u001b[32m│\u001b[0m  \u001b[37mName: \u001b[0m\u001b[32mAndExampleFlow\u001b[0m                                                                                           \u001b[32m│\u001b[0m\n",
              "\u001b[32m│\u001b[0m  \u001b[37mID: \u001b[0m\u001b[32m830e50a5-d630-41f5-8e9b-f391e16270d9\u001b[0m                                                                       \u001b[32m│\u001b[0m\n",
              "\u001b[32m│\u001b[0m                                                                                                                 \u001b[32m│\u001b[0m\n",
              "\u001b[32m│\u001b[0m                                                                                                                 \u001b[32m│\u001b[0m\n",
              "\u001b[32m╰─────────────────────────────────────────────────────────────────────────────────────────────────────────────────╯\u001b[0m\n"
            ],
            "text/html": [
              "<pre style=\"white-space:pre;overflow-x:auto;line-height:normal;font-family:Menlo,'DejaVu Sans Mono',consolas,'Courier New',monospace\"><span style=\"color: #008000; text-decoration-color: #008000\">╭──────────────────────────────────────────────── Flow Completion ────────────────────────────────────────────────╮</span>\n",
              "<span style=\"color: #008000; text-decoration-color: #008000\">│</span>                                                                                                                 <span style=\"color: #008000; text-decoration-color: #008000\">│</span>\n",
              "<span style=\"color: #008000; text-decoration-color: #008000\">│</span>  <span style=\"color: #008000; text-decoration-color: #008000; font-weight: bold\">Flow Execution Completed</span>                                                                                       <span style=\"color: #008000; text-decoration-color: #008000\">│</span>\n",
              "<span style=\"color: #008000; text-decoration-color: #008000\">│</span>  <span style=\"color: #c0c0c0; text-decoration-color: #c0c0c0\">Name: </span><span style=\"color: #008000; text-decoration-color: #008000\">AndExampleFlow</span>                                                                                           <span style=\"color: #008000; text-decoration-color: #008000\">│</span>\n",
              "<span style=\"color: #008000; text-decoration-color: #008000\">│</span>  <span style=\"color: #c0c0c0; text-decoration-color: #c0c0c0\">ID: </span><span style=\"color: #008000; text-decoration-color: #008000\">830e50a5-d630-41f5-8e9b-f391e16270d9</span>                                                                       <span style=\"color: #008000; text-decoration-color: #008000\">│</span>\n",
              "<span style=\"color: #008000; text-decoration-color: #008000\">│</span>                                                                                                                 <span style=\"color: #008000; text-decoration-color: #008000\">│</span>\n",
              "<span style=\"color: #008000; text-decoration-color: #008000\">│</span>                                                                                                                 <span style=\"color: #008000; text-decoration-color: #008000\">│</span>\n",
              "<span style=\"color: #008000; text-decoration-color: #008000\">╰─────────────────────────────────────────────────────────────────────────────────────────────────────────────────╯</span>\n",
              "</pre>\n"
            ]
          },
          "metadata": {}
        },
        {
          "output_type": "display_data",
          "data": {
            "text/plain": [
              "\n"
            ],
            "text/html": [
              "<pre style=\"white-space:pre;overflow-x:auto;line-height:normal;font-family:Menlo,'DejaVu Sans Mono',consolas,'Courier New',monospace\">\n",
              "</pre>\n"
            ]
          },
          "metadata": {}
        },
        {
          "output_type": "stream",
          "name": "stdout",
          "text": [
            "Plot saved as and_condition.html\n"
          ]
        }
      ]
    },
    {
      "cell_type": "code",
      "source": [
        "# prompt: Show image of html file with path -> /content/my_flow_plot.html\n",
        "\n",
        "from IPython.display import HTML\n",
        "\n",
        "HTML(filename='/content/and_condition.html')"
      ],
      "metadata": {
        "colab": {
          "base_uri": "https://localhost:8080/",
          "height": 1000
        },
        "collapsed": true,
        "id": "q40kYAROfyKq",
        "outputId": "8f8b0192-4290-48c2-a89d-33f256dc4cbd"
      },
      "execution_count": 19,
      "outputs": [
        {
          "output_type": "execute_result",
          "data": {
            "text/plain": [
              "<IPython.core.display.HTML object>"
            ],
            "text/html": [
              "<!DOCTYPE html>\n",
              "<html>\n",
              "  <head>\n",
              "    <meta charset=\"utf-8\" />\n",
              "    <title>Flow Plot</title>\n",
              "    <script\n",
              "      src=\"https://cdnjs.cloudflare.com/ajax/libs/vis-network/9.1.2/dist/vis-network.min.js\"\n",
              "      integrity=\"sha512-LnvoEWDFrqGHlHmDD2101OrLcbsfkrzoSpvtSQtxK3RMnRV0eOkhhBN2dXHKRrUU8p2DGRTk35n4O8nWSVe1mQ==\"\n",
              "      crossorigin=\"anonymous\"\n",
              "      referrerpolicy=\"no-referrer\"\n",
              "    ></script>\n",
              "    <link\n",
              "      rel=\"stylesheet\"\n",
              "      href=\"https://cdnjs.cloudflare.com/ajax/libs/vis-network/9.1.2/dist/dist/vis-network.min.css\"\n",
              "      integrity=\"sha512-WgxfT5LWjfszlPHXRmBWHkV2eceiWTOBvrKCNbdgDYTHrT2AeLCGbF4sZlZw3UMN3WtL0tGUoIAKsu8mllg/XA==\"\n",
              "      crossorigin=\"anonymous\"\n",
              "      referrerpolicy=\"no-referrer\"\n",
              "    />\n",
              "    <style type=\"text/css\">\n",
              "      body {\n",
              "        font-family: verdana;\n",
              "        margin: 0;\n",
              "        padding: 0;\n",
              "      }\n",
              "      .container {\n",
              "        display: flex;\n",
              "        flex-direction: column;\n",
              "        height: 100vh;\n",
              "      }\n",
              "      #mynetwork {\n",
              "        flex-grow: 1;\n",
              "        width: 100%;\n",
              "        height: 750px;\n",
              "        background-color: #ffffff;\n",
              "      }\n",
              "      .card {\n",
              "        border: none;\n",
              "      }\n",
              "      .legend-container {\n",
              "        display: flex;\n",
              "        align-items: center;\n",
              "        justify-content: center;\n",
              "        padding: 10px;\n",
              "        background-color: #f8f9fa;\n",
              "        position: fixed; /* Make the legend fixed */\n",
              "        bottom: 0; /* Position it at the bottom */\n",
              "        width: 100%; /* Make it span the full width */\n",
              "      }\n",
              "      .legend-item {\n",
              "        display: flex;\n",
              "        align-items: center;\n",
              "        margin-right: 20px;\n",
              "      }\n",
              "      .legend-color-box {\n",
              "        width: 20px;\n",
              "        height: 20px;\n",
              "        margin-right: 5px;\n",
              "      }\n",
              "      .logo {\n",
              "        height: 50px;\n",
              "        margin-right: 20px;\n",
              "      }\n",
              "      .legend-dashed {\n",
              "        border-bottom: 2px dashed #666666;\n",
              "        width: 20px;\n",
              "        height: 0;\n",
              "        margin-right: 5px;\n",
              "      }\n",
              "      .legend-solid {\n",
              "        border-bottom: 2px solid #666666;\n",
              "        width: 20px;\n",
              "        height: 0;\n",
              "        margin-right: 5px;\n",
              "      }\n",
              "    </style>\n",
              "  </head>\n",
              "  <body>\n",
              "    <div class=\"container\">\n",
              "      <div class=\"card\" style=\"width: 100%\">\n",
              "        <div id=\"mynetwork\" class=\"card-body\"></div>\n",
              "      </div>\n",
              "      <div class=\"legend-container\">\n",
              "        <img\n",
              "          src=\"data:image/svg+xml;base64,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\"\n",
              "          alt=\"CrewAI logo\"\n",
              "          class=\"logo\"\n",
              "        />\n",
              "        \n",
              "            <div class=\"legend-item\">\n",
              "            <div class=\"legend-color-box\" style=\"background-color: #FF5A50; border-radius: 5px;\"></div>\n",
              "            <div>Start Method</div>\n",
              "            </div>\n",
              "            \n",
              "            <div class=\"legend-item\">\n",
              "            <div class=\"legend-color-box\" style=\"background-color: #333333; border-radius: 5px;\"></div>\n",
              "            <div>Method</div>\n",
              "            </div>\n",
              "            \n",
              "            <div class=\"legend-item\">\n",
              "            <div class=\"legend-color-box\" style=\"background-color: #FFFFFF; border: 2px solid #FF5A50; border-radius: 5px;\"></div>\n",
              "            <div>Crew Method</div>\n",
              "            </div>\n",
              "            \n",
              "            <div class=\"legend-item\">\n",
              "            <div class=\"legend-color-box\" style=\"background-color: #333333; border: 2px dashed #FF5A50; border-radius: 5px;\"></div>\n",
              "            <div>Router</div>\n",
              "            </div>\n",
              "            \n",
              "            <div class=\"legend-item\">\n",
              "            <div class=\"legend-solid\" style=\"border-bottom: 2px solid #666666; border-radius: 5px;\"></div>\n",
              "            <div>Trigger</div>\n",
              "            </div>\n",
              "            \n",
              "            <div class=\"legend-item\">\n",
              "            <div class=\"legend-dashed\" style=\"border-bottom: 2px dashed #666666; border-radius: 5px;\"></div>\n",
              "            <div>AND Trigger</div>\n",
              "            </div>\n",
              "            \n",
              "            <div class=\"legend-item\">\n",
              "            <div class=\"legend-dashed\" style=\"border-bottom: 2px dashed #FF5A50; border-radius: 5px;\"></div>\n",
              "            <div>Router Trigger</div>\n",
              "            </div>\n",
              "            \n",
              "      </div>\n",
              "    </div>\n",
              "    \n",
              "        <div class=\"card\" style=\"width: 100%\">\n",
              "            \n",
              "            \n",
              "            <div id=\"mynetwork\" class=\"card-body\"></div>\n",
              "        </div>\n",
              "\n",
              "        \n",
              "        \n",
              "\n",
              "        <script type=\"text/javascript\">\n",
              "\n",
              "              // initialize global variables.\n",
              "              var edges;\n",
              "              var nodes;\n",
              "              var allNodes;\n",
              "              var allEdges;\n",
              "              var nodeColors;\n",
              "              var originalNodes;\n",
              "              var network;\n",
              "              var container;\n",
              "              var options, data;\n",
              "              var filter = {\n",
              "                  item : '',\n",
              "                  property : '',\n",
              "                  value : []\n",
              "              };\n",
              "\n",
              "              \n",
              "\n",
              "              \n",
              "\n",
              "              // This method is responsible for drawing the graph, returns the drawn network\n",
              "              function drawGraph() {\n",
              "                  var container = document.getElementById('mynetwork');\n",
              "\n",
              "                  \n",
              "\n",
              "                  // parsing and collecting nodes and edges from the python\n",
              "                  nodes = new vis.DataSet([{\"color\": \"#FF5A50\", \"fixed\": true, \"font\": {\"color\": \"#FFFFFF\", \"multi\": \"html\"}, \"id\": \"start_method\", \"label\": \"Start Method\", \"margin\": {\"bottom\": 8, \"left\": 10, \"right\": 10, \"top\": 10}, \"physics\": false, \"shape\": \"box\", \"x\": 0.0, \"y\": 0}, {\"color\": \"#333333\", \"fixed\": true, \"font\": {\"color\": \"#FFFFFF\", \"multi\": \"html\"}, \"id\": \"second_method\", \"label\": \"Second Method\", \"margin\": {\"bottom\": 8, \"left\": 10, \"right\": 10, \"top\": 10}, \"physics\": false, \"shape\": \"box\", \"x\": 0.0, \"y\": 150}, {\"color\": \"#333333\", \"fixed\": true, \"font\": {\"color\": \"#FFFFFF\", \"multi\": \"html\"}, \"id\": \"logger\", \"label\": \"Logger\", \"margin\": {\"bottom\": 8, \"left\": 10, \"right\": 10, \"top\": 10}, \"physics\": false, \"shape\": \"box\", \"x\": 0.0, \"y\": 300}]);\n",
              "                  edges = new vis.DataSet([{\"arrows\": \"to\", \"color\": \"#666666\", \"dashes\": false, \"from\": \"start_method\", \"smooth\": {\"roundness\": 0.30000000000000004, \"type\": \"curvedCCW\"}, \"to\": \"second_method\", \"width\": 2}, {\"arrows\": \"to\", \"color\": \"#666666\", \"dashes\": true, \"from\": \"start_method\", \"smooth\": {\"roundness\": 0.2, \"type\": \"continuous\"}, \"to\": \"logger\", \"width\": 2}, {\"arrows\": \"to\", \"color\": \"#666666\", \"dashes\": true, \"from\": \"second_method\", \"smooth\": {\"roundness\": 0.2, \"type\": \"continuous\"}, \"to\": \"logger\", \"width\": 2}]);\n",
              "\n",
              "                  nodeColors = {};\n",
              "                  allNodes = nodes.get({ returnType: \"Object\" });\n",
              "                  for (nodeId in allNodes) {\n",
              "                    nodeColors[nodeId] = allNodes[nodeId].color;\n",
              "                  }\n",
              "                  allEdges = edges.get({ returnType: \"Object\" });\n",
              "                  // adding nodes and edges to the graph\n",
              "                  data = {nodes: nodes, edges: edges};\n",
              "\n",
              "                  var options = {\"nodes\": {\"font\": {\"multi\": \"html\"}}, \"physics\": {\"enabled\": false}};\n",
              "\n",
              "                  \n",
              "\n",
              "\n",
              "                  \n",
              "\n",
              "                  network = new vis.Network(container, data, options);\n",
              "\n",
              "                  \n",
              "\n",
              "                  \n",
              "\n",
              "                  \n",
              "\n",
              "\n",
              "                  \n",
              "\n",
              "                  return network;\n",
              "\n",
              "              }\n",
              "              drawGraph();\n",
              "        </script>\n",
              "    \n",
              "  </body>\n",
              "</html>\n"
            ]
          },
          "metadata": {},
          "execution_count": 19
        }
      ]
    },
    {
      "cell_type": "code",
      "source": [
        "import random\n",
        "from crewai.flow.flow import Flow, listen, router, start\n",
        "from pydantic import BaseModel\n",
        "\n",
        "class ExampleState(BaseModel):\n",
        "    success_flag: bool = False\n",
        "\n",
        "class RouterFlow(Flow[ExampleState]):\n",
        "\n",
        "    @start()\n",
        "    def start_method(self):\n",
        "        print(\"Starting the structured flow\")\n",
        "        random_boolean = random.choice([True, False])\n",
        "        self.state.success_flag = random_boolean\n",
        "\n",
        "    @router(start_method)\n",
        "    def second_method(self):\n",
        "        if self.state.success_flag:\n",
        "            return \"success\"\n",
        "        else:\n",
        "            return \"failed\"\n",
        "\n",
        "    @listen(\"success\")\n",
        "    def third_method(self):\n",
        "        print(\"Third method running\")\n",
        "\n",
        "    @listen(\"failed\")\n",
        "    def fourth_method(self):\n",
        "        print(\"Fourth method running\")\n",
        "\n",
        "\n",
        "flow = RouterFlow()\n",
        "flow.kickoff()\n",
        "flow.plot(\"router_flow\")"
      ],
      "metadata": {
        "colab": {
          "base_uri": "https://localhost:8080/",
          "height": 1000
        },
        "id": "mc4v2jUnf4yC",
        "outputId": "ee9c559f-c064-4cfa-aab5-9429ecbd4ea2"
      },
      "execution_count": 20,
      "outputs": [
        {
          "output_type": "display_data",
          "data": {
            "text/plain": [
              "\u001b[34m╭─\u001b[0m\u001b[34m───────────────────────────────────────────────\u001b[0m\u001b[34m Flow Execution \u001b[0m\u001b[34m────────────────────────────────────────────────\u001b[0m\u001b[34m─╮\u001b[0m\n",
              "\u001b[34m│\u001b[0m                                                                                                                 \u001b[34m│\u001b[0m\n",
              "\u001b[34m│\u001b[0m  \u001b[1;34mStarting Flow Execution\u001b[0m                                                                                        \u001b[34m│\u001b[0m\n",
              "\u001b[34m│\u001b[0m  \u001b[37mName: \u001b[0m\u001b[34mRouterFlow\u001b[0m                                                                                               \u001b[34m│\u001b[0m\n",
              "\u001b[34m│\u001b[0m  \u001b[37mID: \u001b[0m\u001b[34mccd2348f-e2f3-47ca-b70e-25bc84e5bdfd\u001b[0m                                                                       \u001b[34m│\u001b[0m\n",
              "\u001b[34m│\u001b[0m                                                                                                                 \u001b[34m│\u001b[0m\n",
              "\u001b[34m│\u001b[0m                                                                                                                 \u001b[34m│\u001b[0m\n",
              "\u001b[34m╰─────────────────────────────────────────────────────────────────────────────────────────────────────────────────╯\u001b[0m\n"
            ],
            "text/html": [
              "<pre style=\"white-space:pre;overflow-x:auto;line-height:normal;font-family:Menlo,'DejaVu Sans Mono',consolas,'Courier New',monospace\"><span style=\"color: #000080; text-decoration-color: #000080\">╭──────────────────────────────────────────────── Flow Execution ─────────────────────────────────────────────────╮</span>\n",
              "<span style=\"color: #000080; text-decoration-color: #000080\">│</span>                                                                                                                 <span style=\"color: #000080; text-decoration-color: #000080\">│</span>\n",
              "<span style=\"color: #000080; text-decoration-color: #000080\">│</span>  <span style=\"color: #000080; text-decoration-color: #000080; font-weight: bold\">Starting Flow Execution</span>                                                                                        <span style=\"color: #000080; text-decoration-color: #000080\">│</span>\n",
              "<span style=\"color: #000080; text-decoration-color: #000080\">│</span>  <span style=\"color: #c0c0c0; text-decoration-color: #c0c0c0\">Name: </span><span style=\"color: #000080; text-decoration-color: #000080\">RouterFlow</span>                                                                                               <span style=\"color: #000080; text-decoration-color: #000080\">│</span>\n",
              "<span style=\"color: #000080; text-decoration-color: #000080\">│</span>  <span style=\"color: #c0c0c0; text-decoration-color: #c0c0c0\">ID: </span><span style=\"color: #000080; text-decoration-color: #000080\">ccd2348f-e2f3-47ca-b70e-25bc84e5bdfd</span>                                                                       <span style=\"color: #000080; text-decoration-color: #000080\">│</span>\n",
              "<span style=\"color: #000080; text-decoration-color: #000080\">│</span>                                                                                                                 <span style=\"color: #000080; text-decoration-color: #000080\">│</span>\n",
              "<span style=\"color: #000080; text-decoration-color: #000080\">│</span>                                                                                                                 <span style=\"color: #000080; text-decoration-color: #000080\">│</span>\n",
              "<span style=\"color: #000080; text-decoration-color: #000080\">╰─────────────────────────────────────────────────────────────────────────────────────────────────────────────────╯</span>\n",
              "</pre>\n"
            ]
          },
          "metadata": {}
        },
        {
          "output_type": "display_data",
          "data": {
            "text/plain": [
              "\n"
            ],
            "text/html": [
              "<pre style=\"white-space:pre;overflow-x:auto;line-height:normal;font-family:Menlo,'DejaVu Sans Mono',consolas,'Courier New',monospace\">\n",
              "</pre>\n"
            ]
          },
          "metadata": {}
        },
        {
          "output_type": "display_data",
          "data": {
            "text/plain": [
              "\u001b[1;34m🌊 Flow: \u001b[0m\u001b[34mRouterFlow\u001b[0m\n",
              "\u001b[37m    ID: \u001b[0m\u001b[34mccd2348f-e2f3-47ca-b70e-25bc84e5bdfd\u001b[0m\n",
              "└── \u001b[33m🧠 Starting Flow...\u001b[0m\n"
            ],
            "text/html": [
              "<pre style=\"white-space:pre;overflow-x:auto;line-height:normal;font-family:Menlo,'DejaVu Sans Mono',consolas,'Courier New',monospace\"><span style=\"color: #000080; text-decoration-color: #000080; font-weight: bold\">🌊 Flow: </span><span style=\"color: #000080; text-decoration-color: #000080\">RouterFlow</span>\n",
              "<span style=\"color: #c0c0c0; text-decoration-color: #c0c0c0\">    ID: </span><span style=\"color: #000080; text-decoration-color: #000080\">ccd2348f-e2f3-47ca-b70e-25bc84e5bdfd</span>\n",
              "└── <span style=\"color: #808000; text-decoration-color: #808000\">🧠 Starting Flow...</span>\n",
              "</pre>\n"
            ]
          },
          "metadata": {}
        },
        {
          "output_type": "display_data",
          "data": {
            "text/plain": [
              "\n"
            ],
            "text/html": [
              "<pre style=\"white-space:pre;overflow-x:auto;line-height:normal;font-family:Menlo,'DejaVu Sans Mono',consolas,'Courier New',monospace\">\n",
              "</pre>\n"
            ]
          },
          "metadata": {}
        },
        {
          "output_type": "stream",
          "name": "stdout",
          "text": [
            "\u001b[1m\u001b[35m Flow started with ID: ccd2348f-e2f3-47ca-b70e-25bc84e5bdfd\u001b[00m\n"
          ]
        },
        {
          "output_type": "display_data",
          "data": {
            "text/plain": [
              "\u001b[1;34m🌊 Flow: \u001b[0m\u001b[34mRouterFlow\u001b[0m\n",
              "\u001b[37m    ID: \u001b[0m\u001b[34mccd2348f-e2f3-47ca-b70e-25bc84e5bdfd\u001b[0m\n",
              "├── \u001b[33m🧠 Starting Flow...\u001b[0m\n",
              "└── \u001b[1;33m🔄 Running:\u001b[0m\u001b[1;33m start_method\u001b[0m\n"
            ],
            "text/html": [
              "<pre style=\"white-space:pre;overflow-x:auto;line-height:normal;font-family:Menlo,'DejaVu Sans Mono',consolas,'Courier New',monospace\"><span style=\"color: #000080; text-decoration-color: #000080; font-weight: bold\">🌊 Flow: </span><span style=\"color: #000080; text-decoration-color: #000080\">RouterFlow</span>\n",
              "<span style=\"color: #c0c0c0; text-decoration-color: #c0c0c0\">    ID: </span><span style=\"color: #000080; text-decoration-color: #000080\">ccd2348f-e2f3-47ca-b70e-25bc84e5bdfd</span>\n",
              "├── <span style=\"color: #808000; text-decoration-color: #808000\">🧠 Starting Flow...</span>\n",
              "└── <span style=\"color: #808000; text-decoration-color: #808000; font-weight: bold\">🔄 Running: start_method</span>\n",
              "</pre>\n"
            ]
          },
          "metadata": {}
        },
        {
          "output_type": "display_data",
          "data": {
            "text/plain": [
              "\n"
            ],
            "text/html": [
              "<pre style=\"white-space:pre;overflow-x:auto;line-height:normal;font-family:Menlo,'DejaVu Sans Mono',consolas,'Courier New',monospace\">\n",
              "</pre>\n"
            ]
          },
          "metadata": {}
        },
        {
          "output_type": "stream",
          "name": "stdout",
          "text": [
            "Starting the structured flow\n"
          ]
        },
        {
          "output_type": "display_data",
          "data": {
            "text/plain": [
              "\u001b[1;34m🌊 Flow: \u001b[0m\u001b[34mRouterFlow\u001b[0m\n",
              "\u001b[37m    ID: \u001b[0m\u001b[34mccd2348f-e2f3-47ca-b70e-25bc84e5bdfd\u001b[0m\n",
              "├── \u001b[37mFlow Method Step\u001b[0m\n",
              "└── \u001b[1;32m✅ Completed:\u001b[0m\u001b[1;32m start_method\u001b[0m\n"
            ],
            "text/html": [
              "<pre style=\"white-space:pre;overflow-x:auto;line-height:normal;font-family:Menlo,'DejaVu Sans Mono',consolas,'Courier New',monospace\"><span style=\"color: #000080; text-decoration-color: #000080; font-weight: bold\">🌊 Flow: </span><span style=\"color: #000080; text-decoration-color: #000080\">RouterFlow</span>\n",
              "<span style=\"color: #c0c0c0; text-decoration-color: #c0c0c0\">    ID: </span><span style=\"color: #000080; text-decoration-color: #000080\">ccd2348f-e2f3-47ca-b70e-25bc84e5bdfd</span>\n",
              "├── <span style=\"color: #c0c0c0; text-decoration-color: #c0c0c0\">Flow Method Step</span>\n",
              "└── <span style=\"color: #008000; text-decoration-color: #008000; font-weight: bold\">✅ Completed: start_method</span>\n",
              "</pre>\n"
            ]
          },
          "metadata": {}
        },
        {
          "output_type": "display_data",
          "data": {
            "text/plain": [
              "\n"
            ],
            "text/html": [
              "<pre style=\"white-space:pre;overflow-x:auto;line-height:normal;font-family:Menlo,'DejaVu Sans Mono',consolas,'Courier New',monospace\">\n",
              "</pre>\n"
            ]
          },
          "metadata": {}
        },
        {
          "output_type": "display_data",
          "data": {
            "text/plain": [
              "\u001b[1;34m🌊 Flow: \u001b[0m\u001b[34mRouterFlow\u001b[0m\n",
              "\u001b[37m    ID: \u001b[0m\u001b[34mccd2348f-e2f3-47ca-b70e-25bc84e5bdfd\u001b[0m\n",
              "├── \u001b[37mFlow Method Step\u001b[0m\n",
              "├── \u001b[1;32m✅ Completed:\u001b[0m\u001b[1;32m start_method\u001b[0m\n",
              "└── \u001b[1;33m🔄 Running:\u001b[0m\u001b[1;33m second_method\u001b[0m\n"
            ],
            "text/html": [
              "<pre style=\"white-space:pre;overflow-x:auto;line-height:normal;font-family:Menlo,'DejaVu Sans Mono',consolas,'Courier New',monospace\"><span style=\"color: #000080; text-decoration-color: #000080; font-weight: bold\">🌊 Flow: </span><span style=\"color: #000080; text-decoration-color: #000080\">RouterFlow</span>\n",
              "<span style=\"color: #c0c0c0; text-decoration-color: #c0c0c0\">    ID: </span><span style=\"color: #000080; text-decoration-color: #000080\">ccd2348f-e2f3-47ca-b70e-25bc84e5bdfd</span>\n",
              "├── <span style=\"color: #c0c0c0; text-decoration-color: #c0c0c0\">Flow Method Step</span>\n",
              "├── <span style=\"color: #008000; text-decoration-color: #008000; font-weight: bold\">✅ Completed: start_method</span>\n",
              "└── <span style=\"color: #808000; text-decoration-color: #808000; font-weight: bold\">🔄 Running: second_method</span>\n",
              "</pre>\n"
            ]
          },
          "metadata": {}
        },
        {
          "output_type": "display_data",
          "data": {
            "text/plain": [
              "\n"
            ],
            "text/html": [
              "<pre style=\"white-space:pre;overflow-x:auto;line-height:normal;font-family:Menlo,'DejaVu Sans Mono',consolas,'Courier New',monospace\">\n",
              "</pre>\n"
            ]
          },
          "metadata": {}
        },
        {
          "output_type": "display_data",
          "data": {
            "text/plain": [
              "\u001b[1;34m🌊 Flow: \u001b[0m\u001b[34mRouterFlow\u001b[0m\n",
              "\u001b[37m    ID: \u001b[0m\u001b[34mccd2348f-e2f3-47ca-b70e-25bc84e5bdfd\u001b[0m\n",
              "├── \u001b[37mFlow Method Step\u001b[0m\n",
              "├── \u001b[1;32m✅ Completed:\u001b[0m\u001b[1;32m start_method\u001b[0m\n",
              "└── \u001b[1;32m✅ Completed:\u001b[0m\u001b[1;32m second_method\u001b[0m\n"
            ],
            "text/html": [
              "<pre style=\"white-space:pre;overflow-x:auto;line-height:normal;font-family:Menlo,'DejaVu Sans Mono',consolas,'Courier New',monospace\"><span style=\"color: #000080; text-decoration-color: #000080; font-weight: bold\">🌊 Flow: </span><span style=\"color: #000080; text-decoration-color: #000080\">RouterFlow</span>\n",
              "<span style=\"color: #c0c0c0; text-decoration-color: #c0c0c0\">    ID: </span><span style=\"color: #000080; text-decoration-color: #000080\">ccd2348f-e2f3-47ca-b70e-25bc84e5bdfd</span>\n",
              "├── <span style=\"color: #c0c0c0; text-decoration-color: #c0c0c0\">Flow Method Step</span>\n",
              "├── <span style=\"color: #008000; text-decoration-color: #008000; font-weight: bold\">✅ Completed: start_method</span>\n",
              "└── <span style=\"color: #008000; text-decoration-color: #008000; font-weight: bold\">✅ Completed: second_method</span>\n",
              "</pre>\n"
            ]
          },
          "metadata": {}
        },
        {
          "output_type": "display_data",
          "data": {
            "text/plain": [
              "\n"
            ],
            "text/html": [
              "<pre style=\"white-space:pre;overflow-x:auto;line-height:normal;font-family:Menlo,'DejaVu Sans Mono',consolas,'Courier New',monospace\">\n",
              "</pre>\n"
            ]
          },
          "metadata": {}
        },
        {
          "output_type": "display_data",
          "data": {
            "text/plain": [
              "\u001b[1;34m🌊 Flow: \u001b[0m\u001b[34mRouterFlow\u001b[0m\n",
              "\u001b[37m    ID: \u001b[0m\u001b[34mccd2348f-e2f3-47ca-b70e-25bc84e5bdfd\u001b[0m\n",
              "├── \u001b[37mFlow Method Step\u001b[0m\n",
              "├── \u001b[1;32m✅ Completed:\u001b[0m\u001b[1;32m start_method\u001b[0m\n",
              "├── \u001b[1;32m✅ Completed:\u001b[0m\u001b[1;32m second_method\u001b[0m\n",
              "└── \u001b[1;33m🔄 Running:\u001b[0m\u001b[1;33m fourth_method\u001b[0m\n"
            ],
            "text/html": [
              "<pre style=\"white-space:pre;overflow-x:auto;line-height:normal;font-family:Menlo,'DejaVu Sans Mono',consolas,'Courier New',monospace\"><span style=\"color: #000080; text-decoration-color: #000080; font-weight: bold\">🌊 Flow: </span><span style=\"color: #000080; text-decoration-color: #000080\">RouterFlow</span>\n",
              "<span style=\"color: #c0c0c0; text-decoration-color: #c0c0c0\">    ID: </span><span style=\"color: #000080; text-decoration-color: #000080\">ccd2348f-e2f3-47ca-b70e-25bc84e5bdfd</span>\n",
              "├── <span style=\"color: #c0c0c0; text-decoration-color: #c0c0c0\">Flow Method Step</span>\n",
              "├── <span style=\"color: #008000; text-decoration-color: #008000; font-weight: bold\">✅ Completed: start_method</span>\n",
              "├── <span style=\"color: #008000; text-decoration-color: #008000; font-weight: bold\">✅ Completed: second_method</span>\n",
              "└── <span style=\"color: #808000; text-decoration-color: #808000; font-weight: bold\">🔄 Running: fourth_method</span>\n",
              "</pre>\n"
            ]
          },
          "metadata": {}
        },
        {
          "output_type": "display_data",
          "data": {
            "text/plain": [
              "\n"
            ],
            "text/html": [
              "<pre style=\"white-space:pre;overflow-x:auto;line-height:normal;font-family:Menlo,'DejaVu Sans Mono',consolas,'Courier New',monospace\">\n",
              "</pre>\n"
            ]
          },
          "metadata": {}
        },
        {
          "output_type": "stream",
          "name": "stdout",
          "text": [
            "Fourth method running\n"
          ]
        },
        {
          "output_type": "display_data",
          "data": {
            "text/plain": [
              "\u001b[1;34m🌊 Flow: \u001b[0m\u001b[34mRouterFlow\u001b[0m\n",
              "\u001b[37m    ID: \u001b[0m\u001b[34mccd2348f-e2f3-47ca-b70e-25bc84e5bdfd\u001b[0m\n",
              "├── \u001b[37mFlow Method Step\u001b[0m\n",
              "├── \u001b[1;32m✅ Completed:\u001b[0m\u001b[1;32m start_method\u001b[0m\n",
              "├── \u001b[1;32m✅ Completed:\u001b[0m\u001b[1;32m second_method\u001b[0m\n",
              "└── \u001b[1;32m✅ Completed:\u001b[0m\u001b[1;32m fourth_method\u001b[0m\n"
            ],
            "text/html": [
              "<pre style=\"white-space:pre;overflow-x:auto;line-height:normal;font-family:Menlo,'DejaVu Sans Mono',consolas,'Courier New',monospace\"><span style=\"color: #000080; text-decoration-color: #000080; font-weight: bold\">🌊 Flow: </span><span style=\"color: #000080; text-decoration-color: #000080\">RouterFlow</span>\n",
              "<span style=\"color: #c0c0c0; text-decoration-color: #c0c0c0\">    ID: </span><span style=\"color: #000080; text-decoration-color: #000080\">ccd2348f-e2f3-47ca-b70e-25bc84e5bdfd</span>\n",
              "├── <span style=\"color: #c0c0c0; text-decoration-color: #c0c0c0\">Flow Method Step</span>\n",
              "├── <span style=\"color: #008000; text-decoration-color: #008000; font-weight: bold\">✅ Completed: start_method</span>\n",
              "├── <span style=\"color: #008000; text-decoration-color: #008000; font-weight: bold\">✅ Completed: second_method</span>\n",
              "└── <span style=\"color: #008000; text-decoration-color: #008000; font-weight: bold\">✅ Completed: fourth_method</span>\n",
              "</pre>\n"
            ]
          },
          "metadata": {}
        },
        {
          "output_type": "display_data",
          "data": {
            "text/plain": [
              "\n"
            ],
            "text/html": [
              "<pre style=\"white-space:pre;overflow-x:auto;line-height:normal;font-family:Menlo,'DejaVu Sans Mono',consolas,'Courier New',monospace\">\n",
              "</pre>\n"
            ]
          },
          "metadata": {}
        },
        {
          "output_type": "display_data",
          "data": {
            "text/plain": [
              "\u001b[1;32m✅ Flow Finished: \u001b[0m\u001b[32mRouterFlow\u001b[0m\n",
              "├── \u001b[37mFlow Method Step\u001b[0m\n",
              "├── \u001b[1;32m✅ Completed:\u001b[0m\u001b[1;32m start_method\u001b[0m\n",
              "├── \u001b[1;32m✅ Completed:\u001b[0m\u001b[1;32m second_method\u001b[0m\n",
              "└── \u001b[1;32m✅ Completed:\u001b[0m\u001b[1;32m fourth_method\u001b[0m\n"
            ],
            "text/html": [
              "<pre style=\"white-space:pre;overflow-x:auto;line-height:normal;font-family:Menlo,'DejaVu Sans Mono',consolas,'Courier New',monospace\"><span style=\"color: #008000; text-decoration-color: #008000; font-weight: bold\">✅ Flow Finished: </span><span style=\"color: #008000; text-decoration-color: #008000\">RouterFlow</span>\n",
              "├── <span style=\"color: #c0c0c0; text-decoration-color: #c0c0c0\">Flow Method Step</span>\n",
              "├── <span style=\"color: #008000; text-decoration-color: #008000; font-weight: bold\">✅ Completed: start_method</span>\n",
              "├── <span style=\"color: #008000; text-decoration-color: #008000; font-weight: bold\">✅ Completed: second_method</span>\n",
              "└── <span style=\"color: #008000; text-decoration-color: #008000; font-weight: bold\">✅ Completed: fourth_method</span>\n",
              "</pre>\n"
            ]
          },
          "metadata": {}
        },
        {
          "output_type": "display_data",
          "data": {
            "text/plain": [
              "\u001b[32m╭─\u001b[0m\u001b[32m───────────────────────────────────────────────\u001b[0m\u001b[32m Flow Completion \u001b[0m\u001b[32m───────────────────────────────────────────────\u001b[0m\u001b[32m─╮\u001b[0m\n",
              "\u001b[32m│\u001b[0m                                                                                                                 \u001b[32m│\u001b[0m\n",
              "\u001b[32m│\u001b[0m  \u001b[1;32mFlow Execution Completed\u001b[0m                                                                                       \u001b[32m│\u001b[0m\n",
              "\u001b[32m│\u001b[0m  \u001b[37mName: \u001b[0m\u001b[32mRouterFlow\u001b[0m                                                                                               \u001b[32m│\u001b[0m\n",
              "\u001b[32m│\u001b[0m  \u001b[37mID: \u001b[0m\u001b[32mccd2348f-e2f3-47ca-b70e-25bc84e5bdfd\u001b[0m                                                                       \u001b[32m│\u001b[0m\n",
              "\u001b[32m│\u001b[0m                                                                                                                 \u001b[32m│\u001b[0m\n",
              "\u001b[32m│\u001b[0m                                                                                                                 \u001b[32m│\u001b[0m\n",
              "\u001b[32m╰─────────────────────────────────────────────────────────────────────────────────────────────────────────────────╯\u001b[0m\n"
            ],
            "text/html": [
              "<pre style=\"white-space:pre;overflow-x:auto;line-height:normal;font-family:Menlo,'DejaVu Sans Mono',consolas,'Courier New',monospace\"><span style=\"color: #008000; text-decoration-color: #008000\">╭──────────────────────────────────────────────── Flow Completion ────────────────────────────────────────────────╮</span>\n",
              "<span style=\"color: #008000; text-decoration-color: #008000\">│</span>                                                                                                                 <span style=\"color: #008000; text-decoration-color: #008000\">│</span>\n",
              "<span style=\"color: #008000; text-decoration-color: #008000\">│</span>  <span style=\"color: #008000; text-decoration-color: #008000; font-weight: bold\">Flow Execution Completed</span>                                                                                       <span style=\"color: #008000; text-decoration-color: #008000\">│</span>\n",
              "<span style=\"color: #008000; text-decoration-color: #008000\">│</span>  <span style=\"color: #c0c0c0; text-decoration-color: #c0c0c0\">Name: </span><span style=\"color: #008000; text-decoration-color: #008000\">RouterFlow</span>                                                                                               <span style=\"color: #008000; text-decoration-color: #008000\">│</span>\n",
              "<span style=\"color: #008000; text-decoration-color: #008000\">│</span>  <span style=\"color: #c0c0c0; text-decoration-color: #c0c0c0\">ID: </span><span style=\"color: #008000; text-decoration-color: #008000\">ccd2348f-e2f3-47ca-b70e-25bc84e5bdfd</span>                                                                       <span style=\"color: #008000; text-decoration-color: #008000\">│</span>\n",
              "<span style=\"color: #008000; text-decoration-color: #008000\">│</span>                                                                                                                 <span style=\"color: #008000; text-decoration-color: #008000\">│</span>\n",
              "<span style=\"color: #008000; text-decoration-color: #008000\">│</span>                                                                                                                 <span style=\"color: #008000; text-decoration-color: #008000\">│</span>\n",
              "<span style=\"color: #008000; text-decoration-color: #008000\">╰─────────────────────────────────────────────────────────────────────────────────────────────────────────────────╯</span>\n",
              "</pre>\n"
            ]
          },
          "metadata": {}
        },
        {
          "output_type": "display_data",
          "data": {
            "text/plain": [
              "\n"
            ],
            "text/html": [
              "<pre style=\"white-space:pre;overflow-x:auto;line-height:normal;font-family:Menlo,'DejaVu Sans Mono',consolas,'Courier New',monospace\">\n",
              "</pre>\n"
            ]
          },
          "metadata": {}
        },
        {
          "output_type": "stream",
          "name": "stdout",
          "text": [
            "Plot saved as router_flow.html\n"
          ]
        }
      ]
    },
    {
      "cell_type": "code",
      "source": [
        "# prompt: Show image of html file with path -> /content/my_flow_plot.html\n",
        "\n",
        "from IPython.display import HTML\n",
        "\n",
        "HTML(filename='/content/router_flow.html')"
      ],
      "metadata": {
        "colab": {
          "base_uri": "https://localhost:8080/",
          "height": 1000
        },
        "collapsed": true,
        "id": "m1da1nSxgGdp",
        "outputId": "63f8a200-75ae-4b12-e19f-3542ddb8541e"
      },
      "execution_count": 21,
      "outputs": [
        {
          "output_type": "execute_result",
          "data": {
            "text/plain": [
              "<IPython.core.display.HTML object>"
            ],
            "text/html": [
              "<!DOCTYPE html>\n",
              "<html>\n",
              "  <head>\n",
              "    <meta charset=\"utf-8\" />\n",
              "    <title>Flow Plot</title>\n",
              "    <script\n",
              "      src=\"https://cdnjs.cloudflare.com/ajax/libs/vis-network/9.1.2/dist/vis-network.min.js\"\n",
              "      integrity=\"sha512-LnvoEWDFrqGHlHmDD2101OrLcbsfkrzoSpvtSQtxK3RMnRV0eOkhhBN2dXHKRrUU8p2DGRTk35n4O8nWSVe1mQ==\"\n",
              "      crossorigin=\"anonymous\"\n",
              "      referrerpolicy=\"no-referrer\"\n",
              "    ></script>\n",
              "    <link\n",
              "      rel=\"stylesheet\"\n",
              "      href=\"https://cdnjs.cloudflare.com/ajax/libs/vis-network/9.1.2/dist/dist/vis-network.min.css\"\n",
              "      integrity=\"sha512-WgxfT5LWjfszlPHXRmBWHkV2eceiWTOBvrKCNbdgDYTHrT2AeLCGbF4sZlZw3UMN3WtL0tGUoIAKsu8mllg/XA==\"\n",
              "      crossorigin=\"anonymous\"\n",
              "      referrerpolicy=\"no-referrer\"\n",
              "    />\n",
              "    <style type=\"text/css\">\n",
              "      body {\n",
              "        font-family: verdana;\n",
              "        margin: 0;\n",
              "        padding: 0;\n",
              "      }\n",
              "      .container {\n",
              "        display: flex;\n",
              "        flex-direction: column;\n",
              "        height: 100vh;\n",
              "      }\n",
              "      #mynetwork {\n",
              "        flex-grow: 1;\n",
              "        width: 100%;\n",
              "        height: 750px;\n",
              "        background-color: #ffffff;\n",
              "      }\n",
              "      .card {\n",
              "        border: none;\n",
              "      }\n",
              "      .legend-container {\n",
              "        display: flex;\n",
              "        align-items: center;\n",
              "        justify-content: center;\n",
              "        padding: 10px;\n",
              "        background-color: #f8f9fa;\n",
              "        position: fixed; /* Make the legend fixed */\n",
              "        bottom: 0; /* Position it at the bottom */\n",
              "        width: 100%; /* Make it span the full width */\n",
              "      }\n",
              "      .legend-item {\n",
              "        display: flex;\n",
              "        align-items: center;\n",
              "        margin-right: 20px;\n",
              "      }\n",
              "      .legend-color-box {\n",
              "        width: 20px;\n",
              "        height: 20px;\n",
              "        margin-right: 5px;\n",
              "      }\n",
              "      .logo {\n",
              "        height: 50px;\n",
              "        margin-right: 20px;\n",
              "      }\n",
              "      .legend-dashed {\n",
              "        border-bottom: 2px dashed #666666;\n",
              "        width: 20px;\n",
              "        height: 0;\n",
              "        margin-right: 5px;\n",
              "      }\n",
              "      .legend-solid {\n",
              "        border-bottom: 2px solid #666666;\n",
              "        width: 20px;\n",
              "        height: 0;\n",
              "        margin-right: 5px;\n",
              "      }\n",
              "    </style>\n",
              "  </head>\n",
              "  <body>\n",
              "    <div class=\"container\">\n",
              "      <div class=\"card\" style=\"width: 100%\">\n",
              "        <div id=\"mynetwork\" class=\"card-body\"></div>\n",
              "      </div>\n",
              "      <div class=\"legend-container\">\n",
              "        <img\n",
              "          src=\"data:image/svg+xml;base64,PHN2ZyB3aWR0aD0iMTU2IiBoZWlnaHQ9IjUyIiB2aWV3Qm94PSIwIDAgMTU2IDUyIiBmaWxsPSJub25lIiB4bWxucz0iaHR0cDovL3d3dy53My5vcmcvMjAwMC9zdmciPgo8bWFzayBpZD0icGF0aC0xLW91dHNpZGUtMV83XzIzNTkiIG1hc2tVbml0cz0idXNlclNwYWNlT25Vc2UiIHg9IjEiIHk9IjIiIHdpZHRoPSIxNTUiIGhlaWdodD0iNDkiIGZpbGw9ImJsYWNrIj4KPHJlY3QgZmlsbD0id2hpdGUiIHg9IjEiIHk9IjIiIHdpZHRoPSIxNTUiIGhlaWdodD0iNDkiLz4KPHBhdGggZD0iTTE1Mi45MzkgMTIuMDM3NlYxMi4wNDU1QzE1Mi4yMjcgMTQuOTA0OCAxNTAuMTc5IDE2Ljk3NjEgMTQ4LjcwNiAxOC4yODNMMTQ4LjY3IDE4LjMxNDZDMTQ4LjQ0MSAxOC41MTQxIDE0OC4yIDE4LjcwMDUgMTQ3Ljk1IDE4Ljg3M0MxNDguMDU4IDE5LjA5NTQgMTQ4LjE1IDE5LjMyNTcgMTQ4LjIyMyAxOS41NjIxTDE0OC4yMzUgMTkuNjA1N0MxNDguNTE2IDIwLjU0NzcgMTQ4LjU4NyAyMS41Mzk5IDE0OC40NDUgMjIuNTEyNkMxNDguMTc3IDI0LjEzODUgMTQ3LjczNyAyNS43MzE1IDE0Ny4xMzQgMjcuMjY0OUMxNDYuODY4IDI4LjAwOTQgMTQ2LjYxNSAyOC43MTQ0IDE0Ni40MjEgMjkuNDA3NEMxNDUuODg2IDMxLjI2MDggMTQ1LjI3NiAzMy40NTQ4IDE0NC43ODUgMzUuNjk2NEMxNDQuNDM2IDM3LjMzMTEgMTQ0LjMxMyAzOS4wMDYyIDE0NC40MjEgNDAuNjc0NEMxNDQuNDg1IDQxLjQxMTQgMTQ0LjM1MyA0Mi4xNTIzIDE0NC4wMzggNDIuODIxNUMxNDMuNzIzIDQzLjQ5MDggMTQzLjIzNiA0NC4wNjQ1IDE0Mi42MjcgNDQuNDg0MkMxNDEuNDQ0IDQ1LjM5NzEgMTQwLjExOCA0Ni4xMDc3IDEzOC43MDIgNDYuNTg3MkMxMzYuMzcgNDcuMjk2MSAxMzQuNzQyIDQ2LjY3ODIgMTMzLjc4OCA0Ni4wMzI3QzEzMy42MzEgNDUuOTI3MiAxMzMuNDgyIDQ1LjgxMjEgMTMzLjM0IDQ1LjY4ODJDMTMyLjE2MSA0Ni40MjYxIDEzMC44NDMgNDYuOTExNiAxMjkuNDY3IDQ3LjExMzlDMTI4LjkxNyA0Ny4xOTU4IDEyOC4zNjMgNDcuMjM4MSAxMjcuODA3IDQ3LjI0MDZDMTI2LjcyOCA0Ny4yNzEzIDEyNS42NTUgNDcuMDczNCAxMjQuNjU4IDQ2LjY1OTdDMTIzLjY2IDQ2LjI0NjEgMTIyLjc2MiA0NS42MjYyIDEyMi4wMjEgNDQuODQwN0MxMjEuODI2IDQ0LjYzNTcgMTIxLjY0MyA0NC40MjAyIDEyMS40NzEgNDQuMTk1MUMxMjAuOTU0IDQ0LjU2NzggMTIwLjQxIDQ0LjkwMTQgMTE5Ljg0MyA0NS4xOTMxQzExOC4yNDYgNDYuMDM5MiAxMTYuNDIxIDQ2LjM1NTQgMTE0LjYzMiA0Ni4wOTYxQzExMy4xMjEgNDUuOTI5NyAxMTEuNjkyIDQ1LjMyODUgMTEwLjUxNyA0NC4zNjU0QzEwOS4xNjggNDMuMTY5IDEwOC4yODUgNDEuNTM1MyAxMDguMDIyIDM5Ljc1MTdDMTA3LjkzOCAzOS4zMDggMTA3Ljg4MSAzOC44NTk3IDEwNy44NTIgMzguNDA5MkMxMDcuMDU2IDM5LjU0NTggMTA2LjE5NiA0MC42MTExIDEwNS4zNjggNDEuNjEzQzEwMy44MzMgNDMuNTU1NiAxMDEuODg1IDQ1LjEzMjggOTkuNjY1NiA0Ni4yMzA3Qzk3LjM2MTggNDcuMzU1NiA5NC43MjE0IDQ3LjU4MTYgOTIuMjU5OSA0Ni44NjQ0QzkwLjkwMjQgNDYuNTI5IDg5LjYwNyA0NS45Nzk2IDg4LjQyMjQgNDUuMjM2N0M4Ny43OTM0IDQ0LjgyNzUgODcuMjI2NiA0NC4zMyA4Ni43MzkyIDQzLjc1OTVDODYuMjU2MSA0NC4yNTg1IDg1Ljc3MjkgNDQuNzE3OSA4NS4zMDk2IDQ1LjE2MTVDODUuMDI4NCA0NS40MzA4IDg0Ljc0MzMgNDUuNzAwMSA4NC40NjYgNDUuOTczM0M4NC4wMzMyIDQ2LjQwMTMgODMuNTE4OSA0Ni43MzgxIDgyLjk1MzcgNDYuOTY0QzgyLjM4ODQgNDcuMTg5OCA4MS43ODM2IDQ3LjMgODEuMTc1IDQ3LjI4ODFDODAuODUxMyA0Ny4yODc3IDgwLjUyODIgNDcuMjYxMiA4MC4yMDg3IDQ3LjIwODlDNzguODAwNiA0Ny4wMDAzIDc3LjQyNjMgNDYuNjA2MSA3Ni4xMjE3IDQ2LjAzNjdMNzYuMDgyMSA0Ni4wMTY5Qzc0Ljc2MiA0NS40Mjk1IDczLjYzMzkgNDQuNDgyNiA3Mi44MjY3IDQzLjI4NDNDNzEuNjAzOCA0NC4yODM5IDcwLjI1NjcgNDUuMTIxMiA2OC44MTg5IDQ1Ljc3NTNDNjcuMzkwOCA0Ni40NjU4IDY1Ljg1NCA0Ni45MDQgNjQuMjc2NSA0Ny4wNzAzQzYyLjg4OTUgNDcuMjI1MiA2MS40OTMyIDQ3LjI3OTUgNjAuMDk4NCA0Ny4yMzI3QzU3Ljc2MTIgNDcuMTQ3MiA1NS40OTE5IDQ2LjQyNDEgNTMuNTM2MiA0NS4xNDE3QzUxLjQ5MTggNDMuNzQ5OSA1MC4wMzI0IDQxLjY1MzIgNDkuNDM3MyAzOS4yNTI3QzQ5LjQyNTQgMzkuMjAxMiA0OS40MDk1IDM5LjE0OTcgNDkuMzk3NiAzOS4wOTgzQzQ4LjcyNTMgMzkuNDEwMiA0OC4wMTggMzkuNjQwMiA0Ny4yOTA4IDM5Ljc4MzRDNDUuMzk3NCA0MC4yMDAyIDQzLjQyNCA0MC4wNjEzIDQxLjYwNzggMzkuMzgzNEM0MC42NTI4IDM5LjAyMTIgMzkuODA1NSAzOC40MjI0IDM5LjE0NTMgMzcuNjQzMUMzOC40ODUyIDM2Ljg2MzggMzguMDMzOCAzNS45Mjk2IDM3LjgzMzYgMzQuOTI4MUMzNi4zNTI4IDM3LjA0NSAzNS4wMDM3IDM5LjI1MTEgMzMuNzk0MSA0MS41MzM4QzMzLjY2NzQgNDEuNzY3NSAzMy41NDA2IDQyLjA1MjYgMzMuNDAyIDQyLjM0OTdDMzMuMTMwMyA0Mi45NzI3IDMyLjgxODEgNDMuNTc3MiAzMi40Njc0IDQ0LjE1OTVDMzEuODY5IDQ1LjE1NTMgMzEuMDE3OCA0NS45NzUgMzAuMDAwMiA0Ni41MzU2QzI4Ljk4MjcgNDcuMDk2MiAyNy44MzUgNDcuMzc3NyAyNi42NzM1IDQ3LjM1MTVIMjYuNjUzN0MyNS40MTcxIDQ3LjM4NzMgMjQuMTkwNiA0Ny4xMTk0IDIzLjA4MTUgNDYuNTcxM0MyMi45NTQ4IDQ2LjUwNCAyMi44MzIgNDYuNDMyNyAyMi43MTMyIDQ2LjM1NzVDMjIuNTQyOSA0Ni40NDQ2IDIyLjM3MjYgNDYuNTI3OCAyMi4xOTQ0IDQ2LjYxMDlDMjAuNjAyNyA0Ny40MTM0IDE4Ljg4MzMgNDcuOTMyIDE3LjExMzMgNDguMTQzNkwxNi44MjgyIDQ4LjE3NTJDMTYuMDk1NiA0OC4yNDY1IDE1LjI5MTYgNDguMzI1NyAxNC40NDQxIDQ4LjMyNTdDMTQuMjAyNSA0OC4zMjU3IDEzLjk1NyA0OC4zMTc4IDEzLjcxMTUgNDguMzA1OUMxMS4yNzMyIDQ4LjIwMjYgOC45MzE0NSA0Ny4zMjQ0IDcuMDI2NDkgNDUuNzk5MUM1LjEwMjE3IDQ0LjIyNDIgMy43ODU5OSA0Mi4wMjg3IDMuMzAzODEgMzkuNTg5M0MyLjk1OTcyIDM3Ljk0IDIuOTA3NDUgMzYuMjQzIDMuMTQ5MzYgMzQuNTc1NkMzLjUwNDU2IDMyLjE0NjUgNC4yOTE4OSAyOS44MDA2IDUuNDc0MDUgMjcuNjQ5QzYuMzc0MzQgMjUuOTI5NyA3LjQ0Nzg3IDI0LjMwNjggOC42Nzc5MyAyMi44MDU2QzEwLjAxODMgMjEuMTcyNCAxMS42MDU4IDE5Ljc1ODYgMTMuMzgyOCAxOC42MTU2QzE0LjgyMiAxNy42NzczIDE2LjQzMTEgMTcuMDMwMSAxOC4xMTkzIDE2LjcxMDdDMjAuNDIwMiAxNi4yODMgMjIuNjMgMTYuODMzNSAyNC44OTE0IDE4LjM5NzhDMjYuMDYyMiAxOS4xOTg5IDI3LjA2OSAyMC4yMTY1IDI3Ljg1NzYgMjEuMzk1N0MyOS40MDIxIDE5LjIzNzQgMzEuMzM0OCAxNy45ODk5IDMzLjYwNCAxNy42OTY4QzM0Ljc0OTUgMTcuNTA5OSAzNS45MjQ4IDE3LjY3NTIgMzYuOTc0MyAxOC4xNzA5QzM4LjAyMzggMTguNjY2NyAzOC44OTc5IDE5LjQ2OTUgMzkuNDgxMSAyMC40NzNDNDAuMTMzNCAyMC4wMjUxIDQwLjgyMjMgMTkuNjMzIDQxLjU0MDQgMTkuMzAwOEM0My4wNDgzIDE4LjU1NzIgNDQuNzE1MyAxOC4xOTQyIDQ2LjM5NTcgMTguMjQzNEM0OC45ODk3IDE4LjM1ODIgNTAuOTYyIDE5LjIxNzYgNTIuNDE5MyAyMC44NzNDNTIuOTk4OSAyMS41MzMzIDUzLjQzOTQgMjIuMzAzOCA1My43MTQ0IDIzLjEzODNDNTQuMjk3NCAyMi40MzE0IDU0LjkzNTcgMjEuNzcxOSA1NS42MjMyIDIxLjE2NjFDNTcuNDU0MiAxOS40Njg5IDU5LjczMjYgMTguMzMxMSA2Mi4xODk0IDE3Ljg4NjlDNjMuMDkwMyAxNy43NTc3IDY0LjAwMjggMTcuNzI4NSA2NC45MTAxIDE3Ljc5OThDNjUuMTAwMiAxNy44MDc3IDY1LjI5NDMgMTcuODE1NiA2NS40ODQ0IDE3LjgxOTZDNjYuODU3NyAxNy44NzIxIDY4LjIwNjcgMTguMTk3OSA2OS40NTI2IDE4Ljc3OEM3MS4wMzQyIDE5LjQ1NzggNzIuMzc4MiAyMC41OTIyIDczLjMxMzkgMjIuMDM3M0M3My41MTE5IDIxLjcwODYgNzMuNzI1NyAyMS4zODM5IDczLjk1MTUgMjEuMDcxQzc1LjI5OCAxOS4yMDU3IDc2Ljk4NSAxOC4xMDQ3IDc4Ljk2NTIgMTcuNzk1OEM3OS44NDI2IDE3LjYzMDUgODAuNzQ0OCAxNy42NDgyIDgxLjYxNSAxNy44NDc5QzgyLjQ4NTMgMTguMDQ3NSA4My4zMDQ5IDE4LjQyNDkgODQuMDIyNSAxOC45NTYyQzg0Ljg2OTUgMTkuNjEyOSA4NS41MDc4IDIwLjUwMTIgODUuODU5OSAyMS41MTM1Qzg2LjIxMjEgMjIuNTI1NyA4Ni4yNjMxIDIzLjYxODQgODYuMDA2NiAyNC42NTlDODUuOTMxMyAyNS4wMTU1IDg1Ljg1MjEgMjUuMzc1OCA4NS43NzI5IDI1LjczMjNDODYuMDkzNyAyNS4wNDcxIDg2LjQyMjQgMjQuMzU0MSA4Ni43NjcgMjMuNjY5Qzg3LjgwNDYgMjEuNTc3OSA4OS4xNzQ4IDIwLjE0ODMgOTAuOTUzIDE5LjMwNDdDOTIuMDM4NyAxOC43NjM5IDkzLjI1MTMgMTguNTI5IDk0LjQ2MDQgMTguNjI1MkM5NS42Njk2IDE4LjcyMTUgOTYuODI5NyAxOS4xNDU0IDk3LjgxNjIgMTkuODUxMkM5OC43MTEyIDIwLjQ2MTEgOTkuODA4MiAyMS42NTMyIDk5Ljk1ODcgMjMuODcwOUMxMDAuMDA4IDI1LjIwOTYgOTkuODAyMyAyNi41NDU1IDk5LjM1MjggMjcuODA3NUM5OS4yNjU2IDI4LjA5MjYgOTkuMTc4NSAyOC4zODE3IDk5LjA4NzQgMjguNjcwOEw5OS4yNTM4IDI4LjI5MDZDOTkuNTkwNCAyNy41MjIzIDk5LjkzMSAyNi43NTQgMTAwLjI3NiAyNS45OTM2QzEwMS4zMjkgMjMuNjU3MSAxMDIuNDEgMjEuMjY5IDEwNS4yOTcgMTkuNDgyOUMxMDUuOTM2IDE5LjA2OTggMTA2LjYxOCAxOC43Mjk3IDEwNy4zMzMgMTguNDY5MUMxMDkuNTcgMTcuNzA4NyAxMTQuMTg4IDE3Ljg5NDkgMTE1LjgyIDIwLjg1NzFDMTE2LjY4OSAyMC4wNjI5IDExNy42NzEgMTkuNDAyMyAxMTguNzM0IDE4Ljg5NjhDMTIwLjE4MyAxOC4xNzgyIDEyMS43NzkgMTcuODA1NCAxMjMuMzk2IDE3LjgwNzdMMTIzLjU0NiAxNy44MTE3QzEyNC43ODEgMTcuNzc3NyAxMjYuMDE0IDE3LjkzMzkgMTI3LjIwMiAxOC4yNzVDMTI3Ljk2NSAxOC41MDk2IDEyOC42NzggMTguODg0MyAxMjkuMzA0IDE5LjM4QzEzMS4wNzkgMTguNzUwMyAxMzMuMzQgMTguNzg5OSAxMzUuMDA3IDIwLjEwMDdDMTM1LjMzNiAyMC4zNjM4IDEzNS42MjkgMjAuNjY4NyAxMzUuODc5IDIxLjAwNzZDMTM2LjM4NSAyMC4yMTAyIDEzNi45NiAxOS40NTg4IDEzNy41OTcgMTguNzYyMkMxMzguMzEyIDE3Ljk2NzQgMTM5LjE3NCAxNy4zMTkxIDE0MC4xMzYgMTYuODUzM0MxMzkuNzc3IDE1Ljk5OTUgMTM5LjUxIDE1LjExMDEgMTM5LjM0IDE0LjE5OTlDMTM5LjE1NiAxMy4zMzE5IDEzOS4wNSAxMi40NDkyIDEzOS4wMjMgMTEuNTYyM1YxMS40OTExQzEzOC45NzkgOS44MjY3IDEzOS40NzUgOC4xOTI4NSAxNDAuNDM3IDYuODMzNzVDMTQxLjAzIDUuOTg0ODEgMTQxLjgxNCA1LjI4NzAyIDE0Mi43MjYgNC43OTY1N0MxNDMuNjM4IDQuMzA2MTIgMTQ0LjY1MyA0LjAzNjcyIDE0NS42ODggNC4wMTAwN0MxNDcuMTU2IDMuOTM3NzQgMTQ4LjYxNyA0LjI1NjE1IDE0OS45MjIgNC45MzI4MkMxNTEuMTUgNS42MDUxMyAxNTIuMTE3IDYuNjcyMDUgMTUyLjY2NCA3Ljk2MTIxQzE1My4yMTIgOS4yNTAzOCAxNTMuMzA5IDEwLjY4NjUgMTUyLjkzOSAxMi4wMzc2WiIvPgo8L21hc2s+CjxwYXRoIGQ9Ik0xNTIuOTM5IDEyLjAzNzZWMTIuMDQ1NUMxNTIuMjI3IDE0LjkwNDggMTUwLjE3OSAxNi45NzYxIDE0OC43MDYgMTguMjgzTDE0OC42NyAxOC4zMTQ2QzE0OC40NDEgMTguNTE0MSAxNDguMiAxOC43MDA1IDE0Ny45NSAxOC44NzNDMTQ4LjA1OCAxOS4wOTU0IDE0OC4xNSAxOS4zMjU3IDE0OC4yMjMgMTkuNTYyMUwxNDguMjM1IDE5LjYwNTdDMTQ4LjUxNiAyMC41NDc3IDE0OC41ODcgMjEuNTM5OSAxNDguNDQ1IDIyLjUxMjZDMTQ4LjE3NyAyNC4xMzg1IDE0Ny43MzcgMjUuNzMxNSAxNDcuMTM0IDI3LjI2NDlDMTQ2Ljg2OCAyOC4wMDk0IDE0Ni42MTUgMjguNzE0NCAxNDYuNDIxIDI5LjQwNzRDMTQ1Ljg4NiAzMS4yNjA4IDE0NS4yNzYgMzMuNDU0OCAxNDQuNzg1IDM1LjY5NjRDMTQ0LjQzNiAzNy4zMzExIDE0NC4zMTMgMzkuMDA2MiAxNDQuNDIxIDQwLjY3NDRDMTQ0LjQ4NSA0MS40MTE0IDE0NC4zNTMgNDIuMTUyMyAxNDQuMDM4IDQyLjgyMTVDMTQzLjcyMyA0My40OTA4IDE0My4yMzYgNDQuMDY0NSAxNDIuNjI3IDQ0LjQ4NDJDMTQxLjQ0NCA0NS4zOTcxIDE0MC4xMTggNDYuMTA3NyAxMzguNzAyIDQ2LjU4NzJDMTM2LjM3IDQ3LjI5NjEgMTM0Ljc0MiA0Ni42NzgyIDEzMy43ODggNDYuMDMyN0MxMzMuNjMxIDQ1LjkyNzIgMTMzLjQ4MiA0NS44MTIxIDEzMy4zNCA0NS42ODgyQzEzMi4xNjEgNDYuNDI2MSAxMzAuODQzIDQ2LjkxMTYgMTI5LjQ2NyA0Ny4xMTM5QzEyOC45MTcgNDcuMTk1OCAxMjguMzYzIDQ3LjIzODEgMTI3LjgwNyA0Ny4yNDA2QzEyNi43MjggNDcuMjcxMyAxMjUuNjU1IDQ3LjA3MzQgMTI0LjY1OCA0Ni42NTk3QzEyMy42NiA0Ni4yNDYxIDEyMi43NjIgNDUuNjI2MiAxMjIuMDIxIDQ0Ljg0MDdDMTIxLjgyNiA0NC42MzU3IDEyMS42NDMgNDQuNDIwMiAxMjEuNDcxIDQ0LjE5NTFDMTIwLjk1NCA0NC41Njc4IDEyMC40MSA0NC45MDE0IDExOS44NDMgNDUuMTkzMUMxMTguMjQ2IDQ2LjAzOTIgMTE2LjQyMSA0Ni4zNTU0IDExNC42MzIgNDYuMDk2MUMxMTMuMTIxIDQ1LjkyOTcgMTExLjY5MiA0NS4zMjg1IDExMC41MTcgNDQuMzY1NEMxMDkuMTY4IDQzLjE2OSAxMDguMjg1IDQxLjUzNTMgMTA4LjAyMiAzOS43NTE3QzEwNy45MzggMzkuMzA4IDEwNy44ODEgMzguODU5NyAxMDcuODUyIDM4LjQwOTJDMTA3LjA1NiAzOS41NDU4IDEwNi4xOTYgNDAuNjExMSAxMDUuMzY4IDQxLjYxM0MxMDMuODMzIDQzLjU1NTYgMTAxLjg4NSA0NS4xMzI4IDk5LjY2NTYgNDYuMjMwN0M5Ny4zNjE4IDQ3LjM1NTYgOTQuNzIxNCA0Ny41ODE2IDkyLjI1OTkgNDYuODY0NEM5MC45MDI0IDQ2LjUyOSA4OS42MDcgNDUuOTc5NiA4OC40MjI0IDQ1LjIzNjdDODcuNzkzNCA0NC44Mjc1IDg3LjIyNjYgNDQuMzMgODYuNzM5MiA0My43NTk1Qzg2LjI1NjEgNDQuMjU4NSA4NS43NzI5IDQ0LjcxNzkgODUuMzA5NiA0NS4xNjE1Qzg1LjAyODQgNDUuNDMwOCA4NC43NDMzIDQ1LjcwMDEgODQuNDY2IDQ1Ljk3MzNDODQuMDMzMiA0Ni40MDEzIDgzLjUxODkgNDYuNzM4MSA4Mi45NTM3IDQ2Ljk2NEM4Mi4zODg0IDQ3LjE4OTggODEuNzgzNiA0Ny4zIDgxLjE3NSA0Ny4yODgxQzgwLjg1MTMgNDcuMjg3NyA4MC41MjgyIDQ3LjI2MTIgODAuMjA4NyA0Ny4yMDg5Qzc4LjgwMDYgNDcuMDAwMyA3Ny40MjYzIDQ2LjYwNjEgNzYuMTIxNyA0Ni4wMzY3TDc2LjA4MjEgNDYuMDE2OUM3NC43NjIgNDUuNDI5NSA3My42MzM5IDQ0LjQ4MjYgNzIuODI2NyA0My4yODQzQzcxLjYwMzggNDQuMjgzOSA3MC4yNTY3IDQ1LjEyMTIgNjguODE4OSA0NS43NzUzQzY3LjM5MDggNDYuNDY1OCA2NS44NTQgNDYuOTA0IDY0LjI3NjUgNDcuMDcwM0M2Mi44ODk1IDQ3LjIyNTIgNjEuNDkzMiA0Ny4yNzk1IDYwLjA5ODQgNDcuMjMyN0M1Ny43NjEyIDQ3LjE0NzIgNTUuNDkxOSA0Ni40MjQxIDUzLjUzNjIgNDUuMTQxN0M1MS40OTE4IDQzLjc0OTkgNTAuMDMyNCA0MS42NTMyIDQ5LjQzNzMgMzkuMjUyN0M0OS40MjU0IDM5LjIwMTIgNDkuNDA5NSAzOS4xNDk3IDQ5LjM5NzYgMzkuMDk4M0M0OC43MjUzIDM5LjQxMDIgNDguMDE4IDM5LjY0MDIgNDcuMjkwOCAzOS43ODM0QzQ1LjM5NzQgNDAuMjAwMiA0My40MjQgNDAuMDYxMyA0MS42MDc4IDM5LjM4MzRDNDAuNjUyOCAzOS4wMjEyIDM5LjgwNTUgMzguNDIyNCAzOS4xNDUzIDM3LjY0MzFDMzguNDg1MiAzNi44NjM4IDM4LjAzMzggMzUuOTI5NiAzNy44MzM2IDM0LjkyODFDMzYuMzUyOCAzNy4wNDUgMzUuMDAzNyAzOS4yNTExIDMzLjc5NDEgNDEuNTMzOEMzMy42Njc0IDQxLjc2NzUgMzMuNTQwNiA0Mi4wNTI2IDMzLjQwMiA0Mi4zNDk3QzMzLjEzMDMgNDIuOTcyNyAzMi44MTgxIDQzLjU3NzIgMzIuNDY3NCA0NC4xNTk1QzMxLjg2OSA0NS4xNTUzIDMxLjAxNzggNDUuOTc1IDMwLjAwMDIgNDYuNTM1NkMyOC45ODI3IDQ3LjA5NjIgMjcuODM1IDQ3LjM3NzcgMjYuNjczNSA0Ny4zNTE1SDI2LjY1MzdDMjUuNDE3MSA0Ny4zODczIDI0LjE5MDYgNDcuMTE5NCAyMy4wODE1IDQ2LjU3MTNDMjIuOTU0OCA0Ni41MDQgMjIuODMyIDQ2LjQzMjcgMjIuNzEzMiA0Ni4zNTc1QzIyLjU0MjkgNDYuNDQ0NiAyMi4zNzI2IDQ2LjUyNzggMjIuMTk0NCA0Ni42MTA5QzIwLjYwMjcgNDcuNDEzNCAxOC44ODMzIDQ3LjkzMiAxNy4xMTMzIDQ4LjE0MzZMMTYuODI4MiA0OC4xNzUyQzE2LjA5NTYgNDguMjQ2NSAxNS4yOTE2IDQ4LjMyNTcgMTQuNDQ0MSA0OC4zMjU3QzE0LjIwMjUgNDguMzI1NyAxMy45NTcgNDguMzE3OCAxMy43MTE1IDQ4LjMwNTlDMTEuMjczMiA0OC4yMDI2IDguOTMxNDUgNDcuMzI0NCA3LjAyNjQ5IDQ1Ljc5OTFDNS4xMDIxNyA0NC4yMjQyIDMuNzg1OTkgNDIuMDI4NyAzLjMwMzgxIDM5LjU4OTNDMi45NTk3MiAzNy45NCAyLjkwNzQ1IDM2LjI0MyAzLjE0OTM2IDM0LjU3NTZDMy41MDQ1NiAzMi4xNDY1IDQuMjkxODkgMjkuODAwNiA1LjQ3NDA1IDI3LjY0OUM2LjM3NDM0IDI1LjkyOTcgNy40NDc4NyAyNC4zMDY4IDguNjc3OTMgMjIuODA1NkMxMC4wMTgzIDIxLjE3MjQgMTEuNjA1OCAxOS43NTg2IDEzLjM4MjggMTguNjE1NkMxNC44MjIgMTcuNjc3MyAxNi40MzExIDE3LjAzMDEgMTguMTE5MyAxNi43MTA3QzIwLjQyMDIgMTYuMjgzIDIyLjYzIDE2LjgzMzUgMjQuODkxNCAxOC4zOTc4QzI2LjA2MjIgMTkuMTk4OSAyNy4wNjkgMjAuMjE2NSAyNy44NTc2IDIxLjM5NTdDMjkuNDAyMSAxOS4yMzc0IDMxLjMzNDggMTcuOTg5OSAzMy42MDQgMTcuNjk2OEMzNC43NDk1IDE3LjUwOTkgMzUuOTI0OCAxNy42NzUyIDM2Ljk3NDMgMTguMTcwOUMzOC4wMjM4IDE4LjY2NjcgMzguODk3OSAxOS40Njk1IDM5LjQ4MTEgMjAuNDczQzQwLjEzMzQgMjAuMDI1MSA0MC44MjIzIDE5LjYzMyA0MS41NDA0IDE5LjMwMDhDNDMuMDQ4MyAxOC41NTcyIDQ0LjcxNTMgMTguMTk0MiA0Ni4zOTU3IDE4LjI0MzRDNDguOTg5NyAxOC4zNTgyIDUwLjk2MiAxOS4yMTc2IDUyLjQxOTMgMjAuODczQzUyLjk5ODkgMjEuNTMzMyA1My40Mzk0IDIyLjMwMzggNTMuNzE0NCAyMy4xMzgzQzU0LjI5NzQgMjIuNDMxNCA1NC45MzU3IDIxLjc3MTkgNTUuNjIzMiAyMS4xNjYxQzU3LjQ1NDIgMTkuNDY4OSA1OS43MzI2IDE4LjMzMTEgNjIuMTg5NCAxNy44ODY5QzYzLjA5MDMgMTcuNzU3NyA2NC4wMDI4IDE3LjcyODUgNjQuOTEwMSAxNy43OTk4QzY1LjEwMDIgMTcuODA3NyA2NS4yOTQzIDE3LjgxNTYgNjUuNDg0NCAxNy44MTk2QzY2Ljg1NzcgMTcuODcyMSA2OC4yMDY3IDE4LjE5NzkgNjkuNDUyNiAxOC43NzhDNzEuMDM0MiAxOS40NTc4IDcyLjM3ODIgMjAuNTkyMiA3My4zMTM5IDIyLjAzNzNDNzMuNTExOSAyMS43MDg2IDczLjcyNTcgMjEuMzgzOSA3My45NTE1IDIxLjA3MUM3NS4yOTggMTkuMjA1NyA3Ni45ODUgMTguMTA0NyA3OC45NjUyIDE3Ljc5NThDNzkuODQyNiAxNy42MzA1IDgwLjc0NDggMTcuNjQ4MiA4MS42MTUgMTcuODQ3OUM4Mi40ODUzIDE4LjA0NzUgODMuMzA0OSAxOC40MjQ5IDg0LjAyMjUgMTguOTU2MkM4NC44Njk1IDE5LjYxMjkgODUuNTA3OCAyMC41MDEyIDg1Ljg1OTkgMjEuNTEzNUM4Ni4yMTIxIDIyLjUyNTcgODYuMjYzMSAyMy42MTg0IDg2LjAwNjYgMjQuNjU5Qzg1LjkzMTMgMjUuMDE1NSA4NS44NTIxIDI1LjM3NTggODUuNzcyOSAyNS43MzIzQzg2LjA5MzcgMjUuMDQ3MSA4Ni40MjI0IDI0LjM1NDEgODYuNzY3IDIzLjY2OUM4Ny44MDQ2IDIxLjU3NzkgODkuMTc0OCAyMC4xNDgzIDkwLjk1MyAxOS4zMDQ3QzkyLjAzODcgMTguNzYzOSA5My4yNTEzIDE4LjUyOSA5NC40NjA0IDE4LjYyNTJDOTUuNjY5NiAxOC43MjE1IDk2LjgyOTcgMTkuMTQ1NCA5Ny44MTYyIDE5Ljg1MTJDOTguNzExMiAyMC40NjExIDk5LjgwODIgMjEuNjUzMiA5OS45NTg3IDIzLjg3MDlDMTAwLjAwOCAyNS4yMDk2IDk5LjgwMjMgMjYuNTQ1NSA5OS4zNTI4IDI3LjgwNzVDOTkuMjY1NiAyOC4wOTI2IDk5LjE3ODUgMjguMzgxNyA5OS4wODc0IDI4LjY3MDhMOTkuMjUzOCAyOC4yOTA2Qzk5LjU5MDQgMjcuNTIyMyA5OS45MzEgMjYuNzU0IDEwMC4yNzYgMjUuOTkzNkMxMDEuMzI5IDIzLjY1NzEgMTAyLjQxIDIxLjI2OSAxMDUuMjk3IDE5LjQ4MjlDMTA1LjkzNiAxOS4wNjk4IDEwNi42MTggMTguNzI5NyAxMDcuMzMzIDE4LjQ2OTFDMTA5LjU3IDE3LjcwODcgMTE0LjE4OCAxNy44OTQ5IDExNS44MiAyMC44NTcxQzExNi42ODkgMjAuMDYyOSAxMTcuNjcxIDE5LjQwMjMgMTE4LjczNCAxOC44OTY4QzEyMC4xODMgMTguMTc4MiAxMjEuNzc5IDE3LjgwNTQgMTIzLjM5NiAxNy44MDc3TDEyMy41NDYgMTcuODExN0MxMjQuNzgxIDE3Ljc3NzcgMTI2LjAxNCAxNy45MzM5IDEyNy4yMDIgMTguMjc1QzEyNy45NjUgMTguNTA5NiAxMjguNjc4IDE4Ljg4NDMgMTI5LjMwNCAxOS4zOEMxMzEuMDc5IDE4Ljc1MDMgMTMzLjM0IDE4Ljc4OTkgMTM1LjAwNyAyMC4xMDA3QzEzNS4zMzYgMjAuMzYzOCAxMzUuNjI5IDIwLjY2ODcgMTM1Ljg3OSAyMS4wMDc2QzEzNi4zODUgMjAuMjEwMiAxMzYuOTYgMTkuNDU4OCAxMzcuNTk3IDE4Ljc2MjJDMTM4LjMxMiAxNy45Njc0IDEzOS4xNzQgMTcuMzE5MSAxNDAuMTM2IDE2Ljg1MzNDMTM5Ljc3NyAxNS45OTk1IDEzOS41MSAxNS4xMTAxIDEzOS4zNCAxNC4xOTk5QzEzOS4xNTYgMTMuMzMxOSAxMzkuMDUgMTIuNDQ5MiAxMzkuMDIzIDExLjU2MjNWMTEuNDkxMUMxMzguOTc5IDkuODI2NyAxMzkuNDc1IDguMTkyODUgMTQwLjQzNyA2LjgzMzc1QzE0MS4wMyA1Ljk4NDgxIDE0MS44MTQgNS4yODcwMiAxNDIuNzI2IDQuNzk2NTdDMTQzLjYzOCA0LjMwNjEyIDE0NC42NTMgNC4wMzY3MiAxNDUuNjg4IDQuMDEwMDdDMTQ3LjE1NiAzLjkzNzc0IDE0OC42MTcgNC4yNTYxNSAxNDkuOTIyIDQuOTMyODJDMTUxLjE1IDUuNjA1MTMgMTUyLjExNyA2LjY3MjA1IDE1Mi42NjQgNy45NjEyMUMxNTMuMjEyIDkuMjUwMzggMTUzLjMwOSAxMC42ODY1IDE1Mi45MzkgMTIuMDM3NloiIGZpbGw9IiMyNjI2MjYiLz4KPHBhdGggZD0iTTE1Mi45MzkgMTIuMDM3NlYxMi4wNDU1QzE1Mi4yMjcgMTQuOTA0OCAxNTAuMTc5IDE2Ljk3NjEgMTQ4LjcwNiAxOC4yODNMMTQ4LjY3IDE4LjMxNDZDMTQ4LjQ0MSAxOC41MTQxIDE0OC4yIDE4LjcwMDUgMTQ3Ljk1IDE4Ljg3M0MxNDguMDU4IDE5LjA5NTQgMTQ4LjE1IDE5LjMyNTcgMTQ4LjIyMyAxOS41NjIxTDE0OC4yMzUgMTkuNjA1N0MxNDguNTE2IDIwLjU0NzcgMTQ4LjU4NyAyMS41Mzk5IDE0OC40NDUgMjIuNTEyNkMxNDguMTc3IDI0LjEzODUgMTQ3LjczNyAyNS43MzE1IDE0Ny4xMzQgMjcuMjY0OUMxNDYuODY4IDI4LjAwOTQgMTQ2LjYxNSAyOC43MTQ0IDE0Ni40MjEgMjkuNDA3NEMxNDUuODg2IDMxLjI2MDggMTQ1LjI3NiAzMy40NTQ4IDE0NC43ODUgMzUuNjk2NEMxNDQuNDM2IDM3LjMzMTEgMTQ0LjMxMyAzOS4wMDYyIDE0NC40MjEgNDAuNjc0NEMxNDQuNDg1IDQxLjQxMTQgMTQ0LjM1MyA0Mi4xNTIzIDE0NC4wMzggNDIuODIxNUMxNDMuNzIzIDQzLjQ5MDggMTQzLjIzNiA0NC4wNjQ1IDE0Mi42MjcgNDQuNDg0MkMxNDEuNDQ0IDQ1LjM5NzEgMTQwLjExOCA0Ni4xMDc3IDEzOC43MDIgNDYuNTg3MkMxMzYuMzcgNDcuMjk2MSAxMzQuNzQyIDQ2LjY3ODIgMTMzLjc4OCA0Ni4wMzI3QzEzMy42MzEgNDUuOTI3MiAxMzMuNDgyIDQ1LjgxMjEgMTMzLjM0IDQ1LjY4ODJDMTMyLjE2MSA0Ni40MjYxIDEzMC44NDMgNDYuOTExNiAxMjkuNDY3IDQ3LjExMzlDMTI4LjkxNyA0Ny4xOTU4IDEyOC4zNjMgNDcuMjM4MSAxMjcuODA3IDQ3LjI0MDZDMTI2LjcyOCA0Ny4yNzEzIDEyNS42NTUgNDcuMDczNCAxMjQuNjU4IDQ2LjY1OTdDMTIzLjY2IDQ2LjI0NjEgMTIyLjc2MiA0NS42MjYyIDEyMi4wMjEgNDQuODQwN0MxMjEuODI2IDQ0LjYzNTcgMTIxLjY0MyA0NC40MjAyIDEyMS40NzEgNDQuMTk1MUMxMjAuOTU0IDQ0LjU2NzggMTIwLjQxIDQ0LjkwMTQgMTE5Ljg0MyA0NS4xOTMxQzExOC4yNDYgNDYuMDM5MiAxMTYuNDIxIDQ2LjM1NTQgMTE0LjYzMiA0Ni4wOTYxQzExMy4xMjEgNDUuOTI5NyAxMTEuNjkyIDQ1LjMyODUgMTEwLjUxNyA0NC4zNjU0QzEwOS4xNjggNDMuMTY5IDEwOC4yODUgNDEuNTM1MyAxMDguMDIyIDM5Ljc1MTdDMTA3LjkzOCAzOS4zMDggMTA3Ljg4MSAzOC44NTk3IDEwNy44NTIgMzguNDA5MkMxMDcuMDU2IDM5LjU0NTggMTA2LjE5NiA0MC42MTExIDEwNS4zNjggNDEuNjEzQzEwMy44MzMgNDMuNTU1NiAxMDEuODg1IDQ1LjEzMjggOTkuNjY1NiA0Ni4yMzA3Qzk3LjM2MTggNDcuMzU1NiA5NC43MjE0IDQ3LjU4MTYgOTIuMjU5OSA0Ni44NjQ0QzkwLjkwMjQgNDYuNTI5IDg5LjYwNyA0NS45Nzk2IDg4LjQyMjQgNDUuMjM2N0M4Ny43OTM0IDQ0LjgyNzUgODcuMjI2NiA0NC4zMyA4Ni43MzkyIDQzLjc1OTVDODYuMjU2MSA0NC4yNTg1IDg1Ljc3MjkgNDQuNzE3OSA4NS4zMDk2IDQ1LjE2MTVDODUuMDI4NCA0NS40MzA4IDg0Ljc0MzMgNDUuNzAwMSA4NC40NjYgNDUuOTczM0M4NC4wMzMyIDQ2LjQwMTMgODMuNTE4OSA0Ni43MzgxIDgyLjk1MzcgNDYuOTY0QzgyLjM4ODQgNDcuMTg5OCA4MS43ODM2IDQ3LjMgODEuMTc1IDQ3LjI4ODFDODAuODUxMyA0Ny4yODc3IDgwLjUyODIgNDcuMjYxMiA4MC4yMDg3IDQ3LjIwODlDNzguODAwNiA0Ny4wMDAzIDc3LjQyNjMgNDYuNjA2MSA3Ni4xMjE3IDQ2LjAzNjdMNzYuMDgyMSA0Ni4wMTY5Qzc0Ljc2MiA0NS40Mjk1IDczLjYzMzkgNDQuNDgyNiA3Mi44MjY3IDQzLjI4NDNDNzEuNjAzOCA0NC4yODM5IDcwLjI1NjcgNDUuMTIxMiA2OC44MTg5IDQ1Ljc3NTNDNjcuMzkwOCA0Ni40NjU4IDY1Ljg1NCA0Ni45MDQgNjQuMjc2NSA0Ny4wNzAzQzYyLjg4OTUgNDcuMjI1MiA2MS40OTMyIDQ3LjI3OTUgNjAuMDk4NCA0Ny4yMzI3QzU3Ljc2MTIgNDcuMTQ3MiA1NS40OTE5IDQ2LjQyNDEgNTMuNTM2MiA0NS4xNDE3QzUxLjQ5MTggNDMuNzQ5OSA1MC4wMzI0IDQxLjY1MzIgNDkuNDM3MyAzOS4yNTI3QzQ5LjQyNTQgMzkuMjAxMiA0OS40MDk1IDM5LjE0OTcgNDkuMzk3NiAzOS4wOTgzQzQ4LjcyNTMgMzkuNDEwMiA0OC4wMTggMzkuNjQwMiA0Ny4yOTA4IDM5Ljc4MzRDNDUuMzk3NCA0MC4yMDAyIDQzLjQyNCA0MC4wNjEzIDQxLjYwNzggMzkuMzgzNEM0MC42NTI4IDM5LjAyMTIgMzkuODA1NSAzOC40MjI0IDM5LjE0NTMgMzcuNjQzMUMzOC40ODUyIDM2Ljg2MzggMzguMDMzOCAzNS45Mjk2IDM3LjgzMzYgMzQuOTI4MUMzNi4zNTI4IDM3LjA0NSAzNS4wMDM3IDM5LjI1MTEgMzMuNzk0MSA0MS41MzM4QzMzLjY2NzQgNDEuNzY3NSAzMy41NDA2IDQyLjA1MjYgMzMuNDAyIDQyLjM0OTdDMzMuMTMwMyA0Mi45NzI3IDMyLjgxODEgNDMuNTc3MiAzMi40Njc0IDQ0LjE1OTVDMzEuODY5IDQ1LjE1NTMgMzEuMDE3OCA0NS45NzUgMzAuMDAwMiA0Ni41MzU2QzI4Ljk4MjcgNDcuMDk2MiAyNy44MzUgNDcuMzc3NyAyNi42NzM1IDQ3LjM1MTVIMjYuNjUzN0MyNS40MTcxIDQ3LjM4NzMgMjQuMTkwNiA0Ny4xMTk0IDIzLjA4MTUgNDYuNTcxM0MyMi45NTQ4IDQ2LjUwNCAyMi44MzIgNDYuNDMyNyAyMi43MTMyIDQ2LjM1NzVDMjIuNTQyOSA0Ni40NDQ2IDIyLjM3MjYgNDYuNTI3OCAyMi4xOTQ0IDQ2LjYxMDlDMjAuNjAyNyA0Ny40MTM0IDE4Ljg4MzMgNDcuOTMyIDE3LjExMzMgNDguMTQzNkwxNi44MjgyIDQ4LjE3NTJDMTYuMDk1NiA0OC4yNDY1IDE1LjI5MTYgNDguMzI1NyAxNC40NDQxIDQ4LjMyNTdDMTQuMjAyNSA0OC4zMjU3IDEzLjk1NyA0OC4zMTc4IDEzLjcxMTUgNDguMzA1OUMxMS4yNzMyIDQ4LjIwMjYgOC45MzE0NSA0Ny4zMjQ0IDcuMDI2NDkgNDUuNzk5MUM1LjEwMjE3IDQ0LjIyNDIgMy43ODU5OSA0Mi4wMjg3IDMuMzAzODEgMzkuNTg5M0MyLjk1OTcyIDM3Ljk0IDIuOTA3NDUgMzYuMjQzIDMuMTQ5MzYgMzQuNTc1NkMzLjUwNDU2IDMyLjE0NjUgNC4yOTE4OSAyOS44MDA2IDUuNDc0MDUgMjcuNjQ5QzYuMzc0MzQgMjUuOTI5NyA3LjQ0Nzg3IDI0LjMwNjggOC42Nzc5MyAyMi44MDU2QzEwLjAxODMgMjEuMTcyNCAxMS42MDU4IDE5Ljc1ODYgMTMuMzgyOCAxOC42MTU2QzE0LjgyMiAxNy42NzczIDE2LjQzMTEgMTcuMDMwMSAxOC4xMTkzIDE2LjcxMDdDMjAuNDIwMiAxNi4yODMgMjIuNjMgMTYuODMzNSAyNC44OTE0IDE4LjM5NzhDMjYuMDYyMiAxOS4xOTg5IDI3LjA2OSAyMC4yMTY1IDI3Ljg1NzYgMjEuMzk1N0MyOS40MDIxIDE5LjIzNzQgMzEuMzM0OCAxNy45ODk5IDMzLjYwNCAxNy42OTY4QzM0Ljc0OTUgMTcuNTA5OSAzNS45MjQ4IDE3LjY3NTIgMzYuOTc0MyAxOC4xNzA5QzM4LjAyMzggMTguNjY2NyAzOC44OTc5IDE5LjQ2OTUgMzkuNDgxMSAyMC40NzNDNDAuMTMzNCAyMC4wMjUxIDQwLjgyMjMgMTkuNjMzIDQxLjU0MDQgMTkuMzAwOEM0My4wNDgzIDE4LjU1NzIgNDQuNzE1MyAxOC4xOTQyIDQ2LjM5NTcgMTguMjQzNEM0OC45ODk3IDE4LjM1ODIgNTAuOTYyIDE5LjIxNzYgNTIuNDE5MyAyMC44NzNDNTIuOTk4OSAyMS41MzMzIDUzLjQzOTQgMjIuMzAzOCA1My43MTQ0IDIzLjEzODNDNTQuMjk3NCAyMi40MzE0IDU0LjkzNTcgMjEuNzcxOSA1NS42MjMyIDIxLjE2NjFDNTcuNDU0MiAxOS40Njg5IDU5LjczMjYgMTguMzMxMSA2Mi4xODk0IDE3Ljg4NjlDNjMuMDkwMyAxNy43NTc3IDY0LjAwMjggMTcuNzI4NSA2NC45MTAxIDE3Ljc5OThDNjUuMTAwMiAxNy44MDc3IDY1LjI5NDMgMTcuODE1NiA2NS40ODQ0IDE3LjgxOTZDNjYuODU3NyAxNy44NzIxIDY4LjIwNjcgMTguMTk3OSA2OS40NTI2IDE4Ljc3OEM3MS4wMzQyIDE5LjQ1NzggNzIuMzc4MiAyMC41OTIyIDczLjMxMzkgMjIuMDM3M0M3My41MTE5IDIxLjcwODYgNzMuNzI1NyAyMS4zODM5IDczLjk1MTUgMjEuMDcxQzc1LjI5OCAxOS4yMDU3IDc2Ljk4NSAxOC4xMDQ3IDc4Ljk2NTIgMTcuNzk1OEM3OS44NDI2IDE3LjYzMDUgODAuNzQ0OCAxNy42NDgyIDgxLjYxNSAxNy44NDc5QzgyLjQ4NTMgMTguMDQ3NSA4My4zMDQ5IDE4LjQyNDkgODQuMDIyNSAxOC45NTYyQzg0Ljg2OTUgMTkuNjEyOSA4NS41MDc4IDIwLjUwMTIgODUuODU5OSAyMS41MTM1Qzg2LjIxMjEgMjIuNTI1NyA4Ni4yNjMxIDIzLjYxODQgODYuMDA2NiAyNC42NTlDODUuOTMxMyAyNS4wMTU1IDg1Ljg1MjEgMjUuMzc1OCA4NS43NzI5IDI1LjczMjNDODYuMDkzNyAyNS4wNDcxIDg2LjQyMjQgMjQuMzU0MSA4Ni43NjcgMjMuNjY5Qzg3LjgwNDYgMjEuNTc3OSA4OS4xNzQ4IDIwLjE0ODMgOTAuOTUzIDE5LjMwNDdDOTIuMDM4NyAxOC43NjM5IDkzLjI1MTMgMTguNTI5IDk0LjQ2MDQgMTguNjI1MkM5NS42Njk2IDE4LjcyMTUgOTYuODI5NyAxOS4xNDU0IDk3LjgxNjIgMTkuODUxMkM5OC43MTEyIDIwLjQ2MTEgOTkuODA4MiAyMS42NTMyIDk5Ljk1ODcgMjMuODcwOUMxMDAuMDA4IDI1LjIwOTYgOTkuODAyMyAyNi41NDU1IDk5LjM1MjggMjcuODA3NUM5OS4yNjU2IDI4LjA5MjYgOTkuMTc4NSAyOC4zODE3IDk5LjA4NzQgMjguNjcwOEw5OS4yNTM4IDI4LjI5MDZDOTkuNTkwNCAyNy41MjIzIDk5LjkzMSAyNi43NTQgMTAwLjI3NiAyNS45OTM2QzEwMS4zMjkgMjMuNjU3MSAxMDIuNDEgMjEuMjY5IDEwNS4yOTcgMTkuNDgyOUMxMDUuOTM2IDE5LjA2OTggMTA2LjYxOCAxOC43Mjk3IDEwNy4zMzMgMTguNDY5MUMxMDkuNTcgMTcuNzA4NyAxMTQuMTg4IDE3Ljg5NDkgMTE1LjgyIDIwLjg1NzFDMTE2LjY4OSAyMC4wNjI5IDExNy42NzEgMTkuNDAyMyAxMTguNzM0IDE4Ljg5NjhDMTIwLjE4MyAxOC4xNzgyIDEyMS43NzkgMTcuODA1NCAxMjMuMzk2IDE3LjgwNzdMMTIzLjU0NiAxNy44MTE3QzEyNC43ODEgMTcuNzc3NyAxMjYuMDE0IDE3LjkzMzkgMTI3LjIwMiAxOC4yNzVDMTI3Ljk2NSAxOC41MDk2IDEyOC42NzggMTguODg0MyAxMjkuMzA0IDE5LjM4QzEzMS4wNzkgMTguNzUwMyAxMzMuMzQgMTguNzg5OSAxMzUuMDA3IDIwLjEwMDdDMTM1LjMzNiAyMC4zNjM4IDEzNS42MjkgMjAuNjY4NyAxMzUuODc5IDIxLjAwNzZDMTM2LjM4NSAyMC4yMTAyIDEzNi45NiAxOS40NTg4IDEzNy41OTcgMTguNzYyMkMxMzguMzEyIDE3Ljk2NzQgMTM5LjE3NCAxNy4zMTkxIDE0MC4xMzYgMTYuODUzM0MxMzkuNzc3IDE1Ljk5OTUgMTM5LjUxIDE1LjExMDEgMTM5LjM0IDE0LjE5OTlDMTM5LjE1NiAxMy4zMzE5IDEzOS4wNSAxMi40NDkyIDEzOS4wMjMgMTEuNTYyM1YxMS40OTExQzEzOC45NzkgOS44MjY3IDEzOS40NzUgOC4xOTI4NSAxNDAuNDM3IDYuODMzNzVDMTQxLjAzIDUuOTg0ODEgMTQxLjgxNCA1LjI4NzAyIDE0Mi43MjYgNC43OTY1N0MxNDMuNjM4IDQuMzA2MTIgMTQ0LjY1MyA0LjAzNjcyIDE0NS42ODggNC4wMTAwN0MxNDcuMTU2IDMuOTM3NzQgMTQ4LjYxNyA0LjI1NjE1IDE0OS45MjIgNC45MzI4MkMxNTEuMTUgNS42MDUxMyAxNTIuMTE3IDYuNjcyMDUgMTUyLjY2NCA3Ljk2MTIxQzE1My4yMTIgOS4yNTAzOCAxNTMuMzA5IDEwLjY4NjUgMTUyLjkzOSAxMi4wMzc2WiIgc3Ryb2tlPSJ3aGl0ZSIgc3Ryb2tlLXdpZHRoPSI0IiBtYXNrPSJ1cmwoI3BhdGgtMS1vdXRzaWRlLTFfN18yMzU5KSIvPgo8cGF0aCBkPSJNMTUwLjA1MSAxMS4zMjU1QzE0OS41NzYgMTMuMjMwNCAxNDguMTU4IDE0Ljc5NDcgMTQ2LjcyOCAxNi4wNjJDMTQ2LjIyIDE2LjQ5ODYgMTQ1LjY0OSAxNi44NTUyIDE0NS4wMzMgMTcuMTE5NEMxNDQuMjg5IDE3LjQ0ODEgMTQzLjc5IDE3LjIzODIgMTQzLjM0MiAxNi41Njg5QzE0Mi43ODggMTUuNjYyIDE0Mi40MTUgMTQuNjU1OSAxNDIuMjQ1IDEzLjYwNjZDMTQyLjA5NSAxMi45MDcxIDE0Mi4wMDggMTIuMTk1MiAxNDEuOTg4IDExLjQ4QzE0MS45NDggMTAuNDQ0MiAxNDIuMjQ3IDkuNDIzNjEgMTQyLjgzOSA4LjU3MzFDMTQzLjE2OSA4LjA5MDk5IDE0My42MDkgNy42OTQ4NSAxNDQuMTIzIDcuNDE3ODZDMTQ0LjYzNyA3LjE0MDg2IDE0NS4yMSA2Ljk5MTA4IDE0NS43OTQgNi45ODEwNkMxNDYuNzQzIDYuOTI3NzUgMTQ3LjY4OSA3LjEyODcyIDE0OC41MzQgNy41NjMyM0MxNDkuODkzIDguMjY4NTUgMTUwLjQwOCA5Ljg4NzkyIDE1MC4wNTEgMTEuMzI1NVoiIGZpbGw9IiNGRjVBNTAiLz4KPHBhdGggZD0iTTE0NS4zODcgMjAuNDU0MkMxNDUuMDc0IDE5LjQ2MDIgMTQ0LjE1OSAxOS4yODE5IDE0My4yNzYgMTkuMTk4OEMxNDEuODI3IDE5LjA2ODEgMTQwLjY5IDE5Ljc5NjggMTM5Ljc3NSAyMC43ODI5QzEzOS4wMjIgMjEuNjI2MSAxMzguMzY0IDIyLjU1MDYgMTM3LjgxNSAyMy41MzkzQzEzNi42NjYgMjUuNTI1MyAxMzUuOTY4IDI3LjcxODYgMTM1LjI5OSAyOS44OTYzQzEzNC44NjQgMzEuMzEyNSAxMzQuNDgyIDMyLjU1ODQgMTMzLjk0IDM0LjM5NkMxMzMuNjE5IDM1LjQ4MzEgMTMzLjI1NyAzNy4xNTk5IDEzMi4yNSAzOC4wMDY2QzEzMS45OTkgMzguMjM4NyAxMzEuNjcgMzguMzY5OSAxMzEuMzI4IDM4LjM3NDlDMTMwLjkwOCAzOC4zMTU1IDEzMC43NTcgMzcuODcxOSAxMzAuNzM4IDM3LjQ2MDFDMTMwLjcxNCAzNy4wMDQ2IDEzMC43MTQgMzYuNTQ5MiAxMzAuNzM0IDM2LjA5MzhDMTMwLjg0OSAzNC42OTc4IDEzMS4xNDEgMzMuMzIxOSAxMzEuNjAxIDMxLjk5ODhDMTMyLjI3NCAyOS44MjA3IDEzMi45OTkgMjcuNjU4NCAxMzMuNjUyIDI1LjQ3MjNDMTMzLjkzMSAyNC43MTc3IDEzMy45NDQgMjMuODkwNCAxMzMuNjg4IDIzLjEyNzhDMTMzLjU3NyAyMi44NTg2IDEzMy40IDIyLjYyMTYgMTMzLjE3MyAyMi40Mzg3QzEzMi4yNjYgMjEuNzI1OCAxMzAuNjIzIDIxLjg0NDYgMTI5LjYyOSAyMi41MDZDMTI5LjMgMjIuNzMxOCAxMjguOTc1IDIyLjk2NTQgMTI4LjYzMSAyMy4yMDNDMTI4LjU1NSAyMy4wODAzIDEyOC40OTYgMjIuOTkzMSAxMjguNDQxIDIyLjg5ODFDMTI4LjIyIDIyLjQ3MTkgMTI3LjkxNyAyMi4wOTM3IDEyNy41NSAyMS43ODU3QzEyNy4xODIgMjEuNDc3NyAxMjYuNzU2IDIxLjI0NiAxMjYuMjk4IDIxLjEwNDFDMTI1LjMzOSAyMC44NTAxIDEyNC4zNDcgMjAuNzQwNyAxMjMuMzU2IDIwLjc3OTNDMTIyLjE5IDIwLjc4NTUgMTIxLjA0MiAyMS4wNjA2IDEyMC4wMDEgMjEuNTgzM0MxMTguMzY1IDIyLjQxMTMgMTE2Ljk3MSAyMy42NTA1IDExNS45NTggMjUuMTc5MkMxMTQuODM1IDI2LjcxMTUgMTEzLjgzNiAyOC4zMzExIDExMi45NzIgMzAuMDIyNkMxMTIuMDczIDMxLjcyNDIgMTExLjQxOCAzMy41NDQxIDExMS4wMjcgMzUuNDI4NEMxMTAuODk1IDM2LjExODQgMTEwLjgxNSAzNi44MTc0IDExMC43OSAzNy41MTk1QzExMC43ODMgMzguMDg4MyAxMTAuODM1IDM4LjY1NjIgMTEwLjk0NCAzOS4yMTQ1QzExMS4wODYgNDAuMzI0NyAxMTEuNjE2IDQxLjM0ODggMTEyLjQ0MSA0Mi4xMDU1QzExMy4xOTMgNDIuNzAyNyAxMTQuMTAzIDQzLjA2ODcgMTE1LjA1OSA0My4xNTg5QzExNi4yMjggNDMuMzMwMyAxMTcuNDIyIDQzLjEyMjEgMTE4LjQ2NSA0Mi41NjQ5QzExOS41OTYgNDEuOTY5OCAxMjAuNjEzIDQxLjE4MDIgMTIxLjQ3IDQwLjIzMjNDMTIxLjgzMSAzOS44NDQyIDEyMi4yMTEgMzkuNDcxOSAxMjIuNjIzIDM5LjA0NDJDMTIyLjY3IDM5LjI5MzcgMTIyLjcwNiAzOS40NTIxIDEyMi43MyAzOS42MTA1QzEyMi44NzggNDAuNzk1IDEyMy4zODIgNDEuOTA2NyAxMjQuMTc1IDQyLjc5ODVDMTI1LjUxNCA0NC4yMDg0IDEyNy4yMjkgNDQuNDQyMSAxMjkuMDM1IDQ0LjE3NjdDMTMwLjAyOCA0NC4wMjkxIDEzMC45NzkgNDMuNjcyOSAxMzEuODI1IDQzLjEzMTZDMTMyLjI2NyA0Mi44NTA0IDEzMy41NjMgNDEuMzMwOSAxMzQuMDY5IDQxLjcyNTNDMTM0LjY5IDQyLjIwOTMgMTM0Ljc1MyA0My4xMDM5IDEzNS40NDggNDMuNTcyQzEzNS44MDggNDMuNzc3IDEzNi4yMSA0My44OTkyIDEzNi42MjMgNDMuOTI5N0MxMzcuMDM3IDQzLjk2MDMgMTM3LjQ1MiA0My44OTg0IDEzNy44MzkgNDMuNzQ4NkMxMzguOTQ0IDQzLjM1NDkgMTM5Ljk3OSA0Mi43ODY3IDE0MC45MDQgNDIuMDY1NUMxNDEuMTA1IDQxLjkzMzcgMTQxLjI2NCA0MS43NDY3IDE0MS4zNjIgNDEuNTI2OEMxNDEuNDYgNDEuMzA3IDE0MS40OTIgNDEuMDYzNiAxNDEuNDU0IDQwLjgyNTlDMTQxLjMzNyAzOC44OTM0IDE0MS40OCAzNi45NTM3IDE0MS44ODIgMzUuMDU5N0MxNDIuMzYxIDMyLjg4NTUgMTQyLjk0OCAzMC43MzUxIDE0My41NjEgMjguNTk2NUMxNDQuMTc5IDI2LjQxODQgMTQ1LjE5NyAyNC4zNTUxIDE0NS41MDYgMjIuMDg1OEMxNDUuNTg1IDIxLjUzOTggMTQ1LjU0NSAyMC45ODI5IDE0NS4zODcgMjAuNDU0MlpNMTI1LjQwNyAyNy4yOThDMTI0Ljc3OCAyOS45NTI2IDEyMy41NDkgMzIuNDI3NyAxMjEuODE1IDM0LjUzMzRDMTIxLjIxMiAzNS4zMzU3IDEyMC40ODUgMzYuMDM2MyAxMTkuNjYxIDM2LjYwODZDMTE5LjE3MyAzNi45MzM0IDExOC42OTggMzcuMDUyMiAxMTguNDI5IDM2LjQ1MDJDMTE4LjM1NSAzNi4yODQ0IDExOC4zMDggMzYuMTA4IDExOC4yOSAzNS45Mjc0QzExOC4xODMgMzQuODkzOCAxMTguNjk0IDMzLjgxNjYgMTE5LjA0NyAzMi44NzQxQzExOS40MzUgMzEuODEyNyAxMTkuODY5IDMwLjc3MzggMTIwLjM1IDI5Ljc1NzNDMTIxLjA0MyAyOC4yODggMTIxLjg1NSAyNi44NzgyIDEyMy4xMjIgMjUuODIwOEMxMjMuNTM2IDI1LjUwOCAxMjMuOTk4IDI1LjI2MjIgMTI0LjQ4OCAyNS4wOTIxQzEyNC44MjUgMjQuOTU3NCAxMjUuMjIxIDI1LjI1ODQgMTI1LjM3NSAyNS42MzA3QzEyNS41NiAyNi4xNjk1IDEyNS41NzEgMjYuNzUyNSAxMjUuNDA3IDI3LjI5OFoiIGZpbGw9IiNGRjVBNTAiLz4KPHBhdGggZD0iTTUxLjExNzcgMzIuNzk5NUM1MC40MTI3IDM0Ljk4OTUgNDkuMDA2OCAzNi40MTEzIDQ2LjcwMTkgMzYuODc0NkM0NS4zNjExIDM3LjE3OTcgNDMuOTYwNiAzNy4wODg5IDQyLjY3MDQgMzYuNjEzMkM0Mi4wOTI5IDM2LjM5MjQgNDEuNTk0MSAzNi4wMDUgNDEuMjM3MyAzNS41MDAxQzQwLjg4MDUgMzQuOTk1MiA0MC42ODE4IDM0LjM5NTcgNDAuNjY2NSAzMy43Nzc3QzQwLjU3MTQgMzIuMTI2MiA0MS4yMzI4IDMwLjcwMDUgNDIuMDAxMSAyOS4zMDY1QzQyLjMyMTkgMjguNzI4MyA0Mi42NTQ1IDI4LjE1NDEgNDIuOTE5OSAyNy41NDgxQzQzLjAzMzkgMjcuMjQ1MSA0My4wNzczIDI2LjkyIDQzLjA0NjYgMjYuNTk3N0M0My4wMzA4IDI2LjQ5MDQgNDIuOTkwNyAyNi4zODgyIDQyLjkyOTQgMjYuMjk4N0M0Mi44NjgxIDI2LjIwOTMgNDIuNzg3MiAyNi4xMzUgNDIuNjkyOSAyNi4wODE2QzQyLjU5ODYgMjYuMDI4MSA0Mi40OTMzIDI1Ljk5NjkgNDIuMzg1MSAyNS45OTAyQzQyLjI3NjkgMjUuOTgzNiA0Mi4xNjg2IDI2LjAwMTcgNDIuMDY4NCAyNi4wNDMyQzQxLjQ5NzIgMjYuMzA4NSA0MC45NjQ0IDI2LjY0OTUgNDAuNDg0MyAyNy4wNTcxQzM4LjU1NTYgMjguODI3MyAzNy4wMDcyIDMwLjkxODMgMzUuNTE0MSAzMy4wNjA5QzMzLjkxNzYgMzUuMzI3NyAzMi40NjUzIDM3LjY5MjcgMzEuMTY1NyA0MC4xNDE5QzMwLjc0MiA0MC45NDk4IDMwLjQyNTEgNDEuODIxIDI5Ljk0NiA0Mi41ODkzQzI5LjYxMjIgNDMuMTU4MyAyOS4xMyA0My42MjU4IDI4LjU1MSA0My45NDE4QzI3Ljk3MiA0NC4yNTc4IDI3LjMxOCA0NC40MTA0IDI2LjY1ODkgNDQuMzgzM0MyNS44OTk4IDQ0LjQxNyAyNS4xNDM5IDQ0LjI2NDcgMjQuNDU3IDQzLjkzOThDMjMuOTI2MyA0My42NTMyIDIzLjUyMDEgNDMuMTgwOCAyMy4zMTY0IDQyLjYxMzFDMjIuNTI4MyA0My4wNTI3IDIxLjc0ODEgNDMuNTM5OCAyMC45MjQ0IDQzLjkyNzlDMTkuNjM5NiA0NC41ODE3IDE4LjI1MTYgNDUuMDA5MSAxNi44MjE1IDQ1LjE5MTJDMTUuODQ4OCA0NS4zMTgzIDE0Ljg2NzYgNDUuMzY4NyAxMy44ODcgNDUuMzQxN0MxMi4wNjkxIDQ1LjI3NjEgMTAuMzIwMSA0NC42MjkzIDguODk3IDQzLjQ5NjJDNy40OTYxNSA0Mi4zNDY2IDYuNTQzMTIgNDAuNzQxOSA2LjIwNCAzOC45NjE3QzUuOTMzNDcgMzcuNjQ2NSA1Ljg5NTkzIDM2LjI5NCA2LjA5MzEyIDM0Ljk2NThDNi40MDA5MyAzMi44ODU2IDcuMDc5NjcgMzAuODc3NiA4LjA5NzAyIDI5LjAzNzJDOC45MDQ5OCAyNy40OTQ5IDkuODY4MzcgMjYuMDM5MiAxMC45NzIyIDI0LjY5MjhDMTIuMTE3IDIzLjI5ODMgMTMuNDcxOCAyMi4wOTA1IDE0Ljk4NzkgMjEuMTEyN0MxNi4xMDc4IDIwLjM4NDUgMTcuMzU4OCAxOS44ODE0IDE4LjY3MSAxOS42MzE1QzIwLjM3IDE5LjMxNDcgMjEuODM1MyAxOS45MDA4IDIzLjE5NzYgMjAuODQzNEMyNC4xNDU2IDIxLjQ4NjEgMjQuOTQ2MSAyMi4zMjMxIDI1LjU0NjEgMjMuMjk4N0MyNi4wOTYyIDI0LjI5MzcgMjYuMjQyMyAyNS40NjIzIDI1Ljk1NCAyNi41NjJDMjUuNjU5OCAyNy43NjI4IDI1LjIyNzkgMjguOTI1NiAyNC42NjY5IDMwLjAyNzNDMjQuMTUyIDMxLjE2NzggMjMuNjQxMiAzMi4zMDg0IDIzLjExNDQgMzMuNDQ1QzIzLjAyNzQgMzMuNjkyMSAyMi44NDYgMzMuODk0NSAyMi42MDk5IDM0LjAwODFDMjIuMzczOSAzNC4xMjE3IDIyLjEwMjQgMzQuMTM3MSAyMS44NTUxIDM0LjA1MDlDMjEuMTIwOSAzMy44MTg1IDIwLjQ2MDUgMzMuMzk3OCAxOS45Mzk0IDMyLjgzMDlDMTkuNDE4MyAzMi4yNjM5IDE5LjA1NDcgMzEuNTcwNCAxOC44ODQ5IDMwLjgxOTNDMTguNzYxNCAyOS43NDMyIDE4LjkzNjggMjguNjUzOSAxOS4zOTE4IDI3LjY3MDlDMTkuODYzIDI2LjQ1NTEgMjAuNDA1NiAyNS4yNjcgMjAuOTI4NCAyNC4wNzVDMjAuOTc2NyAyMy45OTUgMjEuMDA4MiAyMy45MDYgMjEuMDIxIDIzLjgxMzVDMjEuMDMzNyAyMy43MjA5IDIxLjAyNzUgMjMuNjI2OCAyMS4wMDI3IDIzLjUzNjdDMjAuOTc3OSAyMy40NDY3IDIwLjkzNDkgMjMuMzYyNiAyMC44NzY1IDIzLjI4OTdDMjAuODE4MSAyMy4yMTY4IDIwLjc0NTUgMjMuMTU2NSAyMC42NjMgMjMuMTEyNkMyMC4wNjMgMjMuMjUyMSAxOS41MTkyIDIzLjU2OTYgMTkuMTAyNyAyNC4wMjM1QzE4LjM2NjEgMjQuNzUyMiAxNy42NjkgMjUuNTIwNSAxNy4wMDM3IDI2LjMxNjVDMTUuNjY0MSAyNy45ODk5IDE0LjUyMTQgMjkuODExNyAxMy41OTc5IDMxLjc0NkMxMy4wMTk3IDMyLjg1ODMgMTIuNjU5NCAzNC4wNzA3IDEyLjUzNjUgMzUuMzE4MkMxMi40MTQxIDM2LjI3NjcgMTIuNDQ0OSAzNy4yNDg1IDEyLjYyNzYgMzguMTk3NEMxMi43Mjc5IDM4LjgwMDUgMTMuMDMyNiAzOS4zNTA4IDEzLjQ5MDQgMzkuNzU2QzEzLjk0ODMgNDAuMTYxMiAxNC41MzE1IDQwLjM5NjcgMTUuMTQyNCA0MC40MjNDMTcuNDg1MiA0MC41NTM3IDE5LjgxMDYgMzkuOTUxNiAyMS43OTU3IDM4LjcwMDNDMjIuNTUyNiAzOC4xODE4IDIzLjI3OTcgMzcuNjIxMiAyMy45NzM4IDM3LjAyMTJDMjQuMTAwOSAzNi45MDEyIDI0LjE5NjIgMzYuNzUxNSAyNC4yNTExIDM2LjU4NTVDMjQuOTUyIDM0LjcxMjMgMjUuNjA5NCAzMi44MjMyIDI2LjM1NCAzMC45Njk4QzI2LjkwMDUgMjkuNTk1NiAyNy41NSAyOC4yNjEgMjguMTU5OSAyNi45MTQ1QzI4LjczNCAyNS41OTE5IDI5LjQzNyAyNC4zMjkgMzAuMjU4OCAyMy4xNDQzQzMxLjE4NTUgMjEuODQxNCAzMi4zNTM4IDIwLjg1NTIgMzMuOTgxNSAyMC42NDUzQzM1LjI5MjMgMjAuNDc1MSAzNi41MDAyIDIwLjkxNDYgMzcuMTI2IDIyLjM5NThDMzcuNjc2NCAyMy42OTg3IDM3LjM1OTYgMjQuOTUwMiAzNi45MzU5IDI2LjIwMTZDMzYuODI1IDI2LjUyMjQgMzYuNzE4MSAyNi44NDMyIDM2LjU3OTQgMjcuMjU1MUMzNy4zNDM4IDI2LjQyMzQgMzcuOTkzMyAyNS42MzE0IDM4LjcyNTkgMjQuOTM0M0MzOS45MDU2IDIzLjczOCA0MS4yNzYxIDIyLjc0NjMgNDIuNzgxMyAyMS45OTk4QzQzLjg1OTUgMjEuNDU5NiA0NS4wNTI3IDIxLjE4OTIgNDYuMjU4NCAyMS4yMTE3QzQ3Ljc1MTQgMjEuMjc5IDQ5LjE0NTQgMjEuNjU1MiA1MC4xOTEgMjIuODM5M0M1MC42NDYgMjMuMzc0MiA1MC45NDYgMjQuMDIzNCA1MS4wNTgzIDI0LjcxNjVDNTEuMzAzOCAyNi4wMDM2IDUwLjg3NjEgMjcuMTYgNTAuNDAwOSAyOC4zMTY0QzUwLjA0ODQgMjkuMTcxOSA0OS42ODggMzAuMDI3MyA0OS40MjI3IDMwLjkxMDRDNDkuMjA4OCAzMS42MjcyIDQ5LjU4OSAzMi4xMzQyIDUwLjM0OTQgMzIuMzI4MkM1MC41MTggMzIuMzcxOSA1MC42OTA0IDMyLjM5OTggNTAuODY0MiAzMi40MTE0QzUxLjE0NTQgMzIuNDIzMyA1MS4xODUgMzIuNTgxNyA1MS4xMTc3IDMyLjc5OTVaIiBmaWxsPSJ3aGl0ZSIvPgo8cGF0aCBkPSJNMTEzLjI3MSAyMi4zOTU2QzExMi42NDcgMjAuOTk2NCAxMDkuNTY1IDIwLjg0ODMgMTA4LjI5MyAyMS4yODE5QzEwNy43OSAyMS40NzAyIDEwNy4zMSAyMS43MTQ4IDEwNi44NjIgMjIuMDExQzEwNC43MzUgMjMuMzI2NiAxMDMuOTc5IDI1LjAxNjEgMTAyLjk4MSAyNy4yMjI4QzEwMS45OTEgMjkuNDAwOSAxMDEuMDggMzEuNjE4NyAxMDAuMDE5IDMzLjc2MTJDOTkuMzEzOSAzNS4xMzkyIDk4LjUxMTkgMzYuNDY1MyA5Ny42MTg4IDM3LjcyOTRDOTcuMTExMiAzOC41NTE3IDk2LjI5NzggMzkuMTM4NiA5NS4zNTc1IDM5LjM2MTFDOTQuNzk5MSAzOS40NzIgOTQuNTY5NCAzOS4yMjI1IDk0LjM3MTQgMzguNzM1M0M5NC4xODkxIDM4LjI4ODEgOTQuMDc4MiAzNy44MTUgOTQuMDQyNyAzNy4zMzM0QzkzLjk2MzIgMzUuOTUwMiA5NC4xNDE4IDM0LjU2NDIgOTQuNTY5NCAzMy4yNDY0Qzk1LjE5OTEgMzEuMTM1NSA5NS44NzYzIDI5LjA0MDUgOTYuNTEzOSAyNi45MzM3Qzk2Ljg1MDEgMjYuMDE4NiA5Ny4wMTM5IDI1LjA0OTEgOTYuOTk3MSAyNC4wNzQzQzk3LjAwMTMgMjMuNzM0MiA5Ni45MjY2IDIzLjM5NzYgOTYuNzc4OCAyMy4wOTEyQzk2LjYzMTEgMjIuNzg0NyA5Ni40MTQzIDIyLjUxNjcgOTYuMTQ1NiAyMi4zMDgxQzk1LjU4NTcgMjEuODk4OCA5NC45MjM2IDIxLjY1MjIgOTQuMjMyNCAyMS41OTU2QzkzLjU0MTMgMjEuNTM5IDkyLjg0NzkgMjEuNjc0NiA5Mi4yMjg5IDIxLjk4NzNDOTAuOTE0MSAyMi42MTMgOTAuMDU0NyAyMy43Mjk4IDg5LjQyNSAyNC45OTcxQzg4LjUzMzkgMjYuNzc5MiA4Ny43MyAyOC42MDQ5IDg2Ljg1ODcgMzAuMzk1Qzg2LjI2MDcgMzEuNjM0NSA4NS42MTUyIDMyLjg1NDMgODQuOTg5NSAzNC4wNzhDODQuMTk2NiAzNS43NjA3IDgzLjI0MyAzNy4zNjI4IDgyLjE0MiAzOC44NjIxQzgxLjk2NzggMzkuMDgzOSA4MS42NTg4IDM5LjM5MjggODEuNDYwOCAzOS4zNTcxQzgxLjIyMzIgMzkuMzIxNSA4MS4wMzMxIDM4Ljk2MTEgODAuODMxMSAzOC43MzUzQzgwLjc5NjYgMzguNjk0IDgwLjc3MjIgMzguNjQ1MiA4MC43NTk5IDM4LjU5MjhDODAuNDU3NyAzNy41MDE3IDgwLjQwNDkgMzYuMzU2NiA4MC42MDU0IDM1LjI0MjRDODAuODA3NCAzMy45ODMgODEuMDYwOCAzMi43Mjc2IDgxLjM0OTkgMzEuNDg0MUM4MS45MjAyIDI5LjAwMDkgODIuNTY5NyAyNi41MzM3IDgzLjEwNDQgMjQuMDM4N0M4My4yNDI4IDIzLjU0ODMgODMuMjMyMyAyMy4wMjc5IDgzLjA3NDQgMjIuNTQzNUM4Mi45MTY0IDIyLjA1OTEgODIuNjE4MSAyMS42MzI1IDgyLjIxNzIgMjEuMzE4QzgxLjgxNzggMjEuMDMyNCA4MS4zNjMzIDIwLjgzMjggODAuODgyOCAyMC43MzE5QzgwLjQwMjIgMjAuNjMxIDc5LjkwNTggMjAuNjMxIDc5LjQyNTIgMjAuNzMxOUM3OC4xMDY1IDIwLjkzNzggNzcuMTM2MiAyMS43Mzc4IDc2LjM2MzkgMjIuODA3MUM3NS40MTgyIDI0LjEyMjIgNzQuNzQ3NCAyNS42MTQ2IDc0LjM5MTcgMjcuMTk1MUM3NC4wODY4IDI4LjUwMiA3My44ODQ4IDI5LjgzMjYgNzMuNjY3IDMxLjE2MzNDNzMuNTY4IDMxLjc3NzEgNzMuNTY0IDMyLjQwMjggNzMuNDg4OCAzMy4wMjQ2QzczLjQ2NzMgMzMuMTk2NyA3My4zOTQxIDMzLjM1ODMgNzMuMjc4OSAzMy40ODhDNzIuNzUyMiAzNC4wMzg0IDcyLjIxNzUgMzQuNTc3IDcxLjY2NyAzNS4xMDM4QzcwLjYyNDYgMzYuMTA4OCA2OS40MyAzNi45NDI4IDY4LjEyNzMgMzcuNTc1QzY3LjI3ODcgMzguMDI5NiA2Ni4zNDIxIDM4LjI5NiA2NS4zODEyIDM4LjM1NjFDNjQuNDIwNCAzOC40MTYzIDYzLjQ1NzkgMzguMjY4NyA2Mi41NTkyIDM3LjkyMzVDNjEuOTc3OCAzNy43MDQgNjEuNDYxNCAzNy4zNDA5IDYxLjA1ODQgMzYuODY3OUM2MC42NTUzIDM2LjM5NDkgNjAuMzc4NyAzNS44Mjc1IDYwLjI1NDMgMzUuMjE4NkM2MS4wMjY1IDM1LjIxODYgNjEuNzcxMSAzNS4yMjY1IDYyLjUxNTYgMzUuMjE4NkM2NC4yNzc2IDM1LjE5OTIgNjYuMDA3NiAzNC43NDYzIDY3LjU1MzEgMzMuODk5OEM2OS4wMDk1IDMzLjE1ODIgNzAuMTkzNSAzMS45NzQyIDcwLjkzNTIgMzAuNTE3N0M3MS43NzQyIDI4Ljg5MjYgNzEuOTc2MiAyNy4wMTI4IDcxLjUwMTUgMjUuMjQ2NkM3MS4yOSAyNC40MTEgNzAuODg1NyAyMy42MzY2IDcwLjMyMTEgMjIuOTg1M0M2OS43NTY1IDIyLjMzNDEgNjkuMDQ3MiAyMS44MjQxIDY4LjI1MDEgMjEuNDk2MkM2Ny4zNTg2IDIxLjA3NDMgNjYuMzkxOSAyMC44MzQ2IDY1LjQwNjYgMjAuNzkxM0M2NC40OTk2IDIwLjcxMzMgNjMuNTg3MiAyMC43MjI1IDYyLjY4MTkgMjAuODE5QzYwLjc3NTUgMjEuMTczNyA1OS4wMSAyMi4wNjU0IDU3LjU5MyAyMy4zODkyQzU2LjA4NyAyNC43NDQ1IDU0Ljg0MjcgMjYuMzY0NyA1My45MjE4IDI4LjE2OTNDNTIuODU5NiAzMC4xNzE3IDUyLjIwMjggMzIuMzY0IDUxLjk4OTEgMzQuNjIwNkM1MS44NjI4IDM1LjkxMDggNTEuOTY4OCAzNy4yMTMyIDUyLjMwMiAzOC40NjZDNTIuNzEyMSA0MC4xODA1IDUzLjc0MzcgNDEuNjgyIDU1LjE5NyA0Mi42Nzk4QzU2LjcwNzcgNDMuNjYwNyA1OC40NTc5IDQ0LjIwOTggNjAuMjU4MiA0NC4yNjc5QzYxLjUxMzEgNDQuMzA1NCA2Mi43NjkgNDQuMjUzOCA2NC4wMTY1IDQ0LjExMzRDNjUuMjYwOCA0My45NzE2IDY2LjQ3MTYgNDMuNjE4IDY3LjU5NjYgNDMuMDY3OUM2OS40NDk5IDQyLjIyMDcgNzEuMTIwNSA0MS4wMjA4IDcyLjUxNTMgMzkuNTM1M0M3Mi45NTEgMzkuMDc5OSA3My4zNjY4IDM4LjYwMDcgNzMuNzM5MSAzOC4xODQ5Qzc0LjA5NTUgMzkuMDUyMiA3NC40MTYzIDM5Ljk1MTIgNzQuODI0MiA0MC44MDY2Qzc1LjMxNjQgNDEuOTE4NCA3Ni4yMDAyIDQyLjgxMDYgNzcuMzA3MyA0My4zMTM0Qzc4LjM3OTMgNDMuNzgxMSA3OS41MDg2IDQ0LjEwNDcgODAuNjY1NiA0NC4yNzU4QzgwLjk2NDIgNDQuMzUzNSA4MS4yNzczIDQ0LjM1NjIgODEuNTc3MiA0NC4yODM3QzgxLjg3NzEgNDQuMjExMSA4Mi4xNTQzIDQ0LjA2NTYgODIuMzg0NCA0My44NkM4My4xNDg3IDQzLjEwNzUgODMuOTQ0NyA0Mi4zODI4IDg0LjY4OTMgNDEuNjEwNUM4NS4xMDYgNDEuMTQ5MyA4NS40OTg2IDQwLjY2NjggODUuODY1NSA0MC4xNjVDODYuNDA4IDM5LjQ3MiA4Ni45NDI3IDM4Ljc2NyA4Ny41MDkgMzguMDMwNEM4Ny41NzI0IDM4LjM5MDggODcuNjE1OSAzOC42OTU3IDg3LjY4MzIgMzguOTk2N0M4OC4wMzU3IDQwLjUyOTQgODguNjg5MiA0MS44NiA5MC4wNTU1IDQyLjc1OUM5MC45ODMxIDQzLjMyODggOTEuOTk0OCA0My43NDg1IDkzLjA1MzQgNDQuMDAyNUM5NC44MjM3IDQ0LjUyNTUgOTYuNzI1NyA0NC4zNjU5IDk4LjM4NCA0My41NTVDMTAwLjIxMiA0Mi42NDA0IDEwMS44MTQgNDEuMzMyNiAxMDMuMDc3IDM5LjcyNTRDMTA0LjA5IDM4LjUzMiAxMDUuMDM1IDM3LjI4MjUgMTA1LjkwOSAzNS45ODI5QzEwNy4yMzUgMzMuOTQ3NCAxMDguNDg3IDMxLjg1MjQgMTA5LjY5OSAyOS43NDE1QzExMC4zMTUgMjguNjY3NSAxMTAuOTE1IDI3LjU4NCAxMTEuNTEgMjYuNDk4NEMxMTEuOTk3IDI1LjYxMjEgMTEzLjI5OSAyNC4wNDk0IDExMy4zNzggMjMuMDUzQzExMy4zOTkgMjIuODI4NCAxMTMuMzYyIDIyLjYwMjEgMTEzLjI3MSAyMi4zOTU2Wk02MC43ODQ5IDMwLjE1MzRDNjEuMTkzIDI5LjAzODEgNjEuODA4NCAyOC4wMTAyIDYyLjU5ODggMjcuMTIzOEM2My4wNzQ1IDI2LjUyODIgNjMuNzMyNiAyNi4xMDUyIDY0LjQ3MiAyNS45MTk4QzY0LjcxNzMgMjUuODc5NiA2NC45Njg4IDI1LjkwMiA2NS4yMDMxIDI1Ljk4NTFDNjUuNDM3MyAyNi4wNjgxIDY1LjY0NjggMjYuMjA5MSA2NS44MTIgMjYuMzk0OEM2NS45NzcyIDI2LjU4MDYgNjYuMDkyOCAyNi44MDUxIDY2LjE0NzkgMjcuMDQ3NUM2Ni4yMDMgMjcuMjg5OSA2Ni4xOTYgMjcuNTQyMyA2Ni4xMjc0IDI3Ljc4MTJDNjUuNTYxMSAzMC4xODkgNjMuOTY1MSAzMS41NTE0IDYxLjY0NDMgMzIuMTQ1NEM2MS4xMzc2IDMyLjIzMDYgNjAuNjI1NCAzMi4yNzk1IDYwLjExMTcgMzIuMjkyQzYwLjM1NzIgMzEuNDk5OSA2MC41NDczIDMwLjgxODcgNjAuNzg0OSAzMC4xNTM0WiIgZmlsbD0id2hpdGUiLz4KPC9zdmc+Cg==\"\n",
              "          alt=\"CrewAI logo\"\n",
              "          class=\"logo\"\n",
              "        />\n",
              "        \n",
              "            <div class=\"legend-item\">\n",
              "            <div class=\"legend-color-box\" style=\"background-color: #FF5A50; border-radius: 5px;\"></div>\n",
              "            <div>Start Method</div>\n",
              "            </div>\n",
              "            \n",
              "            <div class=\"legend-item\">\n",
              "            <div class=\"legend-color-box\" style=\"background-color: #333333; border-radius: 5px;\"></div>\n",
              "            <div>Method</div>\n",
              "            </div>\n",
              "            \n",
              "            <div class=\"legend-item\">\n",
              "            <div class=\"legend-color-box\" style=\"background-color: #FFFFFF; border: 2px solid #FF5A50; border-radius: 5px;\"></div>\n",
              "            <div>Crew Method</div>\n",
              "            </div>\n",
              "            \n",
              "            <div class=\"legend-item\">\n",
              "            <div class=\"legend-color-box\" style=\"background-color: #333333; border: 2px dashed #FF5A50; border-radius: 5px;\"></div>\n",
              "            <div>Router</div>\n",
              "            </div>\n",
              "            \n",
              "            <div class=\"legend-item\">\n",
              "            <div class=\"legend-solid\" style=\"border-bottom: 2px solid #666666; border-radius: 5px;\"></div>\n",
              "            <div>Trigger</div>\n",
              "            </div>\n",
              "            \n",
              "            <div class=\"legend-item\">\n",
              "            <div class=\"legend-dashed\" style=\"border-bottom: 2px dashed #666666; border-radius: 5px;\"></div>\n",
              "            <div>AND Trigger</div>\n",
              "            </div>\n",
              "            \n",
              "            <div class=\"legend-item\">\n",
              "            <div class=\"legend-dashed\" style=\"border-bottom: 2px dashed #FF5A50; border-radius: 5px;\"></div>\n",
              "            <div>Router Trigger</div>\n",
              "            </div>\n",
              "            \n",
              "      </div>\n",
              "    </div>\n",
              "    \n",
              "        <div class=\"card\" style=\"width: 100%\">\n",
              "            \n",
              "            \n",
              "            <div id=\"mynetwork\" class=\"card-body\"></div>\n",
              "        </div>\n",
              "\n",
              "        \n",
              "        \n",
              "\n",
              "        <script type=\"text/javascript\">\n",
              "\n",
              "              // initialize global variables.\n",
              "              var edges;\n",
              "              var nodes;\n",
              "              var allNodes;\n",
              "              var allEdges;\n",
              "              var nodeColors;\n",
              "              var originalNodes;\n",
              "              var network;\n",
              "              var container;\n",
              "              var options, data;\n",
              "              var filter = {\n",
              "                  item : '',\n",
              "                  property : '',\n",
              "                  value : []\n",
              "              };\n",
              "\n",
              "              \n",
              "\n",
              "              \n",
              "\n",
              "              // This method is responsible for drawing the graph, returns the drawn network\n",
              "              function drawGraph() {\n",
              "                  var container = document.getElementById('mynetwork');\n",
              "\n",
              "                  \n",
              "\n",
              "                  // parsing and collecting nodes and edges from the python\n",
              "                  nodes = new vis.DataSet([{\"color\": \"#FF5A50\", \"fixed\": true, \"font\": {\"color\": \"#FFFFFF\", \"multi\": \"html\"}, \"id\": \"start_method\", \"label\": \"Start Method\", \"margin\": {\"bottom\": 8, \"left\": 10, \"right\": 10, \"top\": 10}, \"physics\": false, \"shape\": \"box\", \"x\": 0.0, \"y\": 0}, {\"borderWidth\": 3, \"borderWidthSelected\": 4, \"color\": {\"background\": \"#333333\", \"border\": \"#FF5A50\", \"highlight\": {\"background\": \"#333333\", \"border\": \"#FF5A50\"}}, \"fixed\": true, \"font\": {\"color\": \"#FFFFFF\", \"multi\": \"html\"}, \"id\": \"second_method\", \"label\": \"Second Method\", \"margin\": {\"bottom\": 8, \"left\": 10, \"right\": 10, \"top\": 10}, \"physics\": false, \"shape\": \"box\", \"shapeProperties\": {\"borderDashes\": [5, 5]}, \"x\": 0.0, \"y\": 150}, {\"color\": \"#333333\", \"fixed\": true, \"font\": {\"color\": \"#FFFFFF\", \"multi\": \"html\"}, \"id\": \"fourth_method\", \"label\": \"Fourth Method\", \"margin\": {\"bottom\": 8, \"left\": 10, \"right\": 10, \"top\": 10}, \"physics\": false, \"shape\": \"box\", \"x\": -75.0, \"y\": 300}, {\"color\": \"#333333\", \"fixed\": true, \"font\": {\"color\": \"#FFFFFF\", \"multi\": \"html\"}, \"id\": \"third_method\", \"label\": \"Third Method\", \"margin\": {\"bottom\": 8, \"left\": 10, \"right\": 10, \"top\": 10}, \"physics\": false, \"shape\": \"box\", \"x\": 75.0, \"y\": 300}]);\n",
              "                  edges = new vis.DataSet([{\"arrows\": \"to\", \"color\": \"#666666\", \"dashes\": false, \"from\": \"start_method\", \"smooth\": {\"type\": \"continuous\"}, \"to\": \"second_method\", \"width\": 2}, {\"arrows\": \"to\", \"color\": \"#FF5A50\", \"dashes\": true, \"from\": \"second_method\", \"smooth\": {\"roundness\": 0.2, \"type\": \"curvedCCW\"}, \"to\": \"fourth_method\", \"width\": 2}, {\"arrows\": \"to\", \"color\": \"#FF5A50\", \"dashes\": true, \"from\": \"second_method\", \"smooth\": {\"roundness\": 0.30000000000000004, \"type\": \"curvedCW\"}, \"to\": \"third_method\", \"width\": 2}]);\n",
              "\n",
              "                  nodeColors = {};\n",
              "                  allNodes = nodes.get({ returnType: \"Object\" });\n",
              "                  for (nodeId in allNodes) {\n",
              "                    nodeColors[nodeId] = allNodes[nodeId].color;\n",
              "                  }\n",
              "                  allEdges = edges.get({ returnType: \"Object\" });\n",
              "                  // adding nodes and edges to the graph\n",
              "                  data = {nodes: nodes, edges: edges};\n",
              "\n",
              "                  var options = {\"nodes\": {\"font\": {\"multi\": \"html\"}}, \"physics\": {\"enabled\": false}};\n",
              "\n",
              "                  \n",
              "\n",
              "\n",
              "                  \n",
              "\n",
              "                  network = new vis.Network(container, data, options);\n",
              "\n",
              "                  \n",
              "\n",
              "                  \n",
              "\n",
              "                  \n",
              "\n",
              "\n",
              "                  \n",
              "\n",
              "                  return network;\n",
              "\n",
              "              }\n",
              "              drawGraph();\n",
              "        </script>\n",
              "    \n",
              "  </body>\n",
              "</html>\n"
            ]
          },
          "metadata": {},
          "execution_count": 21
        }
      ]
    },
    {
      "cell_type": "code",
      "source": [
        "!pip install crewai_tools"
      ],
      "metadata": {
        "colab": {
          "base_uri": "https://localhost:8080/"
        },
        "id": "0RnTND7Dg95b",
        "outputId": "31f10fdc-0f0a-4ae8-d1dd-8ee082db6085"
      },
      "execution_count": 22,
      "outputs": [
        {
          "output_type": "stream",
          "name": "stdout",
          "text": [
            "Requirement already satisfied: crewai_tools in /usr/local/lib/python3.11/dist-packages (0.44.0)\n",
            "Requirement already satisfied: chromadb>=0.4.22 in /usr/local/lib/python3.11/dist-packages (from crewai_tools) (0.5.23)\n",
            "Requirement already satisfied: click>=8.1.8 in /usr/local/lib/python3.11/dist-packages (from crewai_tools) (8.1.8)\n",
            "Requirement already satisfied: crewai>=0.118.0 in /usr/local/lib/python3.11/dist-packages (from crewai_tools) (0.119.0)\n",
            "Requirement already satisfied: docker>=7.1.0 in /usr/local/lib/python3.11/dist-packages (from crewai_tools) (7.1.0)\n",
            "Requirement already satisfied: embedchain>=0.1.114 in /usr/local/lib/python3.11/dist-packages (from crewai_tools) (0.1.128)\n",
            "Requirement already satisfied: lancedb>=0.5.4 in /usr/local/lib/python3.11/dist-packages (from crewai_tools) (0.22.0)\n",
            "Requirement already satisfied: openai>=1.12.0 in /usr/local/lib/python3.11/dist-packages (from crewai_tools) (1.75.0)\n",
            "Requirement already satisfied: pydantic>=2.6.1 in /usr/local/lib/python3.11/dist-packages (from crewai_tools) (2.11.4)\n",
            "Requirement already satisfied: pyright>=1.1.350 in /usr/local/lib/python3.11/dist-packages (from crewai_tools) (1.1.400)\n",
            "Requirement already satisfied: pytube>=15.0.0 in /usr/local/lib/python3.11/dist-packages (from crewai_tools) (15.0.0)\n",
            "Requirement already satisfied: requests>=2.31.0 in /usr/local/lib/python3.11/dist-packages (from crewai_tools) (2.32.3)\n",
            "Requirement already satisfied: build>=1.0.3 in /usr/local/lib/python3.11/dist-packages (from chromadb>=0.4.22->crewai_tools) (1.2.2.post1)\n",
            "Requirement already satisfied: chroma-hnswlib==0.7.6 in /usr/local/lib/python3.11/dist-packages (from chromadb>=0.4.22->crewai_tools) (0.7.6)\n",
            "Requirement already satisfied: fastapi>=0.95.2 in /usr/local/lib/python3.11/dist-packages (from chromadb>=0.4.22->crewai_tools) (0.115.9)\n",
            "Requirement already satisfied: uvicorn>=0.18.3 in /usr/local/lib/python3.11/dist-packages (from uvicorn[standard]>=0.18.3->chromadb>=0.4.22->crewai_tools) (0.34.2)\n",
            "Requirement already satisfied: numpy>=1.22.5 in /usr/local/lib/python3.11/dist-packages (from chromadb>=0.4.22->crewai_tools) (2.0.2)\n",
            "Requirement already satisfied: posthog>=2.4.0 in /usr/local/lib/python3.11/dist-packages (from chromadb>=0.4.22->crewai_tools) (3.25.0)\n",
            "Requirement already satisfied: typing_extensions>=4.5.0 in /usr/local/lib/python3.11/dist-packages (from chromadb>=0.4.22->crewai_tools) (4.13.2)\n",
            "Requirement already satisfied: onnxruntime>=1.14.1 in /usr/local/lib/python3.11/dist-packages (from chromadb>=0.4.22->crewai_tools) (1.22.0)\n",
            "Requirement already satisfied: opentelemetry-api>=1.2.0 in /usr/local/lib/python3.11/dist-packages (from chromadb>=0.4.22->crewai_tools) (1.33.0)\n",
            "Requirement already satisfied: opentelemetry-exporter-otlp-proto-grpc>=1.2.0 in /usr/local/lib/python3.11/dist-packages (from chromadb>=0.4.22->crewai_tools) (1.33.0)\n",
            "Requirement already satisfied: opentelemetry-instrumentation-fastapi>=0.41b0 in /usr/local/lib/python3.11/dist-packages (from chromadb>=0.4.22->crewai_tools) (0.54b0)\n",
            "Requirement already satisfied: opentelemetry-sdk>=1.2.0 in /usr/local/lib/python3.11/dist-packages (from chromadb>=0.4.22->crewai_tools) (1.33.0)\n",
            "Requirement already satisfied: tokenizers<=0.20.3,>=0.13.2 in /usr/local/lib/python3.11/dist-packages (from chromadb>=0.4.22->crewai_tools) (0.20.3)\n",
            "Requirement already satisfied: pypika>=0.48.9 in /usr/local/lib/python3.11/dist-packages (from chromadb>=0.4.22->crewai_tools) (0.48.9)\n",
            "Requirement already satisfied: tqdm>=4.65.0 in /usr/local/lib/python3.11/dist-packages (from chromadb>=0.4.22->crewai_tools) (4.67.1)\n",
            "Requirement already satisfied: overrides>=7.3.1 in /usr/local/lib/python3.11/dist-packages (from chromadb>=0.4.22->crewai_tools) (7.7.0)\n",
            "Requirement already satisfied: importlib-resources in /usr/local/lib/python3.11/dist-packages (from chromadb>=0.4.22->crewai_tools) (6.5.2)\n",
            "Requirement already satisfied: grpcio>=1.58.0 in /usr/local/lib/python3.11/dist-packages (from chromadb>=0.4.22->crewai_tools) (1.71.0)\n",
            "Requirement already satisfied: bcrypt>=4.0.1 in /usr/local/lib/python3.11/dist-packages (from chromadb>=0.4.22->crewai_tools) (4.3.0)\n",
            "Requirement already satisfied: typer>=0.9.0 in /usr/local/lib/python3.11/dist-packages (from chromadb>=0.4.22->crewai_tools) (0.15.3)\n",
            "Requirement already satisfied: kubernetes>=28.1.0 in /usr/local/lib/python3.11/dist-packages (from chromadb>=0.4.22->crewai_tools) (32.0.1)\n",
            "Requirement already satisfied: tenacity>=8.2.3 in /usr/local/lib/python3.11/dist-packages (from chromadb>=0.4.22->crewai_tools) (9.1.2)\n",
            "Requirement already satisfied: PyYAML>=6.0.0 in /usr/local/lib/python3.11/dist-packages (from chromadb>=0.4.22->crewai_tools) (6.0.2)\n",
            "Requirement already satisfied: mmh3>=4.0.1 in /usr/local/lib/python3.11/dist-packages (from chromadb>=0.4.22->crewai_tools) (5.1.0)\n",
            "Requirement already satisfied: orjson>=3.9.12 in /usr/local/lib/python3.11/dist-packages (from chromadb>=0.4.22->crewai_tools) (3.10.18)\n",
            "Requirement already satisfied: httpx>=0.27.0 in /usr/local/lib/python3.11/dist-packages (from chromadb>=0.4.22->crewai_tools) (0.28.1)\n",
            "Requirement already satisfied: rich>=10.11.0 in /usr/local/lib/python3.11/dist-packages (from chromadb>=0.4.22->crewai_tools) (13.9.4)\n",
            "Requirement already satisfied: appdirs>=1.4.4 in /usr/local/lib/python3.11/dist-packages (from crewai>=0.118.0->crewai_tools) (1.4.4)\n",
            "Requirement already satisfied: auth0-python>=4.7.1 in /usr/local/lib/python3.11/dist-packages (from crewai>=0.118.0->crewai_tools) (4.9.0)\n",
            "Requirement already satisfied: blinker>=1.9.0 in /usr/local/lib/python3.11/dist-packages (from crewai>=0.118.0->crewai_tools) (1.9.0)\n",
            "Requirement already satisfied: instructor>=1.3.3 in /usr/local/lib/python3.11/dist-packages (from crewai>=0.118.0->crewai_tools) (1.8.1)\n",
            "Requirement already satisfied: json-repair>=0.25.2 in /usr/local/lib/python3.11/dist-packages (from crewai>=0.118.0->crewai_tools) (0.44.1)\n",
            "Requirement already satisfied: json5>=0.10.0 in /usr/local/lib/python3.11/dist-packages (from crewai>=0.118.0->crewai_tools) (0.12.0)\n",
            "Requirement already satisfied: jsonref>=1.1.0 in /usr/local/lib/python3.11/dist-packages (from crewai>=0.118.0->crewai_tools) (1.1.0)\n",
            "Requirement already satisfied: litellm==1.68.0 in /usr/local/lib/python3.11/dist-packages (from crewai>=0.118.0->crewai_tools) (1.68.0)\n",
            "Requirement already satisfied: openpyxl>=3.1.5 in /usr/local/lib/python3.11/dist-packages (from crewai>=0.118.0->crewai_tools) (3.1.5)\n",
            "Requirement already satisfied: opentelemetry-exporter-otlp-proto-http>=1.30.0 in /usr/local/lib/python3.11/dist-packages (from crewai>=0.118.0->crewai_tools) (1.33.0)\n",
            "Requirement already satisfied: pdfplumber>=0.11.4 in /usr/local/lib/python3.11/dist-packages (from crewai>=0.118.0->crewai_tools) (0.11.6)\n",
            "Requirement already satisfied: python-dotenv>=1.0.0 in /usr/local/lib/python3.11/dist-packages (from crewai>=0.118.0->crewai_tools) (1.1.0)\n",
            "Requirement already satisfied: pyvis>=0.3.2 in /usr/local/lib/python3.11/dist-packages (from crewai>=0.118.0->crewai_tools) (0.3.2)\n",
            "Requirement already satisfied: regex>=2024.9.11 in /usr/local/lib/python3.11/dist-packages (from crewai>=0.118.0->crewai_tools) (2024.11.6)\n",
            "Requirement already satisfied: tomli-w>=1.1.0 in /usr/local/lib/python3.11/dist-packages (from crewai>=0.118.0->crewai_tools) (1.2.0)\n",
            "Requirement already satisfied: tomli>=2.0.2 in /usr/local/lib/python3.11/dist-packages (from crewai>=0.118.0->crewai_tools) (2.2.1)\n",
            "Requirement already satisfied: uv>=0.4.25 in /usr/local/lib/python3.11/dist-packages (from crewai>=0.118.0->crewai_tools) (0.7.3)\n",
            "Requirement already satisfied: aiohttp in /usr/local/lib/python3.11/dist-packages (from litellm==1.68.0->crewai>=0.118.0->crewai_tools) (3.11.15)\n",
            "Requirement already satisfied: importlib-metadata>=6.8.0 in /usr/local/lib/python3.11/dist-packages (from litellm==1.68.0->crewai>=0.118.0->crewai_tools) (8.6.1)\n",
            "Requirement already satisfied: jinja2<4.0.0,>=3.1.2 in /usr/local/lib/python3.11/dist-packages (from litellm==1.68.0->crewai>=0.118.0->crewai_tools) (3.1.6)\n",
            "Requirement already satisfied: jsonschema<5.0.0,>=4.22.0 in /usr/local/lib/python3.11/dist-packages (from litellm==1.68.0->crewai>=0.118.0->crewai_tools) (4.23.0)\n",
            "Requirement already satisfied: tiktoken>=0.7.0 in /usr/local/lib/python3.11/dist-packages (from litellm==1.68.0->crewai>=0.118.0->crewai_tools) (0.9.0)\n",
            "Requirement already satisfied: urllib3>=1.26.0 in /usr/local/lib/python3.11/dist-packages (from docker>=7.1.0->crewai_tools) (2.4.0)\n",
            "Requirement already satisfied: alembic<2.0.0,>=1.13.1 in /usr/local/lib/python3.11/dist-packages (from embedchain>=0.1.114->crewai_tools) (1.15.2)\n",
            "Requirement already satisfied: beautifulsoup4<5.0.0,>=4.12.2 in /usr/local/lib/python3.11/dist-packages (from embedchain>=0.1.114->crewai_tools) (4.13.4)\n",
            "Requirement already satisfied: gptcache<0.2.0,>=0.1.43 in /usr/local/lib/python3.11/dist-packages (from embedchain>=0.1.114->crewai_tools) (0.1.44)\n",
            "Requirement already satisfied: langchain<0.4.0,>=0.3.1 in /usr/local/lib/python3.11/dist-packages (from embedchain>=0.1.114->crewai_tools) (0.3.25)\n",
            "Requirement already satisfied: langchain-cohere<0.4.0,>=0.3.0 in /usr/local/lib/python3.11/dist-packages (from embedchain>=0.1.114->crewai_tools) (0.3.5)\n",
            "Requirement already satisfied: langchain-community<0.4.0,>=0.3.1 in /usr/local/lib/python3.11/dist-packages (from embedchain>=0.1.114->crewai_tools) (0.3.24)\n",
            "Requirement already satisfied: langchain-openai<0.3.0,>=0.2.1 in /usr/local/lib/python3.11/dist-packages (from embedchain>=0.1.114->crewai_tools) (0.2.14)\n",
            "Requirement already satisfied: langsmith<0.4.0,>=0.3.18 in /usr/local/lib/python3.11/dist-packages (from embedchain>=0.1.114->crewai_tools) (0.3.42)\n",
            "Requirement already satisfied: mem0ai<0.2.0,>=0.1.54 in /usr/local/lib/python3.11/dist-packages (from embedchain>=0.1.114->crewai_tools) (0.1.98)\n",
            "Requirement already satisfied: pypdf<6.0.0,>=5.0.0 in /usr/local/lib/python3.11/dist-packages (from embedchain>=0.1.114->crewai_tools) (5.5.0)\n",
            "Requirement already satisfied: pysbd<0.4.0,>=0.3.4 in /usr/local/lib/python3.11/dist-packages (from embedchain>=0.1.114->crewai_tools) (0.3.4)\n",
            "Requirement already satisfied: schema<0.8.0,>=0.7.5 in /usr/local/lib/python3.11/dist-packages (from embedchain>=0.1.114->crewai_tools) (0.7.7)\n",
            "Requirement already satisfied: sqlalchemy<3.0.0,>=2.0.27 in /usr/local/lib/python3.11/dist-packages (from embedchain>=0.1.114->crewai_tools) (2.0.40)\n",
            "Requirement already satisfied: deprecation in /usr/local/lib/python3.11/dist-packages (from lancedb>=0.5.4->crewai_tools) (2.1.0)\n",
            "Requirement already satisfied: packaging in /usr/local/lib/python3.11/dist-packages (from lancedb>=0.5.4->crewai_tools) (24.2)\n",
            "Requirement already satisfied: pyarrow>=14 in /usr/local/lib/python3.11/dist-packages (from lancedb>=0.5.4->crewai_tools) (18.1.0)\n",
            "Requirement already satisfied: anyio<5,>=3.5.0 in /usr/local/lib/python3.11/dist-packages (from openai>=1.12.0->crewai_tools) (4.9.0)\n",
            "Requirement already satisfied: distro<2,>=1.7.0 in /usr/local/lib/python3.11/dist-packages (from openai>=1.12.0->crewai_tools) (1.9.0)\n",
            "Requirement already satisfied: jiter<1,>=0.4.0 in /usr/local/lib/python3.11/dist-packages (from openai>=1.12.0->crewai_tools) (0.8.2)\n",
            "Requirement already satisfied: sniffio in /usr/local/lib/python3.11/dist-packages (from openai>=1.12.0->crewai_tools) (1.3.1)\n",
            "Requirement already satisfied: annotated-types>=0.6.0 in /usr/local/lib/python3.11/dist-packages (from pydantic>=2.6.1->crewai_tools) (0.7.0)\n",
            "Requirement already satisfied: pydantic-core==2.33.2 in /usr/local/lib/python3.11/dist-packages (from pydantic>=2.6.1->crewai_tools) (2.33.2)\n",
            "Requirement already satisfied: typing-inspection>=0.4.0 in /usr/local/lib/python3.11/dist-packages (from pydantic>=2.6.1->crewai_tools) (0.4.0)\n",
            "Requirement already satisfied: nodeenv>=1.6.0 in /usr/local/lib/python3.11/dist-packages (from pyright>=1.1.350->crewai_tools) (1.9.1)\n",
            "Requirement already satisfied: charset-normalizer<4,>=2 in /usr/local/lib/python3.11/dist-packages (from requests>=2.31.0->crewai_tools) (3.4.2)\n",
            "Requirement already satisfied: idna<4,>=2.5 in /usr/local/lib/python3.11/dist-packages (from requests>=2.31.0->crewai_tools) (3.10)\n",
            "Requirement already satisfied: certifi>=2017.4.17 in /usr/local/lib/python3.11/dist-packages (from requests>=2.31.0->crewai_tools) (2025.4.26)\n",
            "Requirement already satisfied: Mako in /usr/lib/python3/dist-packages (from alembic<2.0.0,>=1.13.1->embedchain>=0.1.114->crewai_tools) (1.1.3)\n",
            "Requirement already satisfied: cryptography>=43.0.1 in /usr/local/lib/python3.11/dist-packages (from auth0-python>=4.7.1->crewai>=0.118.0->crewai_tools) (43.0.3)\n",
            "Requirement already satisfied: pyjwt>=2.8.0 in /usr/local/lib/python3.11/dist-packages (from auth0-python>=4.7.1->crewai>=0.118.0->crewai_tools) (2.10.1)\n",
            "Requirement already satisfied: soupsieve>1.2 in /usr/local/lib/python3.11/dist-packages (from beautifulsoup4<5.0.0,>=4.12.2->embedchain>=0.1.114->crewai_tools) (2.7)\n",
            "Requirement already satisfied: pyproject_hooks in /usr/local/lib/python3.11/dist-packages (from build>=1.0.3->chromadb>=0.4.22->crewai_tools) (1.2.0)\n",
            "Requirement already satisfied: starlette<0.46.0,>=0.40.0 in /usr/local/lib/python3.11/dist-packages (from fastapi>=0.95.2->chromadb>=0.4.22->crewai_tools) (0.45.3)\n",
            "Requirement already satisfied: cachetools in /usr/local/lib/python3.11/dist-packages (from gptcache<0.2.0,>=0.1.43->embedchain>=0.1.114->crewai_tools) (5.5.2)\n",
            "Requirement already satisfied: httpcore==1.* in /usr/local/lib/python3.11/dist-packages (from httpx>=0.27.0->chromadb>=0.4.22->crewai_tools) (1.0.9)\n",
            "Requirement already satisfied: h11>=0.16 in /usr/local/lib/python3.11/dist-packages (from httpcore==1.*->httpx>=0.27.0->chromadb>=0.4.22->crewai_tools) (0.16.0)\n",
            "Requirement already satisfied: docstring-parser<1.0,>=0.16 in /usr/local/lib/python3.11/dist-packages (from instructor>=1.3.3->crewai>=0.118.0->crewai_tools) (0.16)\n",
            "Requirement already satisfied: six>=1.9.0 in /usr/local/lib/python3.11/dist-packages (from kubernetes>=28.1.0->chromadb>=0.4.22->crewai_tools) (1.17.0)\n",
            "Requirement already satisfied: python-dateutil>=2.5.3 in /usr/local/lib/python3.11/dist-packages (from kubernetes>=28.1.0->chromadb>=0.4.22->crewai_tools) (2.9.0.post0)\n",
            "Requirement already satisfied: google-auth>=1.0.1 in /usr/local/lib/python3.11/dist-packages (from kubernetes>=28.1.0->chromadb>=0.4.22->crewai_tools) (2.38.0)\n",
            "Requirement already satisfied: websocket-client!=0.40.0,!=0.41.*,!=0.42.*,>=0.32.0 in /usr/local/lib/python3.11/dist-packages (from kubernetes>=28.1.0->chromadb>=0.4.22->crewai_tools) (1.8.0)\n",
            "Requirement already satisfied: requests-oauthlib in /usr/local/lib/python3.11/dist-packages (from kubernetes>=28.1.0->chromadb>=0.4.22->crewai_tools) (2.0.0)\n",
            "Requirement already satisfied: oauthlib>=3.2.2 in /usr/local/lib/python3.11/dist-packages (from kubernetes>=28.1.0->chromadb>=0.4.22->crewai_tools) (3.2.2)\n",
            "Requirement already satisfied: durationpy>=0.7 in /usr/local/lib/python3.11/dist-packages (from kubernetes>=28.1.0->chromadb>=0.4.22->crewai_tools) (0.9)\n",
            "Requirement already satisfied: langchain-core<1.0.0,>=0.3.58 in /usr/local/lib/python3.11/dist-packages (from langchain<0.4.0,>=0.3.1->embedchain>=0.1.114->crewai_tools) (0.3.59)\n",
            "Requirement already satisfied: langchain-text-splitters<1.0.0,>=0.3.8 in /usr/local/lib/python3.11/dist-packages (from langchain<0.4.0,>=0.3.1->embedchain>=0.1.114->crewai_tools) (0.3.8)\n",
            "Requirement already satisfied: cohere<6.0,>=5.5.6 in /usr/local/lib/python3.11/dist-packages (from langchain-cohere<0.4.0,>=0.3.0->embedchain>=0.1.114->crewai_tools) (5.15.0)\n",
            "Requirement already satisfied: langchain-experimental<0.4.0,>=0.3.0 in /usr/local/lib/python3.11/dist-packages (from langchain-cohere<0.4.0,>=0.3.0->embedchain>=0.1.114->crewai_tools) (0.3.4)\n",
            "Requirement already satisfied: pandas>=1.4.3 in /usr/local/lib/python3.11/dist-packages (from langchain-cohere<0.4.0,>=0.3.0->embedchain>=0.1.114->crewai_tools) (2.2.2)\n",
            "Requirement already satisfied: tabulate<0.10.0,>=0.9.0 in /usr/local/lib/python3.11/dist-packages (from langchain-cohere<0.4.0,>=0.3.0->embedchain>=0.1.114->crewai_tools) (0.9.0)\n",
            "Requirement already satisfied: dataclasses-json<0.7,>=0.5.7 in /usr/local/lib/python3.11/dist-packages (from langchain-community<0.4.0,>=0.3.1->embedchain>=0.1.114->crewai_tools) (0.6.7)\n",
            "Requirement already satisfied: pydantic-settings<3.0.0,>=2.4.0 in /usr/local/lib/python3.11/dist-packages (from langchain-community<0.4.0,>=0.3.1->embedchain>=0.1.114->crewai_tools) (2.9.1)\n",
            "Requirement already satisfied: httpx-sse<1.0.0,>=0.4.0 in /usr/local/lib/python3.11/dist-packages (from langchain-community<0.4.0,>=0.3.1->embedchain>=0.1.114->crewai_tools) (0.4.0)\n",
            "Requirement already satisfied: requests-toolbelt<2.0.0,>=1.0.0 in /usr/local/lib/python3.11/dist-packages (from langsmith<0.4.0,>=0.3.18->embedchain>=0.1.114->crewai_tools) (1.0.0)\n",
            "Requirement already satisfied: zstandard<0.24.0,>=0.23.0 in /usr/local/lib/python3.11/dist-packages (from langsmith<0.4.0,>=0.3.18->embedchain>=0.1.114->crewai_tools) (0.23.0)\n",
            "Requirement already satisfied: pytz<2025.0,>=2024.1 in /usr/local/lib/python3.11/dist-packages (from mem0ai<0.2.0,>=0.1.54->embedchain>=0.1.114->crewai_tools) (2024.2)\n",
            "Requirement already satisfied: qdrant-client<2.0.0,>=1.9.1 in /usr/local/lib/python3.11/dist-packages (from mem0ai<0.2.0,>=0.1.54->embedchain>=0.1.114->crewai_tools) (1.14.2)\n",
            "Requirement already satisfied: coloredlogs in /usr/local/lib/python3.11/dist-packages (from onnxruntime>=1.14.1->chromadb>=0.4.22->crewai_tools) (15.0.1)\n",
            "Requirement already satisfied: flatbuffers in /usr/local/lib/python3.11/dist-packages (from onnxruntime>=1.14.1->chromadb>=0.4.22->crewai_tools) (25.2.10)\n",
            "Requirement already satisfied: protobuf in /usr/local/lib/python3.11/dist-packages (from onnxruntime>=1.14.1->chromadb>=0.4.22->crewai_tools) (5.29.4)\n",
            "Requirement already satisfied: sympy in /usr/local/lib/python3.11/dist-packages (from onnxruntime>=1.14.1->chromadb>=0.4.22->crewai_tools) (1.13.1)\n",
            "Requirement already satisfied: et-xmlfile in /usr/local/lib/python3.11/dist-packages (from openpyxl>=3.1.5->crewai>=0.118.0->crewai_tools) (2.0.0)\n",
            "Requirement already satisfied: deprecated>=1.2.6 in /usr/local/lib/python3.11/dist-packages (from opentelemetry-api>=1.2.0->chromadb>=0.4.22->crewai_tools) (1.2.18)\n",
            "Requirement already satisfied: googleapis-common-protos~=1.52 in /usr/local/lib/python3.11/dist-packages (from opentelemetry-exporter-otlp-proto-grpc>=1.2.0->chromadb>=0.4.22->crewai_tools) (1.70.0)\n",
            "Requirement already satisfied: opentelemetry-exporter-otlp-proto-common==1.33.0 in /usr/local/lib/python3.11/dist-packages (from opentelemetry-exporter-otlp-proto-grpc>=1.2.0->chromadb>=0.4.22->crewai_tools) (1.33.0)\n",
            "Requirement already satisfied: opentelemetry-proto==1.33.0 in /usr/local/lib/python3.11/dist-packages (from opentelemetry-exporter-otlp-proto-grpc>=1.2.0->chromadb>=0.4.22->crewai_tools) (1.33.0)\n",
            "Requirement already satisfied: opentelemetry-instrumentation-asgi==0.54b0 in /usr/local/lib/python3.11/dist-packages (from opentelemetry-instrumentation-fastapi>=0.41b0->chromadb>=0.4.22->crewai_tools) (0.54b0)\n",
            "Requirement already satisfied: opentelemetry-instrumentation==0.54b0 in /usr/local/lib/python3.11/dist-packages (from opentelemetry-instrumentation-fastapi>=0.41b0->chromadb>=0.4.22->crewai_tools) (0.54b0)\n",
            "Requirement already satisfied: opentelemetry-semantic-conventions==0.54b0 in /usr/local/lib/python3.11/dist-packages (from opentelemetry-instrumentation-fastapi>=0.41b0->chromadb>=0.4.22->crewai_tools) (0.54b0)\n",
            "Requirement already satisfied: opentelemetry-util-http==0.54b0 in /usr/local/lib/python3.11/dist-packages (from opentelemetry-instrumentation-fastapi>=0.41b0->chromadb>=0.4.22->crewai_tools) (0.54b0)\n",
            "Requirement already satisfied: wrapt<2.0.0,>=1.0.0 in /usr/local/lib/python3.11/dist-packages (from opentelemetry-instrumentation==0.54b0->opentelemetry-instrumentation-fastapi>=0.41b0->chromadb>=0.4.22->crewai_tools) (1.17.2)\n",
            "Requirement already satisfied: asgiref~=3.0 in /usr/local/lib/python3.11/dist-packages (from opentelemetry-instrumentation-asgi==0.54b0->opentelemetry-instrumentation-fastapi>=0.41b0->chromadb>=0.4.22->crewai_tools) (3.8.1)\n",
            "Requirement already satisfied: pdfminer.six==20250327 in /usr/local/lib/python3.11/dist-packages (from pdfplumber>=0.11.4->crewai>=0.118.0->crewai_tools) (20250327)\n",
            "Requirement already satisfied: Pillow>=9.1 in /usr/local/lib/python3.11/dist-packages (from pdfplumber>=0.11.4->crewai>=0.118.0->crewai_tools) (11.2.1)\n",
            "Requirement already satisfied: pypdfium2>=4.18.0 in /usr/local/lib/python3.11/dist-packages (from pdfplumber>=0.11.4->crewai>=0.118.0->crewai_tools) (4.30.1)\n",
            "Requirement already satisfied: monotonic>=1.5 in /usr/local/lib/python3.11/dist-packages (from posthog>=2.4.0->chromadb>=0.4.22->crewai_tools) (1.6)\n",
            "Requirement already satisfied: backoff>=1.10.0 in /usr/local/lib/python3.11/dist-packages (from posthog>=2.4.0->chromadb>=0.4.22->crewai_tools) (2.2.1)\n",
            "Requirement already satisfied: ipython>=5.3.0 in /usr/local/lib/python3.11/dist-packages (from pyvis>=0.3.2->crewai>=0.118.0->crewai_tools) (7.34.0)\n",
            "Requirement already satisfied: jsonpickle>=1.4.1 in /usr/local/lib/python3.11/dist-packages (from pyvis>=0.3.2->crewai>=0.118.0->crewai_tools) (4.0.5)\n",
            "Requirement already satisfied: networkx>=1.11 in /usr/local/lib/python3.11/dist-packages (from pyvis>=0.3.2->crewai>=0.118.0->crewai_tools) (3.4.2)\n",
            "Requirement already satisfied: markdown-it-py>=2.2.0 in /usr/local/lib/python3.11/dist-packages (from rich>=10.11.0->chromadb>=0.4.22->crewai_tools) (3.0.0)\n",
            "Requirement already satisfied: pygments<3.0.0,>=2.13.0 in /usr/local/lib/python3.11/dist-packages (from rich>=10.11.0->chromadb>=0.4.22->crewai_tools) (2.19.1)\n",
            "Requirement already satisfied: greenlet>=1 in /usr/local/lib/python3.11/dist-packages (from sqlalchemy<3.0.0,>=2.0.27->embedchain>=0.1.114->crewai_tools) (3.2.1)\n",
            "Requirement already satisfied: huggingface-hub<1.0,>=0.16.4 in /usr/local/lib/python3.11/dist-packages (from tokenizers<=0.20.3,>=0.13.2->chromadb>=0.4.22->crewai_tools) (0.31.1)\n",
            "Requirement already satisfied: shellingham>=1.3.0 in /usr/local/lib/python3.11/dist-packages (from typer>=0.9.0->chromadb>=0.4.22->crewai_tools) (1.5.4)\n",
            "Requirement already satisfied: httptools>=0.6.3 in /usr/local/lib/python3.11/dist-packages (from uvicorn[standard]>=0.18.3->chromadb>=0.4.22->crewai_tools) (0.6.4)\n",
            "Requirement already satisfied: uvloop!=0.15.0,!=0.15.1,>=0.14.0 in /usr/local/lib/python3.11/dist-packages (from uvicorn[standard]>=0.18.3->chromadb>=0.4.22->crewai_tools) (0.21.0)\n",
            "Requirement already satisfied: watchfiles>=0.13 in /usr/local/lib/python3.11/dist-packages (from uvicorn[standard]>=0.18.3->chromadb>=0.4.22->crewai_tools) (1.0.5)\n",
            "Requirement already satisfied: websockets>=10.4 in /usr/local/lib/python3.11/dist-packages (from uvicorn[standard]>=0.18.3->chromadb>=0.4.22->crewai_tools) (15.0.1)\n",
            "Requirement already satisfied: aiohappyeyeballs>=2.3.0 in /usr/local/lib/python3.11/dist-packages (from aiohttp->litellm==1.68.0->crewai>=0.118.0->crewai_tools) (2.6.1)\n",
            "Requirement already satisfied: aiosignal>=1.1.2 in /usr/local/lib/python3.11/dist-packages (from aiohttp->litellm==1.68.0->crewai>=0.118.0->crewai_tools) (1.3.2)\n",
            "Requirement already satisfied: attrs>=17.3.0 in /usr/local/lib/python3.11/dist-packages (from aiohttp->litellm==1.68.0->crewai>=0.118.0->crewai_tools) (25.3.0)\n",
            "Requirement already satisfied: frozenlist>=1.1.1 in /usr/local/lib/python3.11/dist-packages (from aiohttp->litellm==1.68.0->crewai>=0.118.0->crewai_tools) (1.6.0)\n",
            "Requirement already satisfied: multidict<7.0,>=4.5 in /usr/local/lib/python3.11/dist-packages (from aiohttp->litellm==1.68.0->crewai>=0.118.0->crewai_tools) (6.4.3)\n",
            "Requirement already satisfied: propcache>=0.2.0 in /usr/local/lib/python3.11/dist-packages (from aiohttp->litellm==1.68.0->crewai>=0.118.0->crewai_tools) (0.3.1)\n",
            "Requirement already satisfied: yarl<2.0,>=1.17.0 in /usr/local/lib/python3.11/dist-packages (from aiohttp->litellm==1.68.0->crewai>=0.118.0->crewai_tools) (1.20.0)\n",
            "Requirement already satisfied: fastavro<2.0.0,>=1.9.4 in /usr/local/lib/python3.11/dist-packages (from cohere<6.0,>=5.5.6->langchain-cohere<0.4.0,>=0.3.0->embedchain>=0.1.114->crewai_tools) (1.10.0)\n",
            "Requirement already satisfied: types-requests<3.0.0,>=2.0.0 in /usr/local/lib/python3.11/dist-packages (from cohere<6.0,>=5.5.6->langchain-cohere<0.4.0,>=0.3.0->embedchain>=0.1.114->crewai_tools) (2.32.0.20250328)\n",
            "Requirement already satisfied: cffi>=1.12 in /usr/local/lib/python3.11/dist-packages (from cryptography>=43.0.1->auth0-python>=4.7.1->crewai>=0.118.0->crewai_tools) (1.17.1)\n",
            "Requirement already satisfied: marshmallow<4.0.0,>=3.18.0 in /usr/local/lib/python3.11/dist-packages (from dataclasses-json<0.7,>=0.5.7->langchain-community<0.4.0,>=0.3.1->embedchain>=0.1.114->crewai_tools) (3.26.1)\n",
            "Requirement already satisfied: typing-inspect<1,>=0.4.0 in /usr/local/lib/python3.11/dist-packages (from dataclasses-json<0.7,>=0.5.7->langchain-community<0.4.0,>=0.3.1->embedchain>=0.1.114->crewai_tools) (0.9.0)\n",
            "Requirement already satisfied: pyasn1-modules>=0.2.1 in /usr/local/lib/python3.11/dist-packages (from google-auth>=1.0.1->kubernetes>=28.1.0->chromadb>=0.4.22->crewai_tools) (0.4.2)\n",
            "Requirement already satisfied: rsa<5,>=3.1.4 in /usr/local/lib/python3.11/dist-packages (from google-auth>=1.0.1->kubernetes>=28.1.0->chromadb>=0.4.22->crewai_tools) (4.9.1)\n",
            "Requirement already satisfied: filelock in /usr/local/lib/python3.11/dist-packages (from huggingface-hub<1.0,>=0.16.4->tokenizers<=0.20.3,>=0.13.2->chromadb>=0.4.22->crewai_tools) (3.18.0)\n",
            "Requirement already satisfied: fsspec>=2023.5.0 in /usr/local/lib/python3.11/dist-packages (from huggingface-hub<1.0,>=0.16.4->tokenizers<=0.20.3,>=0.13.2->chromadb>=0.4.22->crewai_tools) (2025.3.2)\n",
            "Requirement already satisfied: hf-xet<2.0.0,>=1.1.0 in /usr/local/lib/python3.11/dist-packages (from huggingface-hub<1.0,>=0.16.4->tokenizers<=0.20.3,>=0.13.2->chromadb>=0.4.22->crewai_tools) (1.1.0)\n",
            "Requirement already satisfied: zipp>=3.20 in /usr/local/lib/python3.11/dist-packages (from importlib-metadata>=6.8.0->litellm==1.68.0->crewai>=0.118.0->crewai_tools) (3.21.0)\n",
            "Requirement already satisfied: setuptools>=18.5 in /usr/local/lib/python3.11/dist-packages (from ipython>=5.3.0->pyvis>=0.3.2->crewai>=0.118.0->crewai_tools) (75.2.0)\n",
            "Requirement already satisfied: jedi>=0.16 in /usr/local/lib/python3.11/dist-packages (from ipython>=5.3.0->pyvis>=0.3.2->crewai>=0.118.0->crewai_tools) (0.19.2)\n",
            "Requirement already satisfied: decorator in /usr/local/lib/python3.11/dist-packages (from ipython>=5.3.0->pyvis>=0.3.2->crewai>=0.118.0->crewai_tools) (4.4.2)\n",
            "Requirement already satisfied: pickleshare in /usr/local/lib/python3.11/dist-packages (from ipython>=5.3.0->pyvis>=0.3.2->crewai>=0.118.0->crewai_tools) (0.7.5)\n",
            "Requirement already satisfied: traitlets>=4.2 in /usr/local/lib/python3.11/dist-packages (from ipython>=5.3.0->pyvis>=0.3.2->crewai>=0.118.0->crewai_tools) (5.7.1)\n",
            "Requirement already satisfied: prompt-toolkit!=3.0.0,!=3.0.1,<3.1.0,>=2.0.0 in /usr/local/lib/python3.11/dist-packages (from ipython>=5.3.0->pyvis>=0.3.2->crewai>=0.118.0->crewai_tools) (3.0.51)\n",
            "Requirement already satisfied: backcall in /usr/local/lib/python3.11/dist-packages (from ipython>=5.3.0->pyvis>=0.3.2->crewai>=0.118.0->crewai_tools) (0.2.0)\n",
            "Requirement already satisfied: matplotlib-inline in /usr/local/lib/python3.11/dist-packages (from ipython>=5.3.0->pyvis>=0.3.2->crewai>=0.118.0->crewai_tools) (0.1.7)\n",
            "Requirement already satisfied: pexpect>4.3 in /usr/local/lib/python3.11/dist-packages (from ipython>=5.3.0->pyvis>=0.3.2->crewai>=0.118.0->crewai_tools) (4.9.0)\n",
            "Requirement already satisfied: MarkupSafe>=2.0 in /usr/local/lib/python3.11/dist-packages (from jinja2<4.0.0,>=3.1.2->litellm==1.68.0->crewai>=0.118.0->crewai_tools) (3.0.2)\n",
            "Requirement already satisfied: jsonschema-specifications>=2023.03.6 in /usr/local/lib/python3.11/dist-packages (from jsonschema<5.0.0,>=4.22.0->litellm==1.68.0->crewai>=0.118.0->crewai_tools) (2025.4.1)\n",
            "Requirement already satisfied: referencing>=0.28.4 in /usr/local/lib/python3.11/dist-packages (from jsonschema<5.0.0,>=4.22.0->litellm==1.68.0->crewai>=0.118.0->crewai_tools) (0.36.2)\n",
            "Requirement already satisfied: rpds-py>=0.7.1 in /usr/local/lib/python3.11/dist-packages (from jsonschema<5.0.0,>=4.22.0->litellm==1.68.0->crewai>=0.118.0->crewai_tools) (0.24.0)\n",
            "Requirement already satisfied: jsonpatch<2.0,>=1.33 in /usr/local/lib/python3.11/dist-packages (from langchain-core<1.0.0,>=0.3.58->langchain<0.4.0,>=0.3.1->embedchain>=0.1.114->crewai_tools) (1.33)\n",
            "Requirement already satisfied: mdurl~=0.1 in /usr/local/lib/python3.11/dist-packages (from markdown-it-py>=2.2.0->rich>=10.11.0->chromadb>=0.4.22->crewai_tools) (0.1.2)\n",
            "Requirement already satisfied: tzdata>=2022.7 in /usr/local/lib/python3.11/dist-packages (from pandas>=1.4.3->langchain-cohere<0.4.0,>=0.3.0->embedchain>=0.1.114->crewai_tools) (2025.2)\n",
            "Requirement already satisfied: portalocker<3.0.0,>=2.7.0 in /usr/local/lib/python3.11/dist-packages (from qdrant-client<2.0.0,>=1.9.1->mem0ai<0.2.0,>=0.1.54->embedchain>=0.1.114->crewai_tools) (2.10.1)\n",
            "Requirement already satisfied: humanfriendly>=9.1 in /usr/local/lib/python3.11/dist-packages (from coloredlogs->onnxruntime>=1.14.1->chromadb>=0.4.22->crewai_tools) (10.0)\n",
            "Requirement already satisfied: mpmath<1.4,>=1.1.0 in /usr/local/lib/python3.11/dist-packages (from sympy->onnxruntime>=1.14.1->chromadb>=0.4.22->crewai_tools) (1.3.0)\n",
            "Requirement already satisfied: pycparser in /usr/local/lib/python3.11/dist-packages (from cffi>=1.12->cryptography>=43.0.1->auth0-python>=4.7.1->crewai>=0.118.0->crewai_tools) (2.22)\n",
            "Requirement already satisfied: h2<5,>=3 in /usr/local/lib/python3.11/dist-packages (from httpx[http2]>=0.20.0->qdrant-client<2.0.0,>=1.9.1->mem0ai<0.2.0,>=0.1.54->embedchain>=0.1.114->crewai_tools) (4.2.0)\n",
            "Requirement already satisfied: parso<0.9.0,>=0.8.4 in /usr/local/lib/python3.11/dist-packages (from jedi>=0.16->ipython>=5.3.0->pyvis>=0.3.2->crewai>=0.118.0->crewai_tools) (0.8.4)\n",
            "Requirement already satisfied: jsonpointer>=1.9 in /usr/local/lib/python3.11/dist-packages (from jsonpatch<2.0,>=1.33->langchain-core<1.0.0,>=0.3.58->langchain<0.4.0,>=0.3.1->embedchain>=0.1.114->crewai_tools) (3.0.0)\n",
            "Requirement already satisfied: ptyprocess>=0.5 in /usr/local/lib/python3.11/dist-packages (from pexpect>4.3->ipython>=5.3.0->pyvis>=0.3.2->crewai>=0.118.0->crewai_tools) (0.7.0)\n",
            "Requirement already satisfied: wcwidth in /usr/local/lib/python3.11/dist-packages (from prompt-toolkit!=3.0.0,!=3.0.1,<3.1.0,>=2.0.0->ipython>=5.3.0->pyvis>=0.3.2->crewai>=0.118.0->crewai_tools) (0.2.13)\n",
            "Requirement already satisfied: pyasn1<0.7.0,>=0.6.1 in /usr/local/lib/python3.11/dist-packages (from pyasn1-modules>=0.2.1->google-auth>=1.0.1->kubernetes>=28.1.0->chromadb>=0.4.22->crewai_tools) (0.6.1)\n",
            "Requirement already satisfied: mypy-extensions>=0.3.0 in /usr/local/lib/python3.11/dist-packages (from typing-inspect<1,>=0.4.0->dataclasses-json<0.7,>=0.5.7->langchain-community<0.4.0,>=0.3.1->embedchain>=0.1.114->crewai_tools) (1.1.0)\n",
            "Requirement already satisfied: hyperframe<7,>=6.1 in /usr/local/lib/python3.11/dist-packages (from h2<5,>=3->httpx[http2]>=0.20.0->qdrant-client<2.0.0,>=1.9.1->mem0ai<0.2.0,>=0.1.54->embedchain>=0.1.114->crewai_tools) (6.1.0)\n",
            "Requirement already satisfied: hpack<5,>=4.1 in /usr/local/lib/python3.11/dist-packages (from h2<5,>=3->httpx[http2]>=0.20.0->qdrant-client<2.0.0,>=1.9.1->mem0ai<0.2.0,>=0.1.54->embedchain>=0.1.114->crewai_tools) (4.1.0)\n"
          ]
        }
      ]
    },
    {
      "cell_type": "code",
      "source": [
        "from google.colab import userdata"
      ],
      "metadata": {
        "id": "XfZChWDtmeRF"
      },
      "execution_count": 23,
      "outputs": []
    },
    {
      "cell_type": "code",
      "source": [
        "!pip install langchain-groq"
      ],
      "metadata": {
        "colab": {
          "base_uri": "https://localhost:8080/"
        },
        "id": "IWNLVE_AqCKq",
        "outputId": "6a381e9a-6fb5-4f9b-f247-a6733f47db2b"
      },
      "execution_count": 24,
      "outputs": [
        {
          "output_type": "stream",
          "name": "stdout",
          "text": [
            "Requirement already satisfied: langchain-groq in /usr/local/lib/python3.11/dist-packages (0.3.2)\n",
            "Requirement already satisfied: langchain-core<1.0.0,>=0.3.49 in /usr/local/lib/python3.11/dist-packages (from langchain-groq) (0.3.59)\n",
            "Requirement already satisfied: groq<1,>=0.4.1 in /usr/local/lib/python3.11/dist-packages (from langchain-groq) (0.24.0)\n",
            "Requirement already satisfied: anyio<5,>=3.5.0 in /usr/local/lib/python3.11/dist-packages (from groq<1,>=0.4.1->langchain-groq) (4.9.0)\n",
            "Requirement already satisfied: distro<2,>=1.7.0 in /usr/local/lib/python3.11/dist-packages (from groq<1,>=0.4.1->langchain-groq) (1.9.0)\n",
            "Requirement already satisfied: httpx<1,>=0.23.0 in /usr/local/lib/python3.11/dist-packages (from groq<1,>=0.4.1->langchain-groq) (0.28.1)\n",
            "Requirement already satisfied: pydantic<3,>=1.9.0 in /usr/local/lib/python3.11/dist-packages (from groq<1,>=0.4.1->langchain-groq) (2.11.4)\n",
            "Requirement already satisfied: sniffio in /usr/local/lib/python3.11/dist-packages (from groq<1,>=0.4.1->langchain-groq) (1.3.1)\n",
            "Requirement already satisfied: typing-extensions<5,>=4.10 in /usr/local/lib/python3.11/dist-packages (from groq<1,>=0.4.1->langchain-groq) (4.13.2)\n",
            "Requirement already satisfied: langsmith<0.4,>=0.1.125 in /usr/local/lib/python3.11/dist-packages (from langchain-core<1.0.0,>=0.3.49->langchain-groq) (0.3.42)\n",
            "Requirement already satisfied: tenacity!=8.4.0,<10.0.0,>=8.1.0 in /usr/local/lib/python3.11/dist-packages (from langchain-core<1.0.0,>=0.3.49->langchain-groq) (9.1.2)\n",
            "Requirement already satisfied: jsonpatch<2.0,>=1.33 in /usr/local/lib/python3.11/dist-packages (from langchain-core<1.0.0,>=0.3.49->langchain-groq) (1.33)\n",
            "Requirement already satisfied: PyYAML>=5.3 in /usr/local/lib/python3.11/dist-packages (from langchain-core<1.0.0,>=0.3.49->langchain-groq) (6.0.2)\n",
            "Requirement already satisfied: packaging<25,>=23.2 in /usr/local/lib/python3.11/dist-packages (from langchain-core<1.0.0,>=0.3.49->langchain-groq) (24.2)\n",
            "Requirement already satisfied: idna>=2.8 in /usr/local/lib/python3.11/dist-packages (from anyio<5,>=3.5.0->groq<1,>=0.4.1->langchain-groq) (3.10)\n",
            "Requirement already satisfied: certifi in /usr/local/lib/python3.11/dist-packages (from httpx<1,>=0.23.0->groq<1,>=0.4.1->langchain-groq) (2025.4.26)\n",
            "Requirement already satisfied: httpcore==1.* in /usr/local/lib/python3.11/dist-packages (from httpx<1,>=0.23.0->groq<1,>=0.4.1->langchain-groq) (1.0.9)\n",
            "Requirement already satisfied: h11>=0.16 in /usr/local/lib/python3.11/dist-packages (from httpcore==1.*->httpx<1,>=0.23.0->groq<1,>=0.4.1->langchain-groq) (0.16.0)\n",
            "Requirement already satisfied: jsonpointer>=1.9 in /usr/local/lib/python3.11/dist-packages (from jsonpatch<2.0,>=1.33->langchain-core<1.0.0,>=0.3.49->langchain-groq) (3.0.0)\n",
            "Requirement already satisfied: orjson<4.0.0,>=3.9.14 in /usr/local/lib/python3.11/dist-packages (from langsmith<0.4,>=0.1.125->langchain-core<1.0.0,>=0.3.49->langchain-groq) (3.10.18)\n",
            "Requirement already satisfied: requests<3,>=2 in /usr/local/lib/python3.11/dist-packages (from langsmith<0.4,>=0.1.125->langchain-core<1.0.0,>=0.3.49->langchain-groq) (2.32.3)\n",
            "Requirement already satisfied: requests-toolbelt<2.0.0,>=1.0.0 in /usr/local/lib/python3.11/dist-packages (from langsmith<0.4,>=0.1.125->langchain-core<1.0.0,>=0.3.49->langchain-groq) (1.0.0)\n",
            "Requirement already satisfied: zstandard<0.24.0,>=0.23.0 in /usr/local/lib/python3.11/dist-packages (from langsmith<0.4,>=0.1.125->langchain-core<1.0.0,>=0.3.49->langchain-groq) (0.23.0)\n",
            "Requirement already satisfied: annotated-types>=0.6.0 in /usr/local/lib/python3.11/dist-packages (from pydantic<3,>=1.9.0->groq<1,>=0.4.1->langchain-groq) (0.7.0)\n",
            "Requirement already satisfied: pydantic-core==2.33.2 in /usr/local/lib/python3.11/dist-packages (from pydantic<3,>=1.9.0->groq<1,>=0.4.1->langchain-groq) (2.33.2)\n",
            "Requirement already satisfied: typing-inspection>=0.4.0 in /usr/local/lib/python3.11/dist-packages (from pydantic<3,>=1.9.0->groq<1,>=0.4.1->langchain-groq) (0.4.0)\n",
            "Requirement already satisfied: charset-normalizer<4,>=2 in /usr/local/lib/python3.11/dist-packages (from requests<3,>=2->langsmith<0.4,>=0.1.125->langchain-core<1.0.0,>=0.3.49->langchain-groq) (3.4.2)\n",
            "Requirement already satisfied: urllib3<3,>=1.21.1 in /usr/local/lib/python3.11/dist-packages (from requests<3,>=2->langsmith<0.4,>=0.1.125->langchain-core<1.0.0,>=0.3.49->langchain-groq) (2.4.0)\n"
          ]
        }
      ]
    },
    {
      "cell_type": "code",
      "source": [
        "print(ChatGroq( api_key=GROQ_API_KEY,\n",
        "              model = \"llama-3.3-70b-versatile\"\n",
        "              ))"
      ],
      "metadata": {
        "colab": {
          "base_uri": "https://localhost:8080/"
        },
        "id": "GWwVCx2DrpYU",
        "outputId": "d26021f9-ed01-4876-f3a8-9b9ad1b3f660"
      },
      "execution_count": 28,
      "outputs": [
        {
          "output_type": "stream",
          "name": "stdout",
          "text": [
            "client=<groq.resources.chat.completions.Completions object at 0x7f587d893bd0> async_client=<groq.resources.chat.completions.AsyncCompletions object at 0x7f587c497d10> model_name='llama-3.3-70b-versatile' model_kwargs={} groq_api_key=SecretStr('**********')\n"
          ]
        }
      ]
    },
    {
      "cell_type": "code",
      "source": [
        "import asyncio\n",
        "from typing import Any, Dict, List\n",
        "from langchain_groq import ChatGroq\n",
        "from crewai_tools import SerperDevTool\n",
        "from pydantic import BaseModel, Field\n",
        "\n",
        "from crewai.agent import Agent\n",
        "from crewai.flow.flow import Flow, listen, start\n",
        "\n",
        "\n",
        "# Define a structured output format\n",
        "class MarketAnalysis(BaseModel):\n",
        "    key_trends: List[str] = Field(description=\"List of identified market trends\")\n",
        "    market_size: str = Field(description=\"Estimated market size\")\n",
        "    competitors: List[str] = Field(description=\"Major competitors in the space\")\n",
        "\n",
        "\n",
        "# Define flow state\n",
        "class MarketResearchState(BaseModel):\n",
        "    product: str = \"\"\n",
        "    analysis: MarketAnalysis | None = None\n",
        "\n",
        "\n",
        "# Create a flow class\n",
        "class MarketResearchFlow(Flow[MarketResearchState]):\n",
        "\n",
        "    @start()\n",
        "    def initialize_research(self) -> Dict[str, Any]:\n",
        "        print(f\"Starting market research for {self.state.product}\")\n",
        "        return {\"product\": self.state.product}\n",
        "\n",
        "    @listen(initialize_research)\n",
        "    async def analyze_market(self) -> Dict[str, Any]:\n",
        "        # Create an Agent for market research\n",
        "        GROQ_API_KEY=userdata.get('GROQ_API_KEY')\n",
        "        analyst = Agent(\n",
        "            llm = ChatGroq(\n",
        "              api_key=GROQ_API_KEY,\n",
        "              model = \"llama-3.3-70b-versatile\"\n",
        "              ),\n",
        "            role=\"Market Research Analyst\",\n",
        "            goal=f\"Analyze the market for {self.state.product}\",\n",
        "            backstory=\"You are an experienced market analyst with expertise in \"\n",
        "            \"identifying market trends and opportunities.\",\n",
        "            tools=[SerperDevTool()],\n",
        "            verbose=True,\n",
        "        )\n",
        "\n",
        "        # Define the research query\n",
        "        query = f\"\"\"\n",
        "        Research the market for {self.state.product}. Include:\n",
        "        1. Key market trends\n",
        "        2. Market size\n",
        "        3. Major competitors\n",
        "\n",
        "        Format your response according to the specified structure.\n",
        "        \"\"\"\n",
        "\n",
        "        # Execute the analysis with structured output format\n",
        "        result = await analyst.kickoff_async(query, response_format=MarketAnalysis)\n",
        "        if result.pydantic:\n",
        "            print(\"result\", result.pydantic)\n",
        "        else:\n",
        "            print(\"result\", result)\n",
        "\n",
        "        # Return the analysis to update the state\n",
        "        return {\"analysis\": result.pydantic}\n",
        "\n",
        "    @listen(analyze_market)\n",
        "    def present_results(self, analysis) -> None:\n",
        "        print(\"\\nMarket Analysis Results\")\n",
        "        print(\"=====================\")\n",
        "\n",
        "        if isinstance(analysis, dict):\n",
        "            # If we got a dict with 'analysis' key, extract the actual analysis object\n",
        "            market_analysis = analysis.get(\"analysis\")\n",
        "        else:\n",
        "            market_analysis = analysis\n",
        "\n",
        "        if market_analysis and isinstance(market_analysis, MarketAnalysis):\n",
        "            print(\"\\nKey Market Trends:\")\n",
        "            for trend in market_analysis.key_trends:\n",
        "                print(f\"- {trend}\")\n",
        "\n",
        "            print(f\"\\nMarket Size: {market_analysis.market_size}\")\n",
        "\n",
        "            print(\"\\nMajor Competitors:\")\n",
        "            for competitor in market_analysis.competitors:\n",
        "                print(f\"- {competitor}\")\n",
        "        else:\n",
        "            print(\"No structured analysis data available.\")\n",
        "            print(\"Raw analysis:\", analysis)\n",
        "\n",
        "\n",
        "# Usage example\n",
        "async def run_flow():\n",
        "    flow = MarketResearchFlow()\n",
        "    result = await flow.kickoff_async(inputs={\"product\": \"AI-powered chatbots\"})\n",
        "    flow.plot(\"Market_Research_plot\")\n",
        "    return result\n",
        "\n",
        "\n",
        "# Run the flow\n",
        "if __name__ == \"__main__\":\n",
        "    asyncio.run(run_flow())"
      ],
      "metadata": {
        "colab": {
          "base_uri": "https://localhost:8080/",
          "height": 1000
        },
        "id": "zqBJQHjLgIx_",
        "outputId": "504e9b42-32e5-4061-ac4f-409c79f3c52d"
      },
      "execution_count": 27,
      "outputs": [
        {
          "output_type": "display_data",
          "data": {
            "text/plain": [
              "\u001b[34m╭─\u001b[0m\u001b[34m───────────────────────────────────────────────\u001b[0m\u001b[34m Flow Execution \u001b[0m\u001b[34m────────────────────────────────────────────────\u001b[0m\u001b[34m─╮\u001b[0m\n",
              "\u001b[34m│\u001b[0m                                                                                                                 \u001b[34m│\u001b[0m\n",
              "\u001b[34m│\u001b[0m  \u001b[1;34mStarting Flow Execution\u001b[0m                                                                                        \u001b[34m│\u001b[0m\n",
              "\u001b[34m│\u001b[0m  \u001b[37mName: \u001b[0m\u001b[34mMarketResearchFlow\u001b[0m                                                                                       \u001b[34m│\u001b[0m\n",
              "\u001b[34m│\u001b[0m  \u001b[37mID: \u001b[0m\u001b[34m7335683b-d7c0-4f95-99a2-ad10d36b6b52\u001b[0m                                                                       \u001b[34m│\u001b[0m\n",
              "\u001b[34m│\u001b[0m                                                                                                                 \u001b[34m│\u001b[0m\n",
              "\u001b[34m│\u001b[0m                                                                                                                 \u001b[34m│\u001b[0m\n",
              "\u001b[34m╰─────────────────────────────────────────────────────────────────────────────────────────────────────────────────╯\u001b[0m\n"
            ],
            "text/html": [
              "<pre style=\"white-space:pre;overflow-x:auto;line-height:normal;font-family:Menlo,'DejaVu Sans Mono',consolas,'Courier New',monospace\"><span style=\"color: #000080; text-decoration-color: #000080\">╭──────────────────────────────────────────────── Flow Execution ─────────────────────────────────────────────────╮</span>\n",
              "<span style=\"color: #000080; text-decoration-color: #000080\">│</span>                                                                                                                 <span style=\"color: #000080; text-decoration-color: #000080\">│</span>\n",
              "<span style=\"color: #000080; text-decoration-color: #000080\">│</span>  <span style=\"color: #000080; text-decoration-color: #000080; font-weight: bold\">Starting Flow Execution</span>                                                                                        <span style=\"color: #000080; text-decoration-color: #000080\">│</span>\n",
              "<span style=\"color: #000080; text-decoration-color: #000080\">│</span>  <span style=\"color: #c0c0c0; text-decoration-color: #c0c0c0\">Name: </span><span style=\"color: #000080; text-decoration-color: #000080\">MarketResearchFlow</span>                                                                                       <span style=\"color: #000080; text-decoration-color: #000080\">│</span>\n",
              "<span style=\"color: #000080; text-decoration-color: #000080\">│</span>  <span style=\"color: #c0c0c0; text-decoration-color: #c0c0c0\">ID: </span><span style=\"color: #000080; text-decoration-color: #000080\">7335683b-d7c0-4f95-99a2-ad10d36b6b52</span>                                                                       <span style=\"color: #000080; text-decoration-color: #000080\">│</span>\n",
              "<span style=\"color: #000080; text-decoration-color: #000080\">│</span>                                                                                                                 <span style=\"color: #000080; text-decoration-color: #000080\">│</span>\n",
              "<span style=\"color: #000080; text-decoration-color: #000080\">│</span>                                                                                                                 <span style=\"color: #000080; text-decoration-color: #000080\">│</span>\n",
              "<span style=\"color: #000080; text-decoration-color: #000080\">╰─────────────────────────────────────────────────────────────────────────────────────────────────────────────────╯</span>\n",
              "</pre>\n"
            ]
          },
          "metadata": {}
        },
        {
          "output_type": "display_data",
          "data": {
            "text/plain": [
              "\n"
            ],
            "text/html": [
              "<pre style=\"white-space:pre;overflow-x:auto;line-height:normal;font-family:Menlo,'DejaVu Sans Mono',consolas,'Courier New',monospace\">\n",
              "</pre>\n"
            ]
          },
          "metadata": {}
        },
        {
          "output_type": "display_data",
          "data": {
            "text/plain": [
              "\u001b[1;34m🌊 Flow: \u001b[0m\u001b[34mMarketResearchFlow\u001b[0m\n",
              "\u001b[37m    ID: \u001b[0m\u001b[34m7335683b-d7c0-4f95-99a2-ad10d36b6b52\u001b[0m\n",
              "└── \u001b[33m🧠 Starting Flow...\u001b[0m\n"
            ],
            "text/html": [
              "<pre style=\"white-space:pre;overflow-x:auto;line-height:normal;font-family:Menlo,'DejaVu Sans Mono',consolas,'Courier New',monospace\"><span style=\"color: #000080; text-decoration-color: #000080; font-weight: bold\">🌊 Flow: </span><span style=\"color: #000080; text-decoration-color: #000080\">MarketResearchFlow</span>\n",
              "<span style=\"color: #c0c0c0; text-decoration-color: #c0c0c0\">    ID: </span><span style=\"color: #000080; text-decoration-color: #000080\">7335683b-d7c0-4f95-99a2-ad10d36b6b52</span>\n",
              "└── <span style=\"color: #808000; text-decoration-color: #808000\">🧠 Starting Flow...</span>\n",
              "</pre>\n"
            ]
          },
          "metadata": {}
        },
        {
          "output_type": "display_data",
          "data": {
            "text/plain": [
              "\n"
            ],
            "text/html": [
              "<pre style=\"white-space:pre;overflow-x:auto;line-height:normal;font-family:Menlo,'DejaVu Sans Mono',consolas,'Courier New',monospace\">\n",
              "</pre>\n"
            ]
          },
          "metadata": {}
        },
        {
          "output_type": "stream",
          "name": "stdout",
          "text": [
            "\u001b[1m\u001b[35m Flow started with ID: 7335683b-d7c0-4f95-99a2-ad10d36b6b52\u001b[00m\n"
          ]
        },
        {
          "output_type": "display_data",
          "data": {
            "text/plain": [
              "\u001b[1;34m🌊 Flow: \u001b[0m\u001b[34mMarketResearchFlow\u001b[0m\n",
              "\u001b[37m    ID: \u001b[0m\u001b[34m7335683b-d7c0-4f95-99a2-ad10d36b6b52\u001b[0m\n",
              "├── \u001b[33m🧠 Starting Flow...\u001b[0m\n",
              "└── \u001b[1;33m🔄 Running:\u001b[0m\u001b[1;33m initialize_research\u001b[0m\n"
            ],
            "text/html": [
              "<pre style=\"white-space:pre;overflow-x:auto;line-height:normal;font-family:Menlo,'DejaVu Sans Mono',consolas,'Courier New',monospace\"><span style=\"color: #000080; text-decoration-color: #000080; font-weight: bold\">🌊 Flow: </span><span style=\"color: #000080; text-decoration-color: #000080\">MarketResearchFlow</span>\n",
              "<span style=\"color: #c0c0c0; text-decoration-color: #c0c0c0\">    ID: </span><span style=\"color: #000080; text-decoration-color: #000080\">7335683b-d7c0-4f95-99a2-ad10d36b6b52</span>\n",
              "├── <span style=\"color: #808000; text-decoration-color: #808000\">🧠 Starting Flow...</span>\n",
              "└── <span style=\"color: #808000; text-decoration-color: #808000; font-weight: bold\">🔄 Running: initialize_research</span>\n",
              "</pre>\n"
            ]
          },
          "metadata": {}
        },
        {
          "output_type": "display_data",
          "data": {
            "text/plain": [
              "\n"
            ],
            "text/html": [
              "<pre style=\"white-space:pre;overflow-x:auto;line-height:normal;font-family:Menlo,'DejaVu Sans Mono',consolas,'Courier New',monospace\">\n",
              "</pre>\n"
            ]
          },
          "metadata": {}
        },
        {
          "output_type": "stream",
          "name": "stdout",
          "text": [
            "Starting market research for AI-powered chatbots\n"
          ]
        },
        {
          "output_type": "display_data",
          "data": {
            "text/plain": [
              "\u001b[1;34m🌊 Flow: \u001b[0m\u001b[34mMarketResearchFlow\u001b[0m\n",
              "\u001b[37m    ID: \u001b[0m\u001b[34m7335683b-d7c0-4f95-99a2-ad10d36b6b52\u001b[0m\n",
              "├── \u001b[37mFlow Method Step\u001b[0m\n",
              "└── \u001b[1;32m✅ Completed:\u001b[0m\u001b[1;32m initialize_research\u001b[0m\n"
            ],
            "text/html": [
              "<pre style=\"white-space:pre;overflow-x:auto;line-height:normal;font-family:Menlo,'DejaVu Sans Mono',consolas,'Courier New',monospace\"><span style=\"color: #000080; text-decoration-color: #000080; font-weight: bold\">🌊 Flow: </span><span style=\"color: #000080; text-decoration-color: #000080\">MarketResearchFlow</span>\n",
              "<span style=\"color: #c0c0c0; text-decoration-color: #c0c0c0\">    ID: </span><span style=\"color: #000080; text-decoration-color: #000080\">7335683b-d7c0-4f95-99a2-ad10d36b6b52</span>\n",
              "├── <span style=\"color: #c0c0c0; text-decoration-color: #c0c0c0\">Flow Method Step</span>\n",
              "└── <span style=\"color: #008000; text-decoration-color: #008000; font-weight: bold\">✅ Completed: initialize_research</span>\n",
              "</pre>\n"
            ]
          },
          "metadata": {}
        },
        {
          "output_type": "display_data",
          "data": {
            "text/plain": [
              "\n"
            ],
            "text/html": [
              "<pre style=\"white-space:pre;overflow-x:auto;line-height:normal;font-family:Menlo,'DejaVu Sans Mono',consolas,'Courier New',monospace\">\n",
              "</pre>\n"
            ]
          },
          "metadata": {}
        },
        {
          "output_type": "display_data",
          "data": {
            "text/plain": [
              "\u001b[1;34m🌊 Flow: \u001b[0m\u001b[34mMarketResearchFlow\u001b[0m\n",
              "\u001b[37m    ID: \u001b[0m\u001b[34m7335683b-d7c0-4f95-99a2-ad10d36b6b52\u001b[0m\n",
              "├── \u001b[37mFlow Method Step\u001b[0m\n",
              "├── \u001b[1;32m✅ Completed:\u001b[0m\u001b[1;32m initialize_research\u001b[0m\n",
              "└── \u001b[1;33m🔄 Running:\u001b[0m\u001b[1;33m analyze_market\u001b[0m\n"
            ],
            "text/html": [
              "<pre style=\"white-space:pre;overflow-x:auto;line-height:normal;font-family:Menlo,'DejaVu Sans Mono',consolas,'Courier New',monospace\"><span style=\"color: #000080; text-decoration-color: #000080; font-weight: bold\">🌊 Flow: </span><span style=\"color: #000080; text-decoration-color: #000080\">MarketResearchFlow</span>\n",
              "<span style=\"color: #c0c0c0; text-decoration-color: #c0c0c0\">    ID: </span><span style=\"color: #000080; text-decoration-color: #000080\">7335683b-d7c0-4f95-99a2-ad10d36b6b52</span>\n",
              "├── <span style=\"color: #c0c0c0; text-decoration-color: #c0c0c0\">Flow Method Step</span>\n",
              "├── <span style=\"color: #008000; text-decoration-color: #008000; font-weight: bold\">✅ Completed: initialize_research</span>\n",
              "└── <span style=\"color: #808000; text-decoration-color: #808000; font-weight: bold\">🔄 Running: analyze_market</span>\n",
              "</pre>\n"
            ]
          },
          "metadata": {}
        },
        {
          "output_type": "display_data",
          "data": {
            "text/plain": [
              "\n"
            ],
            "text/html": [
              "<pre style=\"white-space:pre;overflow-x:auto;line-height:normal;font-family:Menlo,'DejaVu Sans Mono',consolas,'Courier New',monospace\">\n",
              "</pre>\n"
            ]
          },
          "metadata": {}
        },
        {
          "output_type": "display_data",
          "data": {
            "text/plain": [
              "\u001b[36m╭─\u001b[0m\u001b[36m──────────────────────────────────────────────\u001b[0m\u001b[36m LiteAgent Started \u001b[0m\u001b[36m──────────────────────────────────────────────\u001b[0m\u001b[36m─╮\u001b[0m\n",
              "\u001b[36m│\u001b[0m                                                                                                                 \u001b[36m│\u001b[0m\n",
              "\u001b[36m│\u001b[0m  \u001b[1;36mLiteAgent Session Started\u001b[0m                                                                                      \u001b[36m│\u001b[0m\n",
              "\u001b[36m│\u001b[0m  \u001b[37mName: \u001b[0m\u001b[36mMarket Research Analyst\u001b[0m                                                                                  \u001b[36m│\u001b[0m\n",
              "\u001b[36m│\u001b[0m  \u001b[37mrole: \u001b[0m\u001b[36mMarket Research Analyst\u001b[0m                                                                                  \u001b[36m│\u001b[0m\n",
              "\u001b[36m│\u001b[0m  \u001b[37mgoal: \u001b[0m\u001b[36mAnalyze the market for AI-powered chatbots\u001b[0m                                                               \u001b[36m│\u001b[0m\n",
              "\u001b[36m│\u001b[0m  \u001b[37mbackstory: \u001b[0m\u001b[36mYou are an experienced market analyst with expertise in identifying market trends and \u001b[0m              \u001b[36m│\u001b[0m\n",
              "\u001b[36m│\u001b[0m  \u001b[36mopportunities.\u001b[0m                                                                                                 \u001b[36m│\u001b[0m\n",
              "\u001b[36m│\u001b[0m  \u001b[37mtools: \u001b[0m\u001b[36m[CrewStructuredTool(name='Search the internet with Serper', description='Tool Name: Search the \u001b[0m         \u001b[36m│\u001b[0m\n",
              "\u001b[36m│\u001b[0m  \u001b[36minternet with Serper\u001b[0m                                                                                           \u001b[36m│\u001b[0m\n",
              "\u001b[36m│\u001b[0m  \u001b[36mTool Arguments: {'search_query': {'description': 'Mandatory search query you want to use to search the \u001b[0m        \u001b[36m│\u001b[0m\n",
              "\u001b[36m│\u001b[0m  \u001b[36minternet', 'type': 'str'}}\u001b[0m                                                                                     \u001b[36m│\u001b[0m\n",
              "\u001b[36m│\u001b[0m  \u001b[36mTool Description: A tool that can be used to search the internet with a search_query. Supports different \u001b[0m      \u001b[36m│\u001b[0m\n",
              "\u001b[36m│\u001b[0m  \u001b[36msearch types: 'search' (default), 'news'')]\u001b[0m                                                                    \u001b[36m│\u001b[0m\n",
              "\u001b[36m│\u001b[0m  \u001b[37mverbose: \u001b[0m\u001b[36mTrue\u001b[0m                                                                                                  \u001b[36m│\u001b[0m\n",
              "\u001b[36m│\u001b[0m                                                                                                                 \u001b[36m│\u001b[0m\n",
              "\u001b[36m│\u001b[0m                                                                                                                 \u001b[36m│\u001b[0m\n",
              "\u001b[36m╰─────────────────────────────────────────────────────────────────────────────────────────────────────────────────╯\u001b[0m\n"
            ],
            "text/html": [
              "<pre style=\"white-space:pre;overflow-x:auto;line-height:normal;font-family:Menlo,'DejaVu Sans Mono',consolas,'Courier New',monospace\"><span style=\"color: #008080; text-decoration-color: #008080\">╭─────────────────────────────────────────────── LiteAgent Started ───────────────────────────────────────────────╮</span>\n",
              "<span style=\"color: #008080; text-decoration-color: #008080\">│</span>                                                                                                                 <span style=\"color: #008080; text-decoration-color: #008080\">│</span>\n",
              "<span style=\"color: #008080; text-decoration-color: #008080\">│</span>  <span style=\"color: #008080; text-decoration-color: #008080; font-weight: bold\">LiteAgent Session Started</span>                                                                                      <span style=\"color: #008080; text-decoration-color: #008080\">│</span>\n",
              "<span style=\"color: #008080; text-decoration-color: #008080\">│</span>  <span style=\"color: #c0c0c0; text-decoration-color: #c0c0c0\">Name: </span><span style=\"color: #008080; text-decoration-color: #008080\">Market Research Analyst</span>                                                                                  <span style=\"color: #008080; text-decoration-color: #008080\">│</span>\n",
              "<span style=\"color: #008080; text-decoration-color: #008080\">│</span>  <span style=\"color: #c0c0c0; text-decoration-color: #c0c0c0\">role: </span><span style=\"color: #008080; text-decoration-color: #008080\">Market Research Analyst</span>                                                                                  <span style=\"color: #008080; text-decoration-color: #008080\">│</span>\n",
              "<span style=\"color: #008080; text-decoration-color: #008080\">│</span>  <span style=\"color: #c0c0c0; text-decoration-color: #c0c0c0\">goal: </span><span style=\"color: #008080; text-decoration-color: #008080\">Analyze the market for AI-powered chatbots</span>                                                               <span style=\"color: #008080; text-decoration-color: #008080\">│</span>\n",
              "<span style=\"color: #008080; text-decoration-color: #008080\">│</span>  <span style=\"color: #c0c0c0; text-decoration-color: #c0c0c0\">backstory: </span><span style=\"color: #008080; text-decoration-color: #008080\">You are an experienced market analyst with expertise in identifying market trends and </span>              <span style=\"color: #008080; text-decoration-color: #008080\">│</span>\n",
              "<span style=\"color: #008080; text-decoration-color: #008080\">│</span>  <span style=\"color: #008080; text-decoration-color: #008080\">opportunities.</span>                                                                                                 <span style=\"color: #008080; text-decoration-color: #008080\">│</span>\n",
              "<span style=\"color: #008080; text-decoration-color: #008080\">│</span>  <span style=\"color: #c0c0c0; text-decoration-color: #c0c0c0\">tools: </span><span style=\"color: #008080; text-decoration-color: #008080\">[CrewStructuredTool(name='Search the internet with Serper', description='Tool Name: Search the </span>         <span style=\"color: #008080; text-decoration-color: #008080\">│</span>\n",
              "<span style=\"color: #008080; text-decoration-color: #008080\">│</span>  <span style=\"color: #008080; text-decoration-color: #008080\">internet with Serper</span>                                                                                           <span style=\"color: #008080; text-decoration-color: #008080\">│</span>\n",
              "<span style=\"color: #008080; text-decoration-color: #008080\">│</span>  <span style=\"color: #008080; text-decoration-color: #008080\">Tool Arguments: {'search_query': {'description': 'Mandatory search query you want to use to search the </span>        <span style=\"color: #008080; text-decoration-color: #008080\">│</span>\n",
              "<span style=\"color: #008080; text-decoration-color: #008080\">│</span>  <span style=\"color: #008080; text-decoration-color: #008080\">internet', 'type': 'str'}}</span>                                                                                     <span style=\"color: #008080; text-decoration-color: #008080\">│</span>\n",
              "<span style=\"color: #008080; text-decoration-color: #008080\">│</span>  <span style=\"color: #008080; text-decoration-color: #008080\">Tool Description: A tool that can be used to search the internet with a search_query. Supports different </span>      <span style=\"color: #008080; text-decoration-color: #008080\">│</span>\n",
              "<span style=\"color: #008080; text-decoration-color: #008080\">│</span>  <span style=\"color: #008080; text-decoration-color: #008080\">search types: 'search' (default), 'news'')]</span>                                                                    <span style=\"color: #008080; text-decoration-color: #008080\">│</span>\n",
              "<span style=\"color: #008080; text-decoration-color: #008080\">│</span>  <span style=\"color: #c0c0c0; text-decoration-color: #c0c0c0\">verbose: </span><span style=\"color: #008080; text-decoration-color: #008080\">True</span>                                                                                                  <span style=\"color: #008080; text-decoration-color: #008080\">│</span>\n",
              "<span style=\"color: #008080; text-decoration-color: #008080\">│</span>                                                                                                                 <span style=\"color: #008080; text-decoration-color: #008080\">│</span>\n",
              "<span style=\"color: #008080; text-decoration-color: #008080\">│</span>                                                                                                                 <span style=\"color: #008080; text-decoration-color: #008080\">│</span>\n",
              "<span style=\"color: #008080; text-decoration-color: #008080\">╰─────────────────────────────────────────────────────────────────────────────────────────────────────────────────╯</span>\n",
              "</pre>\n"
            ]
          },
          "metadata": {}
        },
        {
          "output_type": "display_data",
          "data": {
            "text/plain": [
              "\n"
            ],
            "text/html": [
              "<pre style=\"white-space:pre;overflow-x:auto;line-height:normal;font-family:Menlo,'DejaVu Sans Mono',consolas,'Courier New',monospace\">\n",
              "</pre>\n"
            ]
          },
          "metadata": {}
        },
        {
          "output_type": "stream",
          "name": "stdout",
          "text": [
            "\n",
            "\n",
            "LiteLLM.Info: If you need to debug this error, use `litellm._turn_on_debug()'.\n",
            "\n",
            "\n",
            "\u001b[1;31mProvider List: https://docs.litellm.ai/docs/providers\u001b[0m\n",
            "\n"
          ]
        },
        {
          "output_type": "display_data",
          "data": {
            "text/plain": [
              "\u001b[1;31m❌ LiteAgent: \u001b[0m\u001b[31mMarket Research Analyst\u001b[0m\n",
              "\u001b[37m    Status: \u001b[0m\u001b[1;31mFailed\u001b[0m\n",
              "└── \u001b[1;31m❌ LLM Failed\u001b[0m\n"
            ],
            "text/html": [
              "<pre style=\"white-space:pre;overflow-x:auto;line-height:normal;font-family:Menlo,'DejaVu Sans Mono',consolas,'Courier New',monospace\"><span style=\"color: #800000; text-decoration-color: #800000; font-weight: bold\">❌ LiteAgent: </span><span style=\"color: #800000; text-decoration-color: #800000\">Market Research Analyst</span>\n",
              "<span style=\"color: #c0c0c0; text-decoration-color: #c0c0c0\">    Status: </span><span style=\"color: #800000; text-decoration-color: #800000; font-weight: bold\">Failed</span>\n",
              "└── <span style=\"color: #800000; text-decoration-color: #800000; font-weight: bold\">❌ LLM Failed</span>\n",
              "</pre>\n"
            ]
          },
          "metadata": {}
        },
        {
          "output_type": "display_data",
          "data": {
            "text/plain": [
              "\n"
            ],
            "text/html": [
              "<pre style=\"white-space:pre;overflow-x:auto;line-height:normal;font-family:Menlo,'DejaVu Sans Mono',consolas,'Courier New',monospace\">\n",
              "</pre>\n"
            ]
          },
          "metadata": {}
        },
        {
          "output_type": "display_data",
          "data": {
            "text/plain": [
              "\u001b[31m╭─\u001b[0m\u001b[31m──────────────────────────────────────────────────\u001b[0m\u001b[31m LLM Error \u001b[0m\u001b[31m──────────────────────────────────────────────────\u001b[0m\u001b[31m─╮\u001b[0m\n",
              "\u001b[31m│\u001b[0m                                                                                                                 \u001b[31m│\u001b[0m\n",
              "\u001b[31m│\u001b[0m  \u001b[1;31m❌ LLM Call Failed\u001b[0m                                                                                             \u001b[31m│\u001b[0m\n",
              "\u001b[31m│\u001b[0m  \u001b[37mError: \u001b[0m\u001b[31mlitellm.BadRequestError: GroqException - {\"error\":{\"message\":\"Invalid API \u001b[0m                              \u001b[31m│\u001b[0m\n",
              "\u001b[31m│\u001b[0m  \u001b[31mKey\",\"type\":\"invalid_request_error\",\"code\":\"invalid_api_key\"}}\u001b[0m                                                 \u001b[31m│\u001b[0m\n",
              "\u001b[31m│\u001b[0m                                                                                                                 \u001b[31m│\u001b[0m\n",
              "\u001b[31m│\u001b[0m                                                                                                                 \u001b[31m│\u001b[0m\n",
              "\u001b[31m╰─────────────────────────────────────────────────────────────────────────────────────────────────────────────────╯\u001b[0m\n"
            ],
            "text/html": [
              "<pre style=\"white-space:pre;overflow-x:auto;line-height:normal;font-family:Menlo,'DejaVu Sans Mono',consolas,'Courier New',monospace\"><span style=\"color: #800000; text-decoration-color: #800000\">╭─────────────────────────────────────────────────── LLM Error ───────────────────────────────────────────────────╮</span>\n",
              "<span style=\"color: #800000; text-decoration-color: #800000\">│</span>                                                                                                                 <span style=\"color: #800000; text-decoration-color: #800000\">│</span>\n",
              "<span style=\"color: #800000; text-decoration-color: #800000\">│</span>  <span style=\"color: #800000; text-decoration-color: #800000; font-weight: bold\">❌ LLM Call Failed</span>                                                                                             <span style=\"color: #800000; text-decoration-color: #800000\">│</span>\n",
              "<span style=\"color: #800000; text-decoration-color: #800000\">│</span>  <span style=\"color: #c0c0c0; text-decoration-color: #c0c0c0\">Error: </span><span style=\"color: #800000; text-decoration-color: #800000\">litellm.BadRequestError: GroqException - {\"error\":{\"message\":\"Invalid API </span>                              <span style=\"color: #800000; text-decoration-color: #800000\">│</span>\n",
              "<span style=\"color: #800000; text-decoration-color: #800000\">│</span>  <span style=\"color: #800000; text-decoration-color: #800000\">Key\",\"type\":\"invalid_request_error\",\"code\":\"invalid_api_key\"}}</span>                                                 <span style=\"color: #800000; text-decoration-color: #800000\">│</span>\n",
              "<span style=\"color: #800000; text-decoration-color: #800000\">│</span>                                                                                                                 <span style=\"color: #800000; text-decoration-color: #800000\">│</span>\n",
              "<span style=\"color: #800000; text-decoration-color: #800000\">│</span>                                                                                                                 <span style=\"color: #800000; text-decoration-color: #800000\">│</span>\n",
              "<span style=\"color: #800000; text-decoration-color: #800000\">╰─────────────────────────────────────────────────────────────────────────────────────────────────────────────────╯</span>\n",
              "</pre>\n"
            ]
          },
          "metadata": {}
        },
        {
          "output_type": "display_data",
          "data": {
            "text/plain": [
              "\n"
            ],
            "text/html": [
              "<pre style=\"white-space:pre;overflow-x:auto;line-height:normal;font-family:Menlo,'DejaVu Sans Mono',consolas,'Courier New',monospace\">\n",
              "</pre>\n"
            ]
          },
          "metadata": {}
        },
        {
          "output_type": "stream",
          "name": "stderr",
          "text": [
            "ERROR:root:LiteLLM call failed: litellm.BadRequestError: GroqException - {\"error\":{\"message\":\"Invalid API Key\",\"type\":\"invalid_request_error\",\"code\":\"invalid_api_key\"}}\n",
            "\n"
          ]
        },
        {
          "output_type": "stream",
          "name": "stdout",
          "text": [
            "\u001b[91m Error during LLM call: litellm.BadRequestError: GroqException - {\"error\":{\"message\":\"Invalid API Key\",\"type\":\"invalid_request_error\",\"code\":\"invalid_api_key\"}}\n",
            "\u001b[00m\n"
          ]
        },
        {
          "output_type": "display_data",
          "data": {
            "text/plain": [
              "\u001b[1;31m❌ LiteAgent: \u001b[0m\u001b[31mMarket Research Analyst\u001b[0m\n",
              "\u001b[37m    Status: \u001b[0m\u001b[1;31mFailed\u001b[0m\n",
              "└── \u001b[1;31m❌ LLM Failed\u001b[0m\n"
            ],
            "text/html": [
              "<pre style=\"white-space:pre;overflow-x:auto;line-height:normal;font-family:Menlo,'DejaVu Sans Mono',consolas,'Courier New',monospace\"><span style=\"color: #800000; text-decoration-color: #800000; font-weight: bold\">❌ LiteAgent: </span><span style=\"color: #800000; text-decoration-color: #800000\">Market Research Analyst</span>\n",
              "<span style=\"color: #c0c0c0; text-decoration-color: #c0c0c0\">    Status: </span><span style=\"color: #800000; text-decoration-color: #800000; font-weight: bold\">Failed</span>\n",
              "└── <span style=\"color: #800000; text-decoration-color: #800000; font-weight: bold\">❌ LLM Failed</span>\n",
              "</pre>\n"
            ]
          },
          "metadata": {}
        },
        {
          "output_type": "display_data",
          "data": {
            "text/plain": [
              "\n"
            ],
            "text/html": [
              "<pre style=\"white-space:pre;overflow-x:auto;line-height:normal;font-family:Menlo,'DejaVu Sans Mono',consolas,'Courier New',monospace\">\n",
              "</pre>\n"
            ]
          },
          "metadata": {}
        },
        {
          "output_type": "display_data",
          "data": {
            "text/plain": [
              "\u001b[31m╭─\u001b[0m\u001b[31m──────────────────────────────────────────────────\u001b[0m\u001b[31m LLM Error \u001b[0m\u001b[31m──────────────────────────────────────────────────\u001b[0m\u001b[31m─╮\u001b[0m\n",
              "\u001b[31m│\u001b[0m                                                                                                                 \u001b[31m│\u001b[0m\n",
              "\u001b[31m│\u001b[0m  \u001b[1;31m❌ LLM Call Failed\u001b[0m                                                                                             \u001b[31m│\u001b[0m\n",
              "\u001b[31m│\u001b[0m  \u001b[37mError: \u001b[0m\u001b[31mlitellm.BadRequestError: GroqException - {\"error\":{\"message\":\"Invalid API \u001b[0m                              \u001b[31m│\u001b[0m\n",
              "\u001b[31m│\u001b[0m  \u001b[31mKey\",\"type\":\"invalid_request_error\",\"code\":\"invalid_api_key\"}}\u001b[0m                                                 \u001b[31m│\u001b[0m\n",
              "\u001b[31m│\u001b[0m                                                                                                                 \u001b[31m│\u001b[0m\n",
              "\u001b[31m│\u001b[0m                                                                                                                 \u001b[31m│\u001b[0m\n",
              "\u001b[31m╰─────────────────────────────────────────────────────────────────────────────────────────────────────────────────╯\u001b[0m\n"
            ],
            "text/html": [
              "<pre style=\"white-space:pre;overflow-x:auto;line-height:normal;font-family:Menlo,'DejaVu Sans Mono',consolas,'Courier New',monospace\"><span style=\"color: #800000; text-decoration-color: #800000\">╭─────────────────────────────────────────────────── LLM Error ───────────────────────────────────────────────────╮</span>\n",
              "<span style=\"color: #800000; text-decoration-color: #800000\">│</span>                                                                                                                 <span style=\"color: #800000; text-decoration-color: #800000\">│</span>\n",
              "<span style=\"color: #800000; text-decoration-color: #800000\">│</span>  <span style=\"color: #800000; text-decoration-color: #800000; font-weight: bold\">❌ LLM Call Failed</span>                                                                                             <span style=\"color: #800000; text-decoration-color: #800000\">│</span>\n",
              "<span style=\"color: #800000; text-decoration-color: #800000\">│</span>  <span style=\"color: #c0c0c0; text-decoration-color: #c0c0c0\">Error: </span><span style=\"color: #800000; text-decoration-color: #800000\">litellm.BadRequestError: GroqException - {\"error\":{\"message\":\"Invalid API </span>                              <span style=\"color: #800000; text-decoration-color: #800000\">│</span>\n",
              "<span style=\"color: #800000; text-decoration-color: #800000\">│</span>  <span style=\"color: #800000; text-decoration-color: #800000\">Key\",\"type\":\"invalid_request_error\",\"code\":\"invalid_api_key\"}}</span>                                                 <span style=\"color: #800000; text-decoration-color: #800000\">│</span>\n",
              "<span style=\"color: #800000; text-decoration-color: #800000\">│</span>                                                                                                                 <span style=\"color: #800000; text-decoration-color: #800000\">│</span>\n",
              "<span style=\"color: #800000; text-decoration-color: #800000\">│</span>                                                                                                                 <span style=\"color: #800000; text-decoration-color: #800000\">│</span>\n",
              "<span style=\"color: #800000; text-decoration-color: #800000\">╰─────────────────────────────────────────────────────────────────────────────────────────────────────────────────╯</span>\n",
              "</pre>\n"
            ]
          },
          "metadata": {}
        },
        {
          "output_type": "display_data",
          "data": {
            "text/plain": [
              "\n"
            ],
            "text/html": [
              "<pre style=\"white-space:pre;overflow-x:auto;line-height:normal;font-family:Menlo,'DejaVu Sans Mono',consolas,'Courier New',monospace\">\n",
              "</pre>\n"
            ]
          },
          "metadata": {}
        },
        {
          "output_type": "stream",
          "name": "stdout",
          "text": [
            "\u001b[91m Agent failed to reach a final answer. This is likely a bug - please report it.\u001b[00m\n",
            "\u001b[91m An unknown error occurred. Please check the details below.\u001b[00m\n",
            "\u001b[91m Error details: litellm.BadRequestError: GroqException - {\"error\":{\"message\":\"Invalid API Key\",\"type\":\"invalid_request_error\",\"code\":\"invalid_api_key\"}}\n",
            "\u001b[00m\n"
          ]
        },
        {
          "output_type": "display_data",
          "data": {
            "text/plain": [
              "\u001b[1;31m❌ LiteAgent: \u001b[0m\u001b[31mMarket Research Analyst\u001b[0m\n",
              "\u001b[37m    Status: \u001b[0m\u001b[1;31mFailed\u001b[0m\n",
              "└── \u001b[1;31m❌ LLM Failed\u001b[0m\n"
            ],
            "text/html": [
              "<pre style=\"white-space:pre;overflow-x:auto;line-height:normal;font-family:Menlo,'DejaVu Sans Mono',consolas,'Courier New',monospace\"><span style=\"color: #800000; text-decoration-color: #800000; font-weight: bold\">❌ LiteAgent: </span><span style=\"color: #800000; text-decoration-color: #800000\">Market Research Analyst</span>\n",
              "<span style=\"color: #c0c0c0; text-decoration-color: #c0c0c0\">    Status: </span><span style=\"color: #800000; text-decoration-color: #800000; font-weight: bold\">Failed</span>\n",
              "└── <span style=\"color: #800000; text-decoration-color: #800000; font-weight: bold\">❌ LLM Failed</span>\n",
              "</pre>\n"
            ]
          },
          "metadata": {}
        },
        {
          "output_type": "display_data",
          "data": {
            "text/plain": [
              "\n"
            ],
            "text/html": [
              "<pre style=\"white-space:pre;overflow-x:auto;line-height:normal;font-family:Menlo,'DejaVu Sans Mono',consolas,'Courier New',monospace\">\n",
              "</pre>\n"
            ]
          },
          "metadata": {}
        },
        {
          "output_type": "display_data",
          "data": {
            "text/plain": [
              "\u001b[31m╭─\u001b[0m\u001b[31m───────────────────────────────────────────────\u001b[0m\u001b[31m LiteAgent Error \u001b[0m\u001b[31m───────────────────────────────────────────────\u001b[0m\u001b[31m─╮\u001b[0m\n",
              "\u001b[31m│\u001b[0m                                                                                                                 \u001b[31m│\u001b[0m\n",
              "\u001b[31m│\u001b[0m  \u001b[1;31mLiteAgent Failed\u001b[0m                                                                                               \u001b[31m│\u001b[0m\n",
              "\u001b[31m│\u001b[0m  \u001b[37mName: \u001b[0m\u001b[31mMarket Research Analyst\u001b[0m                                                                                  \u001b[31m│\u001b[0m\n",
              "\u001b[31m│\u001b[0m  \u001b[37mrole: \u001b[0m\u001b[31mMarket Research Analyst\u001b[0m                                                                                  \u001b[31m│\u001b[0m\n",
              "\u001b[31m│\u001b[0m  \u001b[37mgoal: \u001b[0m\u001b[31mAnalyze the market for AI-powered chatbots\u001b[0m                                                               \u001b[31m│\u001b[0m\n",
              "\u001b[31m│\u001b[0m  \u001b[37mbackstory: \u001b[0m\u001b[31mYou are an experienced market analyst with expertise in identifying market trends and \u001b[0m              \u001b[31m│\u001b[0m\n",
              "\u001b[31m│\u001b[0m  \u001b[31mopportunities.\u001b[0m                                                                                                 \u001b[31m│\u001b[0m\n",
              "\u001b[31m│\u001b[0m  \u001b[37mtools: \u001b[0m\u001b[31m[CrewStructuredTool(name='Search the internet with Serper', description='Tool Name: Search the \u001b[0m         \u001b[31m│\u001b[0m\n",
              "\u001b[31m│\u001b[0m  \u001b[31minternet with Serper\u001b[0m                                                                                           \u001b[31m│\u001b[0m\n",
              "\u001b[31m│\u001b[0m  \u001b[31mTool Arguments: {'search_query': {'description': 'Mandatory search query you want to use to search the \u001b[0m        \u001b[31m│\u001b[0m\n",
              "\u001b[31m│\u001b[0m  \u001b[31minternet', 'type': 'str'}}\u001b[0m                                                                                     \u001b[31m│\u001b[0m\n",
              "\u001b[31m│\u001b[0m  \u001b[31mTool Description: A tool that can be used to search the internet with a search_query. Supports different \u001b[0m      \u001b[31m│\u001b[0m\n",
              "\u001b[31m│\u001b[0m  \u001b[31msearch types: 'search' (default), 'news'')]\u001b[0m                                                                    \u001b[31m│\u001b[0m\n",
              "\u001b[31m│\u001b[0m  \u001b[37mverbose: \u001b[0m\u001b[31mTrue\u001b[0m                                                                                                  \u001b[31m│\u001b[0m\n",
              "\u001b[31m│\u001b[0m  \u001b[37mError: \u001b[0m\u001b[31mlitellm.BadRequestError: GroqException - {\"error\":{\"message\":\"Invalid API \u001b[0m                              \u001b[31m│\u001b[0m\n",
              "\u001b[31m│\u001b[0m  \u001b[31mKey\",\"type\":\"invalid_request_error\",\"code\":\"invalid_api_key\"}}\u001b[0m                                                 \u001b[31m│\u001b[0m\n",
              "\u001b[31m│\u001b[0m                                                                                                                 \u001b[31m│\u001b[0m\n",
              "\u001b[31m│\u001b[0m                                                                                                                 \u001b[31m│\u001b[0m\n",
              "\u001b[31m│\u001b[0m                                                                                                                 \u001b[31m│\u001b[0m\n",
              "\u001b[31m╰─────────────────────────────────────────────────────────────────────────────────────────────────────────────────╯\u001b[0m\n"
            ],
            "text/html": [
              "<pre style=\"white-space:pre;overflow-x:auto;line-height:normal;font-family:Menlo,'DejaVu Sans Mono',consolas,'Courier New',monospace\"><span style=\"color: #800000; text-decoration-color: #800000\">╭──────────────────────────────────────────────── LiteAgent Error ────────────────────────────────────────────────╮</span>\n",
              "<span style=\"color: #800000; text-decoration-color: #800000\">│</span>                                                                                                                 <span style=\"color: #800000; text-decoration-color: #800000\">│</span>\n",
              "<span style=\"color: #800000; text-decoration-color: #800000\">│</span>  <span style=\"color: #800000; text-decoration-color: #800000; font-weight: bold\">LiteAgent Failed</span>                                                                                               <span style=\"color: #800000; text-decoration-color: #800000\">│</span>\n",
              "<span style=\"color: #800000; text-decoration-color: #800000\">│</span>  <span style=\"color: #c0c0c0; text-decoration-color: #c0c0c0\">Name: </span><span style=\"color: #800000; text-decoration-color: #800000\">Market Research Analyst</span>                                                                                  <span style=\"color: #800000; text-decoration-color: #800000\">│</span>\n",
              "<span style=\"color: #800000; text-decoration-color: #800000\">│</span>  <span style=\"color: #c0c0c0; text-decoration-color: #c0c0c0\">role: </span><span style=\"color: #800000; text-decoration-color: #800000\">Market Research Analyst</span>                                                                                  <span style=\"color: #800000; text-decoration-color: #800000\">│</span>\n",
              "<span style=\"color: #800000; text-decoration-color: #800000\">│</span>  <span style=\"color: #c0c0c0; text-decoration-color: #c0c0c0\">goal: </span><span style=\"color: #800000; text-decoration-color: #800000\">Analyze the market for AI-powered chatbots</span>                                                               <span style=\"color: #800000; text-decoration-color: #800000\">│</span>\n",
              "<span style=\"color: #800000; text-decoration-color: #800000\">│</span>  <span style=\"color: #c0c0c0; text-decoration-color: #c0c0c0\">backstory: </span><span style=\"color: #800000; text-decoration-color: #800000\">You are an experienced market analyst with expertise in identifying market trends and </span>              <span style=\"color: #800000; text-decoration-color: #800000\">│</span>\n",
              "<span style=\"color: #800000; text-decoration-color: #800000\">│</span>  <span style=\"color: #800000; text-decoration-color: #800000\">opportunities.</span>                                                                                                 <span style=\"color: #800000; text-decoration-color: #800000\">│</span>\n",
              "<span style=\"color: #800000; text-decoration-color: #800000\">│</span>  <span style=\"color: #c0c0c0; text-decoration-color: #c0c0c0\">tools: </span><span style=\"color: #800000; text-decoration-color: #800000\">[CrewStructuredTool(name='Search the internet with Serper', description='Tool Name: Search the </span>         <span style=\"color: #800000; text-decoration-color: #800000\">│</span>\n",
              "<span style=\"color: #800000; text-decoration-color: #800000\">│</span>  <span style=\"color: #800000; text-decoration-color: #800000\">internet with Serper</span>                                                                                           <span style=\"color: #800000; text-decoration-color: #800000\">│</span>\n",
              "<span style=\"color: #800000; text-decoration-color: #800000\">│</span>  <span style=\"color: #800000; text-decoration-color: #800000\">Tool Arguments: {'search_query': {'description': 'Mandatory search query you want to use to search the </span>        <span style=\"color: #800000; text-decoration-color: #800000\">│</span>\n",
              "<span style=\"color: #800000; text-decoration-color: #800000\">│</span>  <span style=\"color: #800000; text-decoration-color: #800000\">internet', 'type': 'str'}}</span>                                                                                     <span style=\"color: #800000; text-decoration-color: #800000\">│</span>\n",
              "<span style=\"color: #800000; text-decoration-color: #800000\">│</span>  <span style=\"color: #800000; text-decoration-color: #800000\">Tool Description: A tool that can be used to search the internet with a search_query. Supports different </span>      <span style=\"color: #800000; text-decoration-color: #800000\">│</span>\n",
              "<span style=\"color: #800000; text-decoration-color: #800000\">│</span>  <span style=\"color: #800000; text-decoration-color: #800000\">search types: 'search' (default), 'news'')]</span>                                                                    <span style=\"color: #800000; text-decoration-color: #800000\">│</span>\n",
              "<span style=\"color: #800000; text-decoration-color: #800000\">│</span>  <span style=\"color: #c0c0c0; text-decoration-color: #c0c0c0\">verbose: </span><span style=\"color: #800000; text-decoration-color: #800000\">True</span>                                                                                                  <span style=\"color: #800000; text-decoration-color: #800000\">│</span>\n",
              "<span style=\"color: #800000; text-decoration-color: #800000\">│</span>  <span style=\"color: #c0c0c0; text-decoration-color: #c0c0c0\">Error: </span><span style=\"color: #800000; text-decoration-color: #800000\">litellm.BadRequestError: GroqException - {\"error\":{\"message\":\"Invalid API </span>                              <span style=\"color: #800000; text-decoration-color: #800000\">│</span>\n",
              "<span style=\"color: #800000; text-decoration-color: #800000\">│</span>  <span style=\"color: #800000; text-decoration-color: #800000\">Key\",\"type\":\"invalid_request_error\",\"code\":\"invalid_api_key\"}}</span>                                                 <span style=\"color: #800000; text-decoration-color: #800000\">│</span>\n",
              "<span style=\"color: #800000; text-decoration-color: #800000\">│</span>                                                                                                                 <span style=\"color: #800000; text-decoration-color: #800000\">│</span>\n",
              "<span style=\"color: #800000; text-decoration-color: #800000\">│</span>                                                                                                                 <span style=\"color: #800000; text-decoration-color: #800000\">│</span>\n",
              "<span style=\"color: #800000; text-decoration-color: #800000\">│</span>                                                                                                                 <span style=\"color: #800000; text-decoration-color: #800000\">│</span>\n",
              "<span style=\"color: #800000; text-decoration-color: #800000\">╰─────────────────────────────────────────────────────────────────────────────────────────────────────────────────╯</span>\n",
              "</pre>\n"
            ]
          },
          "metadata": {}
        },
        {
          "output_type": "display_data",
          "data": {
            "text/plain": [
              "\n"
            ],
            "text/html": [
              "<pre style=\"white-space:pre;overflow-x:auto;line-height:normal;font-family:Menlo,'DejaVu Sans Mono',consolas,'Courier New',monospace\">\n",
              "</pre>\n"
            ]
          },
          "metadata": {}
        },
        {
          "output_type": "display_data",
          "data": {
            "text/plain": [
              "\u001b[1;34m🌊 Flow: \u001b[0m\u001b[34mMarketResearchFlow\u001b[0m\n",
              "\u001b[37m    ID: \u001b[0m\u001b[34m7335683b-d7c0-4f95-99a2-ad10d36b6b52\u001b[0m\n",
              "├── \u001b[37mFlow Method Step\u001b[0m\n",
              "├── \u001b[1;32m✅ Completed:\u001b[0m\u001b[1;32m initialize_research\u001b[0m\n",
              "└── \u001b[1;31m❌ Failed:\u001b[0m\u001b[1;31m analyze_market\u001b[0m\n"
            ],
            "text/html": [
              "<pre style=\"white-space:pre;overflow-x:auto;line-height:normal;font-family:Menlo,'DejaVu Sans Mono',consolas,'Courier New',monospace\"><span style=\"color: #000080; text-decoration-color: #000080; font-weight: bold\">🌊 Flow: </span><span style=\"color: #000080; text-decoration-color: #000080\">MarketResearchFlow</span>\n",
              "<span style=\"color: #c0c0c0; text-decoration-color: #c0c0c0\">    ID: </span><span style=\"color: #000080; text-decoration-color: #000080\">7335683b-d7c0-4f95-99a2-ad10d36b6b52</span>\n",
              "├── <span style=\"color: #c0c0c0; text-decoration-color: #c0c0c0\">Flow Method Step</span>\n",
              "├── <span style=\"color: #008000; text-decoration-color: #008000; font-weight: bold\">✅ Completed: initialize_research</span>\n",
              "└── <span style=\"color: #800000; text-decoration-color: #800000; font-weight: bold\">❌ Failed: analyze_market</span>\n",
              "</pre>\n"
            ]
          },
          "metadata": {}
        },
        {
          "output_type": "display_data",
          "data": {
            "text/plain": [
              "\n"
            ],
            "text/html": [
              "<pre style=\"white-space:pre;overflow-x:auto;line-height:normal;font-family:Menlo,'DejaVu Sans Mono',consolas,'Courier New',monospace\">\n",
              "</pre>\n"
            ]
          },
          "metadata": {}
        },
        {
          "output_type": "stream",
          "name": "stdout",
          "text": [
            "[Flow._execute_single_listener] Error in method analyze_market: litellm.BadRequestError: GroqException - {\"error\":{\"message\":\"Invalid API Key\",\"type\":\"invalid_request_error\",\"code\":\"invalid_api_key\"}}\n",
            "\n"
          ]
        },
        {
          "output_type": "stream",
          "name": "stderr",
          "text": [
            "Traceback (most recent call last):\n",
            "  File \"/usr/local/lib/python3.11/dist-packages/litellm/llms/custom_httpx/llm_http_handler.py\", line 128, in _make_common_sync_call\n",
            "    response = sync_httpx_client.post(\n",
            "               ^^^^^^^^^^^^^^^^^^^^^^^\n",
            "  File \"/usr/local/lib/python3.11/dist-packages/litellm/llms/custom_httpx/http_handler.py\", line 576, in post\n",
            "    raise e\n",
            "  File \"/usr/local/lib/python3.11/dist-packages/litellm/llms/custom_httpx/http_handler.py\", line 558, in post\n",
            "    response.raise_for_status()\n",
            "  File \"/usr/local/lib/python3.11/dist-packages/httpx/_models.py\", line 829, in raise_for_status\n",
            "    raise HTTPStatusError(message, request=request, response=self)\n",
            "httpx.HTTPStatusError: Client error '401 Unauthorized' for url 'https://api.groq.com/openai/v1/chat/completions'\n",
            "For more information check: https://developer.mozilla.org/en-US/docs/Web/HTTP/Status/401\n",
            "\n",
            "During handling of the above exception, another exception occurred:\n",
            "\n",
            "Traceback (most recent call last):\n",
            "  File \"/usr/local/lib/python3.11/dist-packages/litellm/main.py\", line 1689, in completion\n",
            "    response = base_llm_http_handler.completion(\n",
            "               ^^^^^^^^^^^^^^^^^^^^^^^^^^^^^^^^^\n",
            "  File \"/usr/local/lib/python3.11/dist-packages/litellm/llms/custom_httpx/llm_http_handler.py\", line 405, in completion\n",
            "    response = self._make_common_sync_call(\n",
            "               ^^^^^^^^^^^^^^^^^^^^^^^^^^^^\n",
            "  File \"/usr/local/lib/python3.11/dist-packages/litellm/llms/custom_httpx/llm_http_handler.py\", line 149, in _make_common_sync_call\n",
            "    raise self._handle_error(e=e, provider_config=provider_config)\n",
            "          ^^^^^^^^^^^^^^^^^^^^^^^^^^^^^^^^^^^^^^^^^^^^^^^^^^^^^^^^\n",
            "  File \"/usr/local/lib/python3.11/dist-packages/litellm/llms/custom_httpx/llm_http_handler.py\", line 1821, in _handle_error\n",
            "    raise provider_config.get_error_class(\n",
            "litellm.llms.openai.common_utils.OpenAIError: {\"error\":{\"message\":\"Invalid API Key\",\"type\":\"invalid_request_error\",\"code\":\"invalid_api_key\"}}\n",
            "\n",
            "\n",
            "During handling of the above exception, another exception occurred:\n",
            "\n",
            "Traceback (most recent call last):\n",
            "  File \"/usr/local/lib/python3.11/dist-packages/crewai/flow/flow.py\", line 1034, in _execute_single_listener\n",
            "    listener_result = await self._execute_method(listener_name, method)\n",
            "                      ^^^^^^^^^^^^^^^^^^^^^^^^^^^^^^^^^^^^^^^^^^^^^^^^^\n",
            "  File \"/usr/local/lib/python3.11/dist-packages/crewai/flow/flow.py\", line 876, in _execute_method\n",
            "    raise e\n",
            "  File \"/usr/local/lib/python3.11/dist-packages/crewai/flow/flow.py\", line 844, in _execute_method\n",
            "    await method(*args, **kwargs)\n",
            "  File \"<ipython-input-27-58c57814e4d7>\", line 60, in analyze_market\n",
            "    result = await analyst.kickoff_async(query, response_format=MarketAnalysis)\n",
            "             ^^^^^^^^^^^^^^^^^^^^^^^^^^^^^^^^^^^^^^^^^^^^^^^^^^^^^^^^^^^^^^^^^^\n",
            "  File \"/usr/local/lib/python3.11/dist-packages/crewai/agent.py\", line 738, in kickoff_async\n",
            "    return await lite_agent.kickoff_async(messages)\n",
            "           ^^^^^^^^^^^^^^^^^^^^^^^^^^^^^^^^^^^^^^^^\n",
            "  File \"/usr/local/lib/python3.11/dist-packages/crewai/lite_agent.py\", line 305, in kickoff_async\n",
            "    return await asyncio.to_thread(self.kickoff, messages)\n",
            "           ^^^^^^^^^^^^^^^^^^^^^^^^^^^^^^^^^^^^^^^^^^^^^^^\n",
            "  File \"/usr/lib/python3.11/asyncio/threads.py\", line 25, in to_thread\n",
            "    return await loop.run_in_executor(None, func_call)\n",
            "           ^^^^^^^^^^^^^^^^^^^^^^^^^^^^^^^^^^^^^^^^^^^\n",
            "  File \"/usr/lib/python3.11/asyncio/futures.py\", line 287, in __await__\n",
            "    yield self  # This tells Task to wait for completion.\n",
            "    ^^^^^^^^^^\n",
            "  File \"/usr/lib/python3.11/asyncio/tasks.py\", line 349, in __wakeup\n",
            "    future.result()\n",
            "  File \"/usr/lib/python3.11/asyncio/futures.py\", line 203, in result\n",
            "    raise self._exception.with_traceback(self._exception_tb)\n",
            "  File \"/usr/lib/python3.11/concurrent/futures/thread.py\", line 58, in run\n",
            "    result = self.fn(*self.args, **self.kwargs)\n",
            "             ^^^^^^^^^^^^^^^^^^^^^^^^^^^^^^^^^^\n",
            "  File \"/usr/local/lib/python3.11/dist-packages/crewai/lite_agent.py\", line 289, in kickoff\n",
            "    raise e\n",
            "  File \"/usr/local/lib/python3.11/dist-packages/crewai/lite_agent.py\", line 237, in kickoff\n",
            "    agent_finish = self._invoke_loop()\n",
            "                   ^^^^^^^^^^^^^^^^^^^\n",
            "  File \"/usr/local/lib/python3.11/dist-packages/crewai/lite_agent.py\", line 446, in _invoke_loop\n",
            "    raise e\n",
            "  File \"/usr/local/lib/python3.11/dist-packages/crewai/lite_agent.py\", line 410, in _invoke_loop\n",
            "    raise e\n",
            "  File \"/usr/local/lib/python3.11/dist-packages/crewai/lite_agent.py\", line 389, in _invoke_loop\n",
            "    answer = get_llm_response(\n",
            "             ^^^^^^^^^^^^^^^^^\n",
            "  File \"/usr/local/lib/python3.11/dist-packages/crewai/utilities/agent_utils.py\", line 156, in get_llm_response\n",
            "    raise e\n",
            "  File \"/usr/local/lib/python3.11/dist-packages/crewai/utilities/agent_utils.py\", line 147, in get_llm_response\n",
            "    answer = llm.call(\n",
            "             ^^^^^^^^^\n",
            "  File \"/usr/local/lib/python3.11/dist-packages/crewai/llm.py\", line 888, in call\n",
            "    return self._handle_non_streaming_response(\n",
            "           ^^^^^^^^^^^^^^^^^^^^^^^^^^^^^^^^^^^^\n",
            "  File \"/usr/local/lib/python3.11/dist-packages/crewai/llm.py\", line 727, in _handle_non_streaming_response\n",
            "    response = litellm.completion(**params)\n",
            "               ^^^^^^^^^^^^^^^^^^^^^^^^^^^^\n",
            "  File \"/usr/local/lib/python3.11/dist-packages/litellm/utils.py\", line 1255, in wrapper\n",
            "    raise e\n",
            "  File \"/usr/local/lib/python3.11/dist-packages/litellm/utils.py\", line 1133, in wrapper\n",
            "    result = original_function(*args, **kwargs)\n",
            "             ^^^^^^^^^^^^^^^^^^^^^^^^^^^^^^^^^^\n",
            "  File \"/usr/local/lib/python3.11/dist-packages/litellm/main.py\", line 3216, in completion\n",
            "    raise exception_type(\n",
            "          ^^^^^^^^^^^^^^^\n",
            "  File \"/usr/local/lib/python3.11/dist-packages/litellm/litellm_core_utils/exception_mapping_utils.py\", line 2224, in exception_type\n",
            "    raise e\n",
            "  File \"/usr/local/lib/python3.11/dist-packages/litellm/litellm_core_utils/exception_mapping_utils.py\", line 331, in exception_type\n",
            "    raise BadRequestError(\n",
            "litellm.exceptions.BadRequestError: litellm.BadRequestError: GroqException - {\"error\":{\"message\":\"Invalid API Key\",\"type\":\"invalid_request_error\",\"code\":\"invalid_api_key\"}}\n",
            "\n"
          ]
        },
        {
          "output_type": "error",
          "ename": "BadRequestError",
          "evalue": "litellm.BadRequestError: GroqException - {\"error\":{\"message\":\"Invalid API Key\",\"type\":\"invalid_request_error\",\"code\":\"invalid_api_key\"}}\n",
          "traceback": [
            "\u001b[0;31m---------------------------------------------------------------------------\u001b[0m",
            "\u001b[0;31mHTTPStatusError\u001b[0m                           Traceback (most recent call last)",
            "\u001b[0;32m/usr/local/lib/python3.11/dist-packages/litellm/llms/custom_httpx/llm_http_handler.py\u001b[0m in \u001b[0;36m_make_common_sync_call\u001b[0;34m(self, sync_httpx_client, provider_config, api_base, headers, data, timeout, litellm_params, logging_obj, stream)\u001b[0m\n\u001b[1;32m    127\u001b[0m             \u001b[0;32mtry\u001b[0m\u001b[0;34m:\u001b[0m\u001b[0;34m\u001b[0m\u001b[0;34m\u001b[0m\u001b[0m\n\u001b[0;32m--> 128\u001b[0;31m                 response = sync_httpx_client.post(\n\u001b[0m\u001b[1;32m    129\u001b[0m                     \u001b[0murl\u001b[0m\u001b[0;34m=\u001b[0m\u001b[0mapi_base\u001b[0m\u001b[0;34m,\u001b[0m\u001b[0;34m\u001b[0m\u001b[0;34m\u001b[0m\u001b[0m\n",
            "\u001b[0;32m/usr/local/lib/python3.11/dist-packages/litellm/llms/custom_httpx/http_handler.py\u001b[0m in \u001b[0;36mpost\u001b[0;34m(self, url, data, json, params, headers, stream, timeout, files, content, logging_obj)\u001b[0m\n\u001b[1;32m    575\u001b[0m             \u001b[0msetattr\u001b[0m\u001b[0;34m(\u001b[0m\u001b[0me\u001b[0m\u001b[0;34m,\u001b[0m \u001b[0;34m\"status_code\"\u001b[0m\u001b[0;34m,\u001b[0m \u001b[0me\u001b[0m\u001b[0;34m.\u001b[0m\u001b[0mresponse\u001b[0m\u001b[0;34m.\u001b[0m\u001b[0mstatus_code\u001b[0m\u001b[0;34m)\u001b[0m\u001b[0;34m\u001b[0m\u001b[0;34m\u001b[0m\u001b[0m\n\u001b[0;32m--> 576\u001b[0;31m             \u001b[0;32mraise\u001b[0m \u001b[0me\u001b[0m\u001b[0;34m\u001b[0m\u001b[0;34m\u001b[0m\u001b[0m\n\u001b[0m\u001b[1;32m    577\u001b[0m         \u001b[0;32mexcept\u001b[0m \u001b[0mException\u001b[0m \u001b[0;32mas\u001b[0m \u001b[0me\u001b[0m\u001b[0;34m:\u001b[0m\u001b[0;34m\u001b[0m\u001b[0;34m\u001b[0m\u001b[0m\n",
            "\u001b[0;32m/usr/local/lib/python3.11/dist-packages/litellm/llms/custom_httpx/http_handler.py\u001b[0m in \u001b[0;36mpost\u001b[0;34m(self, url, data, json, params, headers, stream, timeout, files, content, logging_obj)\u001b[0m\n\u001b[1;32m    557\u001b[0m             \u001b[0mresponse\u001b[0m \u001b[0;34m=\u001b[0m \u001b[0mself\u001b[0m\u001b[0;34m.\u001b[0m\u001b[0mclient\u001b[0m\u001b[0;34m.\u001b[0m\u001b[0msend\u001b[0m\u001b[0;34m(\u001b[0m\u001b[0mreq\u001b[0m\u001b[0;34m,\u001b[0m \u001b[0mstream\u001b[0m\u001b[0;34m=\u001b[0m\u001b[0mstream\u001b[0m\u001b[0;34m)\u001b[0m\u001b[0;34m\u001b[0m\u001b[0;34m\u001b[0m\u001b[0m\n\u001b[0;32m--> 558\u001b[0;31m             \u001b[0mresponse\u001b[0m\u001b[0;34m.\u001b[0m\u001b[0mraise_for_status\u001b[0m\u001b[0;34m(\u001b[0m\u001b[0;34m)\u001b[0m\u001b[0;34m\u001b[0m\u001b[0;34m\u001b[0m\u001b[0m\n\u001b[0m\u001b[1;32m    559\u001b[0m             \u001b[0;32mreturn\u001b[0m \u001b[0mresponse\u001b[0m\u001b[0;34m\u001b[0m\u001b[0;34m\u001b[0m\u001b[0m\n",
            "\u001b[0;32m/usr/local/lib/python3.11/dist-packages/httpx/_models.py\u001b[0m in \u001b[0;36mraise_for_status\u001b[0;34m(self)\u001b[0m\n\u001b[1;32m    828\u001b[0m         \u001b[0mmessage\u001b[0m \u001b[0;34m=\u001b[0m \u001b[0mmessage\u001b[0m\u001b[0;34m.\u001b[0m\u001b[0mformat\u001b[0m\u001b[0;34m(\u001b[0m\u001b[0mself\u001b[0m\u001b[0;34m,\u001b[0m \u001b[0merror_type\u001b[0m\u001b[0;34m=\u001b[0m\u001b[0merror_type\u001b[0m\u001b[0;34m)\u001b[0m\u001b[0;34m\u001b[0m\u001b[0;34m\u001b[0m\u001b[0m\n\u001b[0;32m--> 829\u001b[0;31m         \u001b[0;32mraise\u001b[0m \u001b[0mHTTPStatusError\u001b[0m\u001b[0;34m(\u001b[0m\u001b[0mmessage\u001b[0m\u001b[0;34m,\u001b[0m \u001b[0mrequest\u001b[0m\u001b[0;34m=\u001b[0m\u001b[0mrequest\u001b[0m\u001b[0;34m,\u001b[0m \u001b[0mresponse\u001b[0m\u001b[0;34m=\u001b[0m\u001b[0mself\u001b[0m\u001b[0;34m)\u001b[0m\u001b[0;34m\u001b[0m\u001b[0;34m\u001b[0m\u001b[0m\n\u001b[0m\u001b[1;32m    830\u001b[0m \u001b[0;34m\u001b[0m\u001b[0m\n",
            "\u001b[0;31mHTTPStatusError\u001b[0m: Client error '401 Unauthorized' for url 'https://api.groq.com/openai/v1/chat/completions'\nFor more information check: https://developer.mozilla.org/en-US/docs/Web/HTTP/Status/401",
            "\nDuring handling of the above exception, another exception occurred:\n",
            "\u001b[0;31mOpenAIError\u001b[0m                               Traceback (most recent call last)",
            "\u001b[0;32m/usr/local/lib/python3.11/dist-packages/litellm/main.py\u001b[0m in \u001b[0;36mcompletion\u001b[0;34m(model, messages, timeout, temperature, top_p, n, stream, stream_options, stop, max_completion_tokens, max_tokens, modalities, prediction, audio, presence_penalty, frequency_penalty, logit_bias, user, reasoning_effort, response_format, seed, tools, tool_choice, logprobs, top_logprobs, parallel_tool_calls, deployment_id, extra_headers, functions, function_call, base_url, api_version, api_key, model_list, thinking, **kwargs)\u001b[0m\n\u001b[1;32m   1688\u001b[0m \u001b[0;34m\u001b[0m\u001b[0m\n\u001b[0;32m-> 1689\u001b[0;31m             response = base_llm_http_handler.completion(\n\u001b[0m\u001b[1;32m   1690\u001b[0m                 \u001b[0mmodel\u001b[0m\u001b[0;34m=\u001b[0m\u001b[0mmodel\u001b[0m\u001b[0;34m,\u001b[0m\u001b[0;34m\u001b[0m\u001b[0;34m\u001b[0m\u001b[0m\n",
            "\u001b[0;32m/usr/local/lib/python3.11/dist-packages/litellm/llms/custom_httpx/llm_http_handler.py\u001b[0m in \u001b[0;36mcompletion\u001b[0;34m(self, model, messages, api_base, custom_llm_provider, model_response, encoding, logging_obj, optional_params, timeout, litellm_params, acompletion, stream, fake_stream, api_key, headers, client, provider_config)\u001b[0m\n\u001b[1;32m    404\u001b[0m \u001b[0;34m\u001b[0m\u001b[0m\n\u001b[0;32m--> 405\u001b[0;31m         response = self._make_common_sync_call(\n\u001b[0m\u001b[1;32m    406\u001b[0m             \u001b[0msync_httpx_client\u001b[0m\u001b[0;34m=\u001b[0m\u001b[0msync_httpx_client\u001b[0m\u001b[0;34m,\u001b[0m\u001b[0;34m\u001b[0m\u001b[0;34m\u001b[0m\u001b[0m\n",
            "\u001b[0;32m/usr/local/lib/python3.11/dist-packages/litellm/llms/custom_httpx/llm_http_handler.py\u001b[0m in \u001b[0;36m_make_common_sync_call\u001b[0;34m(self, sync_httpx_client, provider_config, api_base, headers, data, timeout, litellm_params, logging_obj, stream)\u001b[0m\n\u001b[1;32m    148\u001b[0m                 \u001b[0;32melse\u001b[0m\u001b[0;34m:\u001b[0m\u001b[0;34m\u001b[0m\u001b[0;34m\u001b[0m\u001b[0m\n\u001b[0;32m--> 149\u001b[0;31m                     \u001b[0;32mraise\u001b[0m \u001b[0mself\u001b[0m\u001b[0;34m.\u001b[0m\u001b[0m_handle_error\u001b[0m\u001b[0;34m(\u001b[0m\u001b[0me\u001b[0m\u001b[0;34m=\u001b[0m\u001b[0me\u001b[0m\u001b[0;34m,\u001b[0m \u001b[0mprovider_config\u001b[0m\u001b[0;34m=\u001b[0m\u001b[0mprovider_config\u001b[0m\u001b[0;34m)\u001b[0m\u001b[0;34m\u001b[0m\u001b[0;34m\u001b[0m\u001b[0m\n\u001b[0m\u001b[1;32m    150\u001b[0m             \u001b[0;32mexcept\u001b[0m \u001b[0mException\u001b[0m \u001b[0;32mas\u001b[0m \u001b[0me\u001b[0m\u001b[0;34m:\u001b[0m\u001b[0;34m\u001b[0m\u001b[0;34m\u001b[0m\u001b[0m\n",
            "\u001b[0;32m/usr/local/lib/python3.11/dist-packages/litellm/llms/custom_httpx/llm_http_handler.py\u001b[0m in \u001b[0;36m_handle_error\u001b[0;34m(self, e, provider_config)\u001b[0m\n\u001b[1;32m   1820\u001b[0m             \u001b[0merror_headers\u001b[0m \u001b[0;34m=\u001b[0m \u001b[0;34m{\u001b[0m\u001b[0;34m}\u001b[0m\u001b[0;34m\u001b[0m\u001b[0;34m\u001b[0m\u001b[0m\n\u001b[0;32m-> 1821\u001b[0;31m         raise provider_config.get_error_class(\n\u001b[0m\u001b[1;32m   1822\u001b[0m             \u001b[0merror_message\u001b[0m\u001b[0;34m=\u001b[0m\u001b[0merror_text\u001b[0m\u001b[0;34m,\u001b[0m\u001b[0;34m\u001b[0m\u001b[0;34m\u001b[0m\u001b[0m\n",
            "\u001b[0;31mOpenAIError\u001b[0m: {\"error\":{\"message\":\"Invalid API Key\",\"type\":\"invalid_request_error\",\"code\":\"invalid_api_key\"}}\n",
            "\nDuring handling of the above exception, another exception occurred:\n",
            "\u001b[0;31mBadRequestError\u001b[0m                           Traceback (most recent call last)",
            "\u001b[0;32m<ipython-input-27-58c57814e4d7>\u001b[0m in \u001b[0;36m<cell line: 0>\u001b[0;34m()\u001b[0m\n\u001b[1;32m    103\u001b[0m \u001b[0;31m# Run the flow\u001b[0m\u001b[0;34m\u001b[0m\u001b[0;34m\u001b[0m\u001b[0m\n\u001b[1;32m    104\u001b[0m \u001b[0;32mif\u001b[0m \u001b[0m__name__\u001b[0m \u001b[0;34m==\u001b[0m \u001b[0;34m\"__main__\"\u001b[0m\u001b[0;34m:\u001b[0m\u001b[0;34m\u001b[0m\u001b[0;34m\u001b[0m\u001b[0m\n\u001b[0;32m--> 105\u001b[0;31m     \u001b[0masyncio\u001b[0m\u001b[0;34m.\u001b[0m\u001b[0mrun\u001b[0m\u001b[0;34m(\u001b[0m\u001b[0mrun_flow\u001b[0m\u001b[0;34m(\u001b[0m\u001b[0;34m)\u001b[0m\u001b[0;34m)\u001b[0m\u001b[0;34m\u001b[0m\u001b[0;34m\u001b[0m\u001b[0m\n\u001b[0m",
            "\u001b[0;32m/usr/local/lib/python3.11/dist-packages/nest_asyncio.py\u001b[0m in \u001b[0;36mrun\u001b[0;34m(main, debug)\u001b[0m\n\u001b[1;32m     28\u001b[0m         \u001b[0mtask\u001b[0m \u001b[0;34m=\u001b[0m \u001b[0masyncio\u001b[0m\u001b[0;34m.\u001b[0m\u001b[0mensure_future\u001b[0m\u001b[0;34m(\u001b[0m\u001b[0mmain\u001b[0m\u001b[0;34m)\u001b[0m\u001b[0;34m\u001b[0m\u001b[0;34m\u001b[0m\u001b[0m\n\u001b[1;32m     29\u001b[0m         \u001b[0;32mtry\u001b[0m\u001b[0;34m:\u001b[0m\u001b[0;34m\u001b[0m\u001b[0;34m\u001b[0m\u001b[0m\n\u001b[0;32m---> 30\u001b[0;31m             \u001b[0;32mreturn\u001b[0m \u001b[0mloop\u001b[0m\u001b[0;34m.\u001b[0m\u001b[0mrun_until_complete\u001b[0m\u001b[0;34m(\u001b[0m\u001b[0mtask\u001b[0m\u001b[0;34m)\u001b[0m\u001b[0;34m\u001b[0m\u001b[0;34m\u001b[0m\u001b[0m\n\u001b[0m\u001b[1;32m     31\u001b[0m         \u001b[0;32mfinally\u001b[0m\u001b[0;34m:\u001b[0m\u001b[0;34m\u001b[0m\u001b[0;34m\u001b[0m\u001b[0m\n\u001b[1;32m     32\u001b[0m             \u001b[0;32mif\u001b[0m \u001b[0;32mnot\u001b[0m \u001b[0mtask\u001b[0m\u001b[0;34m.\u001b[0m\u001b[0mdone\u001b[0m\u001b[0;34m(\u001b[0m\u001b[0;34m)\u001b[0m\u001b[0;34m:\u001b[0m\u001b[0;34m\u001b[0m\u001b[0;34m\u001b[0m\u001b[0m\n",
            "\u001b[0;32m/usr/local/lib/python3.11/dist-packages/nest_asyncio.py\u001b[0m in \u001b[0;36mrun_until_complete\u001b[0;34m(self, future)\u001b[0m\n\u001b[1;32m     96\u001b[0m                 raise RuntimeError(\n\u001b[1;32m     97\u001b[0m                     'Event loop stopped before Future completed.')\n\u001b[0;32m---> 98\u001b[0;31m             \u001b[0;32mreturn\u001b[0m \u001b[0mf\u001b[0m\u001b[0;34m.\u001b[0m\u001b[0mresult\u001b[0m\u001b[0;34m(\u001b[0m\u001b[0;34m)\u001b[0m\u001b[0;34m\u001b[0m\u001b[0;34m\u001b[0m\u001b[0m\n\u001b[0m\u001b[1;32m     99\u001b[0m \u001b[0;34m\u001b[0m\u001b[0m\n\u001b[1;32m    100\u001b[0m     \u001b[0;32mdef\u001b[0m \u001b[0m_run_once\u001b[0m\u001b[0;34m(\u001b[0m\u001b[0mself\u001b[0m\u001b[0;34m)\u001b[0m\u001b[0;34m:\u001b[0m\u001b[0;34m\u001b[0m\u001b[0;34m\u001b[0m\u001b[0m\n",
            "\u001b[0;32m/usr/lib/python3.11/asyncio/futures.py\u001b[0m in \u001b[0;36mresult\u001b[0;34m(self)\u001b[0m\n\u001b[1;32m    201\u001b[0m         \u001b[0mself\u001b[0m\u001b[0;34m.\u001b[0m\u001b[0m__log_traceback\u001b[0m \u001b[0;34m=\u001b[0m \u001b[0;32mFalse\u001b[0m\u001b[0;34m\u001b[0m\u001b[0;34m\u001b[0m\u001b[0m\n\u001b[1;32m    202\u001b[0m         \u001b[0;32mif\u001b[0m \u001b[0mself\u001b[0m\u001b[0;34m.\u001b[0m\u001b[0m_exception\u001b[0m \u001b[0;32mis\u001b[0m \u001b[0;32mnot\u001b[0m \u001b[0;32mNone\u001b[0m\u001b[0;34m:\u001b[0m\u001b[0;34m\u001b[0m\u001b[0;34m\u001b[0m\u001b[0m\n\u001b[0;32m--> 203\u001b[0;31m             \u001b[0;32mraise\u001b[0m \u001b[0mself\u001b[0m\u001b[0;34m.\u001b[0m\u001b[0m_exception\u001b[0m\u001b[0;34m.\u001b[0m\u001b[0mwith_traceback\u001b[0m\u001b[0;34m(\u001b[0m\u001b[0mself\u001b[0m\u001b[0;34m.\u001b[0m\u001b[0m_exception_tb\u001b[0m\u001b[0;34m)\u001b[0m\u001b[0;34m\u001b[0m\u001b[0;34m\u001b[0m\u001b[0m\n\u001b[0m\u001b[1;32m    204\u001b[0m         \u001b[0;32mreturn\u001b[0m \u001b[0mself\u001b[0m\u001b[0;34m.\u001b[0m\u001b[0m_result\u001b[0m\u001b[0;34m\u001b[0m\u001b[0;34m\u001b[0m\u001b[0m\n\u001b[1;32m    205\u001b[0m \u001b[0;34m\u001b[0m\u001b[0m\n",
            "\u001b[0;32m/usr/lib/python3.11/asyncio/tasks.py\u001b[0m in \u001b[0;36m__step\u001b[0;34m(***failed resolving arguments***)\u001b[0m\n\u001b[1;32m    277\u001b[0m                 \u001b[0mresult\u001b[0m \u001b[0;34m=\u001b[0m \u001b[0mcoro\u001b[0m\u001b[0;34m.\u001b[0m\u001b[0msend\u001b[0m\u001b[0;34m(\u001b[0m\u001b[0;32mNone\u001b[0m\u001b[0;34m)\u001b[0m\u001b[0;34m\u001b[0m\u001b[0;34m\u001b[0m\u001b[0m\n\u001b[1;32m    278\u001b[0m             \u001b[0;32melse\u001b[0m\u001b[0;34m:\u001b[0m\u001b[0;34m\u001b[0m\u001b[0;34m\u001b[0m\u001b[0m\n\u001b[0;32m--> 279\u001b[0;31m                 \u001b[0mresult\u001b[0m \u001b[0;34m=\u001b[0m \u001b[0mcoro\u001b[0m\u001b[0;34m.\u001b[0m\u001b[0mthrow\u001b[0m\u001b[0;34m(\u001b[0m\u001b[0mexc\u001b[0m\u001b[0;34m)\u001b[0m\u001b[0;34m\u001b[0m\u001b[0;34m\u001b[0m\u001b[0m\n\u001b[0m\u001b[1;32m    280\u001b[0m         \u001b[0;32mexcept\u001b[0m \u001b[0mStopIteration\u001b[0m \u001b[0;32mas\u001b[0m \u001b[0mexc\u001b[0m\u001b[0;34m:\u001b[0m\u001b[0;34m\u001b[0m\u001b[0;34m\u001b[0m\u001b[0m\n\u001b[1;32m    281\u001b[0m             \u001b[0;32mif\u001b[0m \u001b[0mself\u001b[0m\u001b[0;34m.\u001b[0m\u001b[0m_must_cancel\u001b[0m\u001b[0;34m:\u001b[0m\u001b[0;34m\u001b[0m\u001b[0;34m\u001b[0m\u001b[0m\n",
            "\u001b[0;32m<ipython-input-27-58c57814e4d7>\u001b[0m in \u001b[0;36mrun_flow\u001b[0;34m()\u001b[0m\n\u001b[1;32m     96\u001b[0m \u001b[0;32masync\u001b[0m \u001b[0;32mdef\u001b[0m \u001b[0mrun_flow\u001b[0m\u001b[0;34m(\u001b[0m\u001b[0;34m)\u001b[0m\u001b[0;34m:\u001b[0m\u001b[0;34m\u001b[0m\u001b[0;34m\u001b[0m\u001b[0m\n\u001b[1;32m     97\u001b[0m     \u001b[0mflow\u001b[0m \u001b[0;34m=\u001b[0m \u001b[0mMarketResearchFlow\u001b[0m\u001b[0;34m(\u001b[0m\u001b[0;34m)\u001b[0m\u001b[0;34m\u001b[0m\u001b[0;34m\u001b[0m\u001b[0m\n\u001b[0;32m---> 98\u001b[0;31m     \u001b[0mresult\u001b[0m \u001b[0;34m=\u001b[0m \u001b[0;32mawait\u001b[0m \u001b[0mflow\u001b[0m\u001b[0;34m.\u001b[0m\u001b[0mkickoff_async\u001b[0m\u001b[0;34m(\u001b[0m\u001b[0minputs\u001b[0m\u001b[0;34m=\u001b[0m\u001b[0;34m{\u001b[0m\u001b[0;34m\"product\"\u001b[0m\u001b[0;34m:\u001b[0m \u001b[0;34m\"AI-powered chatbots\"\u001b[0m\u001b[0;34m}\u001b[0m\u001b[0;34m)\u001b[0m\u001b[0;34m\u001b[0m\u001b[0;34m\u001b[0m\u001b[0m\n\u001b[0m\u001b[1;32m     99\u001b[0m     \u001b[0mflow\u001b[0m\u001b[0;34m.\u001b[0m\u001b[0mplot\u001b[0m\u001b[0;34m(\u001b[0m\u001b[0;34m\"Market_Research_plot\"\u001b[0m\u001b[0;34m)\u001b[0m\u001b[0;34m\u001b[0m\u001b[0;34m\u001b[0m\u001b[0m\n\u001b[1;32m    100\u001b[0m     \u001b[0;32mreturn\u001b[0m \u001b[0mresult\u001b[0m\u001b[0;34m\u001b[0m\u001b[0;34m\u001b[0m\u001b[0m\n",
            "\u001b[0;32m/usr/local/lib/python3.11/dist-packages/crewai/flow/flow.py\u001b[0m in \u001b[0;36mkickoff_async\u001b[0;34m(self, inputs)\u001b[0m\n\u001b[1;32m    785\u001b[0m             \u001b[0;32mfor\u001b[0m \u001b[0mstart_method\u001b[0m \u001b[0;32min\u001b[0m \u001b[0mself\u001b[0m\u001b[0;34m.\u001b[0m\u001b[0m_start_methods\u001b[0m\u001b[0;34m\u001b[0m\u001b[0;34m\u001b[0m\u001b[0m\n\u001b[1;32m    786\u001b[0m         ]\n\u001b[0;32m--> 787\u001b[0;31m         \u001b[0;32mawait\u001b[0m \u001b[0masyncio\u001b[0m\u001b[0;34m.\u001b[0m\u001b[0mgather\u001b[0m\u001b[0;34m(\u001b[0m\u001b[0;34m*\u001b[0m\u001b[0mtasks\u001b[0m\u001b[0;34m)\u001b[0m\u001b[0;34m\u001b[0m\u001b[0;34m\u001b[0m\u001b[0m\n\u001b[0m\u001b[1;32m    788\u001b[0m \u001b[0;34m\u001b[0m\u001b[0m\n\u001b[1;32m    789\u001b[0m         \u001b[0mfinal_output\u001b[0m \u001b[0;34m=\u001b[0m \u001b[0mself\u001b[0m\u001b[0;34m.\u001b[0m\u001b[0m_method_outputs\u001b[0m\u001b[0;34m[\u001b[0m\u001b[0;34m-\u001b[0m\u001b[0;36m1\u001b[0m\u001b[0;34m]\u001b[0m \u001b[0;32mif\u001b[0m \u001b[0mself\u001b[0m\u001b[0;34m.\u001b[0m\u001b[0m_method_outputs\u001b[0m \u001b[0;32melse\u001b[0m \u001b[0;32mNone\u001b[0m\u001b[0;34m\u001b[0m\u001b[0;34m\u001b[0m\u001b[0m\n",
            "\u001b[0;32m/usr/lib/python3.11/asyncio/tasks.py\u001b[0m in \u001b[0;36m__wakeup\u001b[0;34m(self, future)\u001b[0m\n\u001b[1;32m    347\u001b[0m     \u001b[0;32mdef\u001b[0m \u001b[0m__wakeup\u001b[0m\u001b[0;34m(\u001b[0m\u001b[0mself\u001b[0m\u001b[0;34m,\u001b[0m \u001b[0mfuture\u001b[0m\u001b[0;34m)\u001b[0m\u001b[0;34m:\u001b[0m\u001b[0;34m\u001b[0m\u001b[0;34m\u001b[0m\u001b[0m\n\u001b[1;32m    348\u001b[0m         \u001b[0;32mtry\u001b[0m\u001b[0;34m:\u001b[0m\u001b[0;34m\u001b[0m\u001b[0;34m\u001b[0m\u001b[0m\n\u001b[0;32m--> 349\u001b[0;31m             \u001b[0mfuture\u001b[0m\u001b[0;34m.\u001b[0m\u001b[0mresult\u001b[0m\u001b[0;34m(\u001b[0m\u001b[0;34m)\u001b[0m\u001b[0;34m\u001b[0m\u001b[0;34m\u001b[0m\u001b[0m\n\u001b[0m\u001b[1;32m    350\u001b[0m         \u001b[0;32mexcept\u001b[0m \u001b[0mBaseException\u001b[0m \u001b[0;32mas\u001b[0m \u001b[0mexc\u001b[0m\u001b[0;34m:\u001b[0m\u001b[0;34m\u001b[0m\u001b[0;34m\u001b[0m\u001b[0m\n\u001b[1;32m    351\u001b[0m             \u001b[0;31m# This may also be a cancellation.\u001b[0m\u001b[0;34m\u001b[0m\u001b[0;34m\u001b[0m\u001b[0m\n",
            "\u001b[0;32m/usr/lib/python3.11/asyncio/tasks.py\u001b[0m in \u001b[0;36m__step\u001b[0;34m(***failed resolving arguments***)\u001b[0m\n\u001b[1;32m    277\u001b[0m                 \u001b[0mresult\u001b[0m \u001b[0;34m=\u001b[0m \u001b[0mcoro\u001b[0m\u001b[0;34m.\u001b[0m\u001b[0msend\u001b[0m\u001b[0;34m(\u001b[0m\u001b[0;32mNone\u001b[0m\u001b[0;34m)\u001b[0m\u001b[0;34m\u001b[0m\u001b[0;34m\u001b[0m\u001b[0m\n\u001b[1;32m    278\u001b[0m             \u001b[0;32melse\u001b[0m\u001b[0;34m:\u001b[0m\u001b[0;34m\u001b[0m\u001b[0;34m\u001b[0m\u001b[0m\n\u001b[0;32m--> 279\u001b[0;31m                 \u001b[0mresult\u001b[0m \u001b[0;34m=\u001b[0m \u001b[0mcoro\u001b[0m\u001b[0;34m.\u001b[0m\u001b[0mthrow\u001b[0m\u001b[0;34m(\u001b[0m\u001b[0mexc\u001b[0m\u001b[0;34m)\u001b[0m\u001b[0;34m\u001b[0m\u001b[0;34m\u001b[0m\u001b[0m\n\u001b[0m\u001b[1;32m    280\u001b[0m         \u001b[0;32mexcept\u001b[0m \u001b[0mStopIteration\u001b[0m \u001b[0;32mas\u001b[0m \u001b[0mexc\u001b[0m\u001b[0;34m:\u001b[0m\u001b[0;34m\u001b[0m\u001b[0;34m\u001b[0m\u001b[0m\n\u001b[1;32m    281\u001b[0m             \u001b[0;32mif\u001b[0m \u001b[0mself\u001b[0m\u001b[0;34m.\u001b[0m\u001b[0m_must_cancel\u001b[0m\u001b[0;34m:\u001b[0m\u001b[0;34m\u001b[0m\u001b[0;34m\u001b[0m\u001b[0m\n",
            "\u001b[0;32m/usr/local/lib/python3.11/dist-packages/crewai/flow/flow.py\u001b[0m in \u001b[0;36m_execute_start_method\u001b[0;34m(self, start_method_name)\u001b[0m\n\u001b[1;32m    821\u001b[0m             \u001b[0mstart_method_name\u001b[0m\u001b[0;34m,\u001b[0m \u001b[0mself\u001b[0m\u001b[0;34m.\u001b[0m\u001b[0m_methods\u001b[0m\u001b[0;34m[\u001b[0m\u001b[0mstart_method_name\u001b[0m\u001b[0;34m]\u001b[0m\u001b[0;34m\u001b[0m\u001b[0;34m\u001b[0m\u001b[0m\n\u001b[1;32m    822\u001b[0m         )\n\u001b[0;32m--> 823\u001b[0;31m         \u001b[0;32mawait\u001b[0m \u001b[0mself\u001b[0m\u001b[0;34m.\u001b[0m\u001b[0m_execute_listeners\u001b[0m\u001b[0;34m(\u001b[0m\u001b[0mstart_method_name\u001b[0m\u001b[0;34m,\u001b[0m \u001b[0mresult\u001b[0m\u001b[0;34m)\u001b[0m\u001b[0;34m\u001b[0m\u001b[0;34m\u001b[0m\u001b[0m\n\u001b[0m\u001b[1;32m    824\u001b[0m \u001b[0;34m\u001b[0m\u001b[0m\n\u001b[1;32m    825\u001b[0m     async def _execute_method(\n",
            "\u001b[0;32m/usr/local/lib/python3.11/dist-packages/crewai/flow/flow.py\u001b[0m in \u001b[0;36m_execute_listeners\u001b[0;34m(self, trigger_method, result)\u001b[0m\n\u001b[1;32m    933\u001b[0m                         \u001b[0;32mfor\u001b[0m \u001b[0mlistener_name\u001b[0m \u001b[0;32min\u001b[0m \u001b[0mlisteners_triggered\u001b[0m\u001b[0;34m\u001b[0m\u001b[0;34m\u001b[0m\u001b[0m\n\u001b[1;32m    934\u001b[0m                     ]\n\u001b[0;32m--> 935\u001b[0;31m                     \u001b[0;32mawait\u001b[0m \u001b[0masyncio\u001b[0m\u001b[0;34m.\u001b[0m\u001b[0mgather\u001b[0m\u001b[0;34m(\u001b[0m\u001b[0;34m*\u001b[0m\u001b[0mtasks\u001b[0m\u001b[0;34m)\u001b[0m\u001b[0;34m\u001b[0m\u001b[0;34m\u001b[0m\u001b[0m\n\u001b[0m\u001b[1;32m    936\u001b[0m \u001b[0;34m\u001b[0m\u001b[0m\n\u001b[1;32m    937\u001b[0m     def _find_triggered_methods(\n",
            "\u001b[0;32m/usr/lib/python3.11/asyncio/tasks.py\u001b[0m in \u001b[0;36m__wakeup\u001b[0;34m(self, future)\u001b[0m\n\u001b[1;32m    347\u001b[0m     \u001b[0;32mdef\u001b[0m \u001b[0m__wakeup\u001b[0m\u001b[0;34m(\u001b[0m\u001b[0mself\u001b[0m\u001b[0;34m,\u001b[0m \u001b[0mfuture\u001b[0m\u001b[0;34m)\u001b[0m\u001b[0;34m:\u001b[0m\u001b[0;34m\u001b[0m\u001b[0;34m\u001b[0m\u001b[0m\n\u001b[1;32m    348\u001b[0m         \u001b[0;32mtry\u001b[0m\u001b[0;34m:\u001b[0m\u001b[0;34m\u001b[0m\u001b[0;34m\u001b[0m\u001b[0m\n\u001b[0;32m--> 349\u001b[0;31m             \u001b[0mfuture\u001b[0m\u001b[0;34m.\u001b[0m\u001b[0mresult\u001b[0m\u001b[0;34m(\u001b[0m\u001b[0;34m)\u001b[0m\u001b[0;34m\u001b[0m\u001b[0;34m\u001b[0m\u001b[0m\n\u001b[0m\u001b[1;32m    350\u001b[0m         \u001b[0;32mexcept\u001b[0m \u001b[0mBaseException\u001b[0m \u001b[0;32mas\u001b[0m \u001b[0mexc\u001b[0m\u001b[0;34m:\u001b[0m\u001b[0;34m\u001b[0m\u001b[0;34m\u001b[0m\u001b[0m\n\u001b[1;32m    351\u001b[0m             \u001b[0;31m# This may also be a cancellation.\u001b[0m\u001b[0;34m\u001b[0m\u001b[0;34m\u001b[0m\u001b[0m\n",
            "\u001b[0;32m/usr/lib/python3.11/asyncio/tasks.py\u001b[0m in \u001b[0;36m__step\u001b[0;34m(***failed resolving arguments***)\u001b[0m\n\u001b[1;32m    277\u001b[0m                 \u001b[0mresult\u001b[0m \u001b[0;34m=\u001b[0m \u001b[0mcoro\u001b[0m\u001b[0;34m.\u001b[0m\u001b[0msend\u001b[0m\u001b[0;34m(\u001b[0m\u001b[0;32mNone\u001b[0m\u001b[0;34m)\u001b[0m\u001b[0;34m\u001b[0m\u001b[0;34m\u001b[0m\u001b[0m\n\u001b[1;32m    278\u001b[0m             \u001b[0;32melse\u001b[0m\u001b[0;34m:\u001b[0m\u001b[0;34m\u001b[0m\u001b[0;34m\u001b[0m\u001b[0m\n\u001b[0;32m--> 279\u001b[0;31m                 \u001b[0mresult\u001b[0m \u001b[0;34m=\u001b[0m \u001b[0mcoro\u001b[0m\u001b[0;34m.\u001b[0m\u001b[0mthrow\u001b[0m\u001b[0;34m(\u001b[0m\u001b[0mexc\u001b[0m\u001b[0;34m)\u001b[0m\u001b[0;34m\u001b[0m\u001b[0;34m\u001b[0m\u001b[0m\n\u001b[0m\u001b[1;32m    280\u001b[0m         \u001b[0;32mexcept\u001b[0m \u001b[0mStopIteration\u001b[0m \u001b[0;32mas\u001b[0m \u001b[0mexc\u001b[0m\u001b[0;34m:\u001b[0m\u001b[0;34m\u001b[0m\u001b[0;34m\u001b[0m\u001b[0m\n\u001b[1;32m    281\u001b[0m             \u001b[0;32mif\u001b[0m \u001b[0mself\u001b[0m\u001b[0;34m.\u001b[0m\u001b[0m_must_cancel\u001b[0m\u001b[0;34m:\u001b[0m\u001b[0;34m\u001b[0m\u001b[0;34m\u001b[0m\u001b[0m\n",
            "\u001b[0;32m/usr/local/lib/python3.11/dist-packages/crewai/flow/flow.py\u001b[0m in \u001b[0;36m_execute_single_listener\u001b[0;34m(self, listener_name, result)\u001b[0m\n\u001b[1;32m   1032\u001b[0m                 )\n\u001b[1;32m   1033\u001b[0m             \u001b[0;32melse\u001b[0m\u001b[0;34m:\u001b[0m\u001b[0;34m\u001b[0m\u001b[0;34m\u001b[0m\u001b[0m\n\u001b[0;32m-> 1034\u001b[0;31m                 \u001b[0mlistener_result\u001b[0m \u001b[0;34m=\u001b[0m \u001b[0;32mawait\u001b[0m \u001b[0mself\u001b[0m\u001b[0;34m.\u001b[0m\u001b[0m_execute_method\u001b[0m\u001b[0;34m(\u001b[0m\u001b[0mlistener_name\u001b[0m\u001b[0;34m,\u001b[0m \u001b[0mmethod\u001b[0m\u001b[0;34m)\u001b[0m\u001b[0;34m\u001b[0m\u001b[0;34m\u001b[0m\u001b[0m\n\u001b[0m\u001b[1;32m   1035\u001b[0m \u001b[0;34m\u001b[0m\u001b[0m\n\u001b[1;32m   1036\u001b[0m             \u001b[0;31m# Execute listeners (and possibly routers) of this listener\u001b[0m\u001b[0;34m\u001b[0m\u001b[0;34m\u001b[0m\u001b[0m\n",
            "\u001b[0;32m/usr/local/lib/python3.11/dist-packages/crewai/flow/flow.py\u001b[0m in \u001b[0;36m_execute_method\u001b[0;34m(self, method_name, method, *args, **kwargs)\u001b[0m\n\u001b[1;32m    874\u001b[0m                 ),\n\u001b[1;32m    875\u001b[0m             )\n\u001b[0;32m--> 876\u001b[0;31m             \u001b[0;32mraise\u001b[0m \u001b[0me\u001b[0m\u001b[0;34m\u001b[0m\u001b[0;34m\u001b[0m\u001b[0m\n\u001b[0m\u001b[1;32m    877\u001b[0m \u001b[0;34m\u001b[0m\u001b[0m\n\u001b[1;32m    878\u001b[0m     \u001b[0;32masync\u001b[0m \u001b[0;32mdef\u001b[0m \u001b[0m_execute_listeners\u001b[0m\u001b[0;34m(\u001b[0m\u001b[0mself\u001b[0m\u001b[0;34m,\u001b[0m \u001b[0mtrigger_method\u001b[0m\u001b[0;34m:\u001b[0m \u001b[0mstr\u001b[0m\u001b[0;34m,\u001b[0m \u001b[0mresult\u001b[0m\u001b[0;34m:\u001b[0m \u001b[0mAny\u001b[0m\u001b[0;34m)\u001b[0m \u001b[0;34m->\u001b[0m \u001b[0;32mNone\u001b[0m\u001b[0;34m:\u001b[0m\u001b[0;34m\u001b[0m\u001b[0;34m\u001b[0m\u001b[0m\n",
            "\u001b[0;32m/usr/local/lib/python3.11/dist-packages/crewai/flow/flow.py\u001b[0m in \u001b[0;36m_execute_method\u001b[0;34m(self, method_name, method, *args, **kwargs)\u001b[0m\n\u001b[1;32m    842\u001b[0m \u001b[0;34m\u001b[0m\u001b[0m\n\u001b[1;32m    843\u001b[0m             result = (\n\u001b[0;32m--> 844\u001b[0;31m                 \u001b[0;32mawait\u001b[0m \u001b[0mmethod\u001b[0m\u001b[0;34m(\u001b[0m\u001b[0;34m*\u001b[0m\u001b[0margs\u001b[0m\u001b[0;34m,\u001b[0m \u001b[0;34m**\u001b[0m\u001b[0mkwargs\u001b[0m\u001b[0;34m)\u001b[0m\u001b[0;34m\u001b[0m\u001b[0;34m\u001b[0m\u001b[0m\n\u001b[0m\u001b[1;32m    845\u001b[0m                 \u001b[0;32mif\u001b[0m \u001b[0masyncio\u001b[0m\u001b[0;34m.\u001b[0m\u001b[0miscoroutinefunction\u001b[0m\u001b[0;34m(\u001b[0m\u001b[0mmethod\u001b[0m\u001b[0;34m)\u001b[0m\u001b[0;34m\u001b[0m\u001b[0;34m\u001b[0m\u001b[0m\n\u001b[1;32m    846\u001b[0m                 \u001b[0;32melse\u001b[0m \u001b[0mmethod\u001b[0m\u001b[0;34m(\u001b[0m\u001b[0;34m*\u001b[0m\u001b[0margs\u001b[0m\u001b[0;34m,\u001b[0m \u001b[0;34m**\u001b[0m\u001b[0mkwargs\u001b[0m\u001b[0;34m)\u001b[0m\u001b[0;34m\u001b[0m\u001b[0;34m\u001b[0m\u001b[0m\n",
            "\u001b[0;32m<ipython-input-27-58c57814e4d7>\u001b[0m in \u001b[0;36manalyze_market\u001b[0;34m(self)\u001b[0m\n\u001b[1;32m     58\u001b[0m \u001b[0;34m\u001b[0m\u001b[0m\n\u001b[1;32m     59\u001b[0m         \u001b[0;31m# Execute the analysis with structured output format\u001b[0m\u001b[0;34m\u001b[0m\u001b[0;34m\u001b[0m\u001b[0m\n\u001b[0;32m---> 60\u001b[0;31m         \u001b[0mresult\u001b[0m \u001b[0;34m=\u001b[0m \u001b[0;32mawait\u001b[0m \u001b[0manalyst\u001b[0m\u001b[0;34m.\u001b[0m\u001b[0mkickoff_async\u001b[0m\u001b[0;34m(\u001b[0m\u001b[0mquery\u001b[0m\u001b[0;34m,\u001b[0m \u001b[0mresponse_format\u001b[0m\u001b[0;34m=\u001b[0m\u001b[0mMarketAnalysis\u001b[0m\u001b[0;34m)\u001b[0m\u001b[0;34m\u001b[0m\u001b[0;34m\u001b[0m\u001b[0m\n\u001b[0m\u001b[1;32m     61\u001b[0m         \u001b[0;32mif\u001b[0m \u001b[0mresult\u001b[0m\u001b[0;34m.\u001b[0m\u001b[0mpydantic\u001b[0m\u001b[0;34m:\u001b[0m\u001b[0;34m\u001b[0m\u001b[0;34m\u001b[0m\u001b[0m\n\u001b[1;32m     62\u001b[0m             \u001b[0mprint\u001b[0m\u001b[0;34m(\u001b[0m\u001b[0;34m\"result\"\u001b[0m\u001b[0;34m,\u001b[0m \u001b[0mresult\u001b[0m\u001b[0;34m.\u001b[0m\u001b[0mpydantic\u001b[0m\u001b[0;34m)\u001b[0m\u001b[0;34m\u001b[0m\u001b[0;34m\u001b[0m\u001b[0m\n",
            "\u001b[0;32m/usr/local/lib/python3.11/dist-packages/crewai/agent.py\u001b[0m in \u001b[0;36mkickoff_async\u001b[0;34m(self, messages, response_format)\u001b[0m\n\u001b[1;32m    736\u001b[0m         )\n\u001b[1;32m    737\u001b[0m \u001b[0;34m\u001b[0m\u001b[0m\n\u001b[0;32m--> 738\u001b[0;31m         \u001b[0;32mreturn\u001b[0m \u001b[0;32mawait\u001b[0m \u001b[0mlite_agent\u001b[0m\u001b[0;34m.\u001b[0m\u001b[0mkickoff_async\u001b[0m\u001b[0;34m(\u001b[0m\u001b[0mmessages\u001b[0m\u001b[0;34m)\u001b[0m\u001b[0;34m\u001b[0m\u001b[0;34m\u001b[0m\u001b[0m\n\u001b[0m",
            "\u001b[0;32m/usr/local/lib/python3.11/dist-packages/crewai/lite_agent.py\u001b[0m in \u001b[0;36mkickoff_async\u001b[0;34m(self, messages)\u001b[0m\n\u001b[1;32m    303\u001b[0m             \u001b[0mLiteAgentOutput\u001b[0m\u001b[0;34m:\u001b[0m \u001b[0mThe\u001b[0m \u001b[0mresult\u001b[0m \u001b[0mof\u001b[0m \u001b[0mthe\u001b[0m \u001b[0magent\u001b[0m \u001b[0mexecution\u001b[0m\u001b[0;34m.\u001b[0m\u001b[0;34m\u001b[0m\u001b[0;34m\u001b[0m\u001b[0m\n\u001b[1;32m    304\u001b[0m         \"\"\"\n\u001b[0;32m--> 305\u001b[0;31m         \u001b[0;32mreturn\u001b[0m \u001b[0;32mawait\u001b[0m \u001b[0masyncio\u001b[0m\u001b[0;34m.\u001b[0m\u001b[0mto_thread\u001b[0m\u001b[0;34m(\u001b[0m\u001b[0mself\u001b[0m\u001b[0;34m.\u001b[0m\u001b[0mkickoff\u001b[0m\u001b[0;34m,\u001b[0m \u001b[0mmessages\u001b[0m\u001b[0;34m)\u001b[0m\u001b[0;34m\u001b[0m\u001b[0;34m\u001b[0m\u001b[0m\n\u001b[0m\u001b[1;32m    306\u001b[0m \u001b[0;34m\u001b[0m\u001b[0m\n\u001b[1;32m    307\u001b[0m     \u001b[0;32mdef\u001b[0m \u001b[0m_get_default_system_prompt\u001b[0m\u001b[0;34m(\u001b[0m\u001b[0mself\u001b[0m\u001b[0;34m)\u001b[0m \u001b[0;34m->\u001b[0m \u001b[0mstr\u001b[0m\u001b[0;34m:\u001b[0m\u001b[0;34m\u001b[0m\u001b[0;34m\u001b[0m\u001b[0m\n",
            "\u001b[0;32m/usr/lib/python3.11/asyncio/threads.py\u001b[0m in \u001b[0;36mto_thread\u001b[0;34m(func, *args, **kwargs)\u001b[0m\n\u001b[1;32m     23\u001b[0m     \u001b[0mctx\u001b[0m \u001b[0;34m=\u001b[0m \u001b[0mcontextvars\u001b[0m\u001b[0;34m.\u001b[0m\u001b[0mcopy_context\u001b[0m\u001b[0;34m(\u001b[0m\u001b[0;34m)\u001b[0m\u001b[0;34m\u001b[0m\u001b[0;34m\u001b[0m\u001b[0m\n\u001b[1;32m     24\u001b[0m     \u001b[0mfunc_call\u001b[0m \u001b[0;34m=\u001b[0m \u001b[0mfunctools\u001b[0m\u001b[0;34m.\u001b[0m\u001b[0mpartial\u001b[0m\u001b[0;34m(\u001b[0m\u001b[0mctx\u001b[0m\u001b[0;34m.\u001b[0m\u001b[0mrun\u001b[0m\u001b[0;34m,\u001b[0m \u001b[0mfunc\u001b[0m\u001b[0;34m,\u001b[0m \u001b[0;34m*\u001b[0m\u001b[0margs\u001b[0m\u001b[0;34m,\u001b[0m \u001b[0;34m**\u001b[0m\u001b[0mkwargs\u001b[0m\u001b[0;34m)\u001b[0m\u001b[0;34m\u001b[0m\u001b[0;34m\u001b[0m\u001b[0m\n\u001b[0;32m---> 25\u001b[0;31m     \u001b[0;32mreturn\u001b[0m \u001b[0;32mawait\u001b[0m \u001b[0mloop\u001b[0m\u001b[0;34m.\u001b[0m\u001b[0mrun_in_executor\u001b[0m\u001b[0;34m(\u001b[0m\u001b[0;32mNone\u001b[0m\u001b[0;34m,\u001b[0m \u001b[0mfunc_call\u001b[0m\u001b[0;34m)\u001b[0m\u001b[0;34m\u001b[0m\u001b[0;34m\u001b[0m\u001b[0m\n\u001b[0m",
            "\u001b[0;32m/usr/lib/python3.11/asyncio/futures.py\u001b[0m in \u001b[0;36m__await__\u001b[0;34m(self)\u001b[0m\n\u001b[1;32m    285\u001b[0m         \u001b[0;32mif\u001b[0m \u001b[0;32mnot\u001b[0m \u001b[0mself\u001b[0m\u001b[0;34m.\u001b[0m\u001b[0mdone\u001b[0m\u001b[0;34m(\u001b[0m\u001b[0;34m)\u001b[0m\u001b[0;34m:\u001b[0m\u001b[0;34m\u001b[0m\u001b[0;34m\u001b[0m\u001b[0m\n\u001b[1;32m    286\u001b[0m             \u001b[0mself\u001b[0m\u001b[0;34m.\u001b[0m\u001b[0m_asyncio_future_blocking\u001b[0m \u001b[0;34m=\u001b[0m \u001b[0;32mTrue\u001b[0m\u001b[0;34m\u001b[0m\u001b[0;34m\u001b[0m\u001b[0m\n\u001b[0;32m--> 287\u001b[0;31m             \u001b[0;32myield\u001b[0m \u001b[0mself\u001b[0m  \u001b[0;31m# This tells Task to wait for completion.\u001b[0m\u001b[0;34m\u001b[0m\u001b[0;34m\u001b[0m\u001b[0m\n\u001b[0m\u001b[1;32m    288\u001b[0m         \u001b[0;32mif\u001b[0m \u001b[0;32mnot\u001b[0m \u001b[0mself\u001b[0m\u001b[0;34m.\u001b[0m\u001b[0mdone\u001b[0m\u001b[0;34m(\u001b[0m\u001b[0;34m)\u001b[0m\u001b[0;34m:\u001b[0m\u001b[0;34m\u001b[0m\u001b[0;34m\u001b[0m\u001b[0m\n\u001b[1;32m    289\u001b[0m             \u001b[0;32mraise\u001b[0m \u001b[0mRuntimeError\u001b[0m\u001b[0;34m(\u001b[0m\u001b[0;34m\"await wasn't used with future\"\u001b[0m\u001b[0;34m)\u001b[0m\u001b[0;34m\u001b[0m\u001b[0;34m\u001b[0m\u001b[0m\n",
            "\u001b[0;32m/usr/lib/python3.11/asyncio/tasks.py\u001b[0m in \u001b[0;36m__wakeup\u001b[0;34m(self, future)\u001b[0m\n\u001b[1;32m    347\u001b[0m     \u001b[0;32mdef\u001b[0m \u001b[0m__wakeup\u001b[0m\u001b[0;34m(\u001b[0m\u001b[0mself\u001b[0m\u001b[0;34m,\u001b[0m \u001b[0mfuture\u001b[0m\u001b[0;34m)\u001b[0m\u001b[0;34m:\u001b[0m\u001b[0;34m\u001b[0m\u001b[0;34m\u001b[0m\u001b[0m\n\u001b[1;32m    348\u001b[0m         \u001b[0;32mtry\u001b[0m\u001b[0;34m:\u001b[0m\u001b[0;34m\u001b[0m\u001b[0;34m\u001b[0m\u001b[0m\n\u001b[0;32m--> 349\u001b[0;31m             \u001b[0mfuture\u001b[0m\u001b[0;34m.\u001b[0m\u001b[0mresult\u001b[0m\u001b[0;34m(\u001b[0m\u001b[0;34m)\u001b[0m\u001b[0;34m\u001b[0m\u001b[0;34m\u001b[0m\u001b[0m\n\u001b[0m\u001b[1;32m    350\u001b[0m         \u001b[0;32mexcept\u001b[0m \u001b[0mBaseException\u001b[0m \u001b[0;32mas\u001b[0m \u001b[0mexc\u001b[0m\u001b[0;34m:\u001b[0m\u001b[0;34m\u001b[0m\u001b[0;34m\u001b[0m\u001b[0m\n\u001b[1;32m    351\u001b[0m             \u001b[0;31m# This may also be a cancellation.\u001b[0m\u001b[0;34m\u001b[0m\u001b[0;34m\u001b[0m\u001b[0m\n",
            "\u001b[0;32m/usr/lib/python3.11/asyncio/futures.py\u001b[0m in \u001b[0;36mresult\u001b[0;34m(self)\u001b[0m\n\u001b[1;32m    201\u001b[0m         \u001b[0mself\u001b[0m\u001b[0;34m.\u001b[0m\u001b[0m__log_traceback\u001b[0m \u001b[0;34m=\u001b[0m \u001b[0;32mFalse\u001b[0m\u001b[0;34m\u001b[0m\u001b[0;34m\u001b[0m\u001b[0m\n\u001b[1;32m    202\u001b[0m         \u001b[0;32mif\u001b[0m \u001b[0mself\u001b[0m\u001b[0;34m.\u001b[0m\u001b[0m_exception\u001b[0m \u001b[0;32mis\u001b[0m \u001b[0;32mnot\u001b[0m \u001b[0;32mNone\u001b[0m\u001b[0;34m:\u001b[0m\u001b[0;34m\u001b[0m\u001b[0;34m\u001b[0m\u001b[0m\n\u001b[0;32m--> 203\u001b[0;31m             \u001b[0;32mraise\u001b[0m \u001b[0mself\u001b[0m\u001b[0;34m.\u001b[0m\u001b[0m_exception\u001b[0m\u001b[0;34m.\u001b[0m\u001b[0mwith_traceback\u001b[0m\u001b[0;34m(\u001b[0m\u001b[0mself\u001b[0m\u001b[0;34m.\u001b[0m\u001b[0m_exception_tb\u001b[0m\u001b[0;34m)\u001b[0m\u001b[0;34m\u001b[0m\u001b[0;34m\u001b[0m\u001b[0m\n\u001b[0m\u001b[1;32m    204\u001b[0m         \u001b[0;32mreturn\u001b[0m \u001b[0mself\u001b[0m\u001b[0;34m.\u001b[0m\u001b[0m_result\u001b[0m\u001b[0;34m\u001b[0m\u001b[0;34m\u001b[0m\u001b[0m\n\u001b[1;32m    205\u001b[0m \u001b[0;34m\u001b[0m\u001b[0m\n",
            "\u001b[0;32m/usr/lib/python3.11/concurrent/futures/thread.py\u001b[0m in \u001b[0;36mrun\u001b[0;34m(self)\u001b[0m\n\u001b[1;32m     56\u001b[0m \u001b[0;34m\u001b[0m\u001b[0m\n\u001b[1;32m     57\u001b[0m         \u001b[0;32mtry\u001b[0m\u001b[0;34m:\u001b[0m\u001b[0;34m\u001b[0m\u001b[0;34m\u001b[0m\u001b[0m\n\u001b[0;32m---> 58\u001b[0;31m             \u001b[0mresult\u001b[0m \u001b[0;34m=\u001b[0m \u001b[0mself\u001b[0m\u001b[0;34m.\u001b[0m\u001b[0mfn\u001b[0m\u001b[0;34m(\u001b[0m\u001b[0;34m*\u001b[0m\u001b[0mself\u001b[0m\u001b[0;34m.\u001b[0m\u001b[0margs\u001b[0m\u001b[0;34m,\u001b[0m \u001b[0;34m**\u001b[0m\u001b[0mself\u001b[0m\u001b[0;34m.\u001b[0m\u001b[0mkwargs\u001b[0m\u001b[0;34m)\u001b[0m\u001b[0;34m\u001b[0m\u001b[0;34m\u001b[0m\u001b[0m\n\u001b[0m\u001b[1;32m     59\u001b[0m         \u001b[0;32mexcept\u001b[0m \u001b[0mBaseException\u001b[0m \u001b[0;32mas\u001b[0m \u001b[0mexc\u001b[0m\u001b[0;34m:\u001b[0m\u001b[0;34m\u001b[0m\u001b[0;34m\u001b[0m\u001b[0m\n\u001b[1;32m     60\u001b[0m             \u001b[0mself\u001b[0m\u001b[0;34m.\u001b[0m\u001b[0mfuture\u001b[0m\u001b[0;34m.\u001b[0m\u001b[0mset_exception\u001b[0m\u001b[0;34m(\u001b[0m\u001b[0mexc\u001b[0m\u001b[0;34m)\u001b[0m\u001b[0;34m\u001b[0m\u001b[0;34m\u001b[0m\u001b[0m\n",
            "\u001b[0;32m/usr/local/lib/python3.11/dist-packages/crewai/lite_agent.py\u001b[0m in \u001b[0;36mkickoff\u001b[0;34m(self, messages)\u001b[0m\n\u001b[1;32m    287\u001b[0m                 ),\n\u001b[1;32m    288\u001b[0m             )\n\u001b[0;32m--> 289\u001b[0;31m             \u001b[0;32mraise\u001b[0m \u001b[0me\u001b[0m\u001b[0;34m\u001b[0m\u001b[0;34m\u001b[0m\u001b[0m\n\u001b[0m\u001b[1;32m    290\u001b[0m \u001b[0;34m\u001b[0m\u001b[0m\n\u001b[1;32m    291\u001b[0m     async def kickoff_async(\n",
            "\u001b[0;32m/usr/local/lib/python3.11/dist-packages/crewai/lite_agent.py\u001b[0m in \u001b[0;36mkickoff\u001b[0;34m(self, messages)\u001b[0m\n\u001b[1;32m    235\u001b[0m \u001b[0;34m\u001b[0m\u001b[0m\n\u001b[1;32m    236\u001b[0m             \u001b[0;31m# Execute the agent using invoke loop\u001b[0m\u001b[0;34m\u001b[0m\u001b[0;34m\u001b[0m\u001b[0m\n\u001b[0;32m--> 237\u001b[0;31m             \u001b[0magent_finish\u001b[0m \u001b[0;34m=\u001b[0m \u001b[0mself\u001b[0m\u001b[0;34m.\u001b[0m\u001b[0m_invoke_loop\u001b[0m\u001b[0;34m(\u001b[0m\u001b[0;34m)\u001b[0m\u001b[0;34m\u001b[0m\u001b[0;34m\u001b[0m\u001b[0m\n\u001b[0m\u001b[1;32m    238\u001b[0m             \u001b[0mformatted_result\u001b[0m\u001b[0;34m:\u001b[0m \u001b[0mOptional\u001b[0m\u001b[0;34m[\u001b[0m\u001b[0mBaseModel\u001b[0m\u001b[0;34m]\u001b[0m \u001b[0;34m=\u001b[0m \u001b[0;32mNone\u001b[0m\u001b[0;34m\u001b[0m\u001b[0;34m\u001b[0m\u001b[0m\n\u001b[1;32m    239\u001b[0m             \u001b[0;32mif\u001b[0m \u001b[0mself\u001b[0m\u001b[0;34m.\u001b[0m\u001b[0mresponse_format\u001b[0m\u001b[0;34m:\u001b[0m\u001b[0;34m\u001b[0m\u001b[0;34m\u001b[0m\u001b[0m\n",
            "\u001b[0;32m/usr/local/lib/python3.11/dist-packages/crewai/lite_agent.py\u001b[0m in \u001b[0;36m_invoke_loop\u001b[0;34m(self)\u001b[0m\n\u001b[1;32m    444\u001b[0m                 \u001b[0;32mif\u001b[0m \u001b[0me\u001b[0m\u001b[0;34m.\u001b[0m\u001b[0m__class__\u001b[0m\u001b[0;34m.\u001b[0m\u001b[0m__module__\u001b[0m\u001b[0;34m.\u001b[0m\u001b[0mstartswith\u001b[0m\u001b[0;34m(\u001b[0m\u001b[0;34m\"litellm\"\u001b[0m\u001b[0;34m)\u001b[0m\u001b[0;34m:\u001b[0m\u001b[0;34m\u001b[0m\u001b[0;34m\u001b[0m\u001b[0m\n\u001b[1;32m    445\u001b[0m                     \u001b[0;31m# Do not retry on litellm errors\u001b[0m\u001b[0;34m\u001b[0m\u001b[0;34m\u001b[0m\u001b[0m\n\u001b[0;32m--> 446\u001b[0;31m                     \u001b[0;32mraise\u001b[0m \u001b[0me\u001b[0m\u001b[0;34m\u001b[0m\u001b[0;34m\u001b[0m\u001b[0m\n\u001b[0m\u001b[1;32m    447\u001b[0m                 \u001b[0;32mif\u001b[0m \u001b[0mis_context_length_exceeded\u001b[0m\u001b[0;34m(\u001b[0m\u001b[0me\u001b[0m\u001b[0;34m)\u001b[0m\u001b[0;34m:\u001b[0m\u001b[0;34m\u001b[0m\u001b[0;34m\u001b[0m\u001b[0m\n\u001b[1;32m    448\u001b[0m                     handle_context_length(\n",
            "\u001b[0;32m/usr/local/lib/python3.11/dist-packages/crewai/lite_agent.py\u001b[0m in \u001b[0;36m_invoke_loop\u001b[0;34m(self)\u001b[0m\n\u001b[1;32m    408\u001b[0m                         \u001b[0mevent\u001b[0m\u001b[0;34m=\u001b[0m\u001b[0mLLMCallFailedEvent\u001b[0m\u001b[0;34m(\u001b[0m\u001b[0merror\u001b[0m\u001b[0;34m=\u001b[0m\u001b[0mstr\u001b[0m\u001b[0;34m(\u001b[0m\u001b[0me\u001b[0m\u001b[0;34m)\u001b[0m\u001b[0;34m)\u001b[0m\u001b[0;34m,\u001b[0m\u001b[0;34m\u001b[0m\u001b[0;34m\u001b[0m\u001b[0m\n\u001b[1;32m    409\u001b[0m                     )\n\u001b[0;32m--> 410\u001b[0;31m                     \u001b[0;32mraise\u001b[0m \u001b[0me\u001b[0m\u001b[0;34m\u001b[0m\u001b[0;34m\u001b[0m\u001b[0m\n\u001b[0m\u001b[1;32m    411\u001b[0m \u001b[0;34m\u001b[0m\u001b[0m\n\u001b[1;32m    412\u001b[0m                 \u001b[0mformatted_answer\u001b[0m \u001b[0;34m=\u001b[0m \u001b[0mprocess_llm_response\u001b[0m\u001b[0;34m(\u001b[0m\u001b[0manswer\u001b[0m\u001b[0;34m,\u001b[0m \u001b[0mself\u001b[0m\u001b[0;34m.\u001b[0m\u001b[0muse_stop_words\u001b[0m\u001b[0;34m)\u001b[0m\u001b[0;34m\u001b[0m\u001b[0;34m\u001b[0m\u001b[0m\n",
            "\u001b[0;32m/usr/local/lib/python3.11/dist-packages/crewai/lite_agent.py\u001b[0m in \u001b[0;36m_invoke_loop\u001b[0;34m(self)\u001b[0m\n\u001b[1;32m    387\u001b[0m \u001b[0;34m\u001b[0m\u001b[0m\n\u001b[1;32m    388\u001b[0m                 \u001b[0;32mtry\u001b[0m\u001b[0;34m:\u001b[0m\u001b[0;34m\u001b[0m\u001b[0;34m\u001b[0m\u001b[0m\n\u001b[0;32m--> 389\u001b[0;31m                     answer = get_llm_response(\n\u001b[0m\u001b[1;32m    390\u001b[0m                         \u001b[0mllm\u001b[0m\u001b[0;34m=\u001b[0m\u001b[0mcast\u001b[0m\u001b[0;34m(\u001b[0m\u001b[0mLLM\u001b[0m\u001b[0;34m,\u001b[0m \u001b[0mself\u001b[0m\u001b[0;34m.\u001b[0m\u001b[0mllm\u001b[0m\u001b[0;34m)\u001b[0m\u001b[0;34m,\u001b[0m\u001b[0;34m\u001b[0m\u001b[0;34m\u001b[0m\u001b[0m\n\u001b[1;32m    391\u001b[0m                         \u001b[0mmessages\u001b[0m\u001b[0;34m=\u001b[0m\u001b[0mself\u001b[0m\u001b[0;34m.\u001b[0m\u001b[0m_messages\u001b[0m\u001b[0;34m,\u001b[0m\u001b[0;34m\u001b[0m\u001b[0;34m\u001b[0m\u001b[0m\n",
            "\u001b[0;32m/usr/local/lib/python3.11/dist-packages/crewai/utilities/agent_utils.py\u001b[0m in \u001b[0;36mget_llm_response\u001b[0;34m(llm, messages, callbacks, printer)\u001b[0m\n\u001b[1;32m    154\u001b[0m             \u001b[0mcolor\u001b[0m\u001b[0;34m=\u001b[0m\u001b[0;34m\"red\"\u001b[0m\u001b[0;34m,\u001b[0m\u001b[0;34m\u001b[0m\u001b[0;34m\u001b[0m\u001b[0m\n\u001b[1;32m    155\u001b[0m         )\n\u001b[0;32m--> 156\u001b[0;31m         \u001b[0;32mraise\u001b[0m \u001b[0me\u001b[0m\u001b[0;34m\u001b[0m\u001b[0;34m\u001b[0m\u001b[0m\n\u001b[0m\u001b[1;32m    157\u001b[0m     \u001b[0;32mif\u001b[0m \u001b[0;32mnot\u001b[0m \u001b[0manswer\u001b[0m\u001b[0;34m:\u001b[0m\u001b[0;34m\u001b[0m\u001b[0;34m\u001b[0m\u001b[0m\n\u001b[1;32m    158\u001b[0m         printer.print(\n",
            "\u001b[0;32m/usr/local/lib/python3.11/dist-packages/crewai/utilities/agent_utils.py\u001b[0m in \u001b[0;36mget_llm_response\u001b[0;34m(llm, messages, callbacks, printer)\u001b[0m\n\u001b[1;32m    145\u001b[0m     \u001b[0;34m\"\"\"Call the LLM and return the response, handling any invalid responses.\"\"\"\u001b[0m\u001b[0;34m\u001b[0m\u001b[0;34m\u001b[0m\u001b[0m\n\u001b[1;32m    146\u001b[0m     \u001b[0;32mtry\u001b[0m\u001b[0;34m:\u001b[0m\u001b[0;34m\u001b[0m\u001b[0;34m\u001b[0m\u001b[0m\n\u001b[0;32m--> 147\u001b[0;31m         answer = llm.call(\n\u001b[0m\u001b[1;32m    148\u001b[0m             \u001b[0mmessages\u001b[0m\u001b[0;34m,\u001b[0m\u001b[0;34m\u001b[0m\u001b[0;34m\u001b[0m\u001b[0m\n\u001b[1;32m    149\u001b[0m             \u001b[0mcallbacks\u001b[0m\u001b[0;34m=\u001b[0m\u001b[0mcallbacks\u001b[0m\u001b[0;34m,\u001b[0m\u001b[0;34m\u001b[0m\u001b[0;34m\u001b[0m\u001b[0m\n",
            "\u001b[0;32m/usr/local/lib/python3.11/dist-packages/crewai/llm.py\u001b[0m in \u001b[0;36mcall\u001b[0;34m(self, messages, tools, callbacks, available_functions)\u001b[0m\n\u001b[1;32m    886\u001b[0m                     )\n\u001b[1;32m    887\u001b[0m                 \u001b[0;32melse\u001b[0m\u001b[0;34m:\u001b[0m\u001b[0;34m\u001b[0m\u001b[0;34m\u001b[0m\u001b[0m\n\u001b[0;32m--> 888\u001b[0;31m                     return self._handle_non_streaming_response(\n\u001b[0m\u001b[1;32m    889\u001b[0m                         \u001b[0mparams\u001b[0m\u001b[0;34m,\u001b[0m \u001b[0mcallbacks\u001b[0m\u001b[0;34m,\u001b[0m \u001b[0mavailable_functions\u001b[0m\u001b[0;34m\u001b[0m\u001b[0;34m\u001b[0m\u001b[0m\n\u001b[1;32m    890\u001b[0m                     )\n",
            "\u001b[0;32m/usr/local/lib/python3.11/dist-packages/crewai/llm.py\u001b[0m in \u001b[0;36m_handle_non_streaming_response\u001b[0;34m(self, params, callbacks, available_functions)\u001b[0m\n\u001b[1;32m    725\u001b[0m             \u001b[0;31m# across the codebase. This allows CrewAgentExecutor to handle context\u001b[0m\u001b[0;34m\u001b[0m\u001b[0;34m\u001b[0m\u001b[0m\n\u001b[1;32m    726\u001b[0m             \u001b[0;31m# length issues appropriately.\u001b[0m\u001b[0;34m\u001b[0m\u001b[0;34m\u001b[0m\u001b[0m\n\u001b[0;32m--> 727\u001b[0;31m             \u001b[0mresponse\u001b[0m \u001b[0;34m=\u001b[0m \u001b[0mlitellm\u001b[0m\u001b[0;34m.\u001b[0m\u001b[0mcompletion\u001b[0m\u001b[0;34m(\u001b[0m\u001b[0;34m**\u001b[0m\u001b[0mparams\u001b[0m\u001b[0;34m)\u001b[0m\u001b[0;34m\u001b[0m\u001b[0;34m\u001b[0m\u001b[0m\n\u001b[0m\u001b[1;32m    728\u001b[0m         \u001b[0;32mexcept\u001b[0m \u001b[0mContextWindowExceededError\u001b[0m \u001b[0;32mas\u001b[0m \u001b[0me\u001b[0m\u001b[0;34m:\u001b[0m\u001b[0;34m\u001b[0m\u001b[0;34m\u001b[0m\u001b[0m\n\u001b[1;32m    729\u001b[0m             \u001b[0;31m# Convert litellm's context window error to our own exception type\u001b[0m\u001b[0;34m\u001b[0m\u001b[0;34m\u001b[0m\u001b[0m\n",
            "\u001b[0;32m/usr/local/lib/python3.11/dist-packages/litellm/utils.py\u001b[0m in \u001b[0;36mwrapper\u001b[0;34m(*args, **kwargs)\u001b[0m\n\u001b[1;32m   1253\u001b[0m                     \u001b[0me\u001b[0m\u001b[0;34m,\u001b[0m \u001b[0mtraceback_exception\u001b[0m\u001b[0;34m,\u001b[0m \u001b[0mstart_time\u001b[0m\u001b[0;34m,\u001b[0m \u001b[0mend_time\u001b[0m\u001b[0;34m\u001b[0m\u001b[0;34m\u001b[0m\u001b[0m\n\u001b[1;32m   1254\u001b[0m                 )  # DO NOT MAKE THREADED - router retry fallback relies on this!\n\u001b[0;32m-> 1255\u001b[0;31m             \u001b[0;32mraise\u001b[0m \u001b[0me\u001b[0m\u001b[0;34m\u001b[0m\u001b[0;34m\u001b[0m\u001b[0m\n\u001b[0m\u001b[1;32m   1256\u001b[0m \u001b[0;34m\u001b[0m\u001b[0m\n\u001b[1;32m   1257\u001b[0m     \u001b[0;34m@\u001b[0m\u001b[0mwraps\u001b[0m\u001b[0;34m(\u001b[0m\u001b[0moriginal_function\u001b[0m\u001b[0;34m)\u001b[0m\u001b[0;34m\u001b[0m\u001b[0;34m\u001b[0m\u001b[0m\n",
            "\u001b[0;32m/usr/local/lib/python3.11/dist-packages/litellm/utils.py\u001b[0m in \u001b[0;36mwrapper\u001b[0;34m(*args, **kwargs)\u001b[0m\n\u001b[1;32m   1131\u001b[0m                     \u001b[0mprint_verbose\u001b[0m\u001b[0;34m(\u001b[0m\u001b[0;34mf\"Error while checking max token limit: {str(e)}\"\u001b[0m\u001b[0;34m)\u001b[0m\u001b[0;34m\u001b[0m\u001b[0;34m\u001b[0m\u001b[0m\n\u001b[1;32m   1132\u001b[0m             \u001b[0;31m# MODEL CALL\u001b[0m\u001b[0;34m\u001b[0m\u001b[0;34m\u001b[0m\u001b[0m\n\u001b[0;32m-> 1133\u001b[0;31m             \u001b[0mresult\u001b[0m \u001b[0;34m=\u001b[0m \u001b[0moriginal_function\u001b[0m\u001b[0;34m(\u001b[0m\u001b[0;34m*\u001b[0m\u001b[0margs\u001b[0m\u001b[0;34m,\u001b[0m \u001b[0;34m**\u001b[0m\u001b[0mkwargs\u001b[0m\u001b[0;34m)\u001b[0m\u001b[0;34m\u001b[0m\u001b[0;34m\u001b[0m\u001b[0m\n\u001b[0m\u001b[1;32m   1134\u001b[0m             \u001b[0mend_time\u001b[0m \u001b[0;34m=\u001b[0m \u001b[0mdatetime\u001b[0m\u001b[0;34m.\u001b[0m\u001b[0mdatetime\u001b[0m\u001b[0;34m.\u001b[0m\u001b[0mnow\u001b[0m\u001b[0;34m(\u001b[0m\u001b[0;34m)\u001b[0m\u001b[0;34m\u001b[0m\u001b[0;34m\u001b[0m\u001b[0m\n\u001b[1;32m   1135\u001b[0m             \u001b[0;32mif\u001b[0m \u001b[0;34m\"stream\"\u001b[0m \u001b[0;32min\u001b[0m \u001b[0mkwargs\u001b[0m \u001b[0;32mand\u001b[0m \u001b[0mkwargs\u001b[0m\u001b[0;34m[\u001b[0m\u001b[0;34m\"stream\"\u001b[0m\u001b[0;34m]\u001b[0m \u001b[0;32mis\u001b[0m \u001b[0;32mTrue\u001b[0m\u001b[0;34m:\u001b[0m\u001b[0;34m\u001b[0m\u001b[0;34m\u001b[0m\u001b[0m\n",
            "\u001b[0;32m/usr/local/lib/python3.11/dist-packages/litellm/main.py\u001b[0m in \u001b[0;36mcompletion\u001b[0;34m(model, messages, timeout, temperature, top_p, n, stream, stream_options, stop, max_completion_tokens, max_tokens, modalities, prediction, audio, presence_penalty, frequency_penalty, logit_bias, user, reasoning_effort, response_format, seed, tools, tool_choice, logprobs, top_logprobs, parallel_tool_calls, deployment_id, extra_headers, functions, function_call, base_url, api_version, api_key, model_list, thinking, **kwargs)\u001b[0m\n\u001b[1;32m   3214\u001b[0m     \u001b[0;32mexcept\u001b[0m \u001b[0mException\u001b[0m \u001b[0;32mas\u001b[0m \u001b[0me\u001b[0m\u001b[0;34m:\u001b[0m\u001b[0;34m\u001b[0m\u001b[0;34m\u001b[0m\u001b[0m\n\u001b[1;32m   3215\u001b[0m         \u001b[0;31m## Map to OpenAI Exception\u001b[0m\u001b[0;34m\u001b[0m\u001b[0;34m\u001b[0m\u001b[0m\n\u001b[0;32m-> 3216\u001b[0;31m         raise exception_type(\n\u001b[0m\u001b[1;32m   3217\u001b[0m             \u001b[0mmodel\u001b[0m\u001b[0;34m=\u001b[0m\u001b[0mmodel\u001b[0m\u001b[0;34m,\u001b[0m\u001b[0;34m\u001b[0m\u001b[0;34m\u001b[0m\u001b[0m\n\u001b[1;32m   3218\u001b[0m             \u001b[0mcustom_llm_provider\u001b[0m\u001b[0;34m=\u001b[0m\u001b[0mcustom_llm_provider\u001b[0m\u001b[0;34m,\u001b[0m\u001b[0;34m\u001b[0m\u001b[0;34m\u001b[0m\u001b[0m\n",
            "\u001b[0;32m/usr/local/lib/python3.11/dist-packages/litellm/litellm_core_utils/exception_mapping_utils.py\u001b[0m in \u001b[0;36mexception_type\u001b[0;34m(model, original_exception, custom_llm_provider, completion_kwargs, extra_kwargs)\u001b[0m\n\u001b[1;32m   2222\u001b[0m         \u001b[0;32mif\u001b[0m \u001b[0mexception_mapping_worked\u001b[0m\u001b[0;34m:\u001b[0m\u001b[0;34m\u001b[0m\u001b[0;34m\u001b[0m\u001b[0m\n\u001b[1;32m   2223\u001b[0m             \u001b[0msetattr\u001b[0m\u001b[0;34m(\u001b[0m\u001b[0me\u001b[0m\u001b[0;34m,\u001b[0m \u001b[0;34m\"litellm_response_headers\"\u001b[0m\u001b[0;34m,\u001b[0m \u001b[0mlitellm_response_headers\u001b[0m\u001b[0;34m)\u001b[0m\u001b[0;34m\u001b[0m\u001b[0;34m\u001b[0m\u001b[0m\n\u001b[0;32m-> 2224\u001b[0;31m             \u001b[0;32mraise\u001b[0m \u001b[0me\u001b[0m\u001b[0;34m\u001b[0m\u001b[0;34m\u001b[0m\u001b[0m\n\u001b[0m\u001b[1;32m   2225\u001b[0m         \u001b[0;32melse\u001b[0m\u001b[0;34m:\u001b[0m\u001b[0;34m\u001b[0m\u001b[0;34m\u001b[0m\u001b[0m\n\u001b[1;32m   2226\u001b[0m             \u001b[0;32mfor\u001b[0m \u001b[0merror_type\u001b[0m \u001b[0;32min\u001b[0m \u001b[0mlitellm\u001b[0m\u001b[0;34m.\u001b[0m\u001b[0mLITELLM_EXCEPTION_TYPES\u001b[0m\u001b[0;34m:\u001b[0m\u001b[0;34m\u001b[0m\u001b[0;34m\u001b[0m\u001b[0m\n",
            "\u001b[0;32m/usr/local/lib/python3.11/dist-packages/litellm/litellm_core_utils/exception_mapping_utils.py\u001b[0m in \u001b[0;36mexception_type\u001b[0;34m(model, original_exception, custom_llm_provider, completion_kwargs, extra_kwargs)\u001b[0m\n\u001b[1;32m    329\u001b[0m                 ):\n\u001b[1;32m    330\u001b[0m                     \u001b[0mexception_mapping_worked\u001b[0m \u001b[0;34m=\u001b[0m \u001b[0;32mTrue\u001b[0m\u001b[0;34m\u001b[0m\u001b[0;34m\u001b[0m\u001b[0m\n\u001b[0;32m--> 331\u001b[0;31m                     raise BadRequestError(\n\u001b[0m\u001b[1;32m    332\u001b[0m                         \u001b[0mmessage\u001b[0m\u001b[0;34m=\u001b[0m\u001b[0;34mf\"{exception_provider} - {message}\"\u001b[0m\u001b[0;34m,\u001b[0m\u001b[0;34m\u001b[0m\u001b[0;34m\u001b[0m\u001b[0m\n\u001b[1;32m    333\u001b[0m                         \u001b[0mllm_provider\u001b[0m\u001b[0;34m=\u001b[0m\u001b[0mcustom_llm_provider\u001b[0m\u001b[0;34m,\u001b[0m\u001b[0;34m\u001b[0m\u001b[0;34m\u001b[0m\u001b[0m\n",
            "\u001b[0;31mBadRequestError\u001b[0m: litellm.BadRequestError: GroqException - {\"error\":{\"message\":\"Invalid API Key\",\"type\":\"invalid_request_error\",\"code\":\"invalid_api_key\"}}\n"
          ]
        }
      ]
    },
    {
      "cell_type": "code",
      "source": [],
      "metadata": {
        "id": "KlR1OGz4g8d4"
      },
      "execution_count": null,
      "outputs": []
    }
  ]
}